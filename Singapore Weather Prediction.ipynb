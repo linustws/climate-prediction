{
 "cells": [
  {
   "cell_type": "markdown",
   "metadata": {},
   "source": [
    "# Singapore Weather Prediction"
   ]
  },
  {
   "cell_type": "code",
   "execution_count": 110,
   "metadata": {},
   "outputs": [
    {
     "data": {
      "text/html": [
       "        <script type=\"text/javascript\">\n",
       "        window.PlotlyConfig = {MathJaxConfig: 'local'};\n",
       "        if (window.MathJax && window.MathJax.Hub && window.MathJax.Hub.Config) {window.MathJax.Hub.Config({SVG: {font: \"STIX-Web\"}});}\n",
       "        if (typeof require !== 'undefined') {\n",
       "        require.undef(\"plotly\");\n",
       "        requirejs.config({\n",
       "            paths: {\n",
       "                'plotly': ['https://cdn.plot.ly/plotly-2.20.0.min']\n",
       "            }\n",
       "        });\n",
       "        require(['plotly'], function(Plotly) {\n",
       "            window._Plotly = Plotly;\n",
       "        });\n",
       "        }\n",
       "        </script>\n",
       "        "
      ]
     },
     "metadata": {},
     "output_type": "display_data"
    }
   ],
   "source": [
    "# setup\n",
    "import matplotlib.pyplot as plt\n",
    "import numpy as np\n",
    "import pandas as pd\n",
    "import plotly.express as px\n",
    "import plotly.graph_objects as go\n",
    "import plotly.io as pio\n",
    "import plotly.offline as pyo\n",
    "import requests\n",
    "import tensorflow as tf\n",
    "import os\n",
    "\n",
    "from datetime import datetime, timedelta\n",
    "from keras.layers import Dense\n",
    "from keras.layers import Dropout\n",
    "from keras.layers import LSTM\n",
    "from keras.models import Sequential\n",
    "from keras.preprocessing.sequence import TimeseriesGenerator\n",
    "from pmdarima import auto_arima\n",
    "from sklearn import preprocessing\n",
    "from sklearn.metrics import mean_absolute_error, mean_squared_error\n",
    "from sklearn.preprocessing import MinMaxScaler\n",
    "from statsmodels.graphics.tsaplots import plot_acf, plot_pacf\n",
    "from statsmodels.tsa.arima.model import ARIMA\n",
    "from statsmodels.tsa.seasonal import seasonal_decompose\n",
    "from statsmodels.tsa.stattools import adfuller\n",
    "from statsmodels.tsa.statespace.sarimax import SARIMAX\n",
    "from statsmodels.tsa.statespace.varmax import VARMAX\n",
    "from time import time\n",
    "\n",
    "px.defaults.template = 'plotly' # plotly, plotly_dark\n",
    "pyo.init_notebook_mode(connected=True)\n",
    "pio.renderers.default = \"iframe\" # must trust notebook for it to work, use iframe for lab\n",
    "\n",
    "# Set the seed for numpy module\n",
    "np.random.seed(123)\n",
    "\n",
    "# Set the seed for tensorflow module\n",
    "tf.random.set_seed(123)"
   ]
  },
  {
   "cell_type": "markdown",
   "metadata": {},
   "source": [
    "### Data Acquisition\n",
    "\n",
    "Data source: [data.gov.sg](https://data.gov.sg/) - National Environment Agency\n",
    "\n",
    "Data format: CKAN APIs \n",
    "- access to static tabular data such as time series or listings\n",
    "- alternative to the data.gov.sg web interface\n",
    "- provides both RESTful and functional interfaces, all in JSON format, making it suitable for a wide range of clients.\n",
    "\n",
    "API used: CKAN Datastore Search\n",
    "- GET URL with endpoint: https://data.gov.sg/api/action/datastore_search\n",
    "\n",
    "| Name               | Description                                                                                                                                                                                                                                                                                                                                                      |\n",
    "|:-------------------|:-----------------------------------------------------------------------------------------------------------------------------------------------------------------------------------------------------------------------------------------------------------------------------------------------------------------------------------------------------------------|\n",
    "| **resource_id \\*** | ID or alias of the resource to be searched against                                                                                                                                                                                                                                                                                                               |\n",
    "| limit              | Maximum number of rows to return (optional, default: 100)<br>_Default value_: 100                                                                                                                                                                                                                                                                                |\n",
    "| offset             | Offset this number of rows (optional)                                                                                                                                                                                                                                                                                                                            |\n",
    "| fields             | Fields to return (optional, default: all fields in original order)                                                                                                                                                                                                                                                                                               |\n",
    "| filters            | Dictionary of matching conditions, e.g., {\"key1\": \"a\", \"key2\": \"b\"} (optional)                                                                                                                                                                                                                                                                                   |\n",
    "| q                  | Full text query. If it’s a string, it’ll search on all fields on each row.<br>If it’s a dictionary as {\"key1\": \"a\", \"key2\": \"b\"}, it’ll search on each specific field (optional)                                                                                                                                                                                 |\n",
    "| sort               | Comma-separated field names with ordering, e.g.: \"fieldname1, fieldname2 desc\" (optional)                                                                                                                                                                                                                                                                        |\n",
    "| records_format     | The format for the records return value:<br>'objects' (default) list of {fieldname1: value1, ...} dicts,<br>'lists' list of [value1, value2, ...] lists,<br>'csv' string containing comma-separated values with no header,<br>'tsv' string containing tab-separated values with no header<br>_Available values_: objects, lists, csv<br>_Default value_: objects |\n",
    "\n",
    "| Variable                                                          | Columns (renamed)              |\n",
    "|:------------------------------------------------------------------|:-------------------------------|\n",
    "| Surface Air Temperature - Monthly Mean \\(°C\\)                     | month, mean_temp               |\n",
    "| Surface Air Temperature - Monthly Absolute Extreme Maximum \\(°C\\) | month, max_temp                |\n",
    "| Surface Air Temperature - Monthly Absolute Extreme Minimum \\(°C\\) | month, min_temp                |\n",
    "| Rainfall - Monthly Total \\(mm\\)                                   | month, total_rainfall          |\n",
    "| Rainfall - Monthly Maximum Daily Total  \\(mm\\)                    | month, max_rainfall_daily      |\n",
    "| Rainfall - Monthly Number of Rain Days \\(d\\)                      | month, num_rainy_days          |\n",
    "| Relative Humidity - Monthly Mean \\(%\\)                            | month, mean_rh                 |\n",
    "| Relative Humidity - Monthly Absolute Extreme Minimum \\(%\\)        | month, min_rh                  |\n",
    "| Sunshine Duration- Monthly Mean Daily Duration \\(h\\)              | month, mean_sunshine_hrs_daily |\n"
   ]
  },
  {
   "cell_type": "code",
   "execution_count": 111,
   "metadata": {},
   "outputs": [
    {
     "name": "stdout",
     "output_type": "stream",
     "text": [
      "Acquiring data...\n",
      "        mean_temp total_rainfall\n",
      "month                           \n",
      "1982-01      25.9          107.1\n",
      "1982-02      27.1           27.8\n",
      "1982-03      27.2          160.8\n",
      "1982-04        27            157\n",
      "1982-05        28          102.2\n",
      "...           ...            ...\n",
      "2023-01      26.5          302.6\n",
      "2023-02      26.9          324.4\n",
      "2023-03      27.1          243.4\n",
      "2023-04      28.5          222.8\n",
      "2023-05      29.5          112.8\n",
      "\n",
      "[497 rows x 2 columns]\n"
     ]
    }
   ],
   "source": [
    "api_endpoint = \"https://data.gov.sg/api/action/datastore_search\"\n",
    "\n",
    "# resource ids\n",
    "surface_air_temp_monthly_mean_resource_id = \"07654ce7-f97f-49c9-81c6-bd41beba4e96\"\n",
    "# surface_air_temp_monthly_abs_extreme_max_resource_id = \"96e66346-68bb-4ca9-b001-58bbf39e36a7\"\n",
    "# surface_air_temp_monthly_abs_extreme_min_resource_id = \"0c5b9752-2488-46cc-ae1c-42318d0f8865\"\n",
    "rainfall_monthly_total_resource_id = \"778814b8-1b96-404b-9ac9-68d6c00e637b\"\n",
    "# rainfall_monthly_max_daily_total_resource_id = \"df4d391e-6950-4fc6-80cd-c9b9ef6354fe\"\n",
    "# rainfall_monthly_num_rain_days_resource_id = \"8b94f596-91fd-4545-bf9e-7a426493b674\"\n",
    "# relative_humidity_monthly_mean_resource_id = \"4631174f-9858-463d-8a88-f3cb21588c67\"\n",
    "# relative_humidity_monthly_abs_extreme_min_resource_id = \"585c24a5-76cd-4c48-9341-9223de5adc1d\"\n",
    "# sunshine_duration_monthly_mean_daily_resource_id = \"0230819f-1c83-4980-b738-56136d6dc300\"\n",
    "\n",
    "resource_ids = [surface_air_temp_monthly_mean_resource_id, rainfall_monthly_total_resource_id]\n",
    "\n",
    "# resource_ids = [surface_air_temp_monthly_mean_resource_id,\n",
    "# surface_air_temp_monthly_abs_extreme_max_resource_id,\n",
    "# surface_air_temp_monthly_abs_extreme_min_resource_id,\n",
    "# rainfall_monthly_total_resource_id,\n",
    "# rainfall_monthly_max_daily_total_resource_id,\n",
    "# rainfall_monthly_num_rain_days_resource_id,\n",
    "# relative_humidity_monthly_mean_resource_id,\n",
    "# relative_humidity_monthly_abs_extreme_min_resource_id,\n",
    "# sunshine_duration_monthly_mean_daily_resource_id]\n",
    "\n",
    "# call APIs\n",
    "merged_df = None\n",
    "for resource_id in resource_ids:\n",
    "    url = api_endpoint + \"?resource_id=\" + resource_id + \"&limit=1000\"\n",
    "    response = requests.get(url).json()\n",
    "    data = response['result']['records']\n",
    "    df = pd.DataFrame(data).set_index('month').drop('_id', axis=1)\n",
    "    if merged_df is None:\n",
    "        print(\"Acquiring data...\")\n",
    "        merged_df = df\n",
    "        continue\n",
    "    merged_df = pd.merge(merged_df, df, on='month')\n",
    "\n",
    "print(merged_df)"
   ]
  },
  {
   "cell_type": "markdown",
   "metadata": {},
   "source": [
    "### Data Preprocessing\n",
    "\n",
    "Rename columns, convert data types, handle missing values, data cleaning, ensuring data is in suitable format for modeling."
   ]
  },
  {
   "cell_type": "code",
   "execution_count": 112,
   "metadata": {},
   "outputs": [
    {
     "name": "stdout",
     "output_type": "stream",
     "text": [
      "            mean_temp  total_rainfall\n",
      "datetime                             \n",
      "1982-01-01       25.9           107.1\n",
      "1982-02-01       27.1            27.8\n",
      "1982-03-01       27.2           160.8\n",
      "1982-04-01       27.0           157.0\n",
      "1982-05-01       28.0           102.2\n",
      "...               ...             ...\n",
      "2023-01-01       26.5           302.6\n",
      "2023-02-01       26.9           324.4\n",
      "2023-03-01       27.1           243.4\n",
      "2023-04-01       28.5           222.8\n",
      "2023-05-01       29.5           112.8\n",
      "\n",
      "[497 rows x 2 columns]\n"
     ]
    }
   ],
   "source": [
    "# rename columns\n",
    "new_names = {'max_temperature': 'max_temp', 'temp_extremes_min': 'min_temp', 'maximum_rainfall_in_a_day': 'max_rainfall_daily', 'no_of_rainy_days': 'num_rainy_days', 'rh_extremes_minimum': 'min_rh', 'mean_sunshine_hrs': 'mean_sunshine_hrs_daily'}\n",
    "df = merged_df.rename(columns=new_names)\n",
    "df = df.rename_axis('datetime')\n",
    "df.index = pd.to_datetime(df.index)\n",
    "# df['year'] = df.index.year.astype('int64')\n",
    "# df['month'] = df.index.month.astype('int64')\n",
    "for column in df.columns:\n",
    "    df[column] = pd.to_numeric(df[column], errors='raise')\n",
    "# start_datetime = pd.to_datetime('2010-01-01')\n",
    "# df = df[start_datetime:]\n",
    "print(df)\n",
    "# df.head()\n",
    "# print(df.dtypes)"
   ]
  },
  {
   "cell_type": "markdown",
   "metadata": {},
   "source": [
    "#### Data Visualisation"
   ]
  },
  {
   "cell_type": "code",
   "execution_count": 113,
   "metadata": {
    "collapsed": false,
    "jupyter": {
     "outputs_hidden": false
    },
    "pycharm": {
     "is_executing": true
    }
   },
   "outputs": [
    {
     "data": {
      "text/html": [
       "<iframe\n",
       "    scrolling=\"no\"\n",
       "    width=\"100%\"\n",
       "    height=\"545px\"\n",
       "    src=\"iframe_figures/figure_113.html\"\n",
       "    frameborder=\"0\"\n",
       "    allowfullscreen\n",
       "></iframe>\n"
      ]
     },
     "metadata": {},
     "output_type": "display_data"
    }
   ],
   "source": [
    "series_monthly_mean_temp = df['mean_temp'].resample('M').mean()  # resample to monthly mean\n",
    "# print(series_monthly_mean_temp)\n",
    "\n",
    "# line plot for mean temperature\n",
    "fig_monthly_mean_temp = px.line(series_monthly_mean_temp, labels={series_monthly_mean_temp.index.name: 'Datetime', 'value': 'Mean Temperature (°C)'}, title='Monthly Mean Temperature')\n",
    "fig_monthly_mean_temp.update_xaxes(dtick='M12', tickangle=45)\n",
    "fig_monthly_mean_temp.update_yaxes(dtick=0.5, tickangle=45)\n",
    "fig_monthly_mean_temp.update_traces(hovertemplate='Datetime: %{x}<br>Mean Temperature: %{y}°C')\n",
    "\n",
    "# add the mean line\n",
    "mean_temperature = np.mean(series_monthly_mean_temp)\n",
    "fig_monthly_mean_temp.add_shape(\n",
    "    type=\"line\",\n",
    "    x0=series_monthly_mean_temp.index[0],\n",
    "    y0=mean_temperature,\n",
    "    x1=series_monthly_mean_temp.index[-1],\n",
    "    y1=mean_temperature,\n",
    "    line=dict(color=\"red\", dash=\"dot\"),\n",
    ")\n",
    "fig_monthly_mean_temp.show()\n",
    "\n",
    "# series_monthly_total_rainfall = df['total_rainfall'].resample('M').mean()  # resample to monthly mean\n",
    "# # series_yearly_total_rainfall = df['total_rainfall'].resample('Y').mean()  # resample to yearly mean\n",
    "\n",
    "# # print(monthly_total_rainfall)\n",
    "# # print(series_yearly_total_rainfall)\n",
    "\n",
    "# # line plot for total rainfall\n",
    "# fig_monthly_total_rainfall = px.line(monthly_total_rainfall, labels={series_monthly_total_rainfall.index.name: 'Datetime', 'value': 'Total Rainfall (mm)'},title='Monthly Total Rainfall')\n",
    "# fig_monthly_total_rainfall.update_xaxes(dtick='M12', tickangle=45)\n",
    "# fig_monthly_total_rainfall.update_yaxes(dtick=100, tickangle=45)\n",
    "# fig_monthly_total_rainfall.update_traces(hovertemplate='Datetime: %{x}<br>Total Rainfall: %{y}mm')\n",
    "\n",
    "# # add the mean line\n",
    "# mean_total_rainfall = np.mean(series_monthly_total_rainfall)\n",
    "# fig_monthly_total_rainfall.add_shape(\n",
    "#     type=\"line\",\n",
    "#     x0=series_monthly_total_rainfall.index[0],\n",
    "#     y0=mean_total_rainfall,\n",
    "#     x1=series_monthly_total_rainfall.index[-1],\n",
    "#     y1=mean_total_rainfall,\n",
    "#     line=dict(color=\"red\", dash=\"dot\"),\n",
    "# )\n",
    "# fig_monthly_total_rainfall.show()\n",
    "\n",
    "# # Normalize mean temperature data\n",
    "# normalized_mean_temp = preprocessing.scale(series_monthly_mean_temp)\n",
    "# # Normalize total rainfall data\n",
    "# normalized_total_rainfall = preprocessing.scale(series_monthly_total_rainfall)\n",
    "\n",
    "# # Create a DataFrame with normalized data\n",
    "# df_normalized = pd.DataFrame({'Datetime': series_monthly_mean_temp.index,\n",
    "#                               'Normalized Mean Temperature': normalized_mean_temp,\n",
    "#                               'Normalized Total Rainfall': normalized_total_rainfall})\n",
    "\n",
    "# # Combine the normalized data using plotly.express\n",
    "# fig_combined = px.line(df_normalized, x='Datetime', y=['Normalized Mean Temperature', 'Normalized Total Rainfall'],\n",
    "#                        labels={'value': 'Normalized Value'},\n",
    "#                        title='Combined Normalized Data')\n",
    "# fig_combined.update_xaxes(dtick='M12', tickangle=45)\n",
    "# fig_combined.update_yaxes(dtick=1, tickangle=45)\n",
    "# fig_combined.update_traces(hovertemplate='Datetime: %{x}<br>Total Rainfall: %{y}mm')\n",
    "\n",
    "# # Show the combined graph\n",
    "# fig_combined.show()"
   ]
  },
  {
   "cell_type": "code",
   "execution_count": 114,
   "metadata": {},
   "outputs": [
    {
     "data": {
      "text/html": [
       "<iframe\n",
       "    scrolling=\"no\"\n",
       "    width=\"100%\"\n",
       "    height=\"545px\"\n",
       "    src=\"iframe_figures/figure_114.html\"\n",
       "    frameborder=\"0\"\n",
       "    allowfullscreen\n",
       "></iframe>\n"
      ]
     },
     "metadata": {},
     "output_type": "display_data"
    }
   ],
   "source": [
    "series_yearly_mean_temp = df['mean_temp'].resample('Y').mean()  # resample to yearly mean\n",
    "# print(series_yearly_mean_temp)\n",
    "\n",
    "fig_yearly_mean_temp = px.line(series_yearly_mean_temp, labels={series_yearly_mean_temp.index.name: 'Datetime', 'value': 'Mean Temperature (°C)'}, title='Yearly Mean Temperature')\n",
    "fig_yearly_mean_temp.update_xaxes(dtick='M12', tickangle=45)\n",
    "fig_yearly_mean_temp.update_yaxes(dtick=0.5, tickangle=45)\n",
    "fig_yearly_mean_temp.update_traces(hovertemplate='Datetime: %{x}<br>Mean Temperature: %{y}°C')\n",
    "\n",
    "# add the mean line\n",
    "mean_temperature = np.mean(series_yearly_mean_temp)\n",
    "fig_yearly_mean_temp.add_shape(\n",
    "    type=\"line\",\n",
    "    x0=series_yearly_mean_temp.index[0],\n",
    "    y0=mean_temperature,\n",
    "    x1=series_yearly_mean_temp.index[-1],\n",
    "    y1=mean_temperature,\n",
    "    line=dict(color=\"red\", dash=\"dot\"),\n",
    ")\n",
    "fig_yearly_mean_temp.show()"
   ]
  },
  {
   "cell_type": "markdown",
   "metadata": {},
   "source": [
    "### Model Development"
   ]
  },
  {
   "cell_type": "markdown",
   "metadata": {},
   "source": [
    "#### Use ACF and PACF to know where to start"
   ]
  },
  {
   "cell_type": "code",
   "execution_count": 115,
   "metadata": {},
   "outputs": [
    {
     "data": {
      "image/png": "[encoded data removed]",
      "text/plain": [
       "<Figure size 640x480 with 1 Axes>"
      ]
     },
     "metadata": {},
     "output_type": "display_data"
    }
   ],
   "source": [
    "acf_values = plot_acf(series_monthly_mean_temp, lags=100)"
   ]
  },
  {
   "cell_type": "markdown",
   "metadata": {},
   "source": [
    "##### Based on decaying ACF, we are likely dealing with an Auto Regressive process."
   ]
  },
  {
   "cell_type": "code",
   "execution_count": 116,
   "metadata": {},
   "outputs": [
    {
     "data": {
      "image/png": "[encoded data removed]",
      "text/plain": [
       "<Figure size 640x480 with 1 Axes>"
      ]
     },
     "metadata": {},
     "output_type": "display_data"
    }
   ],
   "source": [
    "pacf_values = plot_pacf(series_monthly_mean_temp, method='ywm')"
   ]
  },
  {
   "cell_type": "markdown",
   "metadata": {},
   "source": [
    "##### Based on decaying PACF, we are should start with an Auto Regressive model with lags 1, 3, 9, 10, 11, 12."
   ]
  },
  {
   "cell_type": "markdown",
   "metadata": {},
   "source": [
    "#### Augmented Dickey-Fuller Test"
   ]
  },
  {
   "cell_type": "code",
   "execution_count": 117,
   "metadata": {},
   "outputs": [
    {
     "name": "stdout",
     "output_type": "stream",
     "text": [
      "ADF Statistic: -4.3640\n",
      "p-value: 0.0003\n"
     ]
    }
   ],
   "source": [
    "def perform_adf_test(series):\n",
    "    result = adfuller(series)\n",
    "    adf_statistic = result[0]\n",
    "    p_value = result[1]\n",
    "    print(f'ADF Statistic: {adf_statistic:.4f}')\n",
    "    print(f'p-value: {p_value:.4f}')\n",
    "\n",
    "perform_adf_test(series_monthly_mean_temp)"
   ]
  },
  {
   "cell_type": "markdown",
   "metadata": {},
   "source": [
    "##### Since p-value < 0.5, time series is stationary."
   ]
  },
  {
   "cell_type": "markdown",
   "metadata": {},
   "source": [
    "### Model Validation"
   ]
  },
  {
   "cell_type": "markdown",
   "metadata": {},
   "source": [
    "#### AR Model"
   ]
  },
  {
   "cell_type": "code",
   "execution_count": 105,
   "metadata": {},
   "outputs": [
    {
     "name": "stdout",
     "output_type": "stream",
     "text": [
      "Model Fitting Time: 0.4866049289703369\n",
      "                               SARIMAX Results                                \n",
      "==============================================================================\n",
      "Dep. Variable:              mean_temp   No. Observations:                  348\n",
      "Model:                ARIMA(12, 0, 0)   Log Likelihood                -236.362\n",
      "Date:                Thu, 08 Jun 2023   AIC                            500.724\n",
      "Time:                        20:25:25   BIC                            554.655\n",
      "Sample:                    01-31-1982   HQIC                           522.195\n",
      "                         - 12-31-2010                                         \n",
      "Covariance Type:                  opg                                         \n",
      "==============================================================================\n",
      "                 coef    std err          z      P>|z|      [0.025      0.975]\n",
      "------------------------------------------------------------------------------\n",
      "const         27.5814      0.156    176.262      0.000      27.275      27.888\n",
      "ar.L1          0.5915      0.050     11.899      0.000       0.494       0.689\n",
      "ar.L2          0.0056      0.065      0.087      0.931      -0.122       0.133\n",
      "ar.L3         -0.0665      0.067     -0.998      0.318      -0.197       0.064\n",
      "ar.L4         -0.0253      0.065     -0.391      0.696      -0.152       0.101\n",
      "ar.L5         -0.0797      0.066     -1.212      0.226      -0.209       0.049\n",
      "ar.L6          0.0405      0.067      0.607      0.544      -0.090       0.171\n",
      "ar.L7         -0.0257      0.057     -0.449      0.653      -0.138       0.086\n",
      "ar.L8          0.1044      0.065      1.610      0.107      -0.023       0.231\n",
      "ar.L9         -0.1524      0.068     -2.246      0.025      -0.285      -0.019\n",
      "ar.L10         0.1075      0.066      1.618      0.106      -0.023       0.238\n",
      "ar.L11         0.1545      0.066      2.351      0.019       0.026       0.283\n",
      "ar.L12         0.1930      0.056      3.436      0.001       0.083       0.303\n",
      "sigma2         0.2254      0.018     12.621      0.000       0.190       0.260\n",
      "===================================================================================\n",
      "Ljung-Box (L1) (Q):                   0.23   Jarque-Bera (JB):                 0.58\n",
      "Prob(Q):                              0.63   Prob(JB):                         0.75\n",
      "Heteroskedasticity (H):               0.74   Skew:                             0.09\n",
      "Prob(H) (two-sided):                  0.10   Kurtosis:                         2.92\n",
      "===================================================================================\n",
      "\n",
      "Warnings:\n",
      "[1] Covariance matrix calculated using the outer product of gradients (complex-step).\n"
     ]
    }
   ],
   "source": [
    "# split 70:30 (28, 12)\n",
    "train_end = datetime(2011, 1, 1) \n",
    "test_end = datetime(2023, 1, 1)\n",
    "\n",
    "train_data = series_monthly_mean_temp[:train_end]\n",
    "test_data = series_monthly_mean_temp[train_end + timedelta(days=1):test_end]\n",
    "\n",
    "# create model\n",
    "model = ARIMA(train_data, order=(12, 0, 0))\n",
    "\n",
    "# fit model\n",
    "start = time()\n",
    "model_fit = model.fit()\n",
    "end = time()\n",
    "print(f\"Model Fitting Time: {end - start}\")\n",
    "\n",
    "# summary of the model\n",
    "print(model_fit.summary())"
   ]
  },
  {
   "cell_type": "markdown",
   "metadata": {},
   "source": [
    "##### We should only keep those lags with p-value < 0.5."
   ]
  },
  {
   "cell_type": "code",
   "execution_count": 106,
   "metadata": {},
   "outputs": [
    {
     "data": {
      "text/html": [
       "<iframe\n",
       "    scrolling=\"no\"\n",
       "    width=\"100%\"\n",
       "    height=\"545px\"\n",
       "    src=\"iframe_figures/figure_106.html\"\n",
       "    frameborder=\"0\"\n",
       "    allowfullscreen\n",
       "></iframe>\n"
      ]
     },
     "metadata": {},
     "output_type": "display_data"
    }
   ],
   "source": [
    "# get prediction start and end dates\n",
    "pred_start_date = test_data.index[0]\n",
    "pred_end_date = test_data.index[-1]\n",
    "\n",
    "# get predictions and residuals\n",
    "predictions = model_fit.predict(start=pred_start_date, end=pred_end_date)\n",
    "residuals = test_data - predictions\n",
    "\n",
    "# print(residuals)\n",
    "\n",
    "# Plot residuals\n",
    "fig_resid = px.line(residuals, labels={residuals.index.name: 'Datetime', 'value': 'Error'}, title='Residuals from AR Model')\n",
    "fig_resid.update_xaxes(dtick='M12', tickangle=45)\n",
    "fig_resid.update_yaxes(dtick=0.5, tickangle=45)\n",
    "fig_resid.update_traces(name='error', hovertemplate='Datetime: %{x}<br>Error: %{y}')\n",
    "\n",
    "# add the mean line\n",
    "mean_error = np.mean(residuals)\n",
    "fig_resid.add_shape(\n",
    "    type=\"line\",\n",
    "    x0=residuals.index[0],\n",
    "    y0=mean_error,\n",
    "    x1=residuals.index[-1],\n",
    "    y1=mean_error,\n",
    "    line=dict(color=\"red\", dash=\"dot\"),\n",
    ")\n",
    "fig_resid.show()"
   ]
  },
  {
   "cell_type": "markdown",
   "metadata": {},
   "source": [
    "##### Clear pattern in residual data - means that there's some dynamic data that is failed to be captured i.e. not good."
   ]
  },
  {
   "cell_type": "code",
   "execution_count": 107,
   "metadata": {},
   "outputs": [
    {
     "data": {
      "text/html": [
       "<iframe\n",
       "    scrolling=\"no\"\n",
       "    width=\"100%\"\n",
       "    height=\"545px\"\n",
       "    src=\"iframe_figures/figure_107.html\"\n",
       "    frameborder=\"0\"\n",
       "    allowfullscreen\n",
       "></iframe>\n"
      ]
     },
     "metadata": {},
     "output_type": "display_data"
    },
    {
     "name": "stdout",
     "output_type": "stream",
     "text": [
      "Mean Absolute Percent Error: 0.0215\n",
      "Root Mean Squared Error: 0.7288853463855004\n"
     ]
    }
   ],
   "source": [
    "plot_data = pd.DataFrame({'datetime': test_data.index, 'test_data': test_data.values, 'predictions': predictions})\n",
    "# print(plot_data)\n",
    "fig_pred_test = px.line(plot_data, x='datetime', y=['test_data', 'predictions'], labels={'datetime': 'Datetime', 'value': 'Mean Temperature (°C)'}, title='Test Data and Predictions')\n",
    "fig_pred_test.update_xaxes(dtick='M12', tickangle=45)\n",
    "fig_pred_test.update_yaxes(dtick=0.5, tickangle=45)\n",
    "fig_pred_test.update_traces(hovertemplate='Datetime: %{x}<br>Mean Temperature: %{y}°C')\n",
    "fig_pred_test.show()\n",
    "\n",
    "print(f\"Mean Absolute Percent Error: {round(np.mean(abs(residuals/test_data)), 4)}\")\n",
    "print(f\"Root Mean Squared Error: {np.sqrt(np.mean(residuals**2))}\")"
   ]
  },
  {
   "cell_type": "markdown",
   "metadata": {},
   "source": [
    "##### AR(3) Model:\n",
    "Mean Absolute Percent Error: 0.0242\n",
    "Root Mean Squared Error: 0.8109909048888814\n",
    "\n",
    "##### AR(12) Model:\n",
    "Mean Absolute Percent Error: 0.0215\n",
    "Root Mean Squared Error: 0.7288853463855004\n",
    "\n",
    "##### AR(12) did better than AR(3) here, as predicted by the lags of the PACF. Also, we can see that the further we predict into the future, the worst the predictions."
   ]
  },
  {
   "cell_type": "markdown",
   "metadata": {},
   "source": [
    "#### Rolling Forecast Origin (Rolling Window)\n",
    "\n",
    "##### Predict 1 month in advance each time:\n",
    "\n",
    "Train on months 1, 2, ..., k - 3 -> predict month k - 2\n",
    "\n",
    "Train on months 1, 2, ..., k - 3, k - 2 -> predict month k - 1\n",
    "\n",
    "Train on months 1, 2, ..., k - 3, k - 2, k - 1 -> predict month k\n",
    "\n",
    "...\n",
    "\n",
    "##### Average all predictions"
   ]
  },
  {
   "cell_type": "code",
   "execution_count": 110,
   "metadata": {},
   "outputs": [
    {
     "name": "stdout",
     "output_type": "stream",
     "text": [
      "Model Fitting Time: 72.70002675056458\n"
     ]
    },
    {
     "data": {
      "text/html": [
       "<iframe\n",
       "    scrolling=\"no\"\n",
       "    width=\"100%\"\n",
       "    height=\"545px\"\n",
       "    src=\"iframe_figures/figure_110.html\"\n",
       "    frameborder=\"0\"\n",
       "    allowfullscreen\n",
       "></iframe>\n"
      ]
     },
     "metadata": {},
     "output_type": "display_data"
    }
   ],
   "source": [
    "# create the model\n",
    "predictions_rolling = pd.Series(dtype='float64')\n",
    "start = time()\n",
    "for end_date in test_data.index:\n",
    "    train_data = series_monthly_mean_temp[:end_date - timedelta(days=1)]\n",
    "    model = ARIMA(train_data, order=(12, 0, 0))\n",
    "    model_fit = model.fit()\n",
    "    pred = model_fit.predict(end_date)\n",
    "    predictions_rolling.loc[end_date] = pred.loc[end_date]\n",
    "end = time()\n",
    "print(f\"Model Fitting Time: {end - start}\")\n",
    "residuals_rolling = test_data - predictions_rolling\n",
    "\n",
    "# print(residuals_rolling)\n",
    "\n",
    "# Plot residuals\n",
    "fig_resid_rolling = px.line(residuals_rolling, labels={residuals_rolling.index.name: 'Datetime', 'value': 'Error'}, title='Residuals from AR Model (Rolling Window)')\n",
    "fig_resid_rolling.update_xaxes(dtick='M12', tickangle=45)\n",
    "fig_resid_rolling.update_yaxes(dtick=0.5, tickangle=45)\n",
    "fig_resid_rolling.update_traces(name='error', hovertemplate='Datetime: %{x}<br>Error: %{y}')\n",
    "\n",
    "# add the mean line\n",
    "mean_error_rolling = np.mean(residuals_rolling)\n",
    "fig_resid_rolling.add_shape(\n",
    "    type=\"line\",\n",
    "    x0=residuals_rolling.index[0],\n",
    "    y0=mean_error_rolling,\n",
    "    x1=residuals_rolling.index[-1],\n",
    "    y1=mean_error_rolling,\n",
    "    line=dict(color=\"red\", dash=\"dot\"),\n",
    ")\n",
    "fig_resid_rolling.show()"
   ]
  },
  {
   "cell_type": "markdown",
   "metadata": {},
   "source": [
    "##### Although there is volatility in residual data, there is less pattern compared to just training on the test data in one shot (as shown above), means predictions will be closer and model is better."
   ]
  },
  {
   "cell_type": "code",
   "execution_count": 111,
   "metadata": {},
   "outputs": [
    {
     "data": {
      "text/html": [
       "<iframe\n",
       "    scrolling=\"no\"\n",
       "    width=\"100%\"\n",
       "    height=\"545px\"\n",
       "    src=\"iframe_figures/figure_111.html\"\n",
       "    frameborder=\"0\"\n",
       "    allowfullscreen\n",
       "></iframe>\n"
      ]
     },
     "metadata": {},
     "output_type": "display_data"
    },
    {
     "name": "stdout",
     "output_type": "stream",
     "text": [
      "Mean Absolute Percent Error: 0.0139\n",
      "Root Mean Squared Error: 0.4852945337116935\n"
     ]
    }
   ],
   "source": [
    "plot_data_rolling = pd.DataFrame({'datetime': test_data.index, 'test_data': test_data.values, 'predictions': predictions_rolling})\n",
    "# print(plot_data)\n",
    "fig_pred_test_rolling = px.line(plot_data_rolling, x='datetime', y=['test_data', 'predictions'], labels={'datetime': 'Datetime', 'value': 'Mean Temperature (°C)'}, title='Test Data and Predictions (Rolling Window)')\n",
    "fig_pred_test_rolling.update_xaxes(dtick='M12', tickangle=45)\n",
    "fig_pred_test_rolling.update_yaxes(dtick=0.5, tickangle=45)\n",
    "fig_pred_test_rolling.update_traces(hovertemplate='Datetime: %{x}<br>Mean Temperature: %{y}°C')\n",
    "fig_pred_test_rolling.show()\n",
    "\n",
    "print(f\"Mean Absolute Percent Error: {round(np.mean(abs(residuals_rolling/test_data)), 4)}\")\n",
    "print(f\"Root Mean Squared Error: {np.sqrt(np.mean(residuals_rolling**2))}\")"
   ]
  },
  {
   "cell_type": "markdown",
   "metadata": {},
   "source": [
    "##### AR(3) Model (Rolling Window):\n",
    "Mean Absolute Percent Error: 0.0158\n",
    "Root Mean Squared Error: 0.5362938714312385\n",
    "\n",
    "##### AR(12) Model (Rolling Window):\n",
    "Mean Absolute Percent Error: 0.0139\n",
    "Root Mean Squared Error: 0.4852945337116935\n",
    "\n",
    "##### As shown here, the RMSE of rolling window (0.48529) is lower than that of the non-rolling window (0.72889) of AR(12), and it predicts a better shape as it predicts in 1 month intervals of the test data consecutively rather than predicting over the whole test data. The downside is that rolling window takes a much longer time to train."
   ]
  },
  {
   "cell_type": "markdown",
   "metadata": {},
   "source": [
    "#### MA Model\n",
    "\n",
    "Using ACF, we can know which lag/order to use for the MA model."
   ]
  },
  {
   "cell_type": "code",
   "execution_count": 112,
   "metadata": {},
   "outputs": [
    {
     "data": {
      "image/png": "[encoded data removed]",
      "text/plain": [
       "<Figure size 640x480 with 1 Axes>"
      ]
     },
     "metadata": {},
     "output_type": "display_data"
    }
   ],
   "source": [
    "acf_values = plot_acf(series_monthly_mean_temp)"
   ]
  },
  {
   "cell_type": "markdown",
   "metadata": {},
   "source": [
    "##### Based on decaying ACF, we should start with a Moving Average model with lags 1, 2 (for simplicity)."
   ]
  },
  {
   "cell_type": "code",
   "execution_count": 113,
   "metadata": {},
   "outputs": [
    {
     "name": "stdout",
     "output_type": "stream",
     "text": [
      "Model Fitting Time: 0.0760040283203125\n",
      "                               SARIMAX Results                                \n",
      "==============================================================================\n",
      "Dep. Variable:              mean_temp   No. Observations:                  348\n",
      "Model:                 ARIMA(0, 0, 2)   Log Likelihood                -298.502\n",
      "Date:                Thu, 08 Jun 2023   AIC                            605.004\n",
      "Time:                        20:29:02   BIC                            620.413\n",
      "Sample:                    01-31-1982   HQIC                           611.139\n",
      "                         - 12-31-2010                                         \n",
      "Covariance Type:                  opg                                         \n",
      "==============================================================================\n",
      "                 coef    std err          z      P>|z|      [0.025      0.975]\n",
      "------------------------------------------------------------------------------\n",
      "const         27.5641      0.065    423.368      0.000      27.437      27.692\n",
      "ma.L1          0.7289      0.052     14.098      0.000       0.628       0.830\n",
      "ma.L2          0.4013      0.050      7.985      0.000       0.303       0.500\n",
      "sigma2         0.3249      0.026     12.594      0.000       0.274       0.375\n",
      "===================================================================================\n",
      "Ljung-Box (L1) (Q):                   2.30   Jarque-Bera (JB):                 0.36\n",
      "Prob(Q):                              0.13   Prob(JB):                         0.83\n",
      "Heteroskedasticity (H):               0.86   Skew:                            -0.02\n",
      "Prob(H) (two-sided):                  0.40   Kurtosis:                         2.85\n",
      "===================================================================================\n",
      "\n",
      "Warnings:\n",
      "[1] Covariance matrix calculated using the outer product of gradients (complex-step).\n"
     ]
    }
   ],
   "source": [
    "# split 70:30 (28, 12)\n",
    "train_end = datetime(2011, 1, 1) \n",
    "test_end = datetime(2023, 1, 1)\n",
    "\n",
    "train_data = series_monthly_mean_temp[:train_end]\n",
    "test_data = series_monthly_mean_temp[train_end + timedelta(days=1):test_end]\n",
    "\n",
    "# create model\n",
    "model = ARIMA(train_data, order=(0, 0, 2))\n",
    "\n",
    "# fit model\n",
    "start = time()\n",
    "model_fit = model.fit()\n",
    "end = time()\n",
    "print(f\"Model Fitting Time: {end - start}\")\n",
    "\n",
    "# summary of the model\n",
    "print(model_fit.summary())"
   ]
  },
  {
   "cell_type": "markdown",
   "metadata": {},
   "source": [
    "From the constants and the lag terms, we should use the predicted model:\n",
    "\n",
    "##### ŷ(t) = 28 + 0.73ε(t-1) + 0.40ε(t-2) (ignore ε(t) as current prediction error is caught on the fly)\n",
    "\n",
    "In this equation:\n",
    "\n",
    "ŷ(t) represents the predicted value of the dependent variable at time t.\n",
    "ε(t-1) represents the prediction error (residual) at time (t-1).\n",
    "ε(t-2) represents the prediction error (residual) at time (t-2).\n",
    "The coefficients 0.73 and 0.40 represent the weights assigned to the lagged prediction errors (ε)."
   ]
  },
  {
   "cell_type": "code",
   "execution_count": 114,
   "metadata": {},
   "outputs": [
    {
     "data": {
      "text/html": [
       "<iframe\n",
       "    scrolling=\"no\"\n",
       "    width=\"100%\"\n",
       "    height=\"545px\"\n",
       "    src=\"iframe_figures/figure_114.html\"\n",
       "    frameborder=\"0\"\n",
       "    allowfullscreen\n",
       "></iframe>\n"
      ]
     },
     "metadata": {},
     "output_type": "display_data"
    }
   ],
   "source": [
    "# get prediction start and end dates\n",
    "pred_start_date = test_data.index[0]\n",
    "pred_end_date = test_data.index[-1]\n",
    "\n",
    "# get predictions and residuals\n",
    "predictions = model_fit.predict(start=pred_start_date, end=pred_end_date)\n",
    "residuals = test_data - predictions\n",
    "\n",
    "# print(residuals)\n",
    "\n",
    "# Plot residuals\n",
    "fig_resid = px.line(residuals, labels={residuals.index.name: 'Datetime', 'value': 'Error'}, title='Residuals from MA Model')\n",
    "fig_resid.update_xaxes(dtick='M12', tickangle=45)\n",
    "fig_resid.update_yaxes(dtick=0.5, tickangle=45)\n",
    "fig_resid.update_traces(name='error', hovertemplate='Datetime: %{x}<br>Error: %{y}')\n",
    "\n",
    "# add the mean line\n",
    "mean_error = np.mean(residuals)\n",
    "fig_resid.add_shape(\n",
    "    type=\"line\",\n",
    "    x0=residuals.index[0],\n",
    "    y0=mean_error,\n",
    "    x1=residuals.index[-1],\n",
    "    y1=mean_error,\n",
    "    line=dict(color=\"red\", dash=\"dot\"),\n",
    ")\n",
    "fig_resid.show()"
   ]
  },
  {
   "cell_type": "markdown",
   "metadata": {},
   "source": [
    "##### Similar to the AR model above (without rolling window), clear pattern in residual data - means that there's some dynamic data that is failed to be captured i.e. not good."
   ]
  },
  {
   "cell_type": "code",
   "execution_count": 115,
   "metadata": {},
   "outputs": [
    {
     "data": {
      "text/html": [
       "<iframe\n",
       "    scrolling=\"no\"\n",
       "    width=\"100%\"\n",
       "    height=\"545px\"\n",
       "    src=\"iframe_figures/figure_115.html\"\n",
       "    frameborder=\"0\"\n",
       "    allowfullscreen\n",
       "></iframe>\n"
      ]
     },
     "metadata": {},
     "output_type": "display_data"
    },
    {
     "name": "stdout",
     "output_type": "stream",
     "text": [
      "Mean Absolute Percent Error: 0.0243\n",
      "Root Mean Squared Error: 0.813192975445521\n"
     ]
    }
   ],
   "source": [
    "plot_data = pd.DataFrame({'datetime': test_data.index, 'test_data': test_data.values, 'predictions': predictions})\n",
    "# print(plot_data)\n",
    "fig_pred_test = px.line(plot_data, x='datetime', y=['test_data', 'predictions'], labels={'datetime': 'Datetime', 'value': 'Mean Temperature (°C)'}, title='Test Data and Predictions')\n",
    "fig_pred_test.update_xaxes(dtick='M12', tickangle=45)\n",
    "fig_pred_test.update_yaxes(dtick=0.5, tickangle=45)\n",
    "fig_pred_test.update_traces(hovertemplate='Datetime: %{x}<br>Mean Temperature: %{y}°C')\n",
    "fig_pred_test.show()\n",
    "\n",
    "print(f\"Mean Absolute Percent Error: {round(np.mean(abs(residuals/test_data)), 4)}\")\n",
    "print(f\"Root Mean Squared Error: {np.sqrt(np.mean(residuals**2))}\")"
   ]
  },
  {
   "cell_type": "markdown",
   "metadata": {},
   "source": [
    "##### As we used MA(2) of 2 lag periods, we could only predict the first 2 months of the test data. The MA model will then predict the rest of the test data as the mean value as shown above. This is a characteristic of the MA model.\n",
    "\n",
    "##### For simplicity, we will omit the rolling window version of the MA model.\n",
    "\n",
    "##### AR model uses PACF whereas MA model uses ACF."
   ]
  },
  {
   "cell_type": "markdown",
   "metadata": {},
   "source": [
    "#### ARMA Model\n",
    "\n",
    "Although the above Augmented Dickey-Fuller Test showed a low p-value implying that the series might be stationary, we cannot be too sure as it seems as if there is a slight upward trend (possibly due to global warming) by just looking at the graph. To confirm, let's perform the first difference to check for stationarity. We can see the difference easier by comparing both graphs as shown below."
   ]
  },
  {
   "cell_type": "code",
   "execution_count": 109,
   "metadata": {},
   "outputs": [
    {
     "data": {
      "text/html": [
       "<iframe\n",
       "    scrolling=\"no\"\n",
       "    width=\"100%\"\n",
       "    height=\"545px\"\n",
       "    src=\"iframe_figures/figure_109.html\"\n",
       "    frameborder=\"0\"\n",
       "    allowfullscreen\n",
       "></iframe>\n"
      ]
     },
     "metadata": {},
     "output_type": "display_data"
    },
    {
     "name": "stdout",
     "output_type": "stream",
     "text": [
      "datetime\n",
      "1982-02-28    1.2\n",
      "1982-03-31    0.1\n",
      "1982-04-30   -0.2\n",
      "1982-05-31    1.0\n",
      "1982-06-30    0.4\n",
      "             ... \n",
      "2022-12-31   -0.6\n",
      "2023-01-31   -0.3\n",
      "2023-02-28    0.4\n",
      "2023-03-31    0.2\n",
      "2023-04-30    1.4\n",
      "Freq: M, Name: mean_temp, Length: 495, dtype: float64\n"
     ]
    },
    {
     "data": {
      "text/html": [
       "<iframe\n",
       "    scrolling=\"no\"\n",
       "    width=\"100%\"\n",
       "    height=\"545px\"\n",
       "    src=\"iframe_figures/figure_109.html\"\n",
       "    frameborder=\"0\"\n",
       "    allowfullscreen\n",
       "></iframe>\n"
      ]
     },
     "metadata": {},
     "output_type": "display_data"
    }
   ],
   "source": [
    "fig_monthly_mean_temp.show() # for easier comparison\n",
    "\n",
    "first_diff = series_monthly_mean_temp.diff()[1:]\n",
    "print(first_diff)\n",
    "\n",
    "# line plot for mean temperature\n",
    "fig_first_diff = px.line(first_diff, labels={first_diff.index.name: 'Datetime', 'value': 'Mean Temperature (°C)'}, title='First Difference of Monthly Mean Temperature')\n",
    "fig_first_diff.update_xaxes(dtick='M12', tickangle=45)\n",
    "fig_first_diff.update_yaxes(dtick=0.5, tickangle=45)\n",
    "fig_first_diff.update_traces(hovertemplate='Datetime: %{x}<br>Mean Temperature: %{y}°C')\n",
    "\n",
    "# add the mean line\n",
    "mean_temperature = np.mean(first_diff)\n",
    "fig_first_diff.add_shape(\n",
    "    type=\"line\",\n",
    "    x0=first_diff.index[0],\n",
    "    y0=mean_temperature,\n",
    "    x1=first_diff.index[-1],\n",
    "    y1=mean_temperature,\n",
    "    line=dict(color=\"red\", dash=\"dot\"),\n",
    ")\n",
    "fig_first_diff.show()"
   ]
  },
  {
   "cell_type": "markdown",
   "metadata": {},
   "source": [
    "##### As the differenced series appears to be more stationary, it suggests that the original series had some form of trend or seasonality that was removed, in so doing, the data is preprocessed."
   ]
  },
  {
   "cell_type": "code",
   "execution_count": 117,
   "metadata": {},
   "outputs": [
    {
     "data": {
      "image/png": "[encoded data removed]",
      "text/plain": [
       "<Figure size 640x480 with 1 Axes>"
      ]
     },
     "metadata": {},
     "output_type": "display_data"
    }
   ],
   "source": [
    "acf_values = plot_acf(first_diff)"
   ]
  },
  {
   "cell_type": "markdown",
   "metadata": {},
   "source": [
    "##### Based on decaying ACF, we are should start with a MA process of order 12."
   ]
  },
  {
   "cell_type": "code",
   "execution_count": 118,
   "metadata": {},
   "outputs": [
    {
     "data": {
      "image/png": "[encoded data removed]",
      "text/plain": [
       "<Figure size 640x480 with 1 Axes>"
      ]
     },
     "metadata": {},
     "output_type": "display_data"
    }
   ],
   "source": [
    "pacf_values = plot_pacf(first_diff, method='ywm')"
   ]
  },
  {
   "cell_type": "markdown",
   "metadata": {},
   "source": [
    "##### Based on decaying PACF, we are should start with a AR process of order 9."
   ]
  },
  {
   "cell_type": "markdown",
   "metadata": {},
   "source": [
    "##### From here on, our test data will only consist of 1 year as it takes very long to fit the model with higher order processes, especially with the Rolling Forecast Origin."
   ]
  },
  {
   "cell_type": "code",
   "execution_count": 119,
   "metadata": {},
   "outputs": [
    {
     "name": "stdout",
     "output_type": "stream",
     "text": [
      "Model Fitting Time: 2.6048777103424072\n",
      "                               SARIMAX Results                                \n",
      "==============================================================================\n",
      "Dep. Variable:              mean_temp   No. Observations:                  479\n",
      "Model:                ARIMA(9, 0, 12)   Log Likelihood                -287.025\n",
      "Date:                Thu, 08 Jun 2023   AIC                            620.050\n",
      "Time:                        20:29:21   BIC                            715.999\n",
      "Sample:                    02-28-1982   HQIC                           657.768\n",
      "                         - 12-31-2021                                         \n",
      "Covariance Type:                  opg                                         \n",
      "==============================================================================\n",
      "                 coef    std err          z      P>|z|      [0.025      0.975]\n",
      "------------------------------------------------------------------------------\n",
      "const          0.0022      0.005      0.432      0.666      -0.008       0.012\n",
      "ar.L1         -0.2740      0.168     -1.633      0.103      -0.603       0.055\n",
      "ar.L2         -0.2867      0.136     -2.115      0.034      -0.552      -0.021\n",
      "ar.L3         -0.2837      0.112     -2.529      0.011      -0.504      -0.064\n",
      "ar.L4         -0.3228      0.130     -2.487      0.013      -0.577      -0.068\n",
      "ar.L5         -0.4790      0.109     -4.395      0.000      -0.693      -0.265\n",
      "ar.L6         -0.2459      0.145     -1.701      0.089      -0.529       0.037\n",
      "ar.L7         -0.4211      0.115     -3.668      0.000      -0.646      -0.196\n",
      "ar.L8         -0.3796      0.131     -2.900      0.004      -0.636      -0.123\n",
      "ar.L9         -0.6483      0.140     -4.624      0.000      -0.923      -0.373\n",
      "ma.L1         -0.2665      0.168     -1.583      0.113      -0.596       0.063\n",
      "ma.L2          0.0438      0.184      0.238      0.812      -0.317       0.404\n",
      "ma.L3         -0.0164      0.162     -0.101      0.920      -0.334       0.301\n",
      "ma.L4          0.0635      0.150      0.422      0.673      -0.231       0.358\n",
      "ma.L5          0.1606      0.155      1.036      0.300      -0.143       0.465\n",
      "ma.L6         -0.0423      0.157     -0.269      0.788      -0.351       0.266\n",
      "ma.L7          0.3150      0.147      2.142      0.032       0.027       0.603\n",
      "ma.L8          0.1215      0.168      0.724      0.469      -0.208       0.451\n",
      "ma.L9          0.2605      0.149      1.745      0.081      -0.032       0.553\n",
      "ma.L10        -0.5671      0.083     -6.830      0.000      -0.730      -0.404\n",
      "ma.L11        -0.1424      0.062     -2.296      0.022      -0.264      -0.021\n",
      "ma.L12         0.1362      0.060      2.280      0.023       0.019       0.253\n",
      "sigma2         0.1866      0.013     13.900      0.000       0.160       0.213\n",
      "===================================================================================\n",
      "Ljung-Box (L1) (Q):                   0.04   Jarque-Bera (JB):                 0.01\n",
      "Prob(Q):                              0.85   Prob(JB):                         0.99\n",
      "Heteroskedasticity (H):               0.91   Skew:                             0.01\n",
      "Prob(H) (two-sided):                  0.55   Kurtosis:                         2.99\n",
      "===================================================================================\n",
      "\n",
      "Warnings:\n",
      "[1] Covariance matrix calculated using the outer product of gradients (complex-step).\n"
     ]
    },
    {
     "name": "stderr",
     "output_type": "stream",
     "text": [
      "/Users/linustws/opt/anaconda3/envs/singapore-weather-prediction/lib/python3.9/site-packages/statsmodels/base/model.py:607: ConvergenceWarning:\n",
      "\n",
      "Maximum Likelihood optimization failed to converge. Check mle_retvals\n",
      "\n"
     ]
    }
   ],
   "source": [
    "# split to test 1 year of data as splitting 70:30 takes very long\n",
    "train_end = datetime(2022, 1, 1) \n",
    "test_end = datetime(2023, 1, 1)\n",
    "\n",
    "train_data = first_diff[:train_end]\n",
    "test_data = first_diff[train_end + timedelta(days=1):test_end]\n",
    "\n",
    "# create model\n",
    "model = ARIMA(train_data, order=(9, 0, 12))\n",
    "\n",
    "# fit model\n",
    "start = time()\n",
    "model_fit = model.fit()\n",
    "end = time()\n",
    "print(f\"Model Fitting Time: {end - start}\")\n",
    "\n",
    "# summary of the model\n",
    "print(model_fit.summary())"
   ]
  },
  {
   "cell_type": "code",
   "execution_count": 120,
   "metadata": {},
   "outputs": [
    {
     "data": {
      "text/html": [
       "<iframe\n",
       "    scrolling=\"no\"\n",
       "    width=\"100%\"\n",
       "    height=\"545px\"\n",
       "    src=\"iframe_figures/figure_120.html\"\n",
       "    frameborder=\"0\"\n",
       "    allowfullscreen\n",
       "></iframe>\n"
      ]
     },
     "metadata": {},
     "output_type": "display_data"
    }
   ],
   "source": [
    "# get prediction start and end dates\n",
    "pred_start_date = test_data.index[0]\n",
    "pred_end_date = test_data.index[-1]\n",
    "\n",
    "# get predictions and residuals\n",
    "predictions = model_fit.predict(start=pred_start_date, end=pred_end_date)\n",
    "residuals = test_data - predictions\n",
    "\n",
    "# print(residuals)\n",
    "\n",
    "# Plot residuals\n",
    "fig_resid = px.line(residuals, labels={residuals.index.name: 'Datetime', 'value': 'Error'}, title='Residuals from ARMA Model')\n",
    "fig_resid.update_xaxes(dtick='M1', tickangle=45)\n",
    "fig_resid.update_yaxes(dtick=0.5, tickangle=45)\n",
    "fig_resid.update_traces(name='error', hovertemplate='Datetime: %{x}<br>Error: %{y}')\n",
    "\n",
    "# add the mean line\n",
    "mean_error = np.mean(residuals)\n",
    "fig_resid.add_shape(\n",
    "    type=\"line\",\n",
    "    x0=residuals.index[0],\n",
    "    y0=mean_error,\n",
    "    x1=residuals.index[-1],\n",
    "    y1=mean_error,\n",
    "    line=dict(color=\"red\", dash=\"dot\"),\n",
    ")\n",
    "fig_resid.show()"
   ]
  },
  {
   "cell_type": "code",
   "execution_count": 121,
   "metadata": {},
   "outputs": [
    {
     "data": {
      "text/html": [
       "<iframe\n",
       "    scrolling=\"no\"\n",
       "    width=\"100%\"\n",
       "    height=\"545px\"\n",
       "    src=\"iframe_figures/figure_121.html\"\n",
       "    frameborder=\"0\"\n",
       "    allowfullscreen\n",
       "></iframe>\n"
      ]
     },
     "metadata": {},
     "output_type": "display_data"
    },
    {
     "name": "stdout",
     "output_type": "stream",
     "text": [
      "Mean Absolute Percent Error: inf\n",
      "Root Mean Squared Error: 0.5841389478876554\n"
     ]
    }
   ],
   "source": [
    "plot_data = pd.DataFrame({'datetime': test_data.index, 'test_data': test_data.values, 'predictions': predictions})\n",
    "# print(plot_data)\n",
    "fig_pred_test = px.line(plot_data, x='datetime', y=['test_data', 'predictions'], labels={'datetime': 'Datetime', 'value': 'First Difference of Mean Temperature (°C)'}, title='Test Data and Predictions')\n",
    "fig_pred_test.update_xaxes(dtick='M1', tickangle=45)\n",
    "fig_pred_test.update_yaxes(dtick=0.5, tickangle=45)\n",
    "fig_pred_test.update_traces(hovertemplate='Datetime: %{x}<br>First Difference of Mean Temperature: %{y}°C')\n",
    "fig_pred_test.show()\n",
    "\n",
    "print(f\"Mean Absolute Percent Error: {round(np.mean(abs(residuals/test_data)), 4)}\")\n",
    "print(f\"Root Mean Squared Error: {np.sqrt(np.mean(residuals**2))}\")"
   ]
  },
  {
   "cell_type": "markdown",
   "metadata": {},
   "source": [
    "##### Not very good, still has room for improvement. "
   ]
  },
  {
   "cell_type": "markdown",
   "metadata": {},
   "source": [
    "#### ARIMA Model"
   ]
  },
  {
   "cell_type": "markdown",
   "metadata": {},
   "source": [
    "##### Now, let's use the I component (Integrated) to account for the first difference. Like before, we first analyse the ACF and PACF."
   ]
  },
  {
   "cell_type": "code",
   "execution_count": 122,
   "metadata": {},
   "outputs": [
    {
     "data": {
      "text/html": [
       "<iframe\n",
       "    scrolling=\"no\"\n",
       "    width=\"100%\"\n",
       "    height=\"545px\"\n",
       "    src=\"iframe_figures/figure_122.html\"\n",
       "    frameborder=\"0\"\n",
       "    allowfullscreen\n",
       "></iframe>\n"
      ]
     },
     "metadata": {},
     "output_type": "display_data"
    }
   ],
   "source": [
    "first_diff = series_monthly_mean_temp.diff()[1:]\n",
    "# print(first_diff)\n",
    "\n",
    "# line plot for mean temperature\n",
    "fig_first_diff = px.line(first_diff, labels={first_diff.index.name: 'Datetime', 'value': 'Mean Temperature (°C)'}, title='First Difference of Monthly Mean Temperature')\n",
    "fig_first_diff.update_xaxes(dtick='M12', tickangle=45)\n",
    "fig_first_diff.update_yaxes(dtick=0.5, tickangle=45)\n",
    "fig_first_diff.update_traces(hovertemplate='Datetime: %{x}<br>Mean Temperature: %{y}°C')\n",
    "\n",
    "# add the mean line\n",
    "mean_temperature = np.mean(first_diff)\n",
    "fig_first_diff.add_shape(\n",
    "    type=\"line\",\n",
    "    x0=first_diff.index[0],\n",
    "    y0=mean_temperature,\n",
    "    x1=first_diff.index[-1],\n",
    "    y1=mean_temperature,\n",
    "    line=dict(color=\"red\", dash=\"dot\"),\n",
    ")\n",
    "fig_first_diff.show()"
   ]
  },
  {
   "cell_type": "code",
   "execution_count": 123,
   "metadata": {},
   "outputs": [
    {
     "data": {
      "image/png": "[encoded data removed]",
      "text/plain": [
       "<Figure size 640x480 with 1 Axes>"
      ]
     },
     "metadata": {},
     "output_type": "display_data"
    }
   ],
   "source": [
    "acf_values = plot_acf(first_diff)"
   ]
  },
  {
   "cell_type": "code",
   "execution_count": 124,
   "metadata": {},
   "outputs": [
    {
     "data": {
      "image/png": "[encoded data removed]",
      "text/plain": [
       "<Figure size 640x480 with 1 Axes>"
      ]
     },
     "metadata": {},
     "output_type": "display_data"
    }
   ],
   "source": [
    "pacf_values = plot_pacf(first_diff, method='ywm')"
   ]
  },
  {
   "cell_type": "code",
   "execution_count": 125,
   "metadata": {},
   "outputs": [
    {
     "name": "stdout",
     "output_type": "stream",
     "text": [
      "Model Fitting Time: 2.488986015319824\n",
      "                               SARIMAX Results                                \n",
      "==============================================================================\n",
      "Dep. Variable:              mean_temp   No. Observations:                  480\n",
      "Model:                ARIMA(9, 1, 12)   Log Likelihood                -285.269\n",
      "Date:                Thu, 08 Jun 2023   AIC                            614.538\n",
      "Time:                        20:29:32   BIC                            706.316\n",
      "Sample:                    01-31-1982   HQIC                           650.617\n",
      "                         - 12-31-2021                                         \n",
      "Covariance Type:                  opg                                         \n",
      "==============================================================================\n",
      "                 coef    std err          z      P>|z|      [0.025      0.975]\n",
      "------------------------------------------------------------------------------\n",
      "ar.L1         -0.4575      0.117     -3.923      0.000      -0.686      -0.229\n",
      "ar.L2         -0.2523      0.091     -2.759      0.006      -0.431      -0.073\n",
      "ar.L3         -0.2135      0.068     -3.119      0.002      -0.348      -0.079\n",
      "ar.L4         -0.4251      0.080     -5.314      0.000      -0.582      -0.268\n",
      "ar.L5         -0.5372      0.058     -9.296      0.000      -0.650      -0.424\n",
      "ar.L6         -0.2260      0.086     -2.625      0.009      -0.395      -0.057\n",
      "ar.L7         -0.4289      0.066     -6.520      0.000      -0.558      -0.300\n",
      "ar.L8         -0.4920      0.082     -5.985      0.000      -0.653      -0.331\n",
      "ar.L9         -0.6547      0.106     -6.184      0.000      -0.862      -0.447\n",
      "ma.L1         -0.0913      0.119     -0.765      0.444      -0.325       0.143\n",
      "ma.L2         -0.0887      0.111     -0.798      0.425      -0.307       0.129\n",
      "ma.L3         -0.0609      0.100     -0.609      0.542      -0.257       0.135\n",
      "ma.L4          0.1741      0.090      1.925      0.054      -0.003       0.351\n",
      "ma.L5          0.1819      0.086      2.122      0.034       0.014       0.350\n",
      "ma.L6         -0.1087      0.092     -1.176      0.240      -0.290       0.072\n",
      "ma.L7          0.3366      0.084      4.023      0.000       0.173       0.501\n",
      "ma.L8          0.2565      0.099      2.600      0.009       0.063       0.450\n",
      "ma.L9          0.2316      0.102      2.280      0.023       0.033       0.431\n",
      "ma.L10        -0.6316      0.066     -9.503      0.000      -0.762      -0.501\n",
      "ma.L11        -0.1682      0.060     -2.818      0.005      -0.285      -0.051\n",
      "ma.L12         0.1720      0.059      2.939      0.003       0.057       0.287\n",
      "sigma2         0.1846      0.014     12.851      0.000       0.156       0.213\n",
      "===================================================================================\n",
      "Ljung-Box (L1) (Q):                   0.04   Jarque-Bera (JB):                 0.00\n",
      "Prob(Q):                              0.85   Prob(JB):                         1.00\n",
      "Heteroskedasticity (H):               0.93   Skew:                            -0.00\n",
      "Prob(H) (two-sided):                  0.64   Kurtosis:                         3.01\n",
      "===================================================================================\n",
      "\n",
      "Warnings:\n",
      "[1] Covariance matrix calculated using the outer product of gradients (complex-step).\n"
     ]
    },
    {
     "name": "stderr",
     "output_type": "stream",
     "text": [
      "/Users/linustws/opt/anaconda3/envs/singapore-weather-prediction/lib/python3.9/site-packages/statsmodels/base/model.py:607: ConvergenceWarning:\n",
      "\n",
      "Maximum Likelihood optimization failed to converge. Check mle_retvals\n",
      "\n"
     ]
    }
   ],
   "source": [
    "# split to test 1 year of data as splitting 70:30 takes very long\n",
    "train_end = datetime(2022, 1, 1) \n",
    "test_end = datetime(2023, 1, 1)\n",
    "\n",
    "train_data = series_monthly_mean_temp[:train_end]\n",
    "test_data = series_monthly_mean_temp[train_end + timedelta(days=1):test_end]\n",
    "\n",
    "# create model\n",
    "model = ARIMA(train_data, order=(9, 1, 12)) # (p, d, q) here we use d as 1 as we only performed 1 difference to make the series stationary.\n",
    "\n",
    "# fit model\n",
    "start = time()\n",
    "model_fit = model.fit()\n",
    "end = time()\n",
    "print(f\"Model Fitting Time: {end - start}\")\n",
    "\n",
    "# summary of the model\n",
    "print(model_fit.summary())"
   ]
  },
  {
   "cell_type": "code",
   "execution_count": 126,
   "metadata": {},
   "outputs": [
    {
     "data": {
      "text/html": [
       "<iframe\n",
       "    scrolling=\"no\"\n",
       "    width=\"100%\"\n",
       "    height=\"545px\"\n",
       "    src=\"iframe_figures/figure_126.html\"\n",
       "    frameborder=\"0\"\n",
       "    allowfullscreen\n",
       "></iframe>\n"
      ]
     },
     "metadata": {},
     "output_type": "display_data"
    }
   ],
   "source": [
    "# get prediction start and end dates\n",
    "pred_start_date = test_data.index[0]\n",
    "pred_end_date = test_data.index[-1]\n",
    "\n",
    "# get predictions and residuals\n",
    "predictions = model_fit.predict(start=pred_start_date, end=pred_end_date)\n",
    "residuals = test_data - predictions\n",
    "\n",
    "# print(residuals)\n",
    "\n",
    "# Plot residuals\n",
    "fig_resid = px.line(residuals, labels={residuals.index.name: 'Datetime', 'value': 'Error'}, title='Residuals from ARIMA Model')\n",
    "fig_resid.update_xaxes(dtick='M1', tickangle=45)\n",
    "fig_resid.update_yaxes(dtick=0.5, tickangle=45)\n",
    "fig_resid.update_traces(name='error', hovertemplate='Datetime: %{x}<br>Error: %{y}')\n",
    "\n",
    "# add the mean line\n",
    "mean_error = np.mean(residuals)\n",
    "fig_resid.add_shape(\n",
    "    type=\"line\",\n",
    "    x0=residuals.index[0],\n",
    "    y0=mean_error,\n",
    "    x1=residuals.index[-1],\n",
    "    y1=mean_error,\n",
    "    line=dict(color=\"red\", dash=\"dot\"),\n",
    ")\n",
    "fig_resid.show()"
   ]
  },
  {
   "cell_type": "code",
   "execution_count": 127,
   "metadata": {},
   "outputs": [
    {
     "data": {
      "text/html": [
       "<iframe\n",
       "    scrolling=\"no\"\n",
       "    width=\"100%\"\n",
       "    height=\"545px\"\n",
       "    src=\"iframe_figures/figure_127.html\"\n",
       "    frameborder=\"0\"\n",
       "    allowfullscreen\n",
       "></iframe>\n"
      ]
     },
     "metadata": {},
     "output_type": "display_data"
    },
    {
     "name": "stdout",
     "output_type": "stream",
     "text": [
      "Mean Absolute Percent Error: 0.0109\n",
      "Root Mean Squared Error: 0.40002647470247793\n"
     ]
    }
   ],
   "source": [
    "plot_data = pd.DataFrame({'datetime': test_data.index, 'test_data': test_data.values, 'predictions': predictions})\n",
    "# print(plot_data)\n",
    "fig_pred_test = px.line(plot_data, x='datetime', y=['test_data', 'predictions'], labels={'datetime': 'Datetime', 'value': 'Mean Temperature (°C)'}, title='Test Data and Predictions')\n",
    "fig_pred_test.update_xaxes(dtick='M1', tickangle=45)\n",
    "fig_pred_test.update_yaxes(dtick=0.5, tickangle=45)\n",
    "fig_pred_test.update_traces(hovertemplate='Datetime: %{x}<br>Mean Temperature: %{y}°C')\n",
    "fig_pred_test.show()\n",
    "\n",
    "print(f\"Mean Absolute Percent Error: {round(np.mean(abs(residuals/test_data)), 4)}\")\n",
    "print(f\"Root Mean Squared Error: {np.sqrt(np.mean(residuals**2))}\")"
   ]
  },
  {
   "cell_type": "markdown",
   "metadata": {},
   "source": [
    "##### Compared to using just the ARMA model with first difference performed, with both AR(9) and MA(12), the ARIMA model performed better, having a RMSE (0.40003), lower than that of the ARMA model (0.58414)."
   ]
  },
  {
   "cell_type": "markdown",
   "metadata": {},
   "source": [
    "##### Let's try to improve it using the rolling forecast origin."
   ]
  },
  {
   "cell_type": "code",
   "execution_count": 128,
   "metadata": {},
   "outputs": [
    {
     "name": "stderr",
     "output_type": "stream",
     "text": [
      "/Users/linustws/opt/anaconda3/envs/singapore-weather-prediction/lib/python3.9/site-packages/statsmodels/base/model.py:607: ConvergenceWarning:\n",
      "\n",
      "Maximum Likelihood optimization failed to converge. Check mle_retvals\n",
      "\n",
      "/Users/linustws/opt/anaconda3/envs/singapore-weather-prediction/lib/python3.9/site-packages/statsmodels/base/model.py:607: ConvergenceWarning:\n",
      "\n",
      "Maximum Likelihood optimization failed to converge. Check mle_retvals\n",
      "\n",
      "/Users/linustws/opt/anaconda3/envs/singapore-weather-prediction/lib/python3.9/site-packages/statsmodels/base/model.py:607: ConvergenceWarning:\n",
      "\n",
      "Maximum Likelihood optimization failed to converge. Check mle_retvals\n",
      "\n",
      "/Users/linustws/opt/anaconda3/envs/singapore-weather-prediction/lib/python3.9/site-packages/statsmodels/base/model.py:607: ConvergenceWarning:\n",
      "\n",
      "Maximum Likelihood optimization failed to converge. Check mle_retvals\n",
      "\n",
      "/Users/linustws/opt/anaconda3/envs/singapore-weather-prediction/lib/python3.9/site-packages/statsmodels/base/model.py:607: ConvergenceWarning:\n",
      "\n",
      "Maximum Likelihood optimization failed to converge. Check mle_retvals\n",
      "\n",
      "/Users/linustws/opt/anaconda3/envs/singapore-weather-prediction/lib/python3.9/site-packages/statsmodels/base/model.py:607: ConvergenceWarning:\n",
      "\n",
      "Maximum Likelihood optimization failed to converge. Check mle_retvals\n",
      "\n",
      "/Users/linustws/opt/anaconda3/envs/singapore-weather-prediction/lib/python3.9/site-packages/statsmodels/base/model.py:607: ConvergenceWarning:\n",
      "\n",
      "Maximum Likelihood optimization failed to converge. Check mle_retvals\n",
      "\n",
      "/Users/linustws/opt/anaconda3/envs/singapore-weather-prediction/lib/python3.9/site-packages/statsmodels/base/model.py:607: ConvergenceWarning:\n",
      "\n",
      "Maximum Likelihood optimization failed to converge. Check mle_retvals\n",
      "\n",
      "/Users/linustws/opt/anaconda3/envs/singapore-weather-prediction/lib/python3.9/site-packages/statsmodels/base/model.py:607: ConvergenceWarning:\n",
      "\n",
      "Maximum Likelihood optimization failed to converge. Check mle_retvals\n",
      "\n",
      "/Users/linustws/opt/anaconda3/envs/singapore-weather-prediction/lib/python3.9/site-packages/statsmodels/base/model.py:607: ConvergenceWarning:\n",
      "\n",
      "Maximum Likelihood optimization failed to converge. Check mle_retvals\n",
      "\n",
      "/Users/linustws/opt/anaconda3/envs/singapore-weather-prediction/lib/python3.9/site-packages/statsmodels/base/model.py:607: ConvergenceWarning:\n",
      "\n",
      "Maximum Likelihood optimization failed to converge. Check mle_retvals\n",
      "\n"
     ]
    },
    {
     "name": "stdout",
     "output_type": "stream",
     "text": [
      "Model Fitting Time: 29.885125160217285\n"
     ]
    },
    {
     "name": "stderr",
     "output_type": "stream",
     "text": [
      "/Users/linustws/opt/anaconda3/envs/singapore-weather-prediction/lib/python3.9/site-packages/statsmodels/base/model.py:607: ConvergenceWarning:\n",
      "\n",
      "Maximum Likelihood optimization failed to converge. Check mle_retvals\n",
      "\n"
     ]
    },
    {
     "data": {
      "text/html": [
       "<iframe\n",
       "    scrolling=\"no\"\n",
       "    width=\"100%\"\n",
       "    height=\"545px\"\n",
       "    src=\"iframe_figures/figure_128.html\"\n",
       "    frameborder=\"0\"\n",
       "    allowfullscreen\n",
       "></iframe>\n"
      ]
     },
     "metadata": {},
     "output_type": "display_data"
    }
   ],
   "source": [
    "# create the model\n",
    "predictions_rolling = pd.Series(dtype='float64')\n",
    "start = time()\n",
    "for end_date in test_data.index:\n",
    "    train_data = series_monthly_mean_temp[:end_date - timedelta(days=1)]\n",
    "    model = ARIMA(train_data, order=(9, 1, 12)) # (p, d, q) here we use d as 1 as we are taking into account the first difference to mitigate the slight upward trend.\n",
    "    model_fit = model.fit()\n",
    "    pred = model_fit.predict(end_date)\n",
    "    predictions_rolling.loc[end_date] = pred.loc[end_date]\n",
    "end = time()\n",
    "print(f\"Model Fitting Time: {end - start}\")\n",
    "residuals_rolling = test_data - predictions_rolling\n",
    "\n",
    "# print(residuals_rolling)\n",
    "\n",
    "# Plot residuals\n",
    "fig_resid_rolling = px.line(residuals_rolling, labels={residuals_rolling.index.name: 'Datetime', 'value': 'Error'}, title='Residuals from ARIMA Model (Rolling Window)')\n",
    "fig_resid_rolling.update_xaxes(dtick='M1', tickangle=45)\n",
    "fig_resid_rolling.update_yaxes(dtick=0.5, tickangle=45)\n",
    "fig_resid_rolling.update_traces(name='error', hovertemplate='Datetime: %{x}<br>Error: %{y}')\n",
    "\n",
    "# add the mean line\n",
    "mean_error_rolling = np.mean(residuals_rolling)\n",
    "fig_resid_rolling.add_shape(\n",
    "    type=\"line\",\n",
    "    x0=residuals_rolling.index[0],\n",
    "    y0=mean_error_rolling,\n",
    "    x1=residuals_rolling.index[-1],\n",
    "    y1=mean_error_rolling,\n",
    "    line=dict(color=\"red\", dash=\"dot\"),\n",
    ")\n",
    "fig_resid_rolling.show()"
   ]
  },
  {
   "cell_type": "code",
   "execution_count": 129,
   "metadata": {},
   "outputs": [
    {
     "data": {
      "text/html": [
       "<iframe\n",
       "    scrolling=\"no\"\n",
       "    width=\"100%\"\n",
       "    height=\"545px\"\n",
       "    src=\"iframe_figures/figure_129.html\"\n",
       "    frameborder=\"0\"\n",
       "    allowfullscreen\n",
       "></iframe>\n"
      ]
     },
     "metadata": {},
     "output_type": "display_data"
    },
    {
     "name": "stdout",
     "output_type": "stream",
     "text": [
      "Mean Absolute Percent Error: 0.0113\n",
      "Root Mean Squared Error: 0.4101693694305862\n"
     ]
    }
   ],
   "source": [
    "plot_data_rolling = pd.DataFrame({'datetime': test_data.index, 'test_data': test_data.values, 'predictions': predictions_rolling})\n",
    "# print(plot_data)\n",
    "fig_pred_test_rolling = px.line(plot_data_rolling, x='datetime', y=['test_data', 'predictions'], labels={'datetime': 'Datetime', 'value': 'Mean Temperature (°C)'}, title='Test Data and Predictions (Rolling Window)')\n",
    "fig_pred_test_rolling.update_xaxes(dtick='M1', tickangle=45)\n",
    "fig_pred_test_rolling.update_yaxes(dtick=0.5, tickangle=45)\n",
    "fig_pred_test_rolling.update_traces(hovertemplate='Datetime: %{x}<br>Mean Temperature: %{y}°C')\n",
    "fig_pred_test_rolling.show()\n",
    "\n",
    "print(f\"Mean Absolute Percent Error: {round(np.mean(abs(residuals_rolling/test_data)), 4)}\")\n",
    "print(f\"Root Mean Squared Error: {np.sqrt(np.mean(residuals_rolling**2))}\")"
   ]
  },
  {
   "cell_type": "markdown",
   "metadata": {},
   "source": [
    "##### Here although it seems like the rolling forecast origin of the ARIMA model predicted values that had a closer shape following that of the test data, it has a slightly higher RMSE (0.41017) compared to the non-rolling version (0.40003). It seems that the rolling forecast origin is less effective when predicting over a short time period. It took quite a while to fit the model, even though we reduced our test data to just 1 year. This is probably due to the higher orders or AR and MA that we used."
   ]
  },
  {
   "cell_type": "markdown",
   "metadata": {},
   "source": [
    "#### SARIMA Model\n",
    "\n",
    "##### Let's start by performing the first difference to remove the upward trend."
   ]
  },
  {
   "cell_type": "code",
   "execution_count": 130,
   "metadata": {},
   "outputs": [
    {
     "data": {
      "text/html": [
       "<iframe\n",
       "    scrolling=\"no\"\n",
       "    width=\"100%\"\n",
       "    height=\"545px\"\n",
       "    src=\"iframe_figures/figure_130.html\"\n",
       "    frameborder=\"0\"\n",
       "    allowfullscreen\n",
       "></iframe>\n"
      ]
     },
     "metadata": {},
     "output_type": "display_data"
    }
   ],
   "source": [
    "# fig_monthly_mean_temp.show() # for easier comparison\n",
    "\n",
    "first_diff = series_monthly_mean_temp.diff()[1:]\n",
    "# print(first_diff)\n",
    "\n",
    "# line plot for mean temperature\n",
    "fig_first_diff = px.line(first_diff, labels={first_diff.index.name: 'Datetime', 'value': 'Mean Temperature (°C)'}, title='First Difference of Monthly Mean Temperature')\n",
    "fig_first_diff.update_xaxes(dtick='M12', tickangle=45)\n",
    "fig_first_diff.update_yaxes(dtick=0.5, tickangle=45)\n",
    "fig_first_diff.update_traces(hovertemplate='Datetime: %{x}<br>Mean Temperature: %{y}°C')\n",
    "\n",
    "# add the mean line\n",
    "mean_temperature = np.mean(first_diff)\n",
    "fig_first_diff.add_shape(\n",
    "    type=\"line\",\n",
    "    x0=first_diff.index[0],\n",
    "    y0=mean_temperature,\n",
    "    x1=first_diff.index[-1],\n",
    "    y1=mean_temperature,\n",
    "    line=dict(color=\"red\", dash=\"dot\"),\n",
    ")\n",
    "fig_first_diff.show()"
   ]
  },
  {
   "cell_type": "markdown",
   "metadata": {},
   "source": [
    "##### By zooming into the above graph, although we removed the upward trend, seasonality can still be observed, just like the original graph. Hence, lets perform a seasonal difference of 12 months, since we can observe the seasonality within every 12 months."
   ]
  },
  {
   "cell_type": "code",
   "execution_count": 131,
   "metadata": {},
   "outputs": [
    {
     "data": {
      "text/html": [
       "<iframe\n",
       "    scrolling=\"no\"\n",
       "    width=\"100%\"\n",
       "    height=\"545px\"\n",
       "    src=\"iframe_figures/figure_131.html\"\n",
       "    frameborder=\"0\"\n",
       "    allowfullscreen\n",
       "></iframe>\n"
      ]
     },
     "metadata": {},
     "output_type": "display_data"
    }
   ],
   "source": [
    "# Perform seasonal differencing\n",
    "seasonal_diff = first_diff.diff(12)[12:]\n",
    "# print(seasonal_diff)\n",
    "\n",
    "# Line plot for seasonal difference of mean temperature\n",
    "fig_seasonal_diff = px.line(seasonal_diff, labels={seasonal_diff.index.name: 'Datetime', 'value': 'Mean Temperature (°C)'}, title='Seasonal Difference (+ First Difference) of Monthly Mean Temperature')\n",
    "fig_seasonal_diff.update_xaxes(dtick='M12', tickangle=45)\n",
    "fig_seasonal_diff.update_yaxes(dtick=0.5, tickangle=45)\n",
    "fig_seasonal_diff.update_traces(hovertemplate='Datetime: %{x}<br>Mean Temperature: %{y}°C')\n",
    "\n",
    "# Add the mean line\n",
    "mean_temperature = np.mean(seasonal_diff)\n",
    "fig_seasonal_diff.add_shape(\n",
    "    type=\"line\",\n",
    "    x0=seasonal_diff.index[0],\n",
    "    y0=mean_temperature,\n",
    "    x1=seasonal_diff.index[-1],\n",
    "    y1=mean_temperature,\n",
    "    line=dict(color=\"red\", dash=\"dot\"),\n",
    ")\n",
    "fig_seasonal_diff.show()"
   ]
  },
  {
   "cell_type": "markdown",
   "metadata": {},
   "source": [
    "##### Great, now it's hard to observe seasonality. Now we have a time series that is probably stationary.\n",
    "\n",
    "Requirements for having a stationary time series:\n",
    "1. Constant mean: The mean of the time series remains constant over time. This means that the average value of the series does not change as time progresses.\n",
    "\n",
    "2. Constant variance: The variance (or standard deviation) of the time series remains constant over time. This implies that the spread or dispersion of the data points does not change.\n",
    "\n",
    "3. No seasonality: There is no systematic pattern or periodic fluctuations observed in the series. Seasonality refers to regular and predictable variations that occur at specific intervals, such as daily, weekly, or yearly patterns.\n",
    "\n",
    "4. No trend: The series does not exhibit a long-term increasing or decreasing pattern. A trend represents a gradual change in the mean or level of the series over an extended period.\n",
    "\n",
    "##### Now we analyse its ACF and PACF."
   ]
  },
  {
   "cell_type": "code",
   "execution_count": 132,
   "metadata": {},
   "outputs": [
    {
     "data": {
      "image/png": "[encoded data removed]",
      "text/plain": [
       "<Figure size 640x480 with 1 Axes>"
      ]
     },
     "metadata": {},
     "output_type": "display_data"
    }
   ],
   "source": [
    "acf_values = plot_acf(seasonal_diff, lags=50)\n",
    "plt.xticks(range(0, 51, 5))\n",
    "plt.show()"
   ]
  },
  {
   "cell_type": "code",
   "execution_count": 133,
   "metadata": {},
   "outputs": [
    {
     "data": {
      "image/png": "[encoded data removed]",
      "text/plain": [
       "<Figure size 640x480 with 1 Axes>"
      ]
     },
     "metadata": {},
     "output_type": "display_data"
    }
   ],
   "source": [
    "pacf_values = plot_pacf(seasonal_diff, lags=50, method='ywm')\n",
    "plt.xticks(range(0, 51, 5))\n",
    "plt.show()"
   ]
  },
  {
   "cell_type": "markdown",
   "metadata": {},
   "source": [
    "##### As shown above, there are significant spikes in the ACF plot at lag 1 and 12. In the PACF plot, there is a significant spike at lag 1 and there are significant spikes at intervals of 12 lags. Since we performed a first difference of the original data, d=1 of the normal order, and since we also performed a seasonal difference, D=1 of the seasonal order. Due to the significant spikes at lag 1 of both the ACF and PACF, these are non-seasonal lags, therefore we can set p=1 and q=1 of the normal order. Due to the spikes at lag 12 of both the ACF and PACF, we can set P=1 and Q=1 (since the seasonal lag is 12 months)of the seasonal order. Last but not least, since the seasonal lag happens every 12 months, m=12 of the seasonal order. These characteristics suggest a potential parameter starting point of SARIMA(1,1,1)x(1,1,1,12)."
   ]
  },
  {
   "cell_type": "code",
   "execution_count": 134,
   "metadata": {},
   "outputs": [
    {
     "name": "stdout",
     "output_type": "stream",
     "text": [
      "Model Fitting Time: 1.8197648525238037\n",
      "                                    SARIMAX Results                                     \n",
      "========================================================================================\n",
      "Dep. Variable:                        mean_temp   No. Observations:                  480\n",
      "Model:             ARIMA(1, 1, 1)x(1, 1, 1, 12)   Log Likelihood                -277.962\n",
      "Date:                          Thu, 08 Jun 2023   AIC                            565.924\n",
      "Time:                                  20:32:57   BIC                            586.655\n",
      "Sample:                              01-31-1982   HQIC                           574.082\n",
      "                                   - 12-31-2021                                         \n",
      "Covariance Type:                            opg                                         \n",
      "==============================================================================\n",
      "                 coef    std err          z      P>|z|      [0.025      0.975]\n",
      "------------------------------------------------------------------------------\n",
      "ar.L1          0.1856      0.067      2.752      0.006       0.053       0.318\n",
      "ma.L1         -0.7552      0.049    -15.360      0.000      -0.852      -0.659\n",
      "ar.S.L12       0.0151      0.053      0.287      0.774      -0.088       0.118\n",
      "ma.S.L12      -0.9981      0.754     -1.324      0.185      -2.475       0.479\n",
      "sigma2         0.1754      0.130      1.348      0.178      -0.080       0.430\n",
      "===================================================================================\n",
      "Ljung-Box (L1) (Q):                   0.06   Jarque-Bera (JB):                 5.93\n",
      "Prob(Q):                              0.81   Prob(JB):                         0.05\n",
      "Heteroskedasticity (H):               0.89   Skew:                            -0.25\n",
      "Prob(H) (two-sided):                  0.47   Kurtosis:                         2.76\n",
      "===================================================================================\n",
      "\n",
      "Warnings:\n",
      "[1] Covariance matrix calculated using the outer product of gradients (complex-step).\n"
     ]
    }
   ],
   "source": [
    "# split to test 1 year of data as splitting 70:30 takes very long\n",
    "train_end = datetime(2022, 1, 1) \n",
    "test_end = datetime(2023, 1, 1)\n",
    "\n",
    "train_data = series_monthly_mean_temp[:train_end]\n",
    "test_data = series_monthly_mean_temp[train_end + timedelta(days=1):test_end]\n",
    "\n",
    "# create model\n",
    "normal_order = (1, 1, 1)\n",
    "seasonal_order = (1, 1, 1, 12)\n",
    "model = ARIMA(train_data, order=normal_order, seasonal_order=seasonal_order) \n",
    "\n",
    "# fit model\n",
    "start = time()\n",
    "model_fit = model.fit()\n",
    "end = time()\n",
    "print(f\"Model Fitting Time: {end - start}\")\n",
    "\n",
    "# summary of the model\n",
    "print(model_fit.summary())"
   ]
  },
  {
   "cell_type": "markdown",
   "metadata": {},
   "source": [
    "##### From the model summary, we can see that there is a high p-value (>0.5) for the seasonal AR component, so it seems redundant and that there is some discrepancy that we have not accounted for. Note: I used `model = SARIMAX(train_data, order=normal_order, seasonal_order=seasonal_order) ` and there was no difference in result. Seems like the ARIMA function can apply the SARIMA model as well."
   ]
  },
  {
   "cell_type": "code",
   "execution_count": 135,
   "metadata": {},
   "outputs": [
    {
     "data": {
      "text/html": [
       "<iframe\n",
       "    scrolling=\"no\"\n",
       "    width=\"100%\"\n",
       "    height=\"545px\"\n",
       "    src=\"iframe_figures/figure_135.html\"\n",
       "    frameborder=\"0\"\n",
       "    allowfullscreen\n",
       "></iframe>\n"
      ]
     },
     "metadata": {},
     "output_type": "display_data"
    }
   ],
   "source": [
    "# get prediction start and end dates\n",
    "pred_start_date = test_data.index[0]\n",
    "pred_end_date = test_data.index[-1]\n",
    "\n",
    "# get predictions and residuals\n",
    "predictions = model_fit.predict(start=pred_start_date, end=pred_end_date)\n",
    "residuals = test_data - predictions\n",
    "\n",
    "# print(residuals)\n",
    "\n",
    "# Plot residuals\n",
    "fig_resid = px.line(residuals, labels={residuals.index.name: 'Datetime', 'value': 'Error'}, title='Residuals from SARIMA Model')\n",
    "fig_resid.update_xaxes(dtick='M1', tickangle=45)\n",
    "fig_resid.update_yaxes(dtick=0.5, tickangle=45)\n",
    "fig_resid.update_traces(name='error', hovertemplate='Datetime: %{x}<br>Error: %{y}')\n",
    "\n",
    "# add the mean line\n",
    "mean_error = np.mean(residuals)\n",
    "fig_resid.add_shape(\n",
    "    type=\"line\",\n",
    "    x0=residuals.index[0],\n",
    "    y0=mean_error,\n",
    "    x1=residuals.index[-1],\n",
    "    y1=mean_error,\n",
    "    line=dict(color=\"red\", dash=\"dot\"),\n",
    ")\n",
    "fig_resid.show()"
   ]
  },
  {
   "cell_type": "code",
   "execution_count": 136,
   "metadata": {},
   "outputs": [
    {
     "data": {
      "text/html": [
       "<iframe\n",
       "    scrolling=\"no\"\n",
       "    width=\"100%\"\n",
       "    height=\"545px\"\n",
       "    src=\"iframe_figures/figure_136.html\"\n",
       "    frameborder=\"0\"\n",
       "    allowfullscreen\n",
       "></iframe>\n"
      ]
     },
     "metadata": {},
     "output_type": "display_data"
    },
    {
     "name": "stdout",
     "output_type": "stream",
     "text": [
      "Mean Absolute Percent Error: 0.0155\n",
      "Root Mean Squared Error: 0.5200608882024743\n"
     ]
    }
   ],
   "source": [
    "plot_data = pd.DataFrame({'datetime': test_data.index, 'test_data': test_data.values, 'predictions': predictions})\n",
    "# print(plot_data)\n",
    "fig_pred_test = px.line(plot_data, x='datetime', y=['test_data', 'predictions'], labels={'datetime': 'Datetime', 'value': 'Mean Temperature (°C)'}, title='Test Data and Predictions')\n",
    "fig_pred_test.update_xaxes(dtick='M1', tickangle=45)\n",
    "fig_pred_test.update_yaxes(dtick=0.5, tickangle=45)\n",
    "fig_pred_test.update_traces(hovertemplate='Datetime: %{x}<br>Mean Temperature: %{y}°C')\n",
    "fig_pred_test.show()\n",
    "\n",
    "print(f\"Mean Absolute Percent Error: {round(np.mean(abs(residuals/test_data)), 4)}\")\n",
    "print(f\"Root Mean Squared Error: {np.sqrt(np.mean(residuals**2))}\")"
   ]
  },
  {
   "cell_type": "markdown",
   "metadata": {},
   "source": [
    "##### Seems like our SARIMA model performed worse than our ARIMA model (RMSE=0.40003). Let's try applying the rolling forecast origin."
   ]
  },
  {
   "cell_type": "code",
   "execution_count": 137,
   "metadata": {},
   "outputs": [
    {
     "name": "stdout",
     "output_type": "stream",
     "text": [
      "Model Fitting Time: 14.356170177459717\n"
     ]
    },
    {
     "data": {
      "text/html": [
       "<iframe\n",
       "    scrolling=\"no\"\n",
       "    width=\"100%\"\n",
       "    height=\"545px\"\n",
       "    src=\"iframe_figures/figure_137.html\"\n",
       "    frameborder=\"0\"\n",
       "    allowfullscreen\n",
       "></iframe>\n"
      ]
     },
     "metadata": {},
     "output_type": "display_data"
    }
   ],
   "source": [
    "normal_order = (1, 1, 1)\n",
    "seasonal_order = (1, 1, 1, 12)\n",
    "\n",
    "# create the model\n",
    "predictions_rolling = pd.Series(dtype='float64')\n",
    "start = time()\n",
    "for end_date in test_data.index:\n",
    "    train_data = series_monthly_mean_temp[:end_date - timedelta(days=1)]\n",
    "    model = ARIMA(train_data, order=normal_order, seasonal_order=seasonal_order) \n",
    "    model_fit = model.fit()\n",
    "    pred = model_fit.predict(end_date)\n",
    "    predictions_rolling.loc[end_date] = pred.loc[end_date]\n",
    "end = time()\n",
    "print(f\"Model Fitting Time: {end - start}\")\n",
    "residuals_rolling = test_data - predictions_rolling\n",
    "\n",
    "# print(residuals_rolling)\n",
    "\n",
    "# Plot residuals\n",
    "fig_resid_rolling = px.line(residuals_rolling, labels={residuals_rolling.index.name: 'Datetime', 'value': 'Error'}, title='Residuals from SARIMA Model (Rolling Window)')\n",
    "fig_resid_rolling.update_xaxes(dtick='M1', tickangle=45)\n",
    "fig_resid_rolling.update_yaxes(dtick=0.5, tickangle=45)\n",
    "fig_resid_rolling.update_traces(name='error', hovertemplate='Datetime: %{x}<br>Error: %{y}')\n",
    "\n",
    "# add the mean line\n",
    "mean_error_rolling = np.mean(residuals_rolling)\n",
    "fig_resid_rolling.add_shape(\n",
    "    type=\"line\",\n",
    "    x0=residuals_rolling.index[0],\n",
    "    y0=mean_error_rolling,\n",
    "    x1=residuals_rolling.index[-1],\n",
    "    y1=mean_error_rolling,\n",
    "    line=dict(color=\"red\", dash=\"dot\"),\n",
    ")\n",
    "fig_resid_rolling.show()"
   ]
  },
  {
   "cell_type": "code",
   "execution_count": 138,
   "metadata": {},
   "outputs": [
    {
     "data": {
      "text/html": [
       "<iframe\n",
       "    scrolling=\"no\"\n",
       "    width=\"100%\"\n",
       "    height=\"545px\"\n",
       "    src=\"iframe_figures/figure_138.html\"\n",
       "    frameborder=\"0\"\n",
       "    allowfullscreen\n",
       "></iframe>\n"
      ]
     },
     "metadata": {},
     "output_type": "display_data"
    },
    {
     "name": "stdout",
     "output_type": "stream",
     "text": [
      "Mean Absolute Percent Error: 0.0123\n",
      "Root Mean Squared Error: 0.43694862169817994\n"
     ]
    }
   ],
   "source": [
    "plot_data_rolling = pd.DataFrame({'datetime': test_data.index, 'test_data': test_data.values, 'predictions': predictions_rolling})\n",
    "# print(plot_data)\n",
    "fig_pred_test_rolling = px.line(plot_data_rolling, x='datetime', y=['test_data', 'predictions'], labels={'datetime': 'Datetime', 'value': 'Mean Temperature (°C)'}, title='Test Data and Predictions (Rolling Window)')\n",
    "fig_pred_test_rolling.update_xaxes(dtick='M1', tickangle=45)\n",
    "fig_pred_test_rolling.update_yaxes(dtick=0.5, tickangle=45)\n",
    "fig_pred_test_rolling.update_traces(hovertemplate='Datetime: %{x}<br>Mean Temperature: %{y}°C')\n",
    "fig_pred_test_rolling.show()\n",
    "\n",
    "print(f\"Mean Absolute Percent Error: {round(np.mean(abs(residuals_rolling/test_data)), 4)}\")\n",
    "print(f\"Root Mean Squared Error: {np.sqrt(np.mean(residuals_rolling**2))}\")"
   ]
  },
  {
   "cell_type": "markdown",
   "metadata": {},
   "source": [
    "##### We can see that the rolling forecast origin on the SARIMA model did better, but it still fell short to the ARIMA model (rolling window RMSE=0.41017 and non-rolling RMSE=0.40003). Perhaps, the orders chosen were not the best or the SARIMA overfitted to a greater extent."
   ]
  },
  {
   "cell_type": "markdown",
   "metadata": {},
   "source": [
    "### Model Refinement: Automated Parameter Selection with `auto_arima`\n",
    "\n",
    "To automate the process of parameter selection in time series modeling, we can use the `auto_arima` function provided by the `pmdarima` library. These functions use a combination of algorithms and heuristics to find the best set of parameters for the ARIMA and SARIMA models, respectively.\n",
    "\n",
    "#### Auto ARIMA\n",
    "\n",
    "The `auto_arima` function can be used to automatically determine the optimal parameters for an ARIMA model. It considers various combinations of p, d, and q values and evaluates the models based on the AIC (Akaike Information Criterion) or BIC (Bayesian Information Criterion). \n",
    "\n",
    "The AIC and BIC are based on the principle of trade-off between goodness of fit and model complexity. The goal is to find a model that fits the data well but is not overly complex, as overly complex models can lead to overfitting.\n",
    "\n",
    "The AIC is defined as:\n",
    "\n",
    "AIC = -2 * log-likelihood + 2 * k,\n",
    "\n",
    "where log-likelihood is a measure of how well the model fits the data, and k is the number of parameters in the model. The AIC penalizes models with a larger number of parameters, meaning that models with a higher AIC value are considered less favorable.\n",
    "\n",
    "The BIC is similar to the AIC but includes a stronger penalty for model complexity. It is defined as:\n",
    "\n",
    "BIC = -2 * log-likelihood + k * log(n),\n",
    "\n",
    "where n is the number of observations in the data. The BIC penalizes models with a larger number of parameters more severely than the AIC, leading to a more conservative model selection."
   ]
  },
  {
   "cell_type": "code",
   "execution_count": 143,
   "metadata": {},
   "outputs": [
    {
     "name": "stdout",
     "output_type": "stream",
     "text": [
      " ARIMA(0,0,0)(0,0,0)[0]             : AIC=4703.909, Time=0.02 sec\n",
      " ARIMA(0,0,1)(0,0,0)[0]             : AIC=4044.152, Time=0.08 sec\n",
      " ARIMA(0,0,2)(0,0,0)[0]             : AIC=3447.842, Time=0.14 sec\n",
      " ARIMA(0,0,3)(0,0,0)[0]             : AIC=3012.063, Time=0.38 sec\n",
      " ARIMA(0,0,4)(0,0,0)[0]             : AIC=2644.616, Time=0.47 sec\n",
      " ARIMA(0,0,5)(0,0,0)[0]             : AIC=2373.222, Time=0.31 sec\n",
      " ARIMA(0,0,6)(0,0,0)[0]             : AIC=2168.781, Time=0.66 sec\n",
      " ARIMA(0,0,7)(0,0,0)[0]             : AIC=inf, Time=1.26 sec\n",
      " ARIMA(0,0,8)(0,0,0)[0]             : AIC=inf, Time=2.09 sec\n",
      " ARIMA(0,0,9)(0,0,0)[0]             : AIC=inf, Time=1.42 sec\n",
      " ARIMA(0,0,10)(0,0,0)[0]             : AIC=inf, Time=2.86 sec\n",
      " ARIMA(0,0,11)(0,0,0)[0]             : AIC=1578.521, Time=1.24 sec\n",
      " ARIMA(0,0,12)(0,0,0)[0]             : AIC=inf, Time=2.76 sec\n",
      " ARIMA(1,0,0)(0,0,0)[0]             : AIC=inf, Time=0.03 sec\n",
      " ARIMA(1,0,1)(0,0,0)[0]             : AIC=923.908, Time=0.18 sec\n",
      " ARIMA(1,0,2)(0,0,0)[0]             : AIC=923.974, Time=0.09 sec\n",
      " ARIMA(1,0,3)(0,0,0)[0]             : AIC=855.327, Time=0.40 sec\n",
      " ARIMA(1,0,4)(0,0,0)[0]             : AIC=836.260, Time=0.45 sec\n",
      " ARIMA(1,0,5)(0,0,0)[0]             : AIC=821.881, Time=0.48 sec\n",
      " ARIMA(1,0,6)(0,0,0)[0]             : AIC=823.465, Time=0.85 sec\n",
      " ARIMA(1,0,7)(0,0,0)[0]             : AIC=811.098, Time=0.79 sec\n",
      " ARIMA(1,0,8)(0,0,0)[0]             : AIC=806.365, Time=1.26 sec\n",
      " ARIMA(1,0,9)(0,0,0)[0]             : AIC=830.695, Time=1.49 sec\n",
      " ARIMA(1,0,10)(0,0,0)[0]             : AIC=810.304, Time=1.64 sec\n",
      " ARIMA(1,0,11)(0,0,0)[0]             : AIC=842.901, Time=1.65 sec\n",
      " ARIMA(1,0,12)(0,0,0)[0]             : AIC=791.315, Time=1.80 sec\n",
      " ARIMA(2,0,0)(0,0,0)[0]             : AIC=inf, Time=0.03 sec\n",
      " ARIMA(2,0,1)(0,0,0)[0]             : AIC=920.574, Time=0.16 sec\n",
      " ARIMA(2,0,2)(0,0,0)[0]             : AIC=849.830, Time=0.26 sec\n",
      " ARIMA(2,0,3)(0,0,0)[0]             : AIC=923.979, Time=0.21 sec\n",
      " ARIMA(2,0,4)(0,0,0)[0]             : AIC=inf, Time=0.48 sec\n",
      " ARIMA(2,0,5)(0,0,0)[0]             : AIC=825.991, Time=0.47 sec\n",
      " ARIMA(2,0,6)(0,0,0)[0]             : AIC=826.869, Time=0.82 sec\n",
      " ARIMA(2,0,7)(0,0,0)[0]             : AIC=825.486, Time=1.28 sec\n",
      " ARIMA(2,0,8)(0,0,0)[0]             : AIC=inf, Time=1.88 sec\n",
      " ARIMA(2,0,9)(0,0,0)[0]             : AIC=inf, Time=1.22 sec\n",
      " ARIMA(2,0,10)(0,0,0)[0]             : AIC=inf, Time=1.67 sec\n",
      " ARIMA(2,0,11)(0,0,0)[0]             : AIC=inf, Time=1.76 sec\n",
      " ARIMA(2,0,12)(0,0,0)[0]             : AIC=inf, Time=1.70 sec\n",
      " ARIMA(3,0,0)(0,0,0)[0]             : AIC=inf, Time=0.14 sec\n",
      " ARIMA(3,0,1)(0,0,0)[0]             : AIC=923.853, Time=0.09 sec\n",
      " ARIMA(3,0,2)(0,0,0)[0]             : AIC=924.562, Time=0.35 sec\n",
      " ARIMA(3,0,3)(0,0,0)[0]             : AIC=926.715, Time=0.31 sec\n",
      " ARIMA(3,0,4)(0,0,0)[0]             : AIC=inf, Time=0.45 sec\n",
      " ARIMA(3,0,5)(0,0,0)[0]             : AIC=877.535, Time=0.50 sec\n",
      " ARIMA(3,0,6)(0,0,0)[0]             : AIC=inf, Time=0.72 sec\n",
      " ARIMA(3,0,7)(0,0,0)[0]             : AIC=821.491, Time=0.63 sec\n",
      " ARIMA(3,0,8)(0,0,0)[0]             : AIC=inf, Time=1.27 sec\n",
      " ARIMA(3,0,9)(0,0,0)[0]             : AIC=inf, Time=1.65 sec\n",
      " ARIMA(3,0,10)(0,0,0)[0]             : AIC=inf, Time=1.77 sec\n",
      " ARIMA(3,0,11)(0,0,0)[0]             : AIC=inf, Time=1.85 sec\n",
      " ARIMA(3,0,12)(0,0,0)[0]             : AIC=inf, Time=2.16 sec\n",
      " ARIMA(4,0,0)(0,0,0)[0]             : AIC=inf, Time=0.04 sec\n",
      " ARIMA(4,0,1)(0,0,0)[0]             : AIC=808.797, Time=0.30 sec\n",
      " ARIMA(4,0,2)(0,0,0)[0]             : AIC=926.005, Time=0.34 sec\n",
      " ARIMA(4,0,3)(0,0,0)[0]             : AIC=925.608, Time=0.37 sec\n",
      " ARIMA(4,0,4)(0,0,0)[0]             : AIC=930.438, Time=0.42 sec\n",
      " ARIMA(4,0,5)(0,0,0)[0]             : AIC=inf, Time=0.82 sec\n",
      " ARIMA(4,0,6)(0,0,0)[0]             : AIC=inf, Time=0.78 sec\n",
      " ARIMA(4,0,7)(0,0,0)[0]             : AIC=825.358, Time=0.66 sec\n",
      " ARIMA(4,0,8)(0,0,0)[0]             : AIC=inf, Time=1.19 sec\n",
      " ARIMA(4,0,9)(0,0,0)[0]             : AIC=inf, Time=1.64 sec\n",
      " ARIMA(4,0,10)(0,0,0)[0]             : AIC=inf, Time=1.64 sec\n",
      " ARIMA(4,0,11)(0,0,0)[0]             : AIC=inf, Time=2.66 sec\n",
      " ARIMA(4,0,12)(0,0,0)[0]             : AIC=inf, Time=2.45 sec\n",
      " ARIMA(5,0,0)(0,0,0)[0]             : AIC=inf, Time=0.07 sec\n",
      " ARIMA(5,0,1)(0,0,0)[0]             : AIC=800.915, Time=0.41 sec\n",
      " ARIMA(5,0,2)(0,0,0)[0]             : AIC=inf, Time=0.45 sec\n",
      " ARIMA(5,0,3)(0,0,0)[0]             : AIC=930.156, Time=0.48 sec\n",
      " ARIMA(5,0,4)(0,0,0)[0]             : AIC=inf, Time=0.76 sec\n",
      " ARIMA(5,0,5)(0,0,0)[0]             : AIC=inf, Time=0.87 sec\n",
      " ARIMA(5,0,6)(0,0,0)[0]             : AIC=inf, Time=1.16 sec\n",
      " ARIMA(5,0,7)(0,0,0)[0]             : AIC=inf, Time=1.24 sec\n",
      " ARIMA(5,0,8)(0,0,0)[0]             : AIC=inf, Time=2.12 sec\n",
      " ARIMA(5,0,9)(0,0,0)[0]             : AIC=inf, Time=1.65 sec\n",
      " ARIMA(5,0,10)(0,0,0)[0]             : AIC=inf, Time=1.82 sec\n",
      " ARIMA(5,0,11)(0,0,0)[0]             : AIC=inf, Time=2.43 sec\n",
      " ARIMA(5,0,12)(0,0,0)[0]             : AIC=inf, Time=2.98 sec\n",
      " ARIMA(6,0,0)(0,0,0)[0]             : AIC=inf, Time=0.10 sec\n",
      " ARIMA(6,0,1)(0,0,0)[0]             : AIC=793.180, Time=0.57 sec\n",
      " ARIMA(6,0,2)(0,0,0)[0]             : AIC=inf, Time=0.79 sec\n",
      " ARIMA(6,0,3)(0,0,0)[0]             : AIC=932.158, Time=0.59 sec\n",
      " ARIMA(6,0,4)(0,0,0)[0]             : AIC=inf, Time=0.81 sec\n",
      " ARIMA(6,0,5)(0,0,0)[0]             : AIC=inf, Time=0.89 sec\n",
      " ARIMA(6,0,6)(0,0,0)[0]             : AIC=inf, Time=1.00 sec\n",
      " ARIMA(6,0,7)(0,0,0)[0]             : AIC=inf, Time=1.07 sec\n",
      " ARIMA(6,0,8)(0,0,0)[0]             : AIC=inf, Time=1.68 sec\n",
      " ARIMA(6,0,9)(0,0,0)[0]             : AIC=inf, Time=2.21 sec\n",
      " ARIMA(6,0,10)(0,0,0)[0]             : AIC=inf, Time=3.14 sec\n",
      " ARIMA(6,0,11)(0,0,0)[0]             : AIC=inf, Time=3.32 sec\n",
      " ARIMA(6,0,12)(0,0,0)[0]             : AIC=inf, Time=4.11 sec\n",
      " ARIMA(7,0,0)(0,0,0)[0]             : AIC=inf, Time=0.23 sec\n",
      " ARIMA(7,0,1)(0,0,0)[0]             : AIC=793.117, Time=1.25 sec\n",
      " ARIMA(7,0,2)(0,0,0)[0]             : AIC=inf, Time=1.53 sec\n",
      " ARIMA(7,0,3)(0,0,0)[0]             : AIC=924.186, Time=1.47 sec\n",
      " ARIMA(7,0,4)(0,0,0)[0]             : AIC=927.444, Time=2.28 sec\n",
      " ARIMA(7,0,5)(0,0,0)[0]             : AIC=inf, Time=2.41 sec\n",
      " ARIMA(7,0,6)(0,0,0)[0]             : AIC=inf, Time=2.56 sec\n",
      " ARIMA(7,0,7)(0,0,0)[0]             : AIC=inf, Time=1.59 sec\n",
      " ARIMA(7,0,8)(0,0,0)[0]             : AIC=inf, Time=1.54 sec\n",
      " ARIMA(7,0,9)(0,0,0)[0]             : AIC=inf, Time=1.80 sec\n",
      " ARIMA(7,0,10)(0,0,0)[0]             : AIC=inf, Time=2.66 sec\n",
      " ARIMA(7,0,11)(0,0,0)[0]             : AIC=inf, Time=2.12 sec\n",
      " ARIMA(7,0,12)(0,0,0)[0]             : AIC=inf, Time=2.71 sec\n",
      " ARIMA(8,0,0)(0,0,0)[0]             : AIC=inf, Time=0.10 sec\n",
      " ARIMA(8,0,1)(0,0,0)[0]             : AIC=786.944, Time=0.72 sec\n",
      " ARIMA(8,0,2)(0,0,0)[0]             : AIC=794.122, Time=0.80 sec\n",
      " ARIMA(8,0,3)(0,0,0)[0]             : AIC=inf, Time=1.06 sec\n",
      " ARIMA(8,0,4)(0,0,0)[0]             : AIC=891.707, Time=0.84 sec\n",
      " ARIMA(8,0,5)(0,0,0)[0]             : AIC=694.237, Time=1.10 sec\n",
      " ARIMA(8,0,6)(0,0,0)[0]             : AIC=inf, Time=1.01 sec\n",
      " ARIMA(8,0,7)(0,0,0)[0]             : AIC=inf, Time=1.43 sec\n",
      " ARIMA(8,0,8)(0,0,0)[0]             : AIC=inf, Time=1.55 sec\n",
      " ARIMA(8,0,9)(0,0,0)[0]             : AIC=inf, Time=1.68 sec\n",
      " ARIMA(8,0,10)(0,0,0)[0]             : AIC=inf, Time=3.00 sec\n",
      " ARIMA(8,0,11)(0,0,0)[0]             : AIC=inf, Time=2.14 sec\n",
      " ARIMA(8,0,12)(0,0,0)[0]             : AIC=inf, Time=3.48 sec\n",
      " ARIMA(9,0,0)(0,0,0)[0]             : AIC=inf, Time=1.15 sec\n",
      " ARIMA(9,0,1)(0,0,0)[0]             : AIC=770.020, Time=1.51 sec\n",
      " ARIMA(9,0,2)(0,0,0)[0]             : AIC=693.097, Time=1.38 sec\n",
      " ARIMA(9,0,3)(0,0,0)[0]             : AIC=inf, Time=1.65 sec\n",
      " ARIMA(9,0,4)(0,0,0)[0]             : AIC=897.204, Time=1.16 sec\n",
      " ARIMA(9,0,5)(0,0,0)[0]             : AIC=inf, Time=1.22 sec\n",
      " ARIMA(9,0,6)(0,0,0)[0]             : AIC=inf, Time=1.48 sec\n",
      " ARIMA(9,0,7)(0,0,0)[0]             : AIC=692.589, Time=1.35 sec\n",
      " ARIMA(9,0,8)(0,0,0)[0]             : AIC=inf, Time=1.80 sec\n",
      " ARIMA(9,0,9)(0,0,0)[0]             : AIC=inf, Time=1.75 sec\n",
      " ARIMA(9,0,10)(0,0,0)[0]             : AIC=inf, Time=2.11 sec\n",
      " ARIMA(9,0,11)(0,0,0)[0]             : AIC=inf, Time=1.96 sec\n",
      " ARIMA(9,0,12)(0,0,0)[0]             : AIC=803.892, Time=2.86 sec\n",
      " ARIMA(10,0,0)(0,0,0)[0]             : AIC=inf, Time=1.07 sec\n",
      " ARIMA(10,0,1)(0,0,0)[0]             : AIC=831.568, Time=1.50 sec\n",
      " ARIMA(10,0,2)(0,0,0)[0]             : AIC=699.899, Time=0.97 sec\n",
      " ARIMA(10,0,3)(0,0,0)[0]             : AIC=688.404, Time=1.33 sec\n",
      " ARIMA(10,0,4)(0,0,0)[0]             : AIC=inf, Time=1.53 sec\n",
      " ARIMA(10,0,5)(0,0,0)[0]             : AIC=889.241, Time=1.22 sec\n",
      " ARIMA(10,0,6)(0,0,0)[0]             : AIC=inf, Time=1.70 sec\n",
      " ARIMA(10,0,7)(0,0,0)[0]             : AIC=652.507, Time=1.53 sec\n",
      " ARIMA(10,0,8)(0,0,0)[0]             : AIC=inf, Time=2.15 sec\n",
      " ARIMA(10,0,9)(0,0,0)[0]             : AIC=inf, Time=2.28 sec\n",
      " ARIMA(10,0,10)(0,0,0)[0]             : AIC=inf, Time=2.92 sec\n",
      " ARIMA(10,0,11)(0,0,0)[0]             : AIC=inf, Time=7.70 sec\n",
      " ARIMA(10,0,12)(0,0,0)[0]             : AIC=inf, Time=5.21 sec\n",
      " ARIMA(11,0,0)(0,0,0)[0]             : AIC=inf, Time=3.77 sec\n",
      " ARIMA(11,0,1)(0,0,0)[0]             : AIC=786.896, Time=2.10 sec\n",
      " ARIMA(11,0,2)(0,0,0)[0]             : AIC=inf, Time=3.22 sec\n",
      " ARIMA(11,0,3)(0,0,0)[0]             : AIC=687.914, Time=3.09 sec\n",
      " ARIMA(11,0,4)(0,0,0)[0]             : AIC=877.454, Time=4.11 sec\n",
      " ARIMA(11,0,5)(0,0,0)[0]             : AIC=824.132, Time=4.46 sec\n",
      " ARIMA(11,0,6)(0,0,0)[0]             : AIC=inf, Time=5.81 sec\n",
      " ARIMA(11,0,7)(0,0,0)[0]             : AIC=650.993, Time=6.75 sec\n",
      " ARIMA(11,0,8)(0,0,0)[0]             : AIC=inf, Time=5.41 sec\n",
      " ARIMA(11,0,9)(0,0,0)[0]             : AIC=879.540, Time=4.86 sec\n",
      " ARIMA(11,0,10)(0,0,0)[0]             : AIC=inf, Time=4.93 sec\n",
      " ARIMA(11,0,11)(0,0,0)[0]             : AIC=inf, Time=5.82 sec\n",
      " ARIMA(11,0,12)(0,0,0)[0]             : AIC=808.423, Time=5.08 sec\n",
      " ARIMA(12,0,0)(0,0,0)[0]             : AIC=inf, Time=1.59 sec\n",
      " ARIMA(12,0,1)(0,0,0)[0]             : AIC=728.603, Time=1.80 sec\n",
      " ARIMA(12,0,2)(0,0,0)[0]             : AIC=725.668, Time=2.59 sec\n",
      " ARIMA(12,0,3)(0,0,0)[0]             : AIC=706.672, Time=2.31 sec\n",
      " ARIMA(12,0,4)(0,0,0)[0]             : AIC=704.142, Time=4.44 sec\n",
      " ARIMA(12,0,5)(0,0,0)[0]             : AIC=703.286, Time=2.95 sec\n",
      " ARIMA(12,0,6)(0,0,0)[0]             : AIC=656.813, Time=3.65 sec\n",
      " ARIMA(12,0,7)(0,0,0)[0]             : AIC=650.940, Time=3.91 sec\n",
      " ARIMA(12,0,8)(0,0,0)[0]             : AIC=647.599, Time=6.40 sec\n",
      " ARIMA(12,0,9)(0,0,0)[0]             : AIC=inf, Time=4.83 sec\n",
      " ARIMA(12,0,10)(0,0,0)[0]             : AIC=inf, Time=5.88 sec\n",
      " ARIMA(12,0,11)(0,0,0)[0]             : AIC=680.574, Time=5.76 sec\n",
      " ARIMA(12,0,12)(0,0,0)[0]             : AIC=inf, Time=6.38 sec\n",
      "\n",
      "Best model:  ARIMA(12,0,8)(0,0,0)[0]          \n",
      "Total fit time: 306.438 seconds\n",
      "Optimal ARIMA order: (12, 0, 8)\n"
     ]
    }
   ],
   "source": [
    "# split to test 1 year of data as splitting 70:30 takes very long\n",
    "train_end = datetime(2022, 1, 1) \n",
    "test_end = datetime(2023, 1, 1)\n",
    "\n",
    "train_data = series_monthly_mean_temp[:train_end]\n",
    "test_data = series_monthly_mean_temp[train_end + timedelta(days=1):test_end]\n",
    "\n",
    "# Find optimal ARIMA order using auto_arima\n",
    "model_arima = auto_arima(series_monthly_mean_temp, d=0, max_d=3, max_p=12, max_q=12, max_order=24, parallel=True, num_cores=None, seasonal=False, information_criterion='aic', trace=True, stepwise=False)\n",
    "\n",
    "# Get the best ARIMA order\n",
    "order_arima = model_arima.order\n",
    "\n",
    "print(\"Optimal ARIMA order:\", order_arima)"
   ]
  },
  {
   "cell_type": "code",
   "execution_count": 144,
   "metadata": {
    "editable": true,
    "slideshow": {
     "slide_type": ""
    },
    "tags": []
   },
   "outputs": [
    {
     "name": "stderr",
     "output_type": "stream",
     "text": [
      "/Users/linustws/opt/anaconda3/envs/singapore-weather-prediction/lib/python3.9/site-packages/statsmodels/tsa/statespace/sarimax.py:966: UserWarning:\n",
      "\n",
      "Non-stationary starting autoregressive parameters found. Using zeros as starting parameters.\n",
      "\n",
      "/Users/linustws/opt/anaconda3/envs/singapore-weather-prediction/lib/python3.9/site-packages/statsmodels/base/model.py:607: ConvergenceWarning:\n",
      "\n",
      "Maximum Likelihood optimization failed to converge. Check mle_retvals\n",
      "\n"
     ]
    },
    {
     "name": "stdout",
     "output_type": "stream",
     "text": [
      "Model Fitting Time: 7.549797058105469\n",
      "                               SARIMAX Results                                \n",
      "==============================================================================\n",
      "Dep. Variable:              mean_temp   No. Observations:                  480\n",
      "Model:                ARIMA(12, 0, 8)   Log Likelihood                -284.550\n",
      "Date:                Thu, 08 Jun 2023   AIC                            613.099\n",
      "Time:                        20:56:00   BIC                            704.923\n",
      "Sample:                    01-31-1982   HQIC                           649.193\n",
      "                         - 12-31-2021                                         \n",
      "Covariance Type:                  opg                                         \n",
      "==============================================================================\n",
      "                 coef    std err          z      P>|z|      [0.025      0.975]\n",
      "------------------------------------------------------------------------------\n",
      "const         27.6671      0.151    183.394      0.000      27.371      27.963\n",
      "ar.L1          0.2012      0.200      1.005      0.315      -0.191       0.594\n",
      "ar.L2          0.3249      0.195      1.666      0.096      -0.057       0.707\n",
      "ar.L3         -0.2085      0.103     -2.026      0.043      -0.410      -0.007\n",
      "ar.L4         -0.1540      0.082     -1.885      0.059      -0.314       0.006\n",
      "ar.L5         -0.1563      0.087     -1.795      0.073      -0.327       0.014\n",
      "ar.L6          0.4679      0.094      4.981      0.000       0.284       0.652\n",
      "ar.L7         -0.3473      0.168     -2.071      0.038      -0.676      -0.019\n",
      "ar.L8         -0.2929      0.206     -1.420      0.156      -0.697       0.111\n",
      "ar.L9          0.2748      0.093      2.952      0.003       0.092       0.457\n",
      "ar.L10         0.0352      0.054      0.655      0.513      -0.070       0.141\n",
      "ar.L11         0.1625      0.056      2.895      0.004       0.052       0.272\n",
      "ar.L12         0.3095      0.064      4.828      0.000       0.184       0.435\n",
      "ma.L1          0.2800      0.203      1.379      0.168      -0.118       0.678\n",
      "ma.L2         -0.0541      0.107     -0.504      0.614      -0.264       0.156\n",
      "ma.L3          0.1846      0.074      2.478      0.013       0.039       0.331\n",
      "ma.L4          0.3169      0.062      5.119      0.000       0.196       0.438\n",
      "ma.L5          0.3882      0.072      5.379      0.000       0.247       0.530\n",
      "ma.L6         -0.1597      0.086     -1.854      0.064      -0.328       0.009\n",
      "ma.L7          0.5272      0.102      5.175      0.000       0.328       0.727\n",
      "ma.L8          0.5830      0.177      3.296      0.001       0.236       0.930\n",
      "sigma2         0.1869      0.013     14.919      0.000       0.162       0.211\n",
      "===================================================================================\n",
      "Ljung-Box (L1) (Q):                   1.00   Jarque-Bera (JB):                 0.27\n",
      "Prob(Q):                              0.32   Prob(JB):                         0.87\n",
      "Heteroskedasticity (H):               0.85   Skew:                             0.04\n",
      "Prob(H) (two-sided):                  0.30   Kurtosis:                         3.09\n",
      "===================================================================================\n",
      "\n",
      "Warnings:\n",
      "[1] Covariance matrix calculated using the outer product of gradients (complex-step).\n"
     ]
    }
   ],
   "source": [
    "# create model\n",
    "model = ARIMA(train_data, order=order_arima)\n",
    "\n",
    "# fit model\n",
    "start = time()\n",
    "model_fit = model.fit()\n",
    "end = time()\n",
    "print(f\"Model Fitting Time: {end - start}\")\n",
    "\n",
    "# Print model summary\n",
    "print(model_fit.summary())"
   ]
  },
  {
   "cell_type": "code",
   "execution_count": 145,
   "metadata": {},
   "outputs": [
    {
     "data": {
      "text/html": [
       "<iframe\n",
       "    scrolling=\"no\"\n",
       "    width=\"100%\"\n",
       "    height=\"545px\"\n",
       "    src=\"iframe_figures/figure_145.html\"\n",
       "    frameborder=\"0\"\n",
       "    allowfullscreen\n",
       "></iframe>\n"
      ]
     },
     "metadata": {},
     "output_type": "display_data"
    }
   ],
   "source": [
    "# get prediction start and end dates\n",
    "pred_start_date = test_data.index[0]\n",
    "pred_end_date = test_data.index[-1]\n",
    "\n",
    "# get predictions and residuals\n",
    "predictions = model_fit.predict(start=pred_start_date, end=pred_end_date)\n",
    "residuals = test_data - predictions\n",
    "\n",
    "# print(residuals)\n",
    "\n",
    "# Plot residuals\n",
    "fig_resid = px.line(residuals, labels={residuals.index.name: 'Datetime', 'value': 'Error'}, title='Residuals from auto ARIMA Model')\n",
    "fig_resid.update_xaxes(dtick='M1', tickangle=45)\n",
    "fig_resid.update_yaxes(dtick=0.5, tickangle=45)\n",
    "fig_resid.update_traces(name='error', hovertemplate='Datetime: %{x}<br>Error: %{y}')\n",
    "\n",
    "# add the mean line\n",
    "mean_error = np.mean(residuals)\n",
    "fig_resid.add_shape(\n",
    "    type=\"line\",\n",
    "    x0=residuals.index[0],\n",
    "    y0=mean_error,\n",
    "    x1=residuals.index[-1],\n",
    "    y1=mean_error,\n",
    "    line=dict(color=\"red\", dash=\"dot\"),\n",
    ")\n",
    "fig_resid.show()"
   ]
  },
  {
   "cell_type": "code",
   "execution_count": 146,
   "metadata": {},
   "outputs": [
    {
     "data": {
      "text/html": [
       "<iframe\n",
       "    scrolling=\"no\"\n",
       "    width=\"100%\"\n",
       "    height=\"545px\"\n",
       "    src=\"iframe_figures/figure_146.html\"\n",
       "    frameborder=\"0\"\n",
       "    allowfullscreen\n",
       "></iframe>\n"
      ]
     },
     "metadata": {},
     "output_type": "display_data"
    },
    {
     "name": "stdout",
     "output_type": "stream",
     "text": [
      "Mean Absolute Percent Error: 0.0116\n",
      "Root Mean Squared Error: 0.37387541794493334\n"
     ]
    }
   ],
   "source": [
    "plot_data = pd.DataFrame({'datetime': test_data.index, 'test_data': test_data.values, 'predictions': predictions})\n",
    "# print(plot_data)\n",
    "fig_pred_test = px.line(plot_data, x='datetime', y=['test_data', 'predictions'], labels={'datetime': 'Datetime', 'value': 'Mean Temperature (°C)'}, title='Test Data and Predictions')\n",
    "fig_pred_test.update_xaxes(dtick='M1', tickangle=45)\n",
    "fig_pred_test.update_yaxes(dtick=0.5, tickangle=45)\n",
    "fig_pred_test.update_traces(hovertemplate='Datetime: %{x}<br>Mean Temperature: %{y}°C')\n",
    "fig_pred_test.show()\n",
    "\n",
    "print(f\"Mean Absolute Percent Error: {round(np.mean(abs(residuals/test_data)), 4)}\")\n",
    "print(f\"Root Mean Squared Error: {np.sqrt(np.mean(residuals**2))}\")"
   ]
  },
  {
   "cell_type": "markdown",
   "metadata": {},
   "source": [
    "##### ARIMA(12,0,8)(0,0,0)[0]:\n",
    "Mean Absolute Percent Error: 0.0116\n",
    "Root Mean Squared Error: 0.37387541794493334\n",
    "\n",
    "##### ARIMA(9,1,9)(0,0,0)[0]:\n",
    "Mean Absolute Percent Error: 0.0136\n",
    "Root Mean Squared Error: 0.45632291182559315\n",
    "\n",
    "The auto ARIMA chose the above 2 orders as the optimal orders, as I tried with different orders of _d_. Weirdly enough, the ARIMA without first differencing performed better than with first differencing. This shows that differencing is not always necessary or beneficial, or maybe the chosen _p_ and _q_ were not optimal."
   ]
  },
  {
   "cell_type": "markdown",
   "metadata": {},
   "source": [
    "##### Since ARIMA(12,0,8)(0,0,0)[0] did better here, let's try using RFO on ARIMA(12,0,8)(0,0,0)[0] to see if it improves the predictions."
   ]
  },
  {
   "cell_type": "code",
   "execution_count": 147,
   "metadata": {},
   "outputs": [
    {
     "name": "stderr",
     "output_type": "stream",
     "text": [
      "/Users/linustws/opt/anaconda3/envs/singapore-weather-prediction/lib/python3.9/site-packages/statsmodels/tsa/statespace/sarimax.py:966: UserWarning:\n",
      "\n",
      "Non-stationary starting autoregressive parameters found. Using zeros as starting parameters.\n",
      "\n",
      "/Users/linustws/opt/anaconda3/envs/singapore-weather-prediction/lib/python3.9/site-packages/statsmodels/base/model.py:607: ConvergenceWarning:\n",
      "\n",
      "Maximum Likelihood optimization failed to converge. Check mle_retvals\n",
      "\n",
      "/Users/linustws/opt/anaconda3/envs/singapore-weather-prediction/lib/python3.9/site-packages/statsmodels/tsa/statespace/sarimax.py:966: UserWarning:\n",
      "\n",
      "Non-stationary starting autoregressive parameters found. Using zeros as starting parameters.\n",
      "\n",
      "/Users/linustws/opt/anaconda3/envs/singapore-weather-prediction/lib/python3.9/site-packages/statsmodels/base/model.py:607: ConvergenceWarning:\n",
      "\n",
      "Maximum Likelihood optimization failed to converge. Check mle_retvals\n",
      "\n",
      "/Users/linustws/opt/anaconda3/envs/singapore-weather-prediction/lib/python3.9/site-packages/statsmodels/tsa/statespace/sarimax.py:966: UserWarning:\n",
      "\n",
      "Non-stationary starting autoregressive parameters found. Using zeros as starting parameters.\n",
      "\n",
      "/Users/linustws/opt/anaconda3/envs/singapore-weather-prediction/lib/python3.9/site-packages/statsmodels/base/model.py:607: ConvergenceWarning:\n",
      "\n",
      "Maximum Likelihood optimization failed to converge. Check mle_retvals\n",
      "\n",
      "/Users/linustws/opt/anaconda3/envs/singapore-weather-prediction/lib/python3.9/site-packages/statsmodels/base/model.py:607: ConvergenceWarning:\n",
      "\n",
      "Maximum Likelihood optimization failed to converge. Check mle_retvals\n",
      "\n",
      "/Users/linustws/opt/anaconda3/envs/singapore-weather-prediction/lib/python3.9/site-packages/statsmodels/base/model.py:607: ConvergenceWarning:\n",
      "\n",
      "Maximum Likelihood optimization failed to converge. Check mle_retvals\n",
      "\n",
      "/Users/linustws/opt/anaconda3/envs/singapore-weather-prediction/lib/python3.9/site-packages/statsmodels/base/model.py:607: ConvergenceWarning:\n",
      "\n",
      "Maximum Likelihood optimization failed to converge. Check mle_retvals\n",
      "\n",
      "/Users/linustws/opt/anaconda3/envs/singapore-weather-prediction/lib/python3.9/site-packages/statsmodels/tsa/statespace/sarimax.py:966: UserWarning:\n",
      "\n",
      "Non-stationary starting autoregressive parameters found. Using zeros as starting parameters.\n",
      "\n",
      "/Users/linustws/opt/anaconda3/envs/singapore-weather-prediction/lib/python3.9/site-packages/statsmodels/base/model.py:607: ConvergenceWarning:\n",
      "\n",
      "Maximum Likelihood optimization failed to converge. Check mle_retvals\n",
      "\n",
      "/Users/linustws/opt/anaconda3/envs/singapore-weather-prediction/lib/python3.9/site-packages/statsmodels/base/model.py:607: ConvergenceWarning:\n",
      "\n",
      "Maximum Likelihood optimization failed to converge. Check mle_retvals\n",
      "\n",
      "/Users/linustws/opt/anaconda3/envs/singapore-weather-prediction/lib/python3.9/site-packages/statsmodels/base/model.py:607: ConvergenceWarning:\n",
      "\n",
      "Maximum Likelihood optimization failed to converge. Check mle_retvals\n",
      "\n",
      "/Users/linustws/opt/anaconda3/envs/singapore-weather-prediction/lib/python3.9/site-packages/statsmodels/base/model.py:607: ConvergenceWarning:\n",
      "\n",
      "Maximum Likelihood optimization failed to converge. Check mle_retvals\n",
      "\n",
      "/Users/linustws/opt/anaconda3/envs/singapore-weather-prediction/lib/python3.9/site-packages/statsmodels/base/model.py:607: ConvergenceWarning:\n",
      "\n",
      "Maximum Likelihood optimization failed to converge. Check mle_retvals\n",
      "\n",
      "/Users/linustws/opt/anaconda3/envs/singapore-weather-prediction/lib/python3.9/site-packages/statsmodels/base/model.py:607: ConvergenceWarning:\n",
      "\n",
      "Maximum Likelihood optimization failed to converge. Check mle_retvals\n",
      "\n"
     ]
    },
    {
     "name": "stdout",
     "output_type": "stream",
     "text": [
      "Model Fitting Time: 36.39222598075867\n"
     ]
    },
    {
     "data": {
      "text/html": [
       "<iframe\n",
       "    scrolling=\"no\"\n",
       "    width=\"100%\"\n",
       "    height=\"545px\"\n",
       "    src=\"iframe_figures/figure_147.html\"\n",
       "    frameborder=\"0\"\n",
       "    allowfullscreen\n",
       "></iframe>\n"
      ]
     },
     "metadata": {},
     "output_type": "display_data"
    }
   ],
   "source": [
    "# create the model\n",
    "predictions_rolling = pd.Series(dtype='float64')\n",
    "start = time()\n",
    "for end_date in test_data.index:\n",
    "    train_data = series_monthly_mean_temp[:end_date - timedelta(days=1)]\n",
    "    model = ARIMA(train_data, order=(12, 0, 8))\n",
    "    model_fit = model.fit()\n",
    "    pred = model_fit.predict(end_date)\n",
    "    predictions_rolling.loc[end_date] = pred.loc[end_date]\n",
    "end = time()\n",
    "print(f\"Model Fitting Time: {end - start}\")\n",
    "residuals_rolling = test_data - predictions_rolling\n",
    "\n",
    "# print(residuals_rolling)\n",
    "\n",
    "# Plot residuals\n",
    "fig_resid_rolling = px.line(residuals_rolling, labels={residuals_rolling.index.name: 'Datetime', 'value': 'Error'}, title='Residuals from auto ARIMA Model (Rolling Window)')\n",
    "fig_resid_rolling.update_xaxes(dtick='M1', tickangle=45)\n",
    "fig_resid_rolling.update_yaxes(dtick=0.5, tickangle=45)\n",
    "fig_resid_rolling.update_traces(name='error', hovertemplate='Datetime: %{x}<br>Error: %{y}')\n",
    "\n",
    "# add the mean line\n",
    "mean_error_rolling = np.mean(residuals_rolling)\n",
    "fig_resid_rolling.add_shape(\n",
    "    type=\"line\",\n",
    "    x0=residuals_rolling.index[0],\n",
    "    y0=mean_error_rolling,\n",
    "    x1=residuals_rolling.index[-1],\n",
    "    y1=mean_error_rolling,\n",
    "    line=dict(color=\"red\", dash=\"dot\"),\n",
    ")\n",
    "fig_resid_rolling.show()"
   ]
  },
  {
   "cell_type": "code",
   "execution_count": 148,
   "metadata": {},
   "outputs": [
    {
     "data": {
      "text/html": [
       "<iframe\n",
       "    scrolling=\"no\"\n",
       "    width=\"100%\"\n",
       "    height=\"545px\"\n",
       "    src=\"iframe_figures/figure_148.html\"\n",
       "    frameborder=\"0\"\n",
       "    allowfullscreen\n",
       "></iframe>\n"
      ]
     },
     "metadata": {},
     "output_type": "display_data"
    },
    {
     "name": "stdout",
     "output_type": "stream",
     "text": [
      "Mean Absolute Percent Error: 0.0114\n",
      "Root Mean Squared Error: 0.40277785698754665\n"
     ]
    }
   ],
   "source": [
    "plot_data_rolling = pd.DataFrame({'datetime': test_data.index, 'test_data': test_data.values, 'predictions': predictions_rolling})\n",
    "# print(plot_data)\n",
    "fig_pred_test_rolling = px.line(plot_data_rolling, x='datetime', y=['test_data', 'predictions'], labels={'datetime': 'Datetime', 'value': 'Mean Temperature (°C)'}, title='Test Data and Predictions (Rolling Window)')\n",
    "fig_pred_test_rolling.update_xaxes(dtick='M1', tickangle=45)\n",
    "fig_pred_test_rolling.update_yaxes(dtick=0.5, tickangle=45)\n",
    "fig_pred_test_rolling.update_traces(hovertemplate='Datetime: %{x}<br>Mean Temperature: %{y}°C')\n",
    "fig_pred_test_rolling.show()\n",
    "\n",
    "print(f\"Mean Absolute Percent Error: {round(np.mean(abs(residuals_rolling/test_data)), 4)}\")\n",
    "print(f\"Root Mean Squared Error: {np.sqrt(np.mean(residuals_rolling**2))}\")"
   ]
  },
  {
   "cell_type": "markdown",
   "metadata": {},
   "source": [
    "##### Seems like with RFO, the predictions are worse than without RFO (RMSE=0.37388). Initially I thought that RFO would always perform better but I noticed that this is not always the case, especially in this scenario, when the test data is limited to 1 year, as compared to the initial 70:30 split with test data consisting of 12 years. Perhaps there is a correlation between the sample size and the variability of the data. With a smaller test set (with the 39:1 split), the evaluation of the model's performance becomes more sensitive to individual data points, which can lead to more variability in the results. On the other hand, despite its RMSE being higher, the RFO version's graph has a shape closer to the test data, compared to the non-RFO version."
   ]
  },
  {
   "cell_type": "markdown",
   "metadata": {},
   "source": [
    "#### Auto SARIMA"
   ]
  },
  {
   "cell_type": "code",
   "execution_count": 158,
   "metadata": {},
   "outputs": [
    {
     "name": "stdout",
     "output_type": "stream",
     "text": [
      " ARIMA(0,1,0)(0,0,0)[12] intercept   : AIC=913.330, Time=0.03 sec\n",
      " ARIMA(0,1,0)(0,0,1)[12] intercept   : AIC=851.187, Time=0.12 sec\n",
      " ARIMA(0,1,0)(1,0,0)[12] intercept   : AIC=827.111, Time=0.10 sec\n",
      " ARIMA(0,1,0)(1,0,1)[12] intercept   : AIC=inf, Time=0.48 sec\n",
      " ARIMA(0,1,1)(0,0,0)[12] intercept   : AIC=914.480, Time=0.04 sec\n",
      " ARIMA(0,1,1)(0,0,1)[12] intercept   : AIC=840.119, Time=0.18 sec\n",
      " ARIMA(0,1,1)(1,0,0)[12] intercept   : AIC=787.031, Time=0.16 sec\n",
      " ARIMA(0,1,1)(1,0,1)[12] intercept   : AIC=inf, Time=1.19 sec\n",
      " ARIMA(0,1,2)(0,0,0)[12] intercept   : AIC=914.540, Time=0.09 sec\n",
      " ARIMA(0,1,2)(0,0,1)[12] intercept   : AIC=842.027, Time=0.32 sec\n",
      " ARIMA(0,1,2)(1,0,0)[12] intercept   : AIC=783.875, Time=0.38 sec\n",
      " ARIMA(0,1,2)(1,0,1)[12] intercept   : AIC=inf, Time=2.50 sec\n",
      " ARIMA(0,1,3)(0,0,0)[12] intercept   : AIC=inf, Time=0.97 sec\n",
      " ARIMA(0,1,3)(0,0,1)[12] intercept   : AIC=inf, Time=2.18 sec\n",
      " ARIMA(0,1,3)(1,0,0)[12] intercept   : AIC=inf, Time=0.94 sec\n",
      " ARIMA(0,1,3)(1,0,1)[12] intercept   : AIC=inf, Time=2.61 sec\n",
      " ARIMA(0,1,4)(0,0,0)[12] intercept   : AIC=inf, Time=1.04 sec\n",
      " ARIMA(0,1,4)(0,0,1)[12] intercept   : AIC=inf, Time=1.87 sec\n",
      " ARIMA(0,1,4)(1,0,0)[12] intercept   : AIC=inf, Time=1.36 sec\n",
      " ARIMA(0,1,4)(1,0,1)[12] intercept   : AIC=inf, Time=3.48 sec\n",
      " ARIMA(0,1,5)(0,0,0)[12] intercept   : AIC=inf, Time=0.52 sec\n",
      " ARIMA(0,1,5)(0,0,1)[12] intercept   : AIC=745.118, Time=2.09 sec\n",
      " ARIMA(0,1,5)(1,0,0)[12] intercept   : AIC=inf, Time=1.26 sec\n",
      " ARIMA(0,1,5)(1,0,1)[12] intercept   : AIC=621.531, Time=2.15 sec\n",
      " ARIMA(0,1,6)(0,0,0)[12] intercept   : AIC=inf, Time=0.75 sec\n",
      " ARIMA(0,1,6)(0,0,1)[12] intercept   : AIC=inf, Time=2.17 sec\n",
      " ARIMA(0,1,6)(1,0,0)[12] intercept   : AIC=inf, Time=1.26 sec\n",
      " ARIMA(0,1,6)(1,0,1)[12] intercept   : AIC=620.483, Time=3.20 sec\n",
      " ARIMA(0,1,7)(0,0,0)[12] intercept   : AIC=inf, Time=0.96 sec\n",
      " ARIMA(0,1,7)(0,0,1)[12] intercept   : AIC=inf, Time=2.53 sec\n",
      " ARIMA(0,1,7)(1,0,0)[12] intercept   : AIC=inf, Time=1.11 sec\n",
      " ARIMA(0,1,7)(1,0,1)[12] intercept   : AIC=637.966, Time=2.50 sec\n",
      " ARIMA(0,1,8)(0,0,0)[12] intercept   : AIC=inf, Time=0.88 sec\n",
      " ARIMA(0,1,8)(0,0,1)[12] intercept   : AIC=inf, Time=2.51 sec\n",
      " ARIMA(0,1,8)(1,0,0)[12] intercept   : AIC=inf, Time=1.19 sec\n",
      " ARIMA(0,1,8)(1,0,1)[12] intercept   : AIC=641.732, Time=2.75 sec\n",
      " ARIMA(0,1,9)(0,0,0)[12] intercept   : AIC=inf, Time=1.22 sec\n",
      " ARIMA(0,1,9)(0,0,1)[12] intercept   : AIC=inf, Time=3.03 sec\n",
      " ARIMA(0,1,9)(1,0,0)[12] intercept   : AIC=inf, Time=1.38 sec\n",
      " ARIMA(0,1,9)(1,0,1)[12] intercept   : AIC=621.069, Time=3.41 sec\n",
      " ARIMA(0,1,10)(0,0,0)[12] intercept   : AIC=790.067, Time=1.13 sec\n",
      " ARIMA(0,1,10)(0,0,1)[12] intercept   : AIC=745.570, Time=3.08 sec\n",
      " ARIMA(0,1,10)(1,0,0)[12] intercept   : AIC=722.375, Time=1.89 sec\n",
      " ARIMA(0,1,10)(1,0,1)[12] intercept   : AIC=inf, Time=3.62 sec\n",
      " ARIMA(0,1,11)(0,0,0)[12] intercept   : AIC=791.484, Time=1.75 sec\n",
      " ARIMA(0,1,11)(0,0,1)[12] intercept   : AIC=inf, Time=3.79 sec\n",
      " ARIMA(0,1,11)(1,0,0)[12] intercept   : AIC=inf, Time=1.59 sec\n",
      " ARIMA(0,1,11)(1,0,1)[12] intercept   : AIC=645.897, Time=4.12 sec\n",
      " ARIMA(1,1,0)(0,0,0)[12] intercept   : AIC=914.383, Time=0.04 sec\n",
      " ARIMA(1,1,0)(0,0,1)[12] intercept   : AIC=839.475, Time=0.14 sec\n",
      " ARIMA(1,1,0)(1,0,0)[12] intercept   : AIC=792.132, Time=0.16 sec\n",
      " ARIMA(1,1,0)(1,0,1)[12] intercept   : AIC=inf, Time=0.72 sec\n",
      " ARIMA(1,1,1)(0,0,0)[12] intercept   : AIC=911.145, Time=0.14 sec\n",
      " ARIMA(1,1,1)(0,0,1)[12] intercept   : AIC=840.203, Time=0.33 sec\n",
      " ARIMA(1,1,1)(1,0,0)[12] intercept   : AIC=inf, Time=0.64 sec\n",
      " ARIMA(1,1,1)(1,0,1)[12] intercept   : AIC=inf, Time=1.22 sec\n",
      " ARIMA(1,1,2)(0,0,0)[12] intercept   : AIC=inf, Time=0.35 sec\n",
      " ARIMA(1,1,2)(0,0,1)[12] intercept   : AIC=inf, Time=0.90 sec\n",
      " ARIMA(1,1,2)(1,0,0)[12] intercept   : AIC=729.216, Time=0.75 sec\n",
      " ARIMA(1,1,2)(1,0,1)[12] intercept   : AIC=inf, Time=1.28 sec\n",
      " ARIMA(1,1,3)(0,0,0)[12] intercept   : AIC=inf, Time=0.44 sec\n",
      " ARIMA(1,1,3)(0,0,1)[12] intercept   : AIC=inf, Time=1.25 sec\n",
      " ARIMA(1,1,3)(1,0,0)[12] intercept   : AIC=inf, Time=1.02 sec\n",
      " ARIMA(1,1,3)(1,0,1)[12] intercept   : AIC=inf, Time=1.34 sec\n",
      " ARIMA(1,1,4)(0,0,0)[12] intercept   : AIC=inf, Time=0.61 sec\n",
      " ARIMA(1,1,4)(0,0,1)[12] intercept   : AIC=inf, Time=1.37 sec\n",
      " ARIMA(1,1,4)(1,0,0)[12] intercept   : AIC=inf, Time=1.10 sec\n",
      " ARIMA(1,1,4)(1,0,1)[12] intercept   : AIC=inf, Time=1.95 sec\n",
      " ARIMA(1,1,5)(0,0,0)[12] intercept   : AIC=inf, Time=0.71 sec\n",
      " ARIMA(1,1,5)(0,0,1)[12] intercept   : AIC=inf, Time=1.70 sec\n",
      " ARIMA(1,1,5)(1,0,0)[12] intercept   : AIC=inf, Time=1.16 sec\n",
      " ARIMA(1,1,5)(1,0,1)[12] intercept   : AIC=inf, Time=2.01 sec\n",
      " ARIMA(1,1,6)(0,0,0)[12] intercept   : AIC=809.432, Time=0.72 sec\n",
      " ARIMA(1,1,6)(0,0,1)[12] intercept   : AIC=746.983, Time=2.00 sec\n",
      " ARIMA(1,1,6)(1,0,0)[12] intercept   : AIC=inf, Time=1.25 sec\n",
      " ARIMA(1,1,6)(1,0,1)[12] intercept   : AIC=655.406, Time=2.00 sec\n",
      " ARIMA(1,1,7)(0,0,0)[12] intercept   : AIC=794.442, Time=0.91 sec\n",
      " ARIMA(1,1,7)(0,0,1)[12] intercept   : AIC=741.578, Time=2.63 sec\n",
      " ARIMA(1,1,7)(1,0,0)[12] intercept   : AIC=inf, Time=1.51 sec\n",
      " ARIMA(1,1,7)(1,0,1)[12] intercept   : AIC=inf, Time=2.80 sec\n",
      " ARIMA(1,1,8)(0,0,0)[12] intercept   : AIC=inf, Time=0.62 sec\n",
      " ARIMA(1,1,8)(0,0,1)[12] intercept   : AIC=inf, Time=1.64 sec\n",
      " ARIMA(1,1,8)(1,0,0)[12] intercept   : AIC=inf, Time=0.91 sec\n",
      " ARIMA(1,1,8)(1,0,1)[12] intercept   : AIC=inf, Time=3.02 sec\n",
      " ARIMA(1,1,9)(0,0,0)[12] intercept   : AIC=792.204, Time=1.29 sec\n",
      " ARIMA(1,1,9)(0,0,1)[12] intercept   : AIC=inf, Time=4.15 sec\n",
      " ARIMA(1,1,9)(1,0,0)[12] intercept   : AIC=inf, Time=1.72 sec\n",
      " ARIMA(1,1,9)(1,0,1)[12] intercept   : AIC=662.790, Time=4.03 sec\n",
      " ARIMA(1,1,10)(0,0,0)[12] intercept   : AIC=792.736, Time=1.36 sec\n",
      " ARIMA(1,1,10)(0,0,1)[12] intercept   : AIC=inf, Time=3.40 sec\n",
      " ARIMA(1,1,10)(1,0,0)[12] intercept   : AIC=inf, Time=1.91 sec\n",
      " ARIMA(1,1,10)(1,0,1)[12] intercept   : AIC=inf, Time=4.02 sec\n",
      " ARIMA(1,1,11)(0,0,0)[12] intercept   : AIC=797.779, Time=1.51 sec\n",
      " ARIMA(1,1,11)(0,0,1)[12] intercept   : AIC=750.148, Time=4.41 sec\n",
      " ARIMA(1,1,11)(1,0,0)[12] intercept   : AIC=725.236, Time=2.04 sec\n",
      " ARIMA(1,1,11)(1,0,1)[12] intercept   : AIC=inf, Time=4.92 sec\n",
      " ARIMA(2,1,0)(0,0,0)[12] intercept   : AIC=914.550, Time=0.06 sec\n",
      " ARIMA(2,1,0)(0,0,1)[12] intercept   : AIC=841.032, Time=0.21 sec\n",
      " ARIMA(2,1,0)(1,0,0)[12] intercept   : AIC=792.866, Time=0.29 sec\n",
      " ARIMA(2,1,0)(1,0,1)[12] intercept   : AIC=inf, Time=0.98 sec\n",
      " ARIMA(2,1,1)(0,0,0)[12] intercept   : AIC=913.915, Time=0.19 sec\n",
      " ARIMA(2,1,1)(0,0,1)[12] intercept   : AIC=841.986, Time=0.67 sec\n",
      " ARIMA(2,1,1)(1,0,0)[12] intercept   : AIC=inf, Time=1.36 sec\n",
      " ARIMA(2,1,1)(1,0,1)[12] intercept   : AIC=inf, Time=2.61 sec\n",
      " ARIMA(2,1,2)(0,0,0)[12] intercept   : AIC=915.619, Time=0.46 sec\n",
      " ARIMA(2,1,2)(0,0,1)[12] intercept   : AIC=inf, Time=1.33 sec\n",
      " ARIMA(2,1,2)(1,0,0)[12] intercept   : AIC=inf, Time=1.19 sec\n",
      " ARIMA(2,1,2)(1,0,1)[12] intercept   : AIC=inf, Time=2.62 sec\n",
      " ARIMA(2,1,3)(0,0,0)[12] intercept   : AIC=inf, Time=0.66 sec\n",
      " ARIMA(2,1,3)(0,0,1)[12] intercept   : AIC=765.741, Time=1.37 sec\n",
      " ARIMA(2,1,3)(1,0,0)[12] intercept   : AIC=inf, Time=1.40 sec\n",
      " ARIMA(2,1,3)(1,0,1)[12] intercept   : AIC=inf, Time=1.58 sec\n",
      " ARIMA(2,1,4)(0,0,0)[12] intercept   : AIC=inf, Time=0.67 sec\n",
      " ARIMA(2,1,4)(0,0,1)[12] intercept   : AIC=inf, Time=1.56 sec\n",
      " ARIMA(2,1,4)(1,0,0)[12] intercept   : AIC=inf, Time=1.32 sec\n",
      " ARIMA(2,1,4)(1,0,1)[12] intercept   : AIC=inf, Time=1.87 sec\n",
      " ARIMA(2,1,5)(0,0,0)[12] intercept   : AIC=inf, Time=0.70 sec\n",
      " ARIMA(2,1,5)(0,0,1)[12] intercept   : AIC=745.141, Time=1.81 sec\n",
      " ARIMA(2,1,5)(1,0,0)[12] intercept   : AIC=723.429, Time=1.32 sec\n",
      " ARIMA(2,1,5)(1,0,1)[12] intercept   : AIC=655.886, Time=2.39 sec\n",
      " ARIMA(2,1,6)(0,0,0)[12] intercept   : AIC=796.767, Time=0.79 sec\n",
      " ARIMA(2,1,6)(0,0,1)[12] intercept   : AIC=inf, Time=2.16 sec\n",
      " ARIMA(2,1,6)(1,0,0)[12] intercept   : AIC=inf, Time=2.55 sec\n",
      " ARIMA(2,1,6)(1,0,1)[12] intercept   : AIC=inf, Time=3.17 sec\n",
      " ARIMA(2,1,7)(0,0,0)[12] intercept   : AIC=791.479, Time=1.19 sec\n",
      " ARIMA(2,1,7)(0,0,1)[12] intercept   : AIC=inf, Time=2.73 sec\n",
      " ARIMA(2,1,7)(1,0,0)[12] intercept   : AIC=inf, Time=1.62 sec\n",
      " ARIMA(2,1,7)(1,0,1)[12] intercept   : AIC=inf, Time=3.63 sec\n",
      " ARIMA(2,1,8)(0,0,0)[12] intercept   : AIC=inf, Time=1.12 sec\n",
      " ARIMA(2,1,8)(0,0,1)[12] intercept   : AIC=inf, Time=3.09 sec\n",
      " ARIMA(2,1,8)(1,0,0)[12] intercept   : AIC=inf, Time=2.92 sec\n",
      " ARIMA(2,1,8)(1,0,1)[12] intercept   : AIC=inf, Time=3.40 sec\n",
      " ARIMA(2,1,9)(0,0,0)[12] intercept   : AIC=801.402, Time=1.60 sec\n",
      " ARIMA(2,1,9)(0,0,1)[12] intercept   : AIC=inf, Time=3.94 sec\n",
      " ARIMA(2,1,9)(1,0,0)[12] intercept   : AIC=inf, Time=2.04 sec\n",
      " ARIMA(2,1,9)(1,0,1)[12] intercept   : AIC=inf, Time=4.34 sec\n",
      " ARIMA(2,1,10)(0,0,0)[12] intercept   : AIC=inf, Time=1.88 sec\n",
      " ARIMA(2,1,10)(0,0,1)[12] intercept   : AIC=inf, Time=4.61 sec\n",
      " ARIMA(2,1,10)(1,0,0)[12] intercept   : AIC=inf, Time=2.41 sec\n",
      " ARIMA(2,1,10)(1,0,1)[12] intercept   : AIC=inf, Time=4.88 sec\n",
      " ARIMA(2,1,11)(0,0,0)[12] intercept   : AIC=762.627, Time=1.84 sec\n",
      " ARIMA(2,1,11)(0,0,1)[12] intercept   : AIC=739.456, Time=5.39 sec\n",
      " ARIMA(2,1,11)(1,0,0)[12] intercept   : AIC=inf, Time=2.62 sec\n",
      " ARIMA(2,1,11)(1,0,1)[12] intercept   : AIC=inf, Time=4.93 sec\n",
      " ARIMA(3,1,0)(0,0,0)[12] intercept   : AIC=908.391, Time=0.09 sec\n",
      " ARIMA(3,1,0)(0,0,1)[12] intercept   : AIC=838.115, Time=0.21 sec\n",
      " ARIMA(3,1,0)(1,0,0)[12] intercept   : AIC=791.124, Time=0.49 sec\n",
      " ARIMA(3,1,0)(1,0,1)[12] intercept   : AIC=inf, Time=1.24 sec\n",
      " ARIMA(3,1,1)(0,0,0)[12] intercept   : AIC=inf, Time=0.52 sec\n",
      " ARIMA(3,1,1)(0,0,1)[12] intercept   : AIC=inf, Time=1.16 sec\n",
      " ARIMA(3,1,1)(1,0,0)[12] intercept   : AIC=inf, Time=1.10 sec\n",
      " ARIMA(3,1,1)(1,0,1)[12] intercept   : AIC=inf, Time=1.15 sec\n",
      " ARIMA(3,1,2)(0,0,0)[12] intercept   : AIC=805.415, Time=0.53 sec\n",
      " ARIMA(3,1,2)(0,0,1)[12] intercept   : AIC=inf, Time=1.35 sec\n",
      " ARIMA(3,1,2)(1,0,0)[12] intercept   : AIC=inf, Time=1.33 sec\n",
      " ARIMA(3,1,2)(1,0,1)[12] intercept   : AIC=620.834, Time=1.58 sec\n",
      " ARIMA(3,1,3)(0,0,0)[12] intercept   : AIC=inf, Time=0.75 sec\n",
      " ARIMA(3,1,3)(0,0,1)[12] intercept   : AIC=inf, Time=1.45 sec\n",
      " ARIMA(3,1,3)(1,0,0)[12] intercept   : AIC=inf, Time=2.10 sec\n",
      " ARIMA(3,1,3)(1,0,1)[12] intercept   : AIC=inf, Time=3.25 sec\n",
      " ARIMA(3,1,4)(0,0,0)[12] intercept   : AIC=inf, Time=0.65 sec\n",
      " ARIMA(3,1,4)(0,0,1)[12] intercept   : AIC=inf, Time=3.03 sec\n",
      " ARIMA(3,1,4)(1,0,0)[12] intercept   : AIC=inf, Time=3.37 sec\n",
      " ARIMA(3,1,4)(1,0,1)[12] intercept   : AIC=inf, Time=3.56 sec\n",
      " ARIMA(3,1,5)(0,0,0)[12] intercept   : AIC=684.351, Time=1.57 sec\n",
      " ARIMA(3,1,5)(0,0,1)[12] intercept   : AIC=inf, Time=3.74 sec\n",
      " ARIMA(3,1,5)(1,0,0)[12] intercept   : AIC=683.616, Time=4.91 sec\n",
      " ARIMA(3,1,5)(1,0,1)[12] intercept   : AIC=inf, Time=9.13 sec\n",
      " ARIMA(3,1,6)(0,0,0)[12] intercept   : AIC=inf, Time=4.53 sec\n",
      " ARIMA(3,1,6)(0,0,1)[12] intercept   : AIC=inf, Time=6.87 sec\n",
      " ARIMA(3,1,6)(1,0,0)[12] intercept   : AIC=inf, Time=3.33 sec\n",
      " ARIMA(3,1,6)(1,0,1)[12] intercept   : AIC=648.558, Time=2.70 sec\n",
      " ARIMA(3,1,7)(0,0,0)[12] intercept   : AIC=792.975, Time=0.94 sec\n",
      " ARIMA(3,1,7)(0,0,1)[12] intercept   : AIC=inf, Time=3.01 sec\n",
      " ARIMA(3,1,7)(1,0,0)[12] intercept   : AIC=inf, Time=1.62 sec\n"
     ]
    },
    {
     "name": "stderr",
     "output_type": "stream",
     "text": [
      "/Users/linustws/opt/anaconda3/envs/singapore-weather-prediction/lib/python3.9/site-packages/pmdarima/arima/_auto_solvers.py:524: ModelFitWarning:\n",
      "\n",
      "Error fitting  ARIMA(3,1,7)(1,0,1)[12] intercept (if you do not want to see these warnings, run with error_action=\"ignore\").\n",
      "Traceback:\n",
      "Traceback (most recent call last):\n",
      "  File \"/Users/linustws/opt/anaconda3/envs/singapore-weather-prediction/lib/python3.9/site-packages/pmdarima/arima/_auto_solvers.py\", line 508, in _fit_candidate_model\n",
      "    fit.fit(y, X=X, **fit_params)\n",
      "  File \"/Users/linustws/opt/anaconda3/envs/singapore-weather-prediction/lib/python3.9/site-packages/pmdarima/arima/arima.py\", line 603, in fit\n",
      "    self._fit(y, X, **fit_args)\n",
      "  File \"/Users/linustws/opt/anaconda3/envs/singapore-weather-prediction/lib/python3.9/site-packages/pmdarima/arima/arima.py\", line 524, in _fit\n",
      "    fit, self.arima_res_ = _fit_wrapper()\n",
      "  File \"/Users/linustws/opt/anaconda3/envs/singapore-weather-prediction/lib/python3.9/site-packages/pmdarima/arima/arima.py\", line 510, in _fit_wrapper\n",
      "    fitted = arima.fit(\n",
      "  File \"/Users/linustws/opt/anaconda3/envs/singapore-weather-prediction/lib/python3.9/site-packages/statsmodels/tsa/statespace/mlemodel.py\", line 704, in fit\n",
      "    mlefit = super(MLEModel, self).fit(start_params, method=method,\n",
      "  File \"/Users/linustws/opt/anaconda3/envs/singapore-weather-prediction/lib/python3.9/site-packages/statsmodels/base/model.py\", line 566, in fit\n",
      "    xopt, retvals, optim_settings = optimizer._fit(f, score, start_params,\n",
      "  File \"/Users/linustws/opt/anaconda3/envs/singapore-weather-prediction/lib/python3.9/site-packages/statsmodels/base/optimizer.py\", line 242, in _fit\n",
      "    xopt, retvals = func(objective, gradient, start_params, fargs, kwargs,\n",
      "  File \"/Users/linustws/opt/anaconda3/envs/singapore-weather-prediction/lib/python3.9/site-packages/statsmodels/base/optimizer.py\", line 659, in _fit_lbfgs\n",
      "    retvals = optimize.fmin_l_bfgs_b(func, start_params, maxiter=maxiter,\n",
      "  File \"/Users/linustws/opt/anaconda3/envs/singapore-weather-prediction/lib/python3.9/site-packages/scipy/optimize/_lbfgsb_py.py\", line 197, in fmin_l_bfgs_b\n",
      "    res = _minimize_lbfgsb(fun, x0, args=args, jac=jac, bounds=bounds,\n",
      "  File \"/Users/linustws/opt/anaconda3/envs/singapore-weather-prediction/lib/python3.9/site-packages/scipy/optimize/_lbfgsb_py.py\", line 359, in _minimize_lbfgsb\n",
      "    f, g = func_and_grad(x)\n",
      "  File \"/Users/linustws/opt/anaconda3/envs/singapore-weather-prediction/lib/python3.9/site-packages/scipy/optimize/_differentiable_functions.py\", line 286, in fun_and_grad\n",
      "    self._update_grad()\n",
      "  File \"/Users/linustws/opt/anaconda3/envs/singapore-weather-prediction/lib/python3.9/site-packages/scipy/optimize/_differentiable_functions.py\", line 256, in _update_grad\n",
      "    self._update_grad_impl()\n",
      "  File \"/Users/linustws/opt/anaconda3/envs/singapore-weather-prediction/lib/python3.9/site-packages/scipy/optimize/_differentiable_functions.py\", line 173, in update_grad\n",
      "    self.g = approx_derivative(fun_wrapped, self.x, f0=self.f,\n",
      "  File \"/Users/linustws/opt/anaconda3/envs/singapore-weather-prediction/lib/python3.9/site-packages/scipy/optimize/_numdiff.py\", line 505, in approx_derivative\n",
      "    return _dense_difference(fun_wrapped, x0, f0, h,\n",
      "  File \"/Users/linustws/opt/anaconda3/envs/singapore-weather-prediction/lib/python3.9/site-packages/scipy/optimize/_numdiff.py\", line 576, in _dense_difference\n",
      "    df = fun(x) - f0\n",
      "  File \"/Users/linustws/opt/anaconda3/envs/singapore-weather-prediction/lib/python3.9/site-packages/scipy/optimize/_numdiff.py\", line 456, in fun_wrapped\n",
      "    f = np.atleast_1d(fun(x, *args, **kwargs))\n",
      "  File \"/Users/linustws/opt/anaconda3/envs/singapore-weather-prediction/lib/python3.9/site-packages/scipy/optimize/_differentiable_functions.py\", line 137, in fun_wrapped\n",
      "    fx = fun(np.copy(x), *args)\n",
      "  File \"/Users/linustws/opt/anaconda3/envs/singapore-weather-prediction/lib/python3.9/site-packages/statsmodels/base/model.py\", line 534, in f\n",
      "    return -self.loglike(params, *args) / nobs\n",
      "  File \"/Users/linustws/opt/anaconda3/envs/singapore-weather-prediction/lib/python3.9/site-packages/statsmodels/tsa/statespace/mlemodel.py\", line 939, in loglike\n",
      "    loglike = self.ssm.loglike(complex_step=complex_step, **kwargs)\n",
      "  File \"/Users/linustws/opt/anaconda3/envs/singapore-weather-prediction/lib/python3.9/site-packages/statsmodels/tsa/statespace/kalman_filter.py\", line 1001, in loglike\n",
      "    kfilter = self._filter(**kwargs)\n",
      "  File \"/Users/linustws/opt/anaconda3/envs/singapore-weather-prediction/lib/python3.9/site-packages/statsmodels/tsa/statespace/kalman_filter.py\", line 921, in _filter\n",
      "    self._initialize_state(prefix=prefix, complex_step=complex_step)\n",
      "  File \"/Users/linustws/opt/anaconda3/envs/singapore-weather-prediction/lib/python3.9/site-packages/statsmodels/tsa/statespace/representation.py\", line 1058, in _initialize_state\n",
      "    self._statespaces[prefix].initialize(self.initialization,\n",
      "  File \"statsmodels/tsa/statespace/_representation.pyx\", line 1373, in statsmodels.tsa.statespace._representation.dStatespace.initialize\n",
      "  File \"statsmodels/tsa/statespace/_representation.pyx\", line 1362, in statsmodels.tsa.statespace._representation.dStatespace.initialize\n",
      "  File \"statsmodels/tsa/statespace/_initialization.pyx\", line 288, in statsmodels.tsa.statespace._initialization.dInitialization.initialize\n",
      "  File \"statsmodels/tsa/statespace/_initialization.pyx\", line 406, in statsmodels.tsa.statespace._initialization.dInitialization.initialize_stationary_stationary_cov\n",
      "  File \"statsmodels/tsa/statespace/_tools.pyx\", line 1525, in statsmodels.tsa.statespace._tools._dsolve_discrete_lyapunov\n",
      "numpy.linalg.LinAlgError: LU decomposition error.\n",
      "\n",
      "\n"
     ]
    },
    {
     "name": "stdout",
     "output_type": "stream",
     "text": [
      " ARIMA(3,1,7)(1,0,1)[12] intercept   : AIC=inf, Time=nan sec\n",
      " ARIMA(3,1,8)(0,0,0)[12] intercept   : AIC=794.679, Time=1.96 sec\n",
      " ARIMA(3,1,8)(0,0,1)[12] intercept   : AIC=inf, Time=4.32 sec\n",
      " ARIMA(3,1,8)(1,0,0)[12] intercept   : AIC=inf, Time=2.53 sec\n",
      " ARIMA(3,1,8)(1,0,1)[12] intercept   : AIC=inf, Time=5.11 sec\n",
      " ARIMA(3,1,9)(0,0,0)[12] intercept   : AIC=748.471, Time=1.61 sec\n",
      " ARIMA(3,1,9)(0,0,1)[12] intercept   : AIC=inf, Time=4.32 sec\n",
      " ARIMA(3,1,9)(1,0,0)[12] intercept   : AIC=inf, Time=2.98 sec\n",
      " ARIMA(3,1,9)(1,0,1)[12] intercept   : AIC=inf, Time=4.81 sec\n",
      " ARIMA(3,1,10)(0,0,0)[12] intercept   : AIC=763.290, Time=1.90 sec\n",
      " ARIMA(3,1,10)(0,0,1)[12] intercept   : AIC=749.514, Time=5.39 sec\n",
      " ARIMA(3,1,10)(1,0,0)[12] intercept   : AIC=732.901, Time=2.21 sec\n",
      " ARIMA(3,1,10)(1,0,1)[12] intercept   : AIC=692.967, Time=7.33 sec\n",
      " ARIMA(3,1,11)(0,0,0)[12] intercept   : AIC=760.981, Time=2.35 sec\n",
      " ARIMA(3,1,11)(0,0,1)[12] intercept   : AIC=725.232, Time=6.24 sec\n",
      " ARIMA(3,1,11)(1,0,0)[12] intercept   : AIC=716.822, Time=3.04 sec\n",
      " ARIMA(3,1,11)(1,0,1)[12] intercept   : AIC=inf, Time=9.89 sec\n",
      " ARIMA(4,1,0)(0,0,0)[12] intercept   : AIC=901.225, Time=0.10 sec\n",
      " ARIMA(4,1,0)(0,0,1)[12] intercept   : AIC=831.554, Time=0.24 sec\n",
      " ARIMA(4,1,0)(1,0,0)[12] intercept   : AIC=786.667, Time=0.38 sec\n",
      " ARIMA(4,1,0)(1,0,1)[12] intercept   : AIC=inf, Time=2.67 sec\n",
      " ARIMA(4,1,1)(0,0,0)[12] intercept   : AIC=inf, Time=0.61 sec\n",
      " ARIMA(4,1,1)(0,0,1)[12] intercept   : AIC=inf, Time=1.48 sec\n",
      " ARIMA(4,1,1)(1,0,0)[12] intercept   : AIC=718.175, Time=2.39 sec\n",
      " ARIMA(4,1,1)(1,0,1)[12] intercept   : AIC=inf, Time=2.07 sec\n",
      " ARIMA(4,1,2)(0,0,0)[12] intercept   : AIC=inf, Time=0.84 sec\n",
      " ARIMA(4,1,2)(0,0,1)[12] intercept   : AIC=inf, Time=2.07 sec\n",
      " ARIMA(4,1,2)(1,0,0)[12] intercept   : AIC=inf, Time=2.26 sec\n",
      " ARIMA(4,1,2)(1,0,1)[12] intercept   : AIC=inf, Time=2.31 sec\n",
      " ARIMA(4,1,3)(0,0,0)[12] intercept   : AIC=inf, Time=1.28 sec\n",
      " ARIMA(4,1,3)(0,0,1)[12] intercept   : AIC=inf, Time=1.73 sec\n",
      " ARIMA(4,1,3)(1,0,0)[12] intercept   : AIC=inf, Time=2.26 sec\n",
      " ARIMA(4,1,3)(1,0,1)[12] intercept   : AIC=inf, Time=2.26 sec\n",
      " ARIMA(4,1,4)(0,0,0)[12] intercept   : AIC=781.377, Time=1.17 sec\n",
      " ARIMA(4,1,4)(0,0,1)[12] intercept   : AIC=inf, Time=2.22 sec\n",
      " ARIMA(4,1,4)(1,0,0)[12] intercept   : AIC=inf, Time=2.12 sec\n",
      " ARIMA(4,1,4)(1,0,1)[12] intercept   : AIC=inf, Time=4.24 sec\n",
      " ARIMA(4,1,5)(0,0,0)[12] intercept   : AIC=inf, Time=2.15 sec\n",
      " ARIMA(4,1,5)(0,0,1)[12] intercept   : AIC=inf, Time=3.67 sec\n",
      " ARIMA(4,1,5)(1,0,0)[12] intercept   : AIC=inf, Time=3.14 sec\n",
      " ARIMA(4,1,5)(1,0,1)[12] intercept   : AIC=inf, Time=3.86 sec\n",
      " ARIMA(4,1,6)(0,0,0)[12] intercept   : AIC=704.823, Time=1.17 sec\n",
      " ARIMA(4,1,6)(0,0,1)[12] intercept   : AIC=inf, Time=3.04 sec\n",
      " ARIMA(4,1,6)(1,0,0)[12] intercept   : AIC=inf, Time=3.29 sec\n",
      " ARIMA(4,1,6)(1,0,1)[12] intercept   : AIC=672.323, Time=3.19 sec\n",
      " ARIMA(4,1,7)(0,0,0)[12] intercept   : AIC=inf, Time=1.73 sec\n",
      " ARIMA(4,1,7)(0,0,1)[12] intercept   : AIC=inf, Time=5.74 sec\n",
      " ARIMA(4,1,7)(1,0,0)[12] intercept   : AIC=inf, Time=2.59 sec\n",
      " ARIMA(4,1,7)(1,0,1)[12] intercept   : AIC=inf, Time=4.00 sec\n",
      " ARIMA(4,1,8)(0,0,0)[12] intercept   : AIC=724.929, Time=1.20 sec\n",
      " ARIMA(4,1,8)(0,0,1)[12] intercept   : AIC=inf, Time=3.41 sec\n",
      " ARIMA(4,1,8)(1,0,0)[12] intercept   : AIC=inf, Time=2.23 sec\n",
      " ARIMA(4,1,8)(1,0,1)[12] intercept   : AIC=inf, Time=4.64 sec\n",
      " ARIMA(4,1,9)(0,0,0)[12] intercept   : AIC=inf, Time=3.17 sec\n",
      " ARIMA(4,1,9)(0,0,1)[12] intercept   : AIC=inf, Time=5.73 sec\n",
      " ARIMA(4,1,9)(1,0,0)[12] intercept   : AIC=inf, Time=3.29 sec\n",
      " ARIMA(4,1,9)(1,0,1)[12] intercept   : AIC=inf, Time=6.17 sec\n",
      " ARIMA(4,1,10)(0,0,0)[12] intercept   : AIC=752.403, Time=3.98 sec\n",
      " ARIMA(4,1,10)(0,0,1)[12] intercept   : AIC=720.470, Time=5.07 sec\n",
      " ARIMA(4,1,10)(1,0,0)[12] intercept   : AIC=722.118, Time=3.24 sec\n",
      " ARIMA(4,1,10)(1,0,1)[12] intercept   : AIC=715.654, Time=6.06 sec\n",
      " ARIMA(4,1,11)(0,0,0)[12] intercept   : AIC=750.029, Time=2.28 sec\n",
      " ARIMA(4,1,11)(0,0,1)[12] intercept   : AIC=719.624, Time=7.92 sec\n",
      " ARIMA(4,1,11)(1,0,0)[12] intercept   : AIC=inf, Time=3.76 sec\n",
      " ARIMA(4,1,11)(1,0,1)[12] intercept   : AIC=inf, Time=6.75 sec\n",
      " ARIMA(5,1,0)(0,0,0)[12] intercept   : AIC=882.132, Time=0.13 sec\n",
      " ARIMA(5,1,0)(0,0,1)[12] intercept   : AIC=812.431, Time=0.30 sec\n",
      " ARIMA(5,1,0)(1,0,0)[12] intercept   : AIC=770.046, Time=0.81 sec\n",
      " ARIMA(5,1,0)(1,0,1)[12] intercept   : AIC=inf, Time=2.30 sec\n",
      " ARIMA(5,1,1)(0,0,0)[12] intercept   : AIC=inf, Time=0.95 sec\n",
      " ARIMA(5,1,1)(0,0,1)[12] intercept   : AIC=inf, Time=1.72 sec\n",
      " ARIMA(5,1,1)(1,0,0)[12] intercept   : AIC=inf, Time=1.98 sec\n",
      " ARIMA(5,1,1)(1,0,1)[12] intercept   : AIC=617.039, Time=3.14 sec\n",
      " ARIMA(5,1,2)(0,0,0)[12] intercept   : AIC=inf, Time=1.18 sec\n",
      " ARIMA(5,1,2)(0,0,1)[12] intercept   : AIC=inf, Time=1.69 sec\n",
      " ARIMA(5,1,2)(1,0,0)[12] intercept   : AIC=inf, Time=1.86 sec\n",
      " ARIMA(5,1,2)(1,0,1)[12] intercept   : AIC=630.996, Time=2.07 sec\n",
      " ARIMA(5,1,3)(0,0,0)[12] intercept   : AIC=798.044, Time=0.81 sec\n",
      " ARIMA(5,1,3)(0,0,1)[12] intercept   : AIC=inf, Time=1.87 sec\n",
      " ARIMA(5,1,3)(1,0,0)[12] intercept   : AIC=inf, Time=1.90 sec\n",
      " ARIMA(5,1,3)(1,0,1)[12] intercept   : AIC=inf, Time=2.35 sec\n",
      " ARIMA(5,1,4)(0,0,0)[12] intercept   : AIC=inf, Time=0.76 sec\n",
      " ARIMA(5,1,4)(0,0,1)[12] intercept   : AIC=inf, Time=2.07 sec\n",
      " ARIMA(5,1,4)(1,0,0)[12] intercept   : AIC=inf, Time=2.60 sec\n",
      " ARIMA(5,1,4)(1,0,1)[12] intercept   : AIC=inf, Time=3.65 sec\n",
      " ARIMA(5,1,5)(0,0,0)[12] intercept   : AIC=inf, Time=1.08 sec\n",
      " ARIMA(5,1,5)(0,0,1)[12] intercept   : AIC=671.550, Time=2.81 sec\n",
      " ARIMA(5,1,5)(1,0,0)[12] intercept   : AIC=673.467, Time=2.92 sec\n",
      " ARIMA(5,1,5)(1,0,1)[12] intercept   : AIC=inf, Time=3.41 sec\n",
      " ARIMA(5,1,6)(0,0,0)[12] intercept   : AIC=715.714, Time=1.10 sec\n",
      " ARIMA(5,1,6)(0,0,1)[12] intercept   : AIC=inf, Time=3.92 sec\n",
      " ARIMA(5,1,6)(1,0,0)[12] intercept   : AIC=inf, Time=2.27 sec\n",
      " ARIMA(5,1,6)(1,0,1)[12] intercept   : AIC=652.848, Time=2.93 sec\n",
      " ARIMA(5,1,7)(0,0,0)[12] intercept   : AIC=inf, Time=1.31 sec\n",
      " ARIMA(5,1,7)(0,0,1)[12] intercept   : AIC=inf, Time=3.46 sec\n",
      " ARIMA(5,1,7)(1,0,0)[12] intercept   : AIC=662.685, Time=4.52 sec\n",
      " ARIMA(5,1,7)(1,0,1)[12] intercept   : AIC=654.640, Time=3.73 sec\n",
      " ARIMA(5,1,8)(0,0,0)[12] intercept   : AIC=inf, Time=1.45 sec\n",
      " ARIMA(5,1,8)(0,0,1)[12] intercept   : AIC=inf, Time=4.55 sec\n",
      " ARIMA(5,1,8)(1,0,0)[12] intercept   : AIC=inf, Time=3.09 sec\n",
      " ARIMA(5,1,8)(1,0,1)[12] intercept   : AIC=673.328, Time=3.99 sec\n",
      " ARIMA(5,1,9)(0,0,0)[12] intercept   : AIC=inf, Time=1.86 sec\n",
      " ARIMA(5,1,9)(0,0,1)[12] intercept   : AIC=inf, Time=4.98 sec\n",
      " ARIMA(5,1,9)(1,0,0)[12] intercept   : AIC=inf, Time=3.16 sec\n",
      " ARIMA(5,1,9)(1,0,1)[12] intercept   : AIC=654.459, Time=4.98 sec\n",
      " ARIMA(5,1,10)(0,0,0)[12] intercept   : AIC=inf, Time=1.66 sec\n",
      " ARIMA(5,1,10)(0,0,1)[12] intercept   : AIC=inf, Time=6.13 sec\n",
      " ARIMA(5,1,10)(1,0,0)[12] intercept   : AIC=inf, Time=3.15 sec\n",
      " ARIMA(5,1,10)(1,0,1)[12] intercept   : AIC=inf, Time=6.01 sec\n",
      " ARIMA(5,1,11)(0,0,0)[12] intercept   : AIC=684.697, Time=2.86 sec\n",
      " ARIMA(5,1,11)(0,0,1)[12] intercept   : AIC=inf, Time=6.06 sec\n",
      " ARIMA(5,1,11)(1,0,0)[12] intercept   : AIC=inf, Time=3.88 sec\n",
      " ARIMA(5,1,11)(1,0,1)[12] intercept   : AIC=inf, Time=6.86 sec\n",
      " ARIMA(6,1,0)(0,0,0)[12] intercept   : AIC=866.307, Time=0.24 sec\n",
      " ARIMA(6,1,0)(0,0,1)[12] intercept   : AIC=797.232, Time=0.43 sec\n",
      " ARIMA(6,1,0)(1,0,0)[12] intercept   : AIC=755.122, Time=0.67 sec\n",
      " ARIMA(6,1,0)(1,0,1)[12] intercept   : AIC=inf, Time=2.13 sec\n",
      " ARIMA(6,1,1)(0,0,0)[12] intercept   : AIC=782.550, Time=1.05 sec\n",
      " ARIMA(6,1,1)(0,0,1)[12] intercept   : AIC=inf, Time=1.49 sec\n",
      " ARIMA(6,1,1)(1,0,0)[12] intercept   : AIC=719.431, Time=2.30 sec\n",
      " ARIMA(6,1,1)(1,0,1)[12] intercept   : AIC=inf, Time=2.24 sec\n",
      " ARIMA(6,1,2)(0,0,0)[12] intercept   : AIC=inf, Time=0.90 sec\n",
      " ARIMA(6,1,2)(0,0,1)[12] intercept   : AIC=inf, Time=1.91 sec\n",
      " ARIMA(6,1,2)(1,0,0)[12] intercept   : AIC=inf, Time=2.58 sec\n",
      " ARIMA(6,1,2)(1,0,1)[12] intercept   : AIC=629.185, Time=2.47 sec\n",
      " ARIMA(6,1,3)(0,0,0)[12] intercept   : AIC=790.495, Time=1.06 sec\n",
      " ARIMA(6,1,3)(0,0,1)[12] intercept   : AIC=inf, Time=1.92 sec\n",
      " ARIMA(6,1,3)(1,0,0)[12] intercept   : AIC=inf, Time=2.81 sec\n",
      " ARIMA(6,1,3)(1,0,1)[12] intercept   : AIC=630.265, Time=2.76 sec\n",
      " ARIMA(6,1,4)(0,0,0)[12] intercept   : AIC=inf, Time=1.13 sec\n",
      " ARIMA(6,1,4)(0,0,1)[12] intercept   : AIC=inf, Time=2.72 sec\n",
      " ARIMA(6,1,4)(1,0,0)[12] intercept   : AIC=inf, Time=2.56 sec\n",
      " ARIMA(6,1,4)(1,0,1)[12] intercept   : AIC=inf, Time=3.70 sec\n",
      " ARIMA(6,1,5)(0,0,0)[12] intercept   : AIC=683.715, Time=1.26 sec\n",
      " ARIMA(6,1,5)(0,0,1)[12] intercept   : AIC=inf, Time=2.89 sec\n",
      " ARIMA(6,1,5)(1,0,0)[12] intercept   : AIC=inf, Time=2.93 sec\n",
      " ARIMA(6,1,5)(1,0,1)[12] intercept   : AIC=inf, Time=3.63 sec\n",
      " ARIMA(6,1,6)(0,0,0)[12] intercept   : AIC=inf, Time=1.38 sec\n",
      " ARIMA(6,1,6)(0,0,1)[12] intercept   : AIC=inf, Time=3.51 sec\n",
      " ARIMA(6,1,6)(1,0,0)[12] intercept   : AIC=inf, Time=6.27 sec\n",
      " ARIMA(6,1,6)(1,0,1)[12] intercept   : AIC=inf, Time=4.74 sec\n",
      " ARIMA(6,1,7)(0,0,0)[12] intercept   : AIC=inf, Time=2.72 sec\n",
      " ARIMA(6,1,7)(0,0,1)[12] intercept   : AIC=inf, Time=7.65 sec\n",
      " ARIMA(6,1,7)(1,0,0)[12] intercept   : AIC=inf, Time=4.58 sec\n",
      " ARIMA(6,1,7)(1,0,1)[12] intercept   : AIC=inf, Time=4.69 sec\n",
      " ARIMA(6,1,8)(0,0,0)[12] intercept   : AIC=inf, Time=1.54 sec\n",
      " ARIMA(6,1,8)(0,0,1)[12] intercept   : AIC=inf, Time=5.40 sec\n",
      " ARIMA(6,1,8)(1,0,0)[12] intercept   : AIC=inf, Time=4.60 sec\n",
      " ARIMA(6,1,8)(1,0,1)[12] intercept   : AIC=654.284, Time=4.61 sec\n",
      " ARIMA(6,1,9)(0,0,0)[12] intercept   : AIC=inf, Time=2.73 sec\n",
      " ARIMA(6,1,9)(0,0,1)[12] intercept   : AIC=inf, Time=6.19 sec\n",
      " ARIMA(6,1,9)(1,0,0)[12] intercept   : AIC=inf, Time=3.90 sec\n",
      " ARIMA(6,1,9)(1,0,1)[12] intercept   : AIC=646.897, Time=5.64 sec\n",
      " ARIMA(6,1,10)(0,0,0)[12] intercept   : AIC=inf, Time=2.57 sec\n",
      " ARIMA(6,1,10)(0,0,1)[12] intercept   : AIC=inf, Time=5.68 sec\n",
      " ARIMA(6,1,10)(1,0,0)[12] intercept   : AIC=inf, Time=4.66 sec\n",
      " ARIMA(6,1,10)(1,0,1)[12] intercept   : AIC=inf, Time=4.98 sec\n",
      " ARIMA(6,1,11)(0,0,0)[12] intercept   : AIC=685.835, Time=3.77 sec\n",
      " ARIMA(6,1,11)(0,0,1)[12] intercept   : AIC=inf, Time=6.30 sec\n",
      " ARIMA(6,1,11)(1,0,0)[12] intercept   : AIC=inf, Time=4.15 sec\n",
      " ARIMA(6,1,11)(1,0,1)[12] intercept   : AIC=671.236, Time=6.27 sec\n",
      " ARIMA(7,1,0)(0,0,0)[12] intercept   : AIC=851.615, Time=0.15 sec\n",
      " ARIMA(7,1,0)(0,0,1)[12] intercept   : AIC=792.018, Time=0.36 sec\n",
      " ARIMA(7,1,0)(1,0,0)[12] intercept   : AIC=755.568, Time=0.71 sec\n",
      " ARIMA(7,1,0)(1,0,1)[12] intercept   : AIC=inf, Time=2.17 sec\n",
      " ARIMA(7,1,1)(0,0,0)[12] intercept   : AIC=777.421, Time=0.58 sec\n",
      " ARIMA(7,1,1)(0,0,1)[12] intercept   : AIC=inf, Time=1.62 sec\n",
      " ARIMA(7,1,1)(1,0,0)[12] intercept   : AIC=inf, Time=2.28 sec\n",
      " ARIMA(7,1,1)(1,0,1)[12] intercept   : AIC=inf, Time=2.66 sec\n",
      " ARIMA(7,1,2)(0,0,0)[12] intercept   : AIC=728.293, Time=0.86 sec\n",
      " ARIMA(7,1,2)(0,0,1)[12] intercept   : AIC=inf, Time=1.79 sec\n",
      " ARIMA(7,1,2)(1,0,0)[12] intercept   : AIC=inf, Time=2.70 sec\n",
      " ARIMA(7,1,2)(1,0,1)[12] intercept   : AIC=inf, Time=2.99 sec\n",
      " ARIMA(7,1,3)(0,0,0)[12] intercept   : AIC=inf, Time=1.01 sec\n",
      " ARIMA(7,1,3)(0,0,1)[12] intercept   : AIC=inf, Time=2.54 sec\n",
      " ARIMA(7,1,3)(1,0,0)[12] intercept   : AIC=inf, Time=3.21 sec\n",
      " ARIMA(7,1,3)(1,0,1)[12] intercept   : AIC=633.839, Time=2.99 sec\n",
      " ARIMA(7,1,4)(0,0,0)[12] intercept   : AIC=790.843, Time=1.03 sec\n",
      " ARIMA(7,1,4)(0,0,1)[12] intercept   : AIC=inf, Time=2.35 sec\n",
      " ARIMA(7,1,4)(1,0,0)[12] intercept   : AIC=inf, Time=2.60 sec\n",
      " ARIMA(7,1,4)(1,0,1)[12] intercept   : AIC=inf, Time=3.60 sec\n",
      " ARIMA(7,1,5)(0,0,0)[12] intercept   : AIC=685.926, Time=1.12 sec\n",
      " ARIMA(7,1,5)(0,0,1)[12] intercept   : AIC=inf, Time=3.12 sec\n",
      " ARIMA(7,1,5)(1,0,0)[12] intercept   : AIC=inf, Time=3.19 sec\n",
      " ARIMA(7,1,5)(1,0,1)[12] intercept   : AIC=inf, Time=3.72 sec\n",
      " ARIMA(7,1,6)(0,0,0)[12] intercept   : AIC=inf, Time=1.44 sec\n",
      " ARIMA(7,1,6)(0,0,1)[12] intercept   : AIC=inf, Time=3.58 sec\n",
      " ARIMA(7,1,6)(1,0,0)[12] intercept   : AIC=inf, Time=3.83 sec\n",
      " ARIMA(7,1,6)(1,0,1)[12] intercept   : AIC=inf, Time=3.85 sec\n",
      " ARIMA(7,1,7)(0,0,0)[12] intercept   : AIC=inf, Time=1.78 sec\n",
      " ARIMA(7,1,7)(0,0,1)[12] intercept   : AIC=inf, Time=4.11 sec\n",
      " ARIMA(7,1,7)(1,0,0)[12] intercept   : AIC=inf, Time=3.60 sec\n",
      " ARIMA(7,1,7)(1,0,1)[12] intercept   : AIC=inf, Time=5.34 sec\n",
      " ARIMA(7,1,8)(0,0,0)[12] intercept   : AIC=inf, Time=2.15 sec\n",
      " ARIMA(7,1,8)(0,0,1)[12] intercept   : AIC=inf, Time=5.28 sec\n",
      " ARIMA(7,1,8)(1,0,0)[12] intercept   : AIC=inf, Time=4.22 sec\n",
      " ARIMA(7,1,8)(1,0,1)[12] intercept   : AIC=inf, Time=5.60 sec\n",
      " ARIMA(7,1,9)(0,0,0)[12] intercept   : AIC=inf, Time=2.68 sec\n",
      " ARIMA(7,1,9)(0,0,1)[12] intercept   : AIC=inf, Time=5.03 sec\n",
      " ARIMA(7,1,9)(1,0,0)[12] intercept   : AIC=inf, Time=3.80 sec\n",
      " ARIMA(7,1,9)(1,0,1)[12] intercept   : AIC=inf, Time=5.07 sec\n",
      " ARIMA(7,1,10)(0,0,0)[12] intercept   : AIC=inf, Time=2.50 sec\n",
      " ARIMA(7,1,10)(0,0,1)[12] intercept   : AIC=inf, Time=5.32 sec\n",
      " ARIMA(7,1,10)(1,0,0)[12] intercept   : AIC=inf, Time=4.59 sec\n",
      " ARIMA(7,1,10)(1,0,1)[12] intercept   : AIC=inf, Time=5.70 sec\n",
      " ARIMA(7,1,11)(0,0,0)[12] intercept   : AIC=inf, Time=2.32 sec\n",
      " ARIMA(7,1,11)(0,0,1)[12] intercept   : AIC=inf, Time=6.48 sec\n",
      " ARIMA(7,1,11)(1,0,0)[12] intercept   : AIC=inf, Time=6.05 sec\n",
      " ARIMA(7,1,11)(1,0,1)[12] intercept   : AIC=inf, Time=10.48 sec\n",
      " ARIMA(8,1,0)(0,0,0)[12] intercept   : AIC=827.102, Time=0.28 sec\n",
      " ARIMA(8,1,0)(0,0,1)[12] intercept   : AIC=782.311, Time=0.64 sec\n",
      " ARIMA(8,1,0)(1,0,0)[12] intercept   : AIC=756.116, Time=0.90 sec\n",
      " ARIMA(8,1,0)(1,0,1)[12] intercept   : AIC=inf, Time=4.53 sec\n",
      " ARIMA(8,1,1)(0,0,0)[12] intercept   : AIC=760.506, Time=0.50 sec\n",
      " ARIMA(8,1,1)(0,0,1)[12] intercept   : AIC=744.676, Time=0.82 sec\n",
      " ARIMA(8,1,1)(1,0,0)[12] intercept   : AIC=738.374, Time=1.87 sec\n",
      " ARIMA(8,1,1)(1,0,1)[12] intercept   : AIC=inf, Time=5.23 sec\n",
      " ARIMA(8,1,2)(0,0,0)[12] intercept   : AIC=673.124, Time=1.09 sec\n",
      " ARIMA(8,1,2)(0,0,1)[12] intercept   : AIC=672.572, Time=2.96 sec\n",
      " ARIMA(8,1,2)(1,0,0)[12] intercept   : AIC=inf, Time=3.83 sec\n",
      " ARIMA(8,1,2)(1,0,1)[12] intercept   : AIC=646.525, Time=2.58 sec\n",
      " ARIMA(8,1,3)(0,0,0)[12] intercept   : AIC=679.062, Time=2.32 sec\n",
      " ARIMA(8,1,3)(0,0,1)[12] intercept   : AIC=inf, Time=2.25 sec\n",
      " ARIMA(8,1,3)(1,0,0)[12] intercept   : AIC=inf, Time=2.97 sec\n",
      " ARIMA(8,1,3)(1,0,1)[12] intercept   : AIC=645.372, Time=4.50 sec\n",
      " ARIMA(8,1,4)(0,0,0)[12] intercept   : AIC=inf, Time=1.46 sec\n",
      " ARIMA(8,1,4)(0,0,1)[12] intercept   : AIC=inf, Time=2.46 sec\n",
      " ARIMA(8,1,4)(1,0,0)[12] intercept   : AIC=inf, Time=3.11 sec\n",
      " ARIMA(8,1,4)(1,0,1)[12] intercept   : AIC=inf, Time=4.22 sec\n",
      " ARIMA(8,1,5)(0,0,0)[12] intercept   : AIC=683.853, Time=1.53 sec\n",
      " ARIMA(8,1,5)(0,0,1)[12] intercept   : AIC=inf, Time=3.40 sec\n",
      " ARIMA(8,1,5)(1,0,0)[12] intercept   : AIC=inf, Time=3.84 sec\n",
      " ARIMA(8,1,5)(1,0,1)[12] intercept   : AIC=inf, Time=4.92 sec\n",
      " ARIMA(8,1,6)(0,0,0)[12] intercept   : AIC=inf, Time=1.39 sec\n",
      " ARIMA(8,1,6)(0,0,1)[12] intercept   : AIC=inf, Time=3.35 sec\n",
      " ARIMA(8,1,6)(1,0,0)[12] intercept   : AIC=inf, Time=4.06 sec\n",
      " ARIMA(8,1,6)(1,0,1)[12] intercept   : AIC=inf, Time=3.88 sec\n",
      " ARIMA(8,1,7)(0,0,0)[12] intercept   : AIC=inf, Time=1.73 sec\n",
      " ARIMA(8,1,7)(0,0,1)[12] intercept   : AIC=inf, Time=4.73 sec\n",
      " ARIMA(8,1,7)(1,0,0)[12] intercept   : AIC=inf, Time=4.91 sec\n",
      " ARIMA(8,1,7)(1,0,1)[12] intercept   : AIC=inf, Time=6.00 sec\n",
      " ARIMA(8,1,8)(0,0,0)[12] intercept   : AIC=inf, Time=2.44 sec\n",
      " ARIMA(8,1,8)(0,0,1)[12] intercept   : AIC=inf, Time=6.25 sec\n",
      " ARIMA(8,1,8)(1,0,0)[12] intercept   : AIC=inf, Time=4.76 sec\n",
      " ARIMA(8,1,8)(1,0,1)[12] intercept   : AIC=inf, Time=5.05 sec\n",
      " ARIMA(8,1,9)(0,0,0)[12] intercept   : AIC=inf, Time=1.88 sec\n",
      " ARIMA(8,1,9)(0,0,1)[12] intercept   : AIC=inf, Time=5.53 sec\n",
      " ARIMA(8,1,9)(1,0,0)[12] intercept   : AIC=inf, Time=4.19 sec\n",
      " ARIMA(8,1,9)(1,0,1)[12] intercept   : AIC=inf, Time=6.03 sec\n",
      " ARIMA(8,1,10)(0,0,0)[12] intercept   : AIC=inf, Time=2.41 sec\n",
      " ARIMA(8,1,10)(0,0,1)[12] intercept   : AIC=inf, Time=6.48 sec\n",
      " ARIMA(8,1,10)(1,0,0)[12] intercept   : AIC=inf, Time=5.14 sec\n",
      " ARIMA(8,1,10)(1,0,1)[12] intercept   : AIC=inf, Time=5.34 sec\n",
      " ARIMA(8,1,11)(0,0,0)[12] intercept   : AIC=inf, Time=2.43 sec\n",
      " ARIMA(8,1,11)(0,0,1)[12] intercept   : AIC=inf, Time=6.54 sec\n",
      " ARIMA(8,1,11)(1,0,0)[12] intercept   : AIC=inf, Time=5.01 sec\n",
      " ARIMA(8,1,11)(1,0,1)[12] intercept   : AIC=inf, Time=7.21 sec\n",
      " ARIMA(9,1,0)(0,0,0)[12] intercept   : AIC=773.541, Time=0.28 sec\n",
      " ARIMA(9,1,0)(0,0,1)[12] intercept   : AIC=754.485, Time=0.63 sec\n",
      " ARIMA(9,1,0)(1,0,0)[12] intercept   : AIC=746.149, Time=1.12 sec\n",
      " ARIMA(9,1,0)(1,0,1)[12] intercept   : AIC=inf, Time=3.73 sec\n",
      " ARIMA(9,1,1)(0,0,0)[12] intercept   : AIC=734.048, Time=0.63 sec\n",
      " ARIMA(9,1,1)(0,0,1)[12] intercept   : AIC=728.608, Time=1.37 sec\n",
      " ARIMA(9,1,1)(1,0,0)[12] intercept   : AIC=726.702, Time=1.75 sec\n",
      " ARIMA(9,1,1)(1,0,1)[12] intercept   : AIC=634.863, Time=4.18 sec\n",
      " ARIMA(9,1,2)(0,0,0)[12] intercept   : AIC=690.819, Time=1.41 sec\n",
      " ARIMA(9,1,2)(0,0,1)[12] intercept   : AIC=677.889, Time=2.51 sec\n",
      " ARIMA(9,1,2)(1,0,0)[12] intercept   : AIC=682.616, Time=3.80 sec\n",
      " ARIMA(9,1,2)(1,0,1)[12] intercept   : AIC=inf, Time=4.20 sec\n",
      " ARIMA(9,1,3)(0,0,0)[12] intercept   : AIC=672.399, Time=1.45 sec\n",
      " ARIMA(9,1,3)(0,0,1)[12] intercept   : AIC=662.409, Time=3.96 sec\n",
      " ARIMA(9,1,3)(1,0,0)[12] intercept   : AIC=inf, Time=7.07 sec\n",
      " ARIMA(9,1,3)(1,0,1)[12] intercept   : AIC=inf, Time=6.73 sec\n",
      " ARIMA(9,1,4)(0,0,0)[12] intercept   : AIC=676.470, Time=2.12 sec\n",
      " ARIMA(9,1,4)(0,0,1)[12] intercept   : AIC=671.627, Time=4.29 sec\n",
      " ARIMA(9,1,4)(1,0,0)[12] intercept   : AIC=inf, Time=7.13 sec\n",
      " ARIMA(9,1,4)(1,0,1)[12] intercept   : AIC=615.979, Time=6.70 sec\n",
      " ARIMA(9,1,5)(0,0,0)[12] intercept   : AIC=inf, Time=2.54 sec\n",
      " ARIMA(9,1,5)(0,0,1)[12] intercept   : AIC=inf, Time=4.12 sec\n",
      " ARIMA(9,1,5)(1,0,0)[12] intercept   : AIC=inf, Time=5.79 sec\n",
      " ARIMA(9,1,5)(1,0,1)[12] intercept   : AIC=inf, Time=6.88 sec\n",
      " ARIMA(9,1,6)(0,0,0)[12] intercept   : AIC=636.299, Time=2.17 sec\n",
      " ARIMA(9,1,6)(0,0,1)[12] intercept   : AIC=640.345, Time=4.59 sec\n",
      " ARIMA(9,1,6)(1,0,0)[12] intercept   : AIC=inf, Time=5.72 sec\n",
      " ARIMA(9,1,6)(1,0,1)[12] intercept   : AIC=inf, Time=8.02 sec\n",
      " ARIMA(9,1,7)(0,0,0)[12] intercept   : AIC=644.864, Time=2.23 sec\n",
      " ARIMA(9,1,7)(0,0,1)[12] intercept   : AIC=646.739, Time=4.70 sec\n",
      " ARIMA(9,1,7)(1,0,0)[12] intercept   : AIC=649.890, Time=4.39 sec\n",
      " ARIMA(9,1,7)(1,0,1)[12] intercept   : AIC=inf, Time=8.92 sec\n",
      " ARIMA(9,1,8)(0,0,0)[12] intercept   : AIC=641.624, Time=1.92 sec\n",
      " ARIMA(9,1,8)(0,0,1)[12] intercept   : AIC=646.325, Time=7.32 sec\n",
      " ARIMA(9,1,8)(1,0,0)[12] intercept   : AIC=646.987, Time=8.70 sec\n",
      " ARIMA(9,1,8)(1,0,1)[12] intercept   : AIC=644.189, Time=6.48 sec\n",
      " ARIMA(9,1,9)(0,0,0)[12] intercept   : AIC=635.532, Time=2.72 sec\n",
      " ARIMA(9,1,9)(0,0,1)[12] intercept   : AIC=inf, Time=5.82 sec\n",
      " ARIMA(9,1,9)(1,0,0)[12] intercept   : AIC=639.962, Time=4.52 sec\n",
      " ARIMA(9,1,9)(1,0,1)[12] intercept   : AIC=inf, Time=6.61 sec\n",
      " ARIMA(9,1,10)(0,0,0)[12] intercept   : AIC=inf, Time=2.11 sec\n",
      " ARIMA(9,1,10)(0,0,1)[12] intercept   : AIC=inf, Time=5.55 sec\n",
      " ARIMA(9,1,10)(1,0,0)[12] intercept   : AIC=inf, Time=6.49 sec\n",
      " ARIMA(9,1,10)(1,0,1)[12] intercept   : AIC=inf, Time=7.77 sec\n",
      " ARIMA(9,1,11)(0,0,0)[12] intercept   : AIC=636.706, Time=2.87 sec\n",
      " ARIMA(9,1,11)(0,0,1)[12] intercept   : AIC=inf, Time=8.91 sec\n",
      " ARIMA(9,1,11)(1,0,0)[12] intercept   : AIC=640.643, Time=5.60 sec\n",
      " ARIMA(9,1,11)(1,0,1)[12] intercept   : AIC=inf, Time=7.97 sec\n",
      " ARIMA(10,1,0)(0,0,0)[12] intercept   : AIC=724.817, Time=0.48 sec\n",
      " ARIMA(10,1,0)(0,0,1)[12] intercept   : AIC=718.423, Time=1.08 sec\n",
      " ARIMA(10,1,0)(1,0,0)[12] intercept   : AIC=716.834, Time=2.10 sec\n",
      " ARIMA(10,1,0)(1,0,1)[12] intercept   : AIC=inf, Time=3.86 sec\n",
      " ARIMA(10,1,1)(0,0,0)[12] intercept   : AIC=717.917, Time=0.90 sec\n",
      " ARIMA(10,1,1)(0,0,1)[12] intercept   : AIC=716.172, Time=1.26 sec\n",
      " ARIMA(10,1,1)(1,0,0)[12] intercept   : AIC=715.496, Time=2.85 sec\n",
      " ARIMA(10,1,1)(1,0,1)[12] intercept   : AIC=inf, Time=4.03 sec\n",
      " ARIMA(10,1,2)(0,0,0)[12] intercept   : AIC=693.842, Time=2.22 sec\n",
      " ARIMA(10,1,2)(0,0,1)[12] intercept   : AIC=694.048, Time=2.26 sec\n",
      " ARIMA(10,1,2)(1,0,0)[12] intercept   : AIC=694.129, Time=5.53 sec\n",
      " ARIMA(10,1,2)(1,0,1)[12] intercept   : AIC=inf, Time=5.83 sec\n",
      " ARIMA(10,1,3)(0,0,0)[12] intercept   : AIC=700.632, Time=1.99 sec\n",
      " ARIMA(10,1,3)(0,0,1)[12] intercept   : AIC=689.727, Time=3.09 sec\n",
      " ARIMA(10,1,3)(1,0,0)[12] intercept   : AIC=inf, Time=5.56 sec\n",
      " ARIMA(10,1,3)(1,0,1)[12] intercept   : AIC=623.250, Time=6.87 sec\n",
      " ARIMA(10,1,4)(0,0,0)[12] intercept   : AIC=697.430, Time=3.29 sec\n",
      " ARIMA(10,1,4)(0,0,1)[12] intercept   : AIC=667.073, Time=3.25 sec\n",
      " ARIMA(10,1,4)(1,0,0)[12] intercept   : AIC=669.327, Time=4.84 sec\n",
      " ARIMA(10,1,4)(1,0,1)[12] intercept   : AIC=inf, Time=4.73 sec\n",
      " ARIMA(10,1,5)(0,0,0)[12] intercept   : AIC=658.846, Time=1.72 sec\n",
      " ARIMA(10,1,5)(0,0,1)[12] intercept   : AIC=705.870, Time=3.14 sec\n",
      " ARIMA(10,1,5)(1,0,0)[12] intercept   : AIC=709.255, Time=4.39 sec\n",
      " ARIMA(10,1,5)(1,0,1)[12] intercept   : AIC=inf, Time=4.40 sec\n",
      " ARIMA(10,1,6)(0,0,0)[12] intercept   : AIC=643.057, Time=2.47 sec\n",
      " ARIMA(10,1,6)(0,0,1)[12] intercept   : AIC=645.033, Time=4.94 sec\n",
      " ARIMA(10,1,6)(1,0,0)[12] intercept   : AIC=644.305, Time=5.46 sec\n",
      " ARIMA(10,1,6)(1,0,1)[12] intercept   : AIC=inf, Time=5.04 sec\n",
      " ARIMA(10,1,7)(0,0,0)[12] intercept   : AIC=638.134, Time=2.91 sec\n",
      " ARIMA(10,1,7)(0,0,1)[12] intercept   : AIC=639.956, Time=5.16 sec\n",
      " ARIMA(10,1,7)(1,0,0)[12] intercept   : AIC=640.243, Time=5.49 sec\n",
      " ARIMA(10,1,7)(1,0,1)[12] intercept   : AIC=inf, Time=10.10 sec\n",
      " ARIMA(10,1,8)(0,0,0)[12] intercept   : AIC=642.525, Time=2.11 sec\n",
      " ARIMA(10,1,8)(0,0,1)[12] intercept   : AIC=644.641, Time=4.67 sec\n",
      " ARIMA(10,1,8)(1,0,0)[12] intercept   : AIC=643.751, Time=5.33 sec\n",
      " ARIMA(10,1,8)(1,0,1)[12] intercept   : AIC=645.525, Time=6.05 sec\n",
      " ARIMA(10,1,9)(0,0,0)[12] intercept   : AIC=inf, Time=2.34 sec\n",
      " ARIMA(10,1,9)(0,0,1)[12] intercept   : AIC=inf, Time=6.09 sec\n",
      " ARIMA(10,1,9)(1,0,0)[12] intercept   : AIC=inf, Time=5.68 sec\n",
      " ARIMA(10,1,9)(1,0,1)[12] intercept   : AIC=inf, Time=5.67 sec\n",
      " ARIMA(10,1,10)(0,0,0)[12] intercept   : AIC=inf, Time=2.31 sec\n",
      " ARIMA(10,1,10)(0,0,1)[12] intercept   : AIC=inf, Time=5.67 sec\n",
      " ARIMA(10,1,10)(1,0,0)[12] intercept   : AIC=inf, Time=6.97 sec\n",
      " ARIMA(10,1,10)(1,0,1)[12] intercept   : AIC=631.020, Time=6.60 sec\n",
      " ARIMA(10,1,11)(0,0,0)[12] intercept   : AIC=inf, Time=2.81 sec\n",
      " ARIMA(10,1,11)(0,0,1)[12] intercept   : AIC=inf, Time=9.15 sec\n",
      " ARIMA(10,1,11)(1,0,0)[12] intercept   : AIC=inf, Time=6.47 sec\n",
      " ARIMA(10,1,11)(1,0,1)[12] intercept   : AIC=inf, Time=9.03 sec\n",
      " ARIMA(11,1,0)(0,0,0)[12] intercept   : AIC=706.342, Time=0.66 sec\n",
      " ARIMA(11,1,0)(0,0,1)[12] intercept   : AIC=707.943, Time=1.17 sec\n",
      " ARIMA(11,1,0)(1,0,0)[12] intercept   : AIC=707.924, Time=2.17 sec\n",
      " ARIMA(11,1,0)(1,0,1)[12] intercept   : AIC=inf, Time=3.69 sec\n",
      " ARIMA(11,1,1)(0,0,0)[12] intercept   : AIC=704.056, Time=1.35 sec\n",
      " ARIMA(11,1,1)(0,0,1)[12] intercept   : AIC=665.182, Time=2.55 sec\n",
      " ARIMA(11,1,1)(1,0,0)[12] intercept   : AIC=701.604, Time=4.21 sec\n",
      " ARIMA(11,1,1)(1,0,1)[12] intercept   : AIC=651.247, Time=4.14 sec\n",
      " ARIMA(11,1,2)(0,0,0)[12] intercept   : AIC=688.261, Time=1.64 sec\n",
      " ARIMA(11,1,2)(0,0,1)[12] intercept   : AIC=inf, Time=2.94 sec\n",
      " ARIMA(11,1,2)(1,0,0)[12] intercept   : AIC=680.567, Time=4.33 sec\n",
      " ARIMA(11,1,2)(1,0,1)[12] intercept   : AIC=625.879, Time=4.55 sec\n",
      " ARIMA(11,1,3)(0,0,0)[12] intercept   : AIC=703.699, Time=1.55 sec\n",
      " ARIMA(11,1,3)(0,0,1)[12] intercept   : AIC=728.984, Time=2.46 sec\n",
      " ARIMA(11,1,3)(1,0,0)[12] intercept   : AIC=717.311, Time=4.35 sec\n",
      " ARIMA(11,1,3)(1,0,1)[12] intercept   : AIC=671.666, Time=5.80 sec\n",
      " ARIMA(11,1,4)(0,0,0)[12] intercept   : AIC=679.250, Time=1.77 sec\n",
      " ARIMA(11,1,4)(0,0,1)[12] intercept   : AIC=676.720, Time=3.11 sec\n",
      " ARIMA(11,1,4)(1,0,0)[12] intercept   : AIC=673.489, Time=5.40 sec\n",
      " ARIMA(11,1,4)(1,0,1)[12] intercept   : AIC=inf, Time=6.30 sec\n",
      " ARIMA(11,1,5)(0,0,0)[12] intercept   : AIC=653.144, Time=3.67 sec\n",
      " ARIMA(11,1,5)(0,0,1)[12] intercept   : AIC=inf, Time=5.47 sec\n",
      " ARIMA(11,1,5)(1,0,0)[12] intercept   : AIC=inf, Time=7.40 sec\n",
      " ARIMA(11,1,5)(1,0,1)[12] intercept   : AIC=inf, Time=7.78 sec\n",
      " ARIMA(11,1,6)(0,0,0)[12] intercept   : AIC=662.314, Time=2.74 sec\n",
      " ARIMA(11,1,6)(0,0,1)[12] intercept   : AIC=615.641, Time=5.42 sec\n",
      " ARIMA(11,1,6)(1,0,0)[12] intercept   : AIC=676.141, Time=5.03 sec\n",
      " ARIMA(11,1,6)(1,0,1)[12] intercept   : AIC=632.613, Time=5.03 sec\n",
      " ARIMA(11,1,7)(0,0,0)[12] intercept   : AIC=inf, Time=2.19 sec\n",
      " ARIMA(11,1,7)(0,0,1)[12] intercept   : AIC=inf, Time=4.29 sec\n",
      " ARIMA(11,1,7)(1,0,0)[12] intercept   : AIC=inf, Time=6.31 sec\n",
      " ARIMA(11,1,7)(1,0,1)[12] intercept   : AIC=inf, Time=5.11 sec\n",
      " ARIMA(11,1,8)(0,0,0)[12] intercept   : AIC=638.670, Time=1.97 sec\n",
      " ARIMA(11,1,8)(0,0,1)[12] intercept   : AIC=639.408, Time=4.65 sec\n",
      " ARIMA(11,1,8)(1,0,0)[12] intercept   : AIC=639.808, Time=5.09 sec\n",
      " ARIMA(11,1,8)(1,0,1)[12] intercept   : AIC=642.485, Time=5.73 sec\n",
      " ARIMA(11,1,9)(0,0,0)[12] intercept   : AIC=640.553, Time=2.78 sec\n",
      " ARIMA(11,1,9)(0,0,1)[12] intercept   : AIC=640.596, Time=5.78 sec\n",
      " ARIMA(11,1,9)(1,0,0)[12] intercept   : AIC=642.323, Time=5.49 sec\n",
      " ARIMA(11,1,9)(1,0,1)[12] intercept   : AIC=647.488, Time=6.35 sec\n",
      " ARIMA(11,1,10)(0,0,0)[12] intercept   : AIC=645.775, Time=2.50 sec\n",
      " ARIMA(11,1,10)(0,0,1)[12] intercept   : AIC=648.463, Time=6.08 sec\n",
      " ARIMA(11,1,10)(1,0,0)[12] intercept   : AIC=648.303, Time=5.95 sec\n",
      " ARIMA(11,1,10)(1,0,1)[12] intercept   : AIC=647.325, Time=6.03 sec\n",
      " ARIMA(11,1,11)(0,0,0)[12] intercept   : AIC=639.048, Time=2.74 sec\n",
      " ARIMA(11,1,11)(0,0,1)[12] intercept   : AIC=638.104, Time=8.00 sec\n",
      " ARIMA(11,1,11)(1,0,0)[12] intercept   : AIC=639.554, Time=6.58 sec\n",
      " ARIMA(11,1,11)(1,0,1)[12] intercept   : AIC=inf, Time=9.15 sec\n",
      "\n",
      "Best model:  ARIMA(11,1,6)(0,0,1)[12] intercept\n",
      "Total fit time: 1779.644 seconds\n",
      "Optimal SARIMA order: (11, 1, 6)\n",
      "Optimal SARIMA seasonal order: (0, 0, 1, 12)\n"
     ]
    }
   ],
   "source": [
    "# split to test 1 year of data as splitting 70:30 takes very long\n",
    "train_end = datetime(2022, 1, 1) \n",
    "test_end = datetime(2023, 1, 1)\n",
    "\n",
    "train_data = series_monthly_mean_temp[:train_end]\n",
    "test_data = series_monthly_mean_temp[train_end + timedelta(days=1):test_end]\n",
    "\n",
    "# Find optimal SARIMA order using auto_arima\n",
    "model_sarima = auto_arima(series_monthly_mean_temp, d=1, max_d=3, max_D=3, max_p=12, max_q=12, max_P=1, max_Q=1, max_order=26, parallel=True, num_cores=None, seasonal=True, m=12, information_criterion='aic', trace=True, stepwise=False)\n",
    "\n",
    "# Get the best SARIMA order\n",
    "normal_order = model_sarima.order\n",
    "seasonal_order = model_sarima.seasonal_order\n",
    "\n",
    "print(\"Optimal SARIMA order:\", normal_order)\n",
    "print(\"Optimal SARIMA seasonal order:\", seasonal_order)"
   ]
  },
  {
   "cell_type": "code",
   "execution_count": 159,
   "metadata": {},
   "outputs": [
    {
     "name": "stderr",
     "output_type": "stream",
     "text": [
      "/Users/linustws/opt/anaconda3/envs/singapore-weather-prediction/lib/python3.9/site-packages/statsmodels/base/model.py:607: ConvergenceWarning:\n",
      "\n",
      "Maximum Likelihood optimization failed to converge. Check mle_retvals\n",
      "\n"
     ]
    },
    {
     "name": "stdout",
     "output_type": "stream",
     "text": [
      "Model Fitting Time: 4.402470827102661\n",
      "                                      SARIMAX Results                                      \n",
      "===========================================================================================\n",
      "Dep. Variable:                           mean_temp   No. Observations:                  480\n",
      "Model:             ARIMA(11, 1, 6)x(0, 0, [1], 12)   Log Likelihood                -281.080\n",
      "Date:                             Thu, 08 Jun 2023   AIC                            600.160\n",
      "Time:                                     22:06:27   BIC                            679.422\n",
      "Sample:                                 01-31-1982   HQIC                           631.319\n",
      "                                      - 12-31-2021                                         \n",
      "Covariance Type:                               opg                                         \n",
      "==============================================================================\n",
      "                 coef    std err          z      P>|z|      [0.025      0.975]\n",
      "------------------------------------------------------------------------------\n",
      "ar.L1         -0.9615      0.025    -38.784      0.000      -1.010      -0.913\n",
      "ar.L2         -0.9342      0.024    -38.845      0.000      -0.981      -0.887\n",
      "ar.L3         -0.9928      0.013    -74.501      0.000      -1.019      -0.967\n",
      "ar.L4         -0.9503      0.026    -36.349      0.000      -1.002      -0.899\n",
      "ar.L5         -0.9486      0.022    -43.946      0.000      -0.991      -0.906\n",
      "ar.L6         -0.9804      0.018    -54.010      0.000      -1.016      -0.945\n",
      "ar.L7         -0.9648      0.020    -48.606      0.000      -1.004      -0.926\n",
      "ar.L8         -0.9426      0.023    -40.407      0.000      -0.988      -0.897\n",
      "ar.L9         -0.9748      0.017    -58.682      0.000      -1.007      -0.942\n",
      "ar.L10        -0.9742      0.019    -49.989      0.000      -1.012      -0.936\n",
      "ar.L11        -0.9219      0.028    -32.418      0.000      -0.978      -0.866\n",
      "ma.L1          0.3865      0.050      7.791      0.000       0.289       0.484\n",
      "ma.L2          0.3537      0.057      6.174      0.000       0.241       0.466\n",
      "ma.L3          0.2886      0.056      5.150      0.000       0.179       0.398\n",
      "ma.L4          0.0944      0.063      1.511      0.131      -0.028       0.217\n",
      "ma.L5          0.0199      0.060      0.333      0.739      -0.097       0.137\n",
      "ma.L6          0.0221      0.053      0.417      0.677      -0.082       0.126\n",
      "ma.S.L12      -0.8598      0.040    -21.544      0.000      -0.938      -0.782\n",
      "sigma2         0.1881      0.014     13.683      0.000       0.161       0.215\n",
      "===================================================================================\n",
      "Ljung-Box (L1) (Q):                   0.01   Jarque-Bera (JB):                 0.06\n",
      "Prob(Q):                              0.94   Prob(JB):                         0.97\n",
      "Heteroskedasticity (H):               0.88   Skew:                             0.02\n",
      "Prob(H) (two-sided):                  0.41   Kurtosis:                         3.03\n",
      "===================================================================================\n",
      "\n",
      "Warnings:\n",
      "[1] Covariance matrix calculated using the outer product of gradients (complex-step).\n"
     ]
    }
   ],
   "source": [
    "# create model\n",
    "model = ARIMA(train_data, order=normal_order, seasonal_order=seasonal_order)\n",
    "\n",
    "# fit model\n",
    "start = time()\n",
    "model_fit = model.fit()\n",
    "end = time()\n",
    "print(f\"Model Fitting Time: {end - start}\")\n",
    "\n",
    "# Print model summary\n",
    "print(model_fit.summary())"
   ]
  },
  {
   "cell_type": "code",
   "execution_count": 160,
   "metadata": {},
   "outputs": [
    {
     "data": {
      "text/html": [
       "<iframe\n",
       "    scrolling=\"no\"\n",
       "    width=\"100%\"\n",
       "    height=\"545px\"\n",
       "    src=\"iframe_figures/figure_160.html\"\n",
       "    frameborder=\"0\"\n",
       "    allowfullscreen\n",
       "></iframe>\n"
      ]
     },
     "metadata": {},
     "output_type": "display_data"
    }
   ],
   "source": [
    "# get prediction start and end dates\n",
    "pred_start_date = test_data.index[0]\n",
    "pred_end_date = test_data.index[-1]\n",
    "\n",
    "# get predictions and residuals\n",
    "predictions = model_fit.predict(start=pred_start_date, end=pred_end_date)\n",
    "residuals = test_data - predictions\n",
    "\n",
    "# print(residuals)\n",
    "\n",
    "# Plot residuals\n",
    "fig_resid = px.line(residuals, labels={residuals.index.name: 'Datetime', 'value': 'Error'}, title='Residuals from auto SARIMA Model')\n",
    "fig_resid.update_xaxes(dtick='M1', tickangle=45)\n",
    "fig_resid.update_yaxes(dtick=0.5, tickangle=45)\n",
    "fig_resid.update_traces(name='error', hovertemplate='Datetime: %{x}<br>Error: %{y}')\n",
    "\n",
    "# add the mean line\n",
    "mean_error = np.mean(residuals)\n",
    "fig_resid.add_shape(\n",
    "    type=\"line\",\n",
    "    x0=residuals.index[0],\n",
    "    y0=mean_error,\n",
    "    x1=residuals.index[-1],\n",
    "    y1=mean_error,\n",
    "    line=dict(color=\"red\", dash=\"dot\"),\n",
    ")\n",
    "fig_resid.show()"
   ]
  },
  {
   "cell_type": "code",
   "execution_count": 161,
   "metadata": {},
   "outputs": [
    {
     "data": {
      "text/html": [
       "<iframe\n",
       "    scrolling=\"no\"\n",
       "    width=\"100%\"\n",
       "    height=\"545px\"\n",
       "    src=\"iframe_figures/figure_161.html\"\n",
       "    frameborder=\"0\"\n",
       "    allowfullscreen\n",
       "></iframe>\n"
      ]
     },
     "metadata": {},
     "output_type": "display_data"
    },
    {
     "name": "stdout",
     "output_type": "stream",
     "text": [
      "Mean Absolute Percent Error: 0.0104\n",
      "Root Mean Squared Error: 0.34995830445205695\n"
     ]
    }
   ],
   "source": [
    "plot_data = pd.DataFrame({'datetime': test_data.index, 'test_data': test_data.values, 'predictions': predictions})\n",
    "# print(plot_data)\n",
    "fig_pred_test = px.line(plot_data, x='datetime', y=['test_data', 'predictions'], labels={'datetime': 'Datetime', 'value': 'Mean Temperature (°C)'}, title='Test Data and Predictions')\n",
    "fig_pred_test.update_xaxes(dtick='M1', tickangle=45)\n",
    "fig_pred_test.update_yaxes(dtick=0.5, tickangle=45)\n",
    "fig_pred_test.update_traces(hovertemplate='Datetime: %{x}<br>Mean Temperature: %{y}°C')\n",
    "fig_pred_test.show()\n",
    "\n",
    "print(f\"Mean Absolute Percent Error: {round(np.mean(abs(residuals/test_data)), 4)}\")\n",
    "print(f\"Root Mean Squared Error: {np.sqrt(np.mean(residuals**2))}\")"
   ]
  },
  {
   "cell_type": "markdown",
   "metadata": {},
   "source": [
    "##### SARIMA(11,0,8)(0,0,0)[12]:\n",
    "Mean Absolute Percent Error: 0.0165\n",
    "Root Mean Squared Error: 0.6175906151774886\n",
    "\n",
    "##### SARIMA(11,1,6)(0,0,1)[12]:\n",
    "Mean Absolute Percent Error: 0.0104\n",
    "Root Mean Squared Error: 0.34995830445205695\n",
    "\n",
    "The auto SARIMA model chose these 2 optimal models with different orders of _d_. Here, SARIMA(11,1,6)(0,0,1)[12] was better, even better that that of ARIMA(12,0,8)(0,0,0)[0] (RMSE=0.37388). \n",
    "\n",
    "##### Let's complete this with the RFO of SARIMA(11,1,6)(0,0,1)[12]."
   ]
  },
  {
   "cell_type": "code",
   "execution_count": 162,
   "metadata": {},
   "outputs": [
    {
     "name": "stderr",
     "output_type": "stream",
     "text": [
      "/Users/linustws/opt/anaconda3/envs/singapore-weather-prediction/lib/python3.9/site-packages/statsmodels/base/model.py:607: ConvergenceWarning:\n",
      "\n",
      "Maximum Likelihood optimization failed to converge. Check mle_retvals\n",
      "\n",
      "/Users/linustws/opt/anaconda3/envs/singapore-weather-prediction/lib/python3.9/site-packages/statsmodels/base/model.py:607: ConvergenceWarning:\n",
      "\n",
      "Maximum Likelihood optimization failed to converge. Check mle_retvals\n",
      "\n",
      "/Users/linustws/opt/anaconda3/envs/singapore-weather-prediction/lib/python3.9/site-packages/statsmodels/base/model.py:607: ConvergenceWarning:\n",
      "\n",
      "Maximum Likelihood optimization failed to converge. Check mle_retvals\n",
      "\n",
      "/Users/linustws/opt/anaconda3/envs/singapore-weather-prediction/lib/python3.9/site-packages/statsmodels/base/model.py:607: ConvergenceWarning:\n",
      "\n",
      "Maximum Likelihood optimization failed to converge. Check mle_retvals\n",
      "\n",
      "/Users/linustws/opt/anaconda3/envs/singapore-weather-prediction/lib/python3.9/site-packages/statsmodels/base/model.py:607: ConvergenceWarning:\n",
      "\n",
      "Maximum Likelihood optimization failed to converge. Check mle_retvals\n",
      "\n",
      "/Users/linustws/opt/anaconda3/envs/singapore-weather-prediction/lib/python3.9/site-packages/statsmodels/base/model.py:607: ConvergenceWarning:\n",
      "\n",
      "Maximum Likelihood optimization failed to converge. Check mle_retvals\n",
      "\n",
      "/Users/linustws/opt/anaconda3/envs/singapore-weather-prediction/lib/python3.9/site-packages/statsmodels/base/model.py:607: ConvergenceWarning:\n",
      "\n",
      "Maximum Likelihood optimization failed to converge. Check mle_retvals\n",
      "\n",
      "/Users/linustws/opt/anaconda3/envs/singapore-weather-prediction/lib/python3.9/site-packages/statsmodels/base/model.py:607: ConvergenceWarning:\n",
      "\n",
      "Maximum Likelihood optimization failed to converge. Check mle_retvals\n",
      "\n",
      "/Users/linustws/opt/anaconda3/envs/singapore-weather-prediction/lib/python3.9/site-packages/statsmodels/base/model.py:607: ConvergenceWarning:\n",
      "\n",
      "Maximum Likelihood optimization failed to converge. Check mle_retvals\n",
      "\n",
      "/Users/linustws/opt/anaconda3/envs/singapore-weather-prediction/lib/python3.9/site-packages/statsmodels/base/model.py:607: ConvergenceWarning:\n",
      "\n",
      "Maximum Likelihood optimization failed to converge. Check mle_retvals\n",
      "\n",
      "/Users/linustws/opt/anaconda3/envs/singapore-weather-prediction/lib/python3.9/site-packages/statsmodels/base/model.py:607: ConvergenceWarning:\n",
      "\n",
      "Maximum Likelihood optimization failed to converge. Check mle_retvals\n",
      "\n",
      "/Users/linustws/opt/anaconda3/envs/singapore-weather-prediction/lib/python3.9/site-packages/statsmodels/base/model.py:607: ConvergenceWarning:\n",
      "\n",
      "Maximum Likelihood optimization failed to converge. Check mle_retvals\n",
      "\n"
     ]
    },
    {
     "name": "stdout",
     "output_type": "stream",
     "text": [
      "Model Fitting Time: 39.012366771698\n"
     ]
    },
    {
     "data": {
      "text/html": [
       "<iframe\n",
       "    scrolling=\"no\"\n",
       "    width=\"100%\"\n",
       "    height=\"545px\"\n",
       "    src=\"iframe_figures/figure_162.html\"\n",
       "    frameborder=\"0\"\n",
       "    allowfullscreen\n",
       "></iframe>\n"
      ]
     },
     "metadata": {},
     "output_type": "display_data"
    }
   ],
   "source": [
    "# create the model\n",
    "predictions_rolling = pd.Series(dtype='float64')\n",
    "start = time()\n",
    "for end_date in test_data.index:\n",
    "    train_data = series_monthly_mean_temp[:end_date - timedelta(days=1)]\n",
    "    model = ARIMA(train_data, order=(11, 1, 6), seasonal_order=(0, 0, 1, 12), enforce_stationarity=False)\n",
    "    model_fit = model.fit()\n",
    "    pred = model_fit.predict(end_date)\n",
    "    predictions_rolling.loc[end_date] = pred.loc[end_date]\n",
    "end = time()\n",
    "print(f\"Model Fitting Time: {end - start}\")\n",
    "residuals_rolling = test_data - predictions_rolling\n",
    "\n",
    "# print(residuals_rolling)\n",
    "\n",
    "# Plot residuals\n",
    "fig_resid_rolling = px.line(residuals_rolling, labels={residuals_rolling.index.name: 'Datetime', 'value': 'Error'}, title='Residuals from auto SARIMA Model (Rolling Window)')\n",
    "fig_resid_rolling.update_xaxes(dtick='M1', tickangle=45)\n",
    "fig_resid_rolling.update_yaxes(dtick=0.5, tickangle=45)\n",
    "fig_resid_rolling.update_traces(name='error', hovertemplate='Datetime: %{x}<br>Error: %{y}')\n",
    "\n",
    "# add the mean line\n",
    "mean_error_rolling = np.mean(residuals_rolling)\n",
    "fig_resid_rolling.add_shape(\n",
    "    type=\"line\",\n",
    "    x0=residuals_rolling.index[0],\n",
    "    y0=mean_error_rolling,\n",
    "    x1=residuals_rolling.index[-1],\n",
    "    y1=mean_error_rolling,\n",
    "    line=dict(color=\"red\", dash=\"dot\"),\n",
    ")\n",
    "fig_resid_rolling.show()"
   ]
  },
  {
   "cell_type": "markdown",
   "metadata": {},
   "source": [
    "##### Note: I had to use enforce_stationarity=False here if not I would get a LinAlgError: LU decomposition error."
   ]
  },
  {
   "cell_type": "code",
   "execution_count": 163,
   "metadata": {},
   "outputs": [
    {
     "data": {
      "text/html": [
       "<iframe\n",
       "    scrolling=\"no\"\n",
       "    width=\"100%\"\n",
       "    height=\"545px\"\n",
       "    src=\"iframe_figures/figure_163.html\"\n",
       "    frameborder=\"0\"\n",
       "    allowfullscreen\n",
       "></iframe>\n"
      ]
     },
     "metadata": {},
     "output_type": "display_data"
    },
    {
     "name": "stdout",
     "output_type": "stream",
     "text": [
      "Mean Absolute Percent Error: 0.0116\n",
      "Root Mean Squared Error: 0.40789190822712473\n"
     ]
    }
   ],
   "source": [
    "plot_data_rolling = pd.DataFrame({'datetime': test_data.index, 'test_data': test_data.values, 'predictions': predictions_rolling})\n",
    "# print(plot_data)\n",
    "fig_pred_test_rolling = px.line(plot_data_rolling, x='datetime', y=['test_data', 'predictions'], labels={'datetime': 'Datetime', 'value': 'Mean Temperature (°C)'}, title='Test Data and Predictions (Rolling Window)')\n",
    "fig_pred_test_rolling.update_xaxes(dtick='M1', tickangle=45)\n",
    "fig_pred_test_rolling.update_yaxes(dtick=0.5, tickangle=45)\n",
    "fig_pred_test_rolling.update_traces(hovertemplate='Datetime: %{x}<br>Mean Temperature: %{y}°C')\n",
    "fig_pred_test_rolling.show()\n",
    "\n",
    "print(f\"Mean Absolute Percent Error: {round(np.mean(abs(residuals_rolling/test_data)), 4)}\")\n",
    "print(f\"Root Mean Squared Error: {np.sqrt(np.mean(residuals_rolling**2))}\")"
   ]
  },
  {
   "cell_type": "markdown",
   "metadata": {},
   "source": [
    "##### The RFO of SARIMA(11,1,6)(0,0,1)[12] did worse than its non RFO (RMSE=0.34996), similar to the RFO of ARIMA with the non-RFO ARIMA. Overall, looking at the above results, it seems that auto SARIMA and auto ARIMA performed about the same.</br>SARIMA(11,1,6)(0,0,1)[12]: 0.34996</br>SARIMA(11,1,6)(0,0,1)[12] RFO: 0.40789</br>ARIMA(12,0,8)(0,0,0)[0]: 0.37388</br>ARIMA(12,0,8)(0,0,0)[0] RFO: 0.40278"
   ]
  },
  {
   "cell_type": "markdown",
   "metadata": {},
   "source": [
    "### Use LSTM model"
   ]
  },
  {
   "cell_type": "code",
   "execution_count": 8,
   "metadata": {},
   "outputs": [
    {
     "data": {
      "text/html": [
       "<iframe\n",
       "    scrolling=\"no\"\n",
       "    width=\"100%\"\n",
       "    height=\"545px\"\n",
       "    src=\"iframe_figures/figure_8.html\"\n",
       "    frameborder=\"0\"\n",
       "    allowfullscreen\n",
       "></iframe>\n"
      ]
     },
     "metadata": {},
     "output_type": "display_data"
    }
   ],
   "source": [
    "fig_monthly_mean_temp.show()"
   ]
  },
  {
   "cell_type": "code",
   "execution_count": 18,
   "metadata": {},
   "outputs": [
    {
     "data": {
      "text/html": [
       "<iframe\n",
       "    scrolling=\"no\"\n",
       "    width=\"100%\"\n",
       "    height=\"545px\"\n",
       "    src=\"iframe_figures/figure_18.html\"\n",
       "    frameborder=\"0\"\n",
       "    allowfullscreen\n",
       "></iframe>\n"
      ]
     },
     "metadata": {},
     "output_type": "display_data"
    }
   ],
   "source": [
    "# Perform seasonal decomposition (this can help analyse the individual components in greater detail)\n",
    "results = seasonal_decompose(series_monthly_mean_temp)\n",
    "\n",
    "# Plot the seasonal decomposition \n",
    "fig_decomposition = px.line(results.observed, title='Seasonal Decomposition - Observed')\n",
    "fig_decomposition.update_xaxes(title='Datetime')\n",
    "fig_decomposition.update_yaxes(title='Observed')\n",
    "fig_decomposition.show()"
   ]
  },
  {
   "cell_type": "code",
   "execution_count": 19,
   "metadata": {},
   "outputs": [
    {
     "data": {
      "text/html": [
       "<iframe\n",
       "    scrolling=\"no\"\n",
       "    width=\"100%\"\n",
       "    height=\"545px\"\n",
       "    src=\"iframe_figures/figure_19.html\"\n",
       "    frameborder=\"0\"\n",
       "    allowfullscreen\n",
       "></iframe>\n"
      ]
     },
     "metadata": {},
     "output_type": "display_data"
    }
   ],
   "source": [
    "fig_trend = px.line(results.trend, title='Seasonal Decomposition - Trend')\n",
    "fig_trend.update_xaxes(title='Datetime')\n",
    "fig_trend.update_yaxes(title='Trend')\n",
    "fig_trend.show()"
   ]
  },
  {
   "cell_type": "code",
   "execution_count": 20,
   "metadata": {},
   "outputs": [
    {
     "data": {
      "text/html": [
       "<iframe\n",
       "    scrolling=\"no\"\n",
       "    width=\"100%\"\n",
       "    height=\"545px\"\n",
       "    src=\"iframe_figures/figure_20.html\"\n",
       "    frameborder=\"0\"\n",
       "    allowfullscreen\n",
       "></iframe>\n"
      ]
     },
     "metadata": {},
     "output_type": "display_data"
    }
   ],
   "source": [
    "fig_seasonal = px.line(results.seasonal, title='Seasonal Decomposition - Seasonal')\n",
    "fig_seasonal.update_xaxes(title='Datetime')\n",
    "fig_seasonal.update_yaxes(title='Seasonal')\n",
    "fig_seasonal.show()"
   ]
  },
  {
   "cell_type": "code",
   "execution_count": 21,
   "metadata": {},
   "outputs": [
    {
     "data": {
      "text/html": [
       "<iframe\n",
       "    scrolling=\"no\"\n",
       "    width=\"100%\"\n",
       "    height=\"545px\"\n",
       "    src=\"iframe_figures/figure_21.html\"\n",
       "    frameborder=\"0\"\n",
       "    allowfullscreen\n",
       "></iframe>\n"
      ]
     },
     "metadata": {},
     "output_type": "display_data"
    }
   ],
   "source": [
    "fig_residual = px.line(results.resid, title='Seasonal Decomposition - Residual')\n",
    "fig_residual.update_xaxes(title='Datetime')\n",
    "fig_residual.update_yaxes(title='Residual')\n",
    "fig_residual.show()"
   ]
  },
  {
   "cell_type": "markdown",
   "metadata": {},
   "source": [
    "##### There is no need to make the data stationary here as RNN can work on more complex and non-stationary data compared to the ARIMA models."
   ]
  },
  {
   "cell_type": "code",
   "execution_count": 217,
   "metadata": {},
   "outputs": [
    {
     "name": "stdout",
     "output_type": "stream",
     "text": [
      "(496, 1)\n"
     ]
    },
    {
     "data": {
      "text/html": [
       "<iframe\n",
       "    scrolling=\"no\"\n",
       "    width=\"100%\"\n",
       "    height=\"545px\"\n",
       "    src=\"iframe_figures/figure_217.html\"\n",
       "    frameborder=\"0\"\n",
       "    allowfullscreen\n",
       "></iframe>\n"
      ]
     },
     "metadata": {},
     "output_type": "display_data"
    }
   ],
   "source": [
    "# set seed to ensure determinism and reproduceability (always retest from here)\n",
    "os.environ['TF_DETERMINISTIC_OPS'] = '1'\n",
    "tf.keras.utils.set_random_seed(1)\n",
    "tf.config.experimental.enable_op_determinism()\n",
    "\n",
    "# print(series_monthly_mean_temp)\n",
    "df_monthly_mean_temp = series_monthly_mean_temp.to_frame()  # Convert Series to DataFrame\n",
    "# print(df_monthly_mean_temp)\n",
    "scaler = MinMaxScaler()\n",
    "scaler.fit(df_monthly_mean_temp)\n",
    "df_normalised_monthly_mean_temp = scaler.transform(df_monthly_mean_temp)\n",
    "print(df_normalised_monthly_mean_temp.shape)\n",
    "\n",
    "# Create a new DataFrame with the normalized values\n",
    "df_normalised_monthly_mean_temp = pd.DataFrame(df_normalised_monthly_mean_temp, columns=['normalised'], index=df_monthly_mean_temp.index)\n",
    "# print(df_normalised)\n",
    "mean_normalised_monthly_mean_temp = df_normalised_monthly_mean_temp['normalised'].mean()\n",
    "\n",
    "# Plot the normalized data\n",
    "fig_normalised_monthly_mean_temp = px.line(df_normalised_monthly_mean_temp, labels={df_normalised_monthly_mean_temp.index.name: 'Datetime', 'value': 'Normalised'}, title='Normalised Mean Temperature')\n",
    "fig_normalised_monthly_mean_temp.update_xaxes(dtick='M12', tickangle=45)\n",
    "fig_normalised_monthly_mean_temp.update_yaxes(dtick=0.2, tickangle=45)\n",
    "fig_normalised_monthly_mean_temp.update_traces(hovertemplate='Datetime: %{x}<br>Normalised Value: %{y}')\n",
    "\n",
    "# add the mean line\n",
    "fig_normalised_monthly_mean_temp.add_shape(\n",
    "    type=\"line\",\n",
    "    x0=df_normalised_monthly_mean_temp.index[0],\n",
    "    y0=mean_normalised_monthly_mean_temp,\n",
    "    x1=df_normalised_monthly_mean_temp.index[-1],\n",
    "    y1=mean_normalised_monthly_mean_temp,\n",
    "    line=dict(color=\"red\", dash=\"dot\"),\n",
    ")\n",
    "fig_normalised_monthly_mean_temp.show()"
   ]
  },
  {
   "cell_type": "code",
   "execution_count": 218,
   "metadata": {},
   "outputs": [],
   "source": [
    "# split train:test to 80:20\n",
    "train_end = int(len(df_normalised_monthly_mean_temp) * 0.8)\n",
    "train_data = df_monthly_mean_temp[:train_end]\n",
    "test_data = df_monthly_mean_temp[train_end:]\n",
    "train_data_norm = df_normalised_monthly_mean_temp[:train_end].values\n",
    "test_data_norm = df_normalised_monthly_mean_temp[train_end:].values\n",
    "\n",
    "# print(train_data)\n",
    "# print(test_data)\n",
    "# print(train_data_norm.shape)\n",
    "# print(test_data_norm.shape)"
   ]
  },
  {
   "cell_type": "code",
   "execution_count": 219,
   "metadata": {},
   "outputs": [],
   "source": [
    "# define generator\n",
    "n_input = 12\n",
    "n_features = 1\n",
    "generator = TimeseriesGenerator(train_data_norm, train_data_norm, length=n_input, batch_size=1)\n",
    "\n",
    "# Create the validation generator\n",
    "validation_generator = TimeseriesGenerator(test_data_norm, test_data_norm, length=n_input, batch_size=1)"
   ]
  },
  {
   "cell_type": "code",
   "execution_count": 220,
   "metadata": {},
   "outputs": [
    {
     "name": "stdout",
     "output_type": "stream",
     "text": [
      "Given the Array: \n",
      "[0.12195122 0.41463415 0.43902439 0.3902439  0.63414634 0.73170732\n",
      " 0.68292683 0.56097561 0.6097561  0.48780488 0.46341463 0.19512195]\n",
      "Predict this y: \n",
      " [0.26829268]\n"
     ]
    },
    {
     "data": {
      "text/plain": [
       "(1, 12, 1)"
      ]
     },
     "execution_count": 220,
     "metadata": {},
     "output_type": "execute_result"
    }
   ],
   "source": [
    "X,y = generator[0]\n",
    "print(f'Given the Array: \\n{X.flatten()}')\n",
    "print(f'Predict this y: \\n {y.flatten()}')\n",
    "X.shape"
   ]
  },
  {
   "cell_type": "code",
   "execution_count": 221,
   "metadata": {},
   "outputs": [
    {
     "name": "stdout",
     "output_type": "stream",
     "text": [
      "Model: \"sequential_30\"\n",
      "_________________________________________________________________\n",
      " Layer (type)                Output Shape              Param #   \n",
      "=================================================================\n",
      " lstm_30 (LSTM)              (None, 100)               40800     \n",
      "                                                                 \n",
      " dense_30 (Dense)            (None, 1)                 101       \n",
      "                                                                 \n",
      "=================================================================\n",
      "Total params: 40,901\n",
      "Trainable params: 40,901\n",
      "Non-trainable params: 0\n",
      "_________________________________________________________________\n"
     ]
    }
   ],
   "source": [
    "# define model\n",
    "model = Sequential()\n",
    "model.add(LSTM(100, activation='tanh', input_shape=(n_input, n_features))) # here i used tanh instead of relu to take advantage of cuDNN to speed up training\n",
    "# model.add(Dropout(0.2)) \n",
    "model.add(Dense(1))\n",
    "# optimizer=tf.keras.optimizers.Adam(learning_rate=0.001)\n",
    "model.compile(optimizer=tf.keras.optimizers.Adam(learning_rate=0.001), loss='mse')\n",
    "model.summary()"
   ]
  },
  {
   "cell_type": "code",
   "execution_count": 222,
   "metadata": {},
   "outputs": [
    {
     "name": "stdout",
     "output_type": "stream",
     "text": [
      "Epoch 1/100\n",
      "384/384 [==============================] - 3s 4ms/step - loss: 0.0386 - val_loss: 0.0362\n",
      "Epoch 2/100\n",
      "384/384 [==============================] - 1s 4ms/step - loss: 0.0220 - val_loss: 0.0176\n",
      "Epoch 3/100\n",
      "384/384 [==============================] - 1s 4ms/step - loss: 0.0180 - val_loss: 0.0163\n",
      "Epoch 4/100\n",
      "384/384 [==============================] - 1s 4ms/step - loss: 0.0162 - val_loss: 0.0187\n",
      "Epoch 5/100\n",
      "384/384 [==============================] - 1s 4ms/step - loss: 0.0169 - val_loss: 0.0153\n",
      "Epoch 6/100\n",
      "384/384 [==============================] - 1s 4ms/step - loss: 0.0162 - val_loss: 0.0156\n",
      "Epoch 7/100\n",
      "384/384 [==============================] - 1s 4ms/step - loss: 0.0160 - val_loss: 0.0159\n",
      "Epoch 8/100\n",
      "384/384 [==============================] - 1s 3ms/step - loss: 0.0151 - val_loss: 0.0148\n",
      "Epoch 9/100\n",
      "384/384 [==============================] - 1s 4ms/step - loss: 0.0153 - val_loss: 0.0155\n",
      "Epoch 10/100\n",
      "384/384 [==============================] - 1s 4ms/step - loss: 0.0151 - val_loss: 0.0149\n",
      "Epoch 11/100\n",
      "384/384 [==============================] - 1s 4ms/step - loss: 0.0150 - val_loss: 0.0148\n",
      "Epoch 12/100\n",
      "384/384 [==============================] - 1s 4ms/step - loss: 0.0150 - val_loss: 0.0174\n",
      "Epoch 13/100\n",
      "384/384 [==============================] - 2s 4ms/step - loss: 0.0146 - val_loss: 0.0166\n",
      "Epoch 14/100\n",
      "384/384 [==============================] - 1s 4ms/step - loss: 0.0151 - val_loss: 0.0158\n",
      "Epoch 15/100\n",
      "384/384 [==============================] - 1s 4ms/step - loss: 0.0143 - val_loss: 0.0158\n",
      "Epoch 16/100\n",
      "384/384 [==============================] - 1s 3ms/step - loss: 0.0148 - val_loss: 0.0166\n",
      "Epoch 17/100\n",
      "384/384 [==============================] - 1s 3ms/step - loss: 0.0140 - val_loss: 0.0165\n",
      "Epoch 18/100\n",
      "384/384 [==============================] - 1s 4ms/step - loss: 0.0145 - val_loss: 0.0158\n",
      "Epoch 19/100\n",
      "384/384 [==============================] - 1s 4ms/step - loss: 0.0150 - val_loss: 0.0160\n",
      "Epoch 20/100\n",
      "384/384 [==============================] - 1s 4ms/step - loss: 0.0142 - val_loss: 0.0170\n",
      "Epoch 21/100\n",
      "384/384 [==============================] - 1s 4ms/step - loss: 0.0144 - val_loss: 0.0150\n",
      "Epoch 22/100\n",
      "384/384 [==============================] - 1s 4ms/step - loss: 0.0143 - val_loss: 0.0152\n",
      "Epoch 23/100\n",
      "384/384 [==============================] - 1s 3ms/step - loss: 0.0139 - val_loss: 0.0153\n",
      "Epoch 24/100\n",
      "384/384 [==============================] - 1s 4ms/step - loss: 0.0139 - val_loss: 0.0163\n",
      "Epoch 25/100\n",
      "384/384 [==============================] - 1s 3ms/step - loss: 0.0136 - val_loss: 0.0210\n",
      "Epoch 26/100\n",
      "384/384 [==============================] - 1s 4ms/step - loss: 0.0138 - val_loss: 0.0153\n",
      "Epoch 27/100\n",
      "384/384 [==============================] - 1s 4ms/step - loss: 0.0136 - val_loss: 0.0149\n",
      "Epoch 28/100\n",
      "384/384 [==============================] - 1s 4ms/step - loss: 0.0137 - val_loss: 0.0156\n",
      "Epoch 29/100\n",
      "384/384 [==============================] - 1s 4ms/step - loss: 0.0138 - val_loss: 0.0186\n",
      "Epoch 30/100\n",
      "384/384 [==============================] - 1s 4ms/step - loss: 0.0137 - val_loss: 0.0155\n",
      "Epoch 31/100\n",
      "384/384 [==============================] - 2s 4ms/step - loss: 0.0135 - val_loss: 0.0167\n",
      "Epoch 32/100\n",
      "384/384 [==============================] - 1s 4ms/step - loss: 0.0128 - val_loss: 0.0204\n",
      "Epoch 33/100\n",
      "384/384 [==============================] - 1s 4ms/step - loss: 0.0138 - val_loss: 0.0163\n",
      "Epoch 34/100\n",
      "384/384 [==============================] - 1s 4ms/step - loss: 0.0127 - val_loss: 0.0173\n",
      "Epoch 35/100\n",
      "384/384 [==============================] - 1s 4ms/step - loss: 0.0129 - val_loss: 0.0163\n",
      "Epoch 36/100\n",
      "384/384 [==============================] - 1s 4ms/step - loss: 0.0126 - val_loss: 0.0146\n",
      "Epoch 37/100\n",
      "384/384 [==============================] - 1s 4ms/step - loss: 0.0129 - val_loss: 0.0153\n",
      "Epoch 38/100\n",
      "384/384 [==============================] - 1s 4ms/step - loss: 0.0126 - val_loss: 0.0161\n",
      "Epoch 39/100\n",
      "384/384 [==============================] - 1s 4ms/step - loss: 0.0127 - val_loss: 0.0162\n",
      "Epoch 40/100\n",
      "384/384 [==============================] - 1s 4ms/step - loss: 0.0126 - val_loss: 0.0173\n",
      "Epoch 41/100\n",
      "384/384 [==============================] - 1s 4ms/step - loss: 0.0125 - val_loss: 0.0150\n",
      "Epoch 42/100\n",
      "384/384 [==============================] - 1s 4ms/step - loss: 0.0124 - val_loss: 0.0153\n",
      "Epoch 43/100\n",
      "384/384 [==============================] - 1s 4ms/step - loss: 0.0122 - val_loss: 0.0178\n",
      "Epoch 44/100\n",
      "384/384 [==============================] - 1s 4ms/step - loss: 0.0129 - val_loss: 0.0144\n",
      "Epoch 45/100\n",
      "384/384 [==============================] - 1s 4ms/step - loss: 0.0126 - val_loss: 0.0142\n",
      "Epoch 46/100\n",
      "384/384 [==============================] - 1s 4ms/step - loss: 0.0123 - val_loss: 0.0146\n",
      "Epoch 47/100\n",
      "384/384 [==============================] - 1s 4ms/step - loss: 0.0122 - val_loss: 0.0152\n",
      "Epoch 48/100\n",
      "384/384 [==============================] - 2s 4ms/step - loss: 0.0128 - val_loss: 0.0150\n",
      "Epoch 49/100\n",
      "384/384 [==============================] - 1s 4ms/step - loss: 0.0126 - val_loss: 0.0165\n",
      "Epoch 50/100\n",
      "384/384 [==============================] - 1s 4ms/step - loss: 0.0121 - val_loss: 0.0150\n",
      "Epoch 51/100\n",
      "384/384 [==============================] - 2s 4ms/step - loss: 0.0121 - val_loss: 0.0154\n",
      "Epoch 52/100\n",
      "384/384 [==============================] - 1s 4ms/step - loss: 0.0119 - val_loss: 0.0155\n",
      "Epoch 53/100\n",
      "384/384 [==============================] - 1s 4ms/step - loss: 0.0117 - val_loss: 0.0145\n",
      "Epoch 54/100\n",
      "384/384 [==============================] - 1s 4ms/step - loss: 0.0115 - val_loss: 0.0160\n",
      "Epoch 55/100\n",
      "384/384 [==============================] - 1s 4ms/step - loss: 0.0115 - val_loss: 0.0158\n",
      "Epoch 56/100\n",
      "384/384 [==============================] - 1s 4ms/step - loss: 0.0114 - val_loss: 0.0147\n",
      "Epoch 57/100\n",
      "384/384 [==============================] - 1s 4ms/step - loss: 0.0118 - val_loss: 0.0154\n",
      "Epoch 58/100\n",
      "384/384 [==============================] - 1s 4ms/step - loss: 0.0118 - val_loss: 0.0143\n",
      "Epoch 59/100\n",
      "384/384 [==============================] - 1s 4ms/step - loss: 0.0112 - val_loss: 0.0156\n",
      "Epoch 60/100\n",
      "384/384 [==============================] - 1s 4ms/step - loss: 0.0113 - val_loss: 0.0157\n",
      "Epoch 61/100\n",
      "384/384 [==============================] - 1s 4ms/step - loss: 0.0117 - val_loss: 0.0159\n",
      "Epoch 62/100\n",
      "384/384 [==============================] - 1s 4ms/step - loss: 0.0112 - val_loss: 0.0146\n",
      "Epoch 63/100\n",
      "384/384 [==============================] - 1s 4ms/step - loss: 0.0113 - val_loss: 0.0155\n",
      "Epoch 64/100\n",
      "384/384 [==============================] - 1s 4ms/step - loss: 0.0106 - val_loss: 0.0171\n",
      "Epoch 65/100\n",
      "384/384 [==============================] - 1s 4ms/step - loss: 0.0109 - val_loss: 0.0161\n",
      "Epoch 66/100\n",
      "384/384 [==============================] - 1s 4ms/step - loss: 0.0116 - val_loss: 0.0151\n",
      "Epoch 67/100\n",
      "384/384 [==============================] - 1s 4ms/step - loss: 0.0112 - val_loss: 0.0152\n",
      "Epoch 68/100\n",
      "384/384 [==============================] - 1s 4ms/step - loss: 0.0109 - val_loss: 0.0167\n",
      "Epoch 69/100\n",
      "384/384 [==============================] - 1s 4ms/step - loss: 0.0107 - val_loss: 0.0146\n",
      "Epoch 70/100\n",
      "384/384 [==============================] - 1s 4ms/step - loss: 0.0106 - val_loss: 0.0147\n",
      "Epoch 71/100\n",
      "384/384 [==============================] - 1s 4ms/step - loss: 0.0105 - val_loss: 0.0158\n",
      "Epoch 72/100\n",
      "384/384 [==============================] - 1s 4ms/step - loss: 0.0103 - val_loss: 0.0141\n",
      "Epoch 73/100\n",
      "384/384 [==============================] - 1s 4ms/step - loss: 0.0102 - val_loss: 0.0174\n",
      "Epoch 74/100\n",
      "384/384 [==============================] - 2s 4ms/step - loss: 0.0100 - val_loss: 0.0173\n",
      "Epoch 75/100\n",
      "384/384 [==============================] - 1s 4ms/step - loss: 0.0103 - val_loss: 0.0154\n",
      "Epoch 76/100\n",
      "384/384 [==============================] - 1s 4ms/step - loss: 0.0097 - val_loss: 0.0153\n",
      "Epoch 77/100\n",
      "384/384 [==============================] - 1s 4ms/step - loss: 0.0097 - val_loss: 0.0174\n",
      "Epoch 78/100\n",
      "384/384 [==============================] - 1s 4ms/step - loss: 0.0101 - val_loss: 0.0157\n",
      "Epoch 79/100\n",
      "384/384 [==============================] - 1s 4ms/step - loss: 0.0100 - val_loss: 0.0149\n",
      "Epoch 80/100\n",
      "384/384 [==============================] - 1s 4ms/step - loss: 0.0096 - val_loss: 0.0156\n",
      "Epoch 81/100\n",
      "384/384 [==============================] - 1s 4ms/step - loss: 0.0097 - val_loss: 0.0153\n",
      "Epoch 82/100\n",
      "384/384 [==============================] - 1s 4ms/step - loss: 0.0099 - val_loss: 0.0167\n",
      "Epoch 83/100\n",
      "384/384 [==============================] - 1s 4ms/step - loss: 0.0102 - val_loss: 0.0156\n",
      "Epoch 84/100\n",
      "384/384 [==============================] - 1s 4ms/step - loss: 0.0097 - val_loss: 0.0142\n",
      "Epoch 85/100\n",
      "384/384 [==============================] - 1s 4ms/step - loss: 0.0096 - val_loss: 0.0160\n",
      "Epoch 86/100\n",
      "384/384 [==============================] - 1s 4ms/step - loss: 0.0093 - val_loss: 0.0165\n",
      "Epoch 87/100\n",
      "384/384 [==============================] - 1s 4ms/step - loss: 0.0095 - val_loss: 0.0162\n",
      "Epoch 88/100\n",
      "384/384 [==============================] - 2s 4ms/step - loss: 0.0091 - val_loss: 0.0171\n",
      "Epoch 89/100\n",
      "384/384 [==============================] - 1s 4ms/step - loss: 0.0093 - val_loss: 0.0163\n",
      "Epoch 90/100\n",
      "384/384 [==============================] - 1s 4ms/step - loss: 0.0090 - val_loss: 0.0143\n",
      "Epoch 91/100\n",
      "384/384 [==============================] - 1s 4ms/step - loss: 0.0091 - val_loss: 0.0143\n",
      "Epoch 92/100\n",
      "384/384 [==============================] - 1s 4ms/step - loss: 0.0094 - val_loss: 0.0153\n",
      "Epoch 93/100\n",
      "384/384 [==============================] - 1s 4ms/step - loss: 0.0089 - val_loss: 0.0151\n",
      "Epoch 94/100\n",
      "384/384 [==============================] - 1s 4ms/step - loss: 0.0089 - val_loss: 0.0150\n",
      "Epoch 95/100\n",
      "384/384 [==============================] - 1s 4ms/step - loss: 0.0088 - val_loss: 0.0143\n",
      "Epoch 96/100\n",
      "384/384 [==============================] - 1s 4ms/step - loss: 0.0089 - val_loss: 0.0139\n",
      "Epoch 97/100\n",
      "384/384 [==============================] - 1s 4ms/step - loss: 0.0086 - val_loss: 0.0170\n",
      "Epoch 98/100\n",
      "384/384 [==============================] - 1s 4ms/step - loss: 0.0088 - val_loss: 0.0199\n",
      "Epoch 99/100\n",
      "384/384 [==============================] - 1s 4ms/step - loss: 0.0093 - val_loss: 0.0172\n",
      "Epoch 100/100\n",
      "384/384 [==============================] - 1s 4ms/step - loss: 0.0108 - val_loss: 0.0141\n"
     ]
    }
   ],
   "source": [
    "# fit model and save history\n",
    "history = model.fit(generator,epochs=100, validation_data=validation_generator)"
   ]
  },
  {
   "cell_type": "code",
   "execution_count": 223,
   "metadata": {},
   "outputs": [
    {
     "name": "stdout",
     "output_type": "stream",
     "text": [
      "Minimum validation loss: 0.01386861503124237\n",
      "Epoch with minimum validation loss: 96\n"
     ]
    },
    {
     "data": {
      "text/html": [
       "<iframe\n",
       "    scrolling=\"no\"\n",
       "    width=\"100%\"\n",
       "    height=\"545px\"\n",
       "    src=\"iframe_figures/figure_223.html\"\n",
       "    frameborder=\"0\"\n",
       "    allowfullscreen\n",
       "></iframe>\n"
      ]
     },
     "metadata": {},
     "output_type": "display_data"
    }
   ],
   "source": [
    "# Get loss history\n",
    "loss = history.history['loss']\n",
    "val_loss = history.history['val_loss']\n",
    "\n",
    "# print(f\"training loss: {loss}\")\n",
    "# print(f\"validation loss: {val_loss}\")\n",
    "\n",
    "# Find the epoch with the minimum validation loss\n",
    "min_val_loss_epoch = np.argmin(val_loss) + 1\n",
    "min_val_loss = val_loss[min_val_loss_epoch - 1]\n",
    "\n",
    "print(f\"Minimum validation loss: {min_val_loss}\")\n",
    "print(f\"Epoch with minimum validation loss: {min_val_loss_epoch}\")\n",
    "\n",
    "# Create DataFrame\n",
    "epochs = range(1, len(loss) + 1)\n",
    "loss_df = pd.DataFrame({'epoch': epochs, 'training_loss': loss, 'validation_loss': val_loss})\n",
    "\n",
    "# Plot loss\n",
    "fig_loss = px.line(loss_df, x='epoch', y=['training_loss', 'validation_loss'], labels={'value': 'Loss', 'epoch': 'Epoch'}, title='Training and Validation Loss')\n",
    "fig_loss.update_xaxes(tickangle=45)\n",
    "fig_loss.update_yaxes(tickangle=45)\n",
    "fig_loss.update_traces(hovertemplate='Epoch: %{x}<br>Loss: %{y}')\n",
    "fig_loss.show()"
   ]
  },
  {
   "cell_type": "code",
   "execution_count": 224,
   "metadata": {},
   "outputs": [
    {
     "name": "stdout",
     "output_type": "stream",
     "text": [
      "1/1 [==============================] - 0s 243ms/step\n"
     ]
    },
    {
     "data": {
      "text/plain": [
       "array([[0.3631621]], dtype=float32)"
      ]
     },
     "execution_count": 224,
     "metadata": {},
     "output_type": "execute_result"
    }
   ],
   "source": [
    "last_train_batch = train_data_norm[-12:]\n",
    "last_train_batch = last_train_batch.reshape((1, n_input, n_features))\n",
    "model.predict(last_train_batch)\n"
   ]
  },
  {
   "cell_type": "code",
   "execution_count": 225,
   "metadata": {},
   "outputs": [
    {
     "data": {
      "text/plain": [
       "array([0.36585366])"
      ]
     },
     "execution_count": 225,
     "metadata": {},
     "output_type": "execute_result"
    }
   ],
   "source": [
    "test_data_norm[0]"
   ]
  },
  {
   "cell_type": "code",
   "execution_count": null,
   "metadata": {},
   "outputs": [
    {
     "name": "stdout",
     "output_type": "stream",
     "text": [
      "1/1 [==============================] - 0s 22ms/step\n",
      "1/1 [==============================] - 0s 21ms/step\n",
      "1/1 [==============================] - 0s 20ms/step\n",
      "1/1 [==============================] - 0s 22ms/step\n",
      "1/1 [==============================] - 0s 20ms/step\n",
      "1/1 [==============================] - 0s 20ms/step\n",
      "1/1 [==============================] - 0s 20ms/step\n",
      "1/1 [==============================] - 0s 21ms/step\n",
      "1/1 [==============================] - 0s 21ms/step\n",
      "1/1 [==============================] - 0s 19ms/step\n",
      "1/1 [==============================] - 0s 19ms/step\n",
      "1/1 [==============================] - 0s 18ms/step\n",
      "1/1 [==============================] - 0s 19ms/step\n",
      "1/1 [==============================] - 0s 19ms/step\n",
      "1/1 [==============================] - 0s 19ms/step\n",
      "1/1 [==============================] - 0s 18ms/step\n",
      "1/1 [==============================] - 0s 20ms/step\n",
      "1/1 [==============================] - 0s 19ms/step\n",
      "1/1 [==============================] - 0s 21ms/step\n",
      "1/1 [==============================] - 0s 20ms/step\n",
      "1/1 [==============================] - 0s 19ms/step\n",
      "1/1 [==============================] - 0s 19ms/step\n",
      "1/1 [==============================] - 0s 19ms/step\n",
      "1/1 [==============================] - 0s 20ms/step\n",
      "1/1 [==============================] - 0s 19ms/step\n",
      "1/1 [==============================] - 0s 20ms/step\n",
      "1/1 [==============================] - 0s 19ms/step\n",
      "1/1 [==============================] - 0s 19ms/step\n",
      "1/1 [==============================] - 0s 22ms/step\n",
      "1/1 [==============================] - 0s 31ms/step\n",
      "1/1 [==============================] - 0s 19ms/step\n",
      "1/1 [==============================] - 0s 22ms/step\n",
      "1/1 [==============================] - 0s 20ms/step\n",
      "1/1 [==============================] - 0s 18ms/step\n",
      "1/1 [==============================] - 0s 19ms/step\n",
      "1/1 [==============================] - 0s 20ms/step\n",
      "1/1 [==============================] - 0s 21ms/step\n",
      "1/1 [==============================] - 0s 20ms/step\n",
      "1/1 [==============================] - 0s 21ms/step\n",
      "1/1 [==============================] - 0s 19ms/step\n",
      "1/1 [==============================] - 0s 21ms/step\n",
      "1/1 [==============================] - 0s 21ms/step\n",
      "1/1 [==============================] - 0s 19ms/step\n",
      "1/1 [==============================] - 0s 20ms/step\n",
      "1/1 [==============================] - 0s 21ms/step\n",
      "1/1 [==============================] - 0s 20ms/step\n",
      "1/1 [==============================] - 0s 20ms/step\n",
      "1/1 [==============================] - 0s 20ms/step\n",
      "1/1 [==============================] - 0s 19ms/step\n",
      "1/1 [==============================] - 0s 19ms/step\n",
      "1/1 [==============================] - 0s 20ms/step\n",
      "1/1 [==============================] - 0s 20ms/step\n",
      "1/1 [==============================] - 0s 20ms/step\n",
      "1/1 [==============================] - 0s 19ms/step\n",
      "1/1 [==============================] - 0s 22ms/step\n",
      "1/1 [==============================] - 0s 21ms/step\n",
      "1/1 [==============================] - 0s 21ms/step\n",
      "1/1 [==============================] - 0s 20ms/step\n",
      "1/1 [==============================] - 0s 20ms/step\n",
      "1/1 [==============================] - 0s 21ms/step\n",
      "1/1 [==============================] - 0s 20ms/step\n",
      "1/1 [==============================] - 0s 20ms/step\n",
      "1/1 [==============================] - 0s 19ms/step\n",
      "1/1 [==============================] - 0s 20ms/step\n",
      "1/1 [==============================] - 0s 19ms/step\n",
      "1/1 [==============================] - 0s 19ms/step\n",
      "1/1 [==============================] - 0s 18ms/step\n",
      "1/1 [==============================] - 0s 19ms/step\n",
      "1/1 [==============================] - 0s 19ms/step\n",
      "1/1 [==============================] - 0s 20ms/step\n",
      "1/1 [==============================] - 0s 21ms/step\n",
      "1/1 [==============================] - 0s 20ms/step\n",
      "1/1 [==============================] - 0s 19ms/step\n",
      "1/1 [==============================] - 0s 19ms/step\n",
      "1/1 [==============================] - 0s 19ms/step\n",
      "1/1 [==============================] - 0s 19ms/step\n",
      "1/1 [==============================] - 0s 20ms/step\n",
      "1/1 [==============================] - 0s 19ms/step\n",
      "1/1 [==============================] - 0s 19ms/step\n",
      "1/1 [==============================] - 0s 20ms/step\n",
      "1/1 [==============================] - 0s 21ms/step\n",
      "1/1 [==============================] - 0s 18ms/step\n",
      "1/1 [==============================] - 0s 19ms/step\n",
      "1/1 [==============================] - 0s 20ms/step\n",
      "1/1 [==============================] - 0s 19ms/step\n",
      "1/1 [==============================] - 0s 19ms/step\n",
      "1/1 [==============================] - 0s 20ms/step\n",
      "1/1 [==============================] - 0s 20ms/step\n",
      "1/1 [==============================] - 0s 19ms/step\n",
      "1/1 [==============================] - 0s 20ms/step\n",
      "1/1 [==============================] - 0s 21ms/step\n",
      "1/1 [==============================] - 0s 19ms/step\n",
      "1/1 [==============================] - 0s 20ms/step\n",
      "1/1 [==============================] - 0s 20ms/step\n",
      "1/1 [==============================] - 0s 20ms/step\n",
      "1/1 [==============================] - 0s 20ms/step\n",
      "1/1 [==============================] - 0s 21ms/step\n",
      "1/1 [==============================] - 0s 20ms/step\n",
      "1/1 [==============================] - 0s 19ms/step\n",
      "1/1 [==============================] - 0s 19ms/step\n"
     ]
    }
   ],
   "source": [
    "predictions_norm = []\n",
    "\n",
    "first_eval_batch = train_data_norm[-n_input:]\n",
    "current_batch = first_eval_batch.reshape((1, n_input, n_features))\n",
    "\n",
    "for i in range(len(test_data)):\n",
    "    \n",
    "    # get the prediction value for the first batch\n",
    "    current_pred = model.predict(current_batch)[0]\n",
    "    \n",
    "    # append the prediction into the array\n",
    "    predictions_norm.append(current_pred) \n",
    "    \n",
    "    # use the prediction to update the batch and remove the first value\n",
    "    current_batch = np.append(current_batch[:,1:,:],[[current_pred]],axis=1)"
   ]
  },
  {
   "cell_type": "code",
   "execution_count": 213,
   "metadata": {},
   "outputs": [
    {
     "data": {
      "text/plain": [
       "[array([0.3631621], dtype=float32),\n",
       " array([0.42597657], dtype=float32),\n",
       " array([0.55605394], dtype=float32),\n",
       " array([0.6863072], dtype=float32),\n",
       " array([0.76753056], dtype=float32),\n",
       " array([0.78265554], dtype=float32),\n",
       " array([0.7166672], dtype=float32),\n",
       " array([0.62514055], dtype=float32),\n",
       " array([0.58941144], dtype=float32),\n",
       " array([0.5960854], dtype=float32),\n",
       " array([0.46640316], dtype=float32),\n",
       " array([0.34995174], dtype=float32),\n",
       " array([0.3467129], dtype=float32),\n",
       " array([0.40914553], dtype=float32),\n",
       " array([0.5226751], dtype=float32),\n",
       " array([0.6477614], dtype=float32),\n",
       " array([0.7378394], dtype=float32),\n",
       " array([0.74744046], dtype=float32),\n",
       " array([0.6793829], dtype=float32),\n",
       " array([0.6173713], dtype=float32),\n",
       " array([0.60769844], dtype=float32),\n",
       " array([0.5679723], dtype=float32),\n",
       " array([0.43790647], dtype=float32),\n",
       " array([0.33309907], dtype=float32),\n",
       " array([0.34270018], dtype=float32),\n",
       " array([0.41882026], dtype=float32),\n",
       " array([0.53937066], dtype=float32),\n",
       " array([0.66088694], dtype=float32),\n",
       " array([0.7408333], dtype=float32),\n",
       " array([0.73563373], dtype=float32),\n",
       " array([0.66083074], dtype=float32),\n",
       " array([0.61003214], dtype=float32),\n",
       " array([0.6057599], dtype=float32),\n",
       " array([0.54501873], dtype=float32),\n",
       " array([0.4108227], dtype=float32),\n",
       " array([0.32216114], dtype=float32),\n",
       " array([0.3482728], dtype=float32),\n",
       " array([0.43499267], dtype=float32),\n",
       " array([0.55982333], dtype=float32),\n",
       " array([0.67721254], dtype=float32),\n",
       " array([0.74539554], dtype=float32),\n",
       " array([0.7247614], dtype=float32),\n",
       " array([0.6457316], dtype=float32),\n",
       " array([0.6073772], dtype=float32),\n",
       " array([0.60195565], dtype=float32),\n",
       " array([0.5225945], dtype=float32),\n",
       " array([0.38721737], dtype=float32),\n",
       " array([0.3183669], dtype=float32),\n",
       " array([0.35786504], dtype=float32),\n",
       " array([0.4535848], dtype=float32),\n",
       " array([0.58080214], dtype=float32),\n",
       " array([0.6929304], dtype=float32),\n",
       " array([0.74772024], dtype=float32),\n",
       " array([0.71295345], dtype=float32),\n",
       " array([0.63422865], dtype=float32),\n",
       " array([0.6070014], dtype=float32),\n",
       " array([0.5953922], dtype=float32),\n",
       " array([0.49953616], dtype=float32),\n",
       " array([0.36705866], dtype=float32),\n",
       " array([0.3198491], dtype=float32),\n",
       " array([0.37054187], dtype=float32),\n",
       " array([0.4743411], dtype=float32),\n",
       " array([0.6020762], dtype=float32),\n",
       " array([0.70769], dtype=float32),\n",
       " array([0.7474501], dtype=float32),\n",
       " array([0.69963735], dtype=float32),\n",
       " array([0.62513304], dtype=float32),\n",
       " array([0.60743546], dtype=float32),\n",
       " array([0.58538324], dtype=float32),\n",
       " array([0.47501862], dtype=float32),\n",
       " array([0.3494174], dtype=float32),\n",
       " array([0.32500607], dtype=float32),\n",
       " array([0.38637668], dtype=float32),\n",
       " array([0.49778688], dtype=float32),\n",
       " array([0.6243601], dtype=float32),\n",
       " array([0.721662], dtype=float32),\n",
       " array([0.7444175], dtype=float32),\n",
       " array([0.68424314], dtype=float32),\n",
       " array([0.6174462], dtype=float32),\n",
       " array([0.607631], dtype=float32),\n",
       " array([0.57131624], dtype=float32),\n",
       " array([0.4487637], dtype=float32),\n",
       " array([0.33432245], dtype=float32),\n",
       " array([0.3327189], dtype=float32),\n",
       " array([0.40491027], dtype=float32),\n",
       " array([0.5231489], dtype=float32),\n",
       " array([0.6469705], dtype=float32),\n",
       " array([0.73380065], dtype=float32),\n",
       " array([0.73823464], dtype=float32),\n",
       " array([0.6673877], dtype=float32),\n",
       " array([0.6113859], dtype=float32),\n",
       " array([0.6067541], dtype=float32),\n",
       " array([0.5532779], dtype=float32),\n",
       " array([0.4219971], dtype=float32),\n",
       " array([0.3234139], dtype=float32),\n",
       " array([0.34187883], dtype=float32),\n",
       " array([0.42448664], dtype=float32),\n",
       " array([0.5479106], dtype=float32),\n",
       " array([0.6676974], dtype=float32),\n",
       " array([0.7423276], dtype=float32)]"
      ]
     },
     "execution_count": 227,
     "metadata": {},
     "output_type": "execute_result"
    }
   ],
   "source": [
    "predictions_norm"
   ]
  },
  {
   "cell_type": "code",
   "execution_count": 214,
   "metadata": {},
   "outputs": [
    {
     "name": "stdout",
     "output_type": "stream",
     "text": [
      "            mean_temp\n",
      "datetime             \n",
      "2015-01-31       26.9\n",
      "2015-02-28       27.0\n",
      "2015-03-31       28.2\n",
      "2015-04-30       28.6\n",
      "2015-05-31       28.7\n"
     ]
    }
   ],
   "source": [
    "# print(type(df_normalised_monthly_mean_temp))\n",
    "# print(type(test_data))\n",
    "# print(test_data.shape)\n",
    "# print(test_data[:5])\n",
    "print(test_data.head())\n",
    "predictions = scaler.inverse_transform(predictions_norm)"
   ]
  },
  {
   "cell_type": "code",
   "execution_count": 215,
   "metadata": {},
   "outputs": [
    {
     "data": {
      "text/html": [
       "<iframe\n",
       "    scrolling=\"no\"\n",
       "    width=\"100%\"\n",
       "    height=\"545px\"\n",
       "    src=\"iframe_figures/figure_229.html\"\n",
       "    frameborder=\"0\"\n",
       "    allowfullscreen\n",
       "></iframe>\n"
      ]
     },
     "metadata": {},
     "output_type": "display_data"
    }
   ],
   "source": [
    "residuals = test_data - predictions\n",
    "\n",
    "# print(type(residuals))\n",
    "# print(type(residuals))\n",
    "\n",
    "# Plot residuals\n",
    "fig_resid = px.line(residuals, labels={'datetime': 'Datetime', 'value': 'Error'}, title='Residuals from LSTM Model')\n",
    "fig_resid.update_xaxes(dtick='M12', tickangle=45)\n",
    "fig_resid.update_yaxes(dtick=0.5, tickangle=45)\n",
    "fig_resid.update_traces(name='error', hovertemplate='Datetime: %{x}<br>Error: %{y}')\n",
    "\n",
    "# add the mean line\n",
    "mean_error = np.mean(residuals, axis=0)\n",
    "# print(mean_error)\n",
    "# print(type(mean_error))\n",
    "fig_resid.add_shape(\n",
    "    type=\"line\",\n",
    "    x0=residuals.index[0],\n",
    "    y0=mean_error.values,\n",
    "    x1=residuals.index[-1],\n",
    "    y1=mean_error.values,\n",
    "    line=dict(color=\"red\", dash=\"dot\"),\n",
    ")\n",
    "fig_resid.show()"
   ]
  },
  {
   "cell_type": "code",
   "execution_count": 216,
   "metadata": {},
   "outputs": [
    {
     "data": {
      "text/html": [
       "<iframe\n",
       "    scrolling=\"no\"\n",
       "    width=\"100%\"\n",
       "    height=\"545px\"\n",
       "    src=\"iframe_figures/figure_230.html\"\n",
       "    frameborder=\"0\"\n",
       "    allowfullscreen\n",
       "></iframe>\n"
      ]
     },
     "metadata": {},
     "output_type": "display_data"
    },
    {
     "name": "stdout",
     "output_type": "stream",
     "text": [
      "Mean Absolute Percent Error: 0.0177\n",
      "Root Mean Squared Error: 0.6206300301271244\n"
     ]
    }
   ],
   "source": [
    "# print(test_data_no_norm.index)\n",
    "\n",
    "plot_data = pd.DataFrame({'datetime': test_data.index, 'test_data': test_data.values.flatten(), 'predictions': predictions.flatten()})\n",
    "# print(plot_data)\n",
    "fig_pred_test = px.line(plot_data, x='datetime', y=['test_data', 'predictions'], labels={'datetime': 'Datetime', 'value': 'Mean Temperature (°C)'}, title='Test Data and Predictions')\n",
    "fig_pred_test.update_xaxes(dtick='M12', tickangle=45)\n",
    "fig_pred_test.update_yaxes(dtick=0.5, tickangle=45)\n",
    "fig_pred_test.update_traces(hovertemplate='Datetime: %{x}<br>Mean Temperature: %{y}°C')\n",
    "fig_pred_test.show()\n",
    "\n",
    "print(f\"Mean Absolute Percent Error: {round(np.mean(abs(residuals/test_data), axis=0).item(), 4)}\")\n",
    "print(f\"Root Mean Squared Error: {np.sqrt(np.mean(residuals**2, axis=0)).item()}\")"
   ]
  },
  {
   "cell_type": "markdown",
   "metadata": {},
   "source": [
    "##### lr=0.001</br>No Dropout</br>90:10</br>LSTM(100 epochs):\n",
    "Mean Absolute Percent Error: 0.0198\n",
    "Root Mean Squared Error: 0.6755985619320392\n",
    "\n",
    "##### LSTM(103 epochs, loss: 0.0085 - val_loss: 0.0119, beyond this point training loss decreases while validation loss fluctuates i.e. overfitting)\n",
    "Mean Absolute Percent Error: 0.0215\n",
    "Root Mean Squared Error: 0.7549385723557431\n",
    "\n",
    "##### LSTM(200 epochs):\n",
    "Mean Absolute Percent Error: 0.0213\n",
    "Root Mean Squared Error: 0.7878989971160217\n",
    "\n",
    "##### 80:20</br>LSTM(100 epochs):\n",
    "Mean Absolute Percent Error: 0.0177\n",
    "Root Mean Squared Error: 0.6206300301271244\n",
    "\n",
    "##### LSTM(113 epochs, loss: 0.0077 - val_loss: 0.0134, beyond this point training loss decreases while validation loss fluctuates i.e. overfitting)\n",
    "Mean Absolute Percent Error: 0.0191\n",
    "Root Mean Squared Error: 0.6949460889739134\n",
    "\n",
    "##### LSTM(200 epochs):\n",
    "Mean Absolute Percent Error: 0.0173\n",
    "Root Mean Squared Error: 0.6148360571951464\n",
    "\n",
    "##### 70:30</br>LSTM(100 epochs):\n",
    "Mean Absolute Percent Error: 0.0171\n",
    "Root Mean Squared Error: 0.5935231394134313\n",
    "\n",
    "##### LSTM(82 epochs, loss: 0.0101 - val_loss: 0.0121, beyond this point training loss decreases while validation loss fluctuates i.e. overfitting)\n",
    "Mean Absolute Percent Error: 0.0194\n",
    "Root Mean Squared Error: 0.7037250795707977\n",
    "\n",
    "##### LSTM(200 epochs):\n",
    "Mean Absolute Percent Error: 0.0177\n",
    "Root Mean Squared Error: 0.6491459898664801\n",
    "\n",
    "##### lr=0.001</br>Dropout=0.2</br>80:20</br>LSTM(100 epochs):\n",
    "Mean Absolute Percent Error: 0.0249\n",
    "Root Mean Squared Error: 0.8411129392339437\n",
    "\n",
    "##### LSTM(200 epochs):\n",
    "Mean Absolute Percent Error: 0.0294\n",
    "Root Mean Squared Error: 1.0054840656823747\n",
    "\n",
    "##### lr=0.01 (val_loss not decreasing aft a short while, overfitting)</br>No Dropout</br>80:20</br>LSTM(100 epochs):\n",
    "Mean Absolute Percent Error: 0.0273\n",
    "Root Mean Squared Error: 0.9110724662539238\n",
    "\n",
    "##### LSTM(200 epochs):\n",
    "Mean Absolute Percent Error: 0.0179\n",
    "Root Mean Squared Error: 0.6357450427997889\n",
    "\n",
    "##### lr=0.0001 (converges too slowly, underfittng)</br>No Dropout</br>80:20</br>LSTM(100 epochs):\n",
    "Mean Absolute Percent Error: 0.0173\n",
    "Root Mean Squared Error: 0.6130719319221452\n",
    "\n",
    "##### LSTM(200 epochs):\n",
    "Mean Absolute Percent Error: 0.027\n",
    "Root Mean Squared Error: 0.9599652594001916\n",
    "\n",
    "##### It seems that lr=0.001 is the best here, and having dropout regularisation of 0.2 worsened the model's performance, although I only tested it on 80:20 split with 100 and 200 epochs to save time.Also, I learnt that although using the minimum validation loss to find the best fit model (least under/overfitting) is viable, it does not necessarily imply it will have the lowest RMSE. Additionally, it seems that we should not overlook the proportion of the validation dataset. If it's too small, there may not be enough diverse samples to effectively evaluate the model's generalization performance. As a result, the model may become overly tuned to the training data and perform poorly on unseen data. This can lead to overfitting, where the model memorizes the training examples instead of learning the underlying patterns. Here I required more than a year of validation/test data due to the n_input = 12, thus I split that data into ratios instead of a static limit of 1 year as I did with the ARIMA models. I would have did this ratio splitting on the ARIMA models if it did not take so long to train on multiple years of test data but due to this limitation I restricted its test data to a year. "
   ]
  },
  {
   "cell_type": "markdown",
   "metadata": {},
   "source": [
    "##### It was at this point when I realised actually I don't need to split into training and validation sets. The validation set can be used during the training phase to monitor the model's performance on data that is closer to the present time. This can help in detecting overfitting or other issues that may arise during training. By evaluating the model's performance on the validation set, I can make adjustments to the model's architecture, hyperparameters, or training process to improve its generalization ability and overall performance. However, I felt that the entire data is relevant for training, as there is a slight upward trend for the mean temperature right from the start, thus splitting into training and validation might not fully capture this trend, thus I have decided to train uptil end of 2021 and predict on test data of 2022, just like the ARIMA models. I'll then assess the performance by comparing the RMSE values of the predictions. This way, I can make a fair judgement comparing LSTM and ARIMA as the train:test split ratio would be the same."
   ]
  },
  {
   "cell_type": "code",
   "execution_count": 105,
   "metadata": {
    "editable": true,
    "slideshow": {
     "slide_type": ""
    },
    "tags": []
   },
   "outputs": [
    {
     "name": "stdout",
     "output_type": "stream",
     "text": [
      "(496, 1)\n",
      "Model: \"sequential_26\"\n",
      "_________________________________________________________________\n",
      " Layer (type)                Output Shape              Param #   \n",
      "=================================================================\n",
      " lstm_26 (LSTM)              (None, 100)               40800     \n",
      "                                                                 \n",
      " dropout_26 (Dropout)        (None, 100)               0         \n",
      "                                                                 \n",
      " dense_26 (Dense)            (None, 1)                 101       \n",
      "                                                                 \n",
      "=================================================================\n",
      "Total params: 40,901\n",
      "Trainable params: 40,901\n",
      "Non-trainable params: 0\n",
      "_________________________________________________________________\n",
      "Epoch 1/300\n",
      "468/468 [==============================] - 3s 4ms/step - loss: 0.0501\n",
      "Epoch 2/300\n",
      "468/468 [==============================] - 2s 4ms/step - loss: 0.0395\n",
      "Epoch 3/300\n",
      "468/468 [==============================] - 2s 4ms/step - loss: 0.0369\n",
      "Epoch 4/300\n",
      "468/468 [==============================] - 2s 4ms/step - loss: 0.0287\n",
      "Epoch 5/300\n",
      "468/468 [==============================] - 2s 4ms/step - loss: 0.0234\n",
      "Epoch 6/300\n",
      "468/468 [==============================] - 2s 4ms/step - loss: 0.0223\n",
      "Epoch 7/300\n",
      "468/468 [==============================] - 2s 4ms/step - loss: 0.0225\n",
      "Epoch 8/300\n",
      "468/468 [==============================] - 2s 3ms/step - loss: 0.0212\n",
      "Epoch 9/300\n",
      "468/468 [==============================] - 2s 3ms/step - loss: 0.0211\n",
      "Epoch 10/300\n",
      "468/468 [==============================] - 2s 3ms/step - loss: 0.0201\n",
      "Epoch 11/300\n",
      "468/468 [==============================] - 2s 3ms/step - loss: 0.0203\n",
      "Epoch 12/300\n",
      "468/468 [==============================] - 2s 4ms/step - loss: 0.0193\n",
      "Epoch 13/300\n",
      "468/468 [==============================] - 2s 3ms/step - loss: 0.0183\n",
      "Epoch 14/300\n",
      "468/468 [==============================] - 2s 4ms/step - loss: 0.0185\n",
      "Epoch 15/300\n",
      "468/468 [==============================] - 2s 3ms/step - loss: 0.0180\n",
      "Epoch 16/300\n",
      "468/468 [==============================] - 2s 4ms/step - loss: 0.0175\n",
      "Epoch 17/300\n",
      "468/468 [==============================] - 2s 4ms/step - loss: 0.0169\n",
      "Epoch 18/300\n",
      "468/468 [==============================] - 2s 4ms/step - loss: 0.0176\n",
      "Epoch 19/300\n",
      "468/468 [==============================] - 2s 3ms/step - loss: 0.0180\n",
      "Epoch 20/300\n",
      "468/468 [==============================] - 2s 3ms/step - loss: 0.0169\n",
      "Epoch 21/300\n",
      "468/468 [==============================] - 2s 3ms/step - loss: 0.0174\n",
      "Epoch 22/300\n",
      "468/468 [==============================] - 2s 4ms/step - loss: 0.0176\n",
      "Epoch 23/300\n",
      "468/468 [==============================] - 2s 4ms/step - loss: 0.0168\n",
      "Epoch 24/300\n",
      "468/468 [==============================] - 2s 3ms/step - loss: 0.0165\n",
      "Epoch 25/300\n",
      "468/468 [==============================] - 2s 3ms/step - loss: 0.0167\n",
      "Epoch 26/300\n",
      "468/468 [==============================] - 2s 3ms/step - loss: 0.0176\n",
      "Epoch 27/300\n",
      "468/468 [==============================] - 2s 4ms/step - loss: 0.0157\n",
      "Epoch 28/300\n",
      "468/468 [==============================] - 2s 4ms/step - loss: 0.0174\n",
      "Epoch 29/300\n",
      "468/468 [==============================] - 2s 4ms/step - loss: 0.0152\n",
      "Epoch 30/300\n",
      "468/468 [==============================] - 2s 4ms/step - loss: 0.0163\n",
      "Epoch 31/300\n",
      "468/468 [==============================] - 3s 7ms/step - loss: 0.0155\n",
      "Epoch 32/300\n",
      "468/468 [==============================] - 2s 5ms/step - loss: 0.0151\n",
      "Epoch 33/300\n",
      "468/468 [==============================] - 2s 4ms/step - loss: 0.0154\n",
      "Epoch 34/300\n",
      "468/468 [==============================] - 2s 4ms/step - loss: 0.0157\n",
      "Epoch 35/300\n",
      "468/468 [==============================] - 2s 4ms/step - loss: 0.0151\n",
      "Epoch 36/300\n",
      "468/468 [==============================] - 2s 4ms/step - loss: 0.0153\n",
      "Epoch 37/300\n",
      "468/468 [==============================] - 2s 5ms/step - loss: 0.0156\n",
      "Epoch 38/300\n",
      "468/468 [==============================] - 2s 5ms/step - loss: 0.0151\n",
      "Epoch 39/300\n",
      "468/468 [==============================] - 3s 6ms/step - loss: 0.0145\n",
      "Epoch 40/300\n",
      "468/468 [==============================] - 4s 8ms/step - loss: 0.0158\n",
      "Epoch 41/300\n",
      "468/468 [==============================] - 2s 5ms/step - loss: 0.0161\n",
      "Epoch 42/300\n",
      "468/468 [==============================] - 2s 5ms/step - loss: 0.0149\n",
      "Epoch 43/300\n",
      "468/468 [==============================] - 2s 4ms/step - loss: 0.0149\n",
      "Epoch 44/300\n",
      "468/468 [==============================] - 2s 4ms/step - loss: 0.0142\n",
      "Epoch 45/300\n",
      "468/468 [==============================] - 2s 4ms/step - loss: 0.0143\n",
      "Epoch 46/300\n",
      "468/468 [==============================] - 2s 4ms/step - loss: 0.0141\n",
      "Epoch 47/300\n",
      "468/468 [==============================] - 2s 4ms/step - loss: 0.0138\n",
      "Epoch 48/300\n",
      "468/468 [==============================] - 2s 4ms/step - loss: 0.0140\n",
      "Epoch 49/300\n",
      "468/468 [==============================] - 2s 4ms/step - loss: 0.0146\n",
      "Epoch 50/300\n",
      "468/468 [==============================] - 3s 5ms/step - loss: 0.0145\n",
      "Epoch 51/300\n",
      "468/468 [==============================] - 2s 4ms/step - loss: 0.0144\n",
      "Epoch 52/300\n",
      "468/468 [==============================] - 2s 3ms/step - loss: 0.0140\n",
      "Epoch 53/300\n",
      "468/468 [==============================] - 2s 4ms/step - loss: 0.0142\n",
      "Epoch 54/300\n",
      "468/468 [==============================] - 2s 3ms/step - loss: 0.0142\n",
      "Epoch 55/300\n",
      "468/468 [==============================] - 2s 5ms/step - loss: 0.0140\n",
      "Epoch 56/300\n",
      "468/468 [==============================] - 2s 5ms/step - loss: 0.0143\n",
      "Epoch 57/300\n",
      "468/468 [==============================] - 2s 4ms/step - loss: 0.0134\n",
      "Epoch 58/300\n",
      "468/468 [==============================] - 2s 4ms/step - loss: 0.0139\n",
      "Epoch 59/300\n",
      "468/468 [==============================] - 2s 5ms/step - loss: 0.0136\n",
      "Epoch 60/300\n",
      "468/468 [==============================] - 2s 4ms/step - loss: 0.0137\n",
      "Epoch 61/300\n",
      "468/468 [==============================] - 2s 3ms/step - loss: 0.0129\n",
      "Epoch 62/300\n",
      "468/468 [==============================] - 2s 3ms/step - loss: 0.0133\n",
      "Epoch 63/300\n",
      "468/468 [==============================] - 2s 3ms/step - loss: 0.0136\n",
      "Epoch 64/300\n",
      "468/468 [==============================] - 2s 3ms/step - loss: 0.0129\n",
      "Epoch 65/300\n",
      "468/468 [==============================] - 2s 3ms/step - loss: 0.0132\n",
      "Epoch 66/300\n",
      "468/468 [==============================] - 2s 3ms/step - loss: 0.0134\n",
      "Epoch 67/300\n",
      "468/468 [==============================] - 2s 4ms/step - loss: 0.0130\n",
      "Epoch 68/300\n",
      "468/468 [==============================] - 2s 4ms/step - loss: 0.0137\n",
      "Epoch 69/300\n",
      "468/468 [==============================] - 2s 4ms/step - loss: 0.0140\n",
      "Epoch 70/300\n",
      "468/468 [==============================] - 2s 3ms/step - loss: 0.0133\n",
      "Epoch 71/300\n",
      "468/468 [==============================] - 2s 4ms/step - loss: 0.0133\n",
      "Epoch 72/300\n",
      "468/468 [==============================] - 2s 4ms/step - loss: 0.0130\n",
      "Epoch 73/300\n",
      "468/468 [==============================] - 2s 4ms/step - loss: 0.0129\n",
      "Epoch 74/300\n",
      "468/468 [==============================] - 2s 3ms/step - loss: 0.0136\n",
      "Epoch 75/300\n",
      "468/468 [==============================] - 2s 3ms/step - loss: 0.0125\n",
      "Epoch 76/300\n",
      "468/468 [==============================] - 2s 3ms/step - loss: 0.0122\n",
      "Epoch 77/300\n",
      "468/468 [==============================] - 2s 4ms/step - loss: 0.0128\n",
      "Epoch 78/300\n",
      "468/468 [==============================] - 2s 4ms/step - loss: 0.0128\n",
      "Epoch 79/300\n",
      "468/468 [==============================] - 2s 4ms/step - loss: 0.0130\n",
      "Epoch 80/300\n",
      "468/468 [==============================] - 2s 4ms/step - loss: 0.0119\n",
      "Epoch 81/300\n",
      "468/468 [==============================] - 2s 4ms/step - loss: 0.0131\n",
      "Epoch 82/300\n",
      "468/468 [==============================] - 2s 4ms/step - loss: 0.0125\n",
      "Epoch 83/300\n",
      "468/468 [==============================] - 2s 4ms/step - loss: 0.0129\n",
      "Epoch 84/300\n",
      "468/468 [==============================] - 2s 4ms/step - loss: 0.0131\n",
      "Epoch 85/300\n",
      "468/468 [==============================] - 2s 4ms/step - loss: 0.0127\n",
      "Epoch 86/300\n",
      "468/468 [==============================] - 2s 4ms/step - loss: 0.0123\n",
      "Epoch 87/300\n",
      "468/468 [==============================] - 2s 4ms/step - loss: 0.0124\n",
      "Epoch 88/300\n",
      "468/468 [==============================] - 3s 7ms/step - loss: 0.0120\n",
      "Epoch 89/300\n",
      "468/468 [==============================] - 4s 8ms/step - loss: 0.0121\n",
      "Epoch 90/300\n",
      "468/468 [==============================] - 3s 7ms/step - loss: 0.0122\n",
      "Epoch 91/300\n",
      "468/468 [==============================] - 2s 4ms/step - loss: 0.0131\n",
      "Epoch 92/300\n",
      "468/468 [==============================] - 2s 4ms/step - loss: 0.0123\n",
      "Epoch 93/300\n",
      "468/468 [==============================] - 2s 4ms/step - loss: 0.0127\n",
      "Epoch 94/300\n",
      "468/468 [==============================] - 2s 4ms/step - loss: 0.0126\n",
      "Epoch 95/300\n",
      "468/468 [==============================] - 2s 4ms/step - loss: 0.0121\n",
      "Epoch 96/300\n",
      "468/468 [==============================] - 2s 4ms/step - loss: 0.0122\n",
      "Epoch 97/300\n",
      "468/468 [==============================] - 2s 5ms/step - loss: 0.0116\n",
      "Epoch 98/300\n",
      "468/468 [==============================] - 2s 5ms/step - loss: 0.0120\n",
      "Epoch 99/300\n",
      "468/468 [==============================] - 2s 4ms/step - loss: 0.0118\n",
      "Epoch 100/300\n",
      "468/468 [==============================] - 2s 4ms/step - loss: 0.0128\n",
      "Epoch 101/300\n",
      "468/468 [==============================] - 2s 4ms/step - loss: 0.0118\n",
      "Epoch 102/300\n",
      "468/468 [==============================] - 2s 4ms/step - loss: 0.0118\n",
      "Epoch 103/300\n",
      "468/468 [==============================] - 2s 4ms/step - loss: 0.0117\n",
      "Epoch 104/300\n",
      "468/468 [==============================] - 2s 4ms/step - loss: 0.0125\n",
      "Epoch 105/300\n",
      "468/468 [==============================] - 2s 4ms/step - loss: 0.0120\n",
      "Epoch 106/300\n",
      "468/468 [==============================] - 2s 4ms/step - loss: 0.0118\n",
      "Epoch 107/300\n",
      "468/468 [==============================] - 2s 5ms/step - loss: 0.0116\n",
      "Epoch 108/300\n",
      "468/468 [==============================] - 2s 4ms/step - loss: 0.0113\n",
      "Epoch 109/300\n",
      "468/468 [==============================] - 2s 5ms/step - loss: 0.0116\n",
      "Epoch 110/300\n",
      "468/468 [==============================] - 2s 5ms/step - loss: 0.0117\n",
      "Epoch 111/300\n",
      "468/468 [==============================] - 2s 5ms/step - loss: 0.0116\n",
      "Epoch 112/300\n",
      "468/468 [==============================] - 3s 6ms/step - loss: 0.0120\n",
      "Epoch 113/300\n",
      "468/468 [==============================] - 3s 6ms/step - loss: 0.0113\n",
      "Epoch 114/300\n",
      "468/468 [==============================] - 2s 5ms/step - loss: 0.0114\n",
      "Epoch 115/300\n",
      "468/468 [==============================] - 2s 4ms/step - loss: 0.0120\n",
      "Epoch 116/300\n",
      "468/468 [==============================] - 2s 5ms/step - loss: 0.0112\n",
      "Epoch 117/300\n",
      "468/468 [==============================] - 2s 5ms/step - loss: 0.0117\n",
      "Epoch 118/300\n",
      "468/468 [==============================] - 2s 5ms/step - loss: 0.0116\n",
      "Epoch 119/300\n",
      "468/468 [==============================] - 2s 5ms/step - loss: 0.0111\n",
      "Epoch 120/300\n",
      "468/468 [==============================] - 2s 5ms/step - loss: 0.0115\n",
      "Epoch 121/300\n",
      "468/468 [==============================] - 3s 6ms/step - loss: 0.0110\n",
      "Epoch 122/300\n",
      "468/468 [==============================] - 2s 4ms/step - loss: 0.0106\n",
      "Epoch 123/300\n",
      "468/468 [==============================] - 2s 4ms/step - loss: 0.0110\n",
      "Epoch 124/300\n",
      "468/468 [==============================] - 2s 4ms/step - loss: 0.0111\n",
      "Epoch 125/300\n",
      "468/468 [==============================] - 2s 4ms/step - loss: 0.0112\n",
      "Epoch 126/300\n",
      "468/468 [==============================] - 2s 5ms/step - loss: 0.0110\n",
      "Epoch 127/300\n",
      "468/468 [==============================] - 2s 4ms/step - loss: 0.0111\n",
      "Epoch 128/300\n",
      "468/468 [==============================] - 2s 4ms/step - loss: 0.0107\n",
      "Epoch 129/300\n",
      "468/468 [==============================] - 2s 4ms/step - loss: 0.0112\n",
      "Epoch 130/300\n",
      "468/468 [==============================] - 2s 4ms/step - loss: 0.0111\n",
      "Epoch 131/300\n",
      "468/468 [==============================] - 2s 3ms/step - loss: 0.0105\n",
      "Epoch 132/300\n",
      "468/468 [==============================] - 2s 4ms/step - loss: 0.0106\n",
      "Epoch 133/300\n",
      "468/468 [==============================] - 2s 4ms/step - loss: 0.0104\n",
      "Epoch 134/300\n",
      "468/468 [==============================] - 2s 4ms/step - loss: 0.0112\n",
      "Epoch 135/300\n",
      "468/468 [==============================] - 2s 4ms/step - loss: 0.0105\n",
      "Epoch 136/300\n",
      "468/468 [==============================] - 2s 4ms/step - loss: 0.0098\n",
      "Epoch 137/300\n",
      "468/468 [==============================] - 2s 4ms/step - loss: 0.0105\n",
      "Epoch 138/300\n",
      "468/468 [==============================] - 2s 4ms/step - loss: 0.0106\n",
      "Epoch 139/300\n",
      "468/468 [==============================] - 2s 4ms/step - loss: 0.0106\n",
      "Epoch 140/300\n",
      "468/468 [==============================] - 2s 4ms/step - loss: 0.0107\n",
      "Epoch 141/300\n",
      "468/468 [==============================] - 2s 4ms/step - loss: 0.0105\n",
      "Epoch 142/300\n",
      "468/468 [==============================] - 4s 8ms/step - loss: 0.0096\n",
      "Epoch 143/300\n",
      "468/468 [==============================] - 3s 6ms/step - loss: 0.0103\n",
      "Epoch 144/300\n",
      "468/468 [==============================] - 2s 4ms/step - loss: 0.0102\n",
      "Epoch 145/300\n",
      "468/468 [==============================] - 2s 4ms/step - loss: 0.0101\n",
      "Epoch 146/300\n",
      "468/468 [==============================] - 2s 5ms/step - loss: 0.0096\n",
      "Epoch 147/300\n",
      "468/468 [==============================] - 2s 3ms/step - loss: 0.0095\n",
      "Epoch 148/300\n",
      "468/468 [==============================] - 2s 3ms/step - loss: 0.0096\n",
      "Epoch 149/300\n",
      "468/468 [==============================] - 2s 4ms/step - loss: 0.0102\n",
      "Epoch 150/300\n",
      "468/468 [==============================] - 3s 6ms/step - loss: 0.0092\n",
      "Epoch 151/300\n",
      "468/468 [==============================] - 3s 5ms/step - loss: 0.0095\n",
      "Epoch 152/300\n",
      "468/468 [==============================] - 2s 5ms/step - loss: 0.0099\n",
      "Epoch 153/300\n",
      "468/468 [==============================] - 2s 5ms/step - loss: 0.0092\n",
      "Epoch 154/300\n",
      "468/468 [==============================] - 2s 4ms/step - loss: 0.0094\n",
      "Epoch 155/300\n",
      "468/468 [==============================] - 2s 5ms/step - loss: 0.0093\n",
      "Epoch 156/300\n",
      "468/468 [==============================] - 2s 5ms/step - loss: 0.0091\n",
      "Epoch 157/300\n",
      "468/468 [==============================] - 2s 5ms/step - loss: 0.0083\n",
      "Epoch 158/300\n",
      "468/468 [==============================] - 2s 4ms/step - loss: 0.0089\n",
      "Epoch 159/300\n",
      "468/468 [==============================] - 2s 4ms/step - loss: 0.0093\n",
      "Epoch 160/300\n",
      "468/468 [==============================] - 2s 4ms/step - loss: 0.0085\n",
      "Epoch 161/300\n",
      "468/468 [==============================] - 2s 5ms/step - loss: 0.0096\n",
      "Epoch 162/300\n",
      "468/468 [==============================] - 2s 3ms/step - loss: 0.0091\n",
      "Epoch 163/300\n",
      "468/468 [==============================] - 2s 3ms/step - loss: 0.0086\n",
      "Epoch 164/300\n",
      "468/468 [==============================] - 2s 3ms/step - loss: 0.0091\n",
      "Epoch 165/300\n",
      "468/468 [==============================] - 2s 4ms/step - loss: 0.0089\n",
      "Epoch 166/300\n",
      "468/468 [==============================] - 3s 7ms/step - loss: 0.0089\n",
      "Epoch 167/300\n",
      "468/468 [==============================] - 2s 4ms/step - loss: 0.0084\n",
      "Epoch 168/300\n",
      "468/468 [==============================] - 2s 3ms/step - loss: 0.0085\n",
      "Epoch 169/300\n",
      "468/468 [==============================] - 2s 3ms/step - loss: 0.0083\n",
      "Epoch 170/300\n",
      "468/468 [==============================] - 2s 3ms/step - loss: 0.0085\n",
      "Epoch 171/300\n",
      "468/468 [==============================] - 2s 4ms/step - loss: 0.0085\n",
      "Epoch 172/300\n",
      "468/468 [==============================] - 2s 4ms/step - loss: 0.0080\n",
      "Epoch 173/300\n",
      "468/468 [==============================] - 2s 3ms/step - loss: 0.0080\n",
      "Epoch 174/300\n",
      "468/468 [==============================] - 2s 3ms/step - loss: 0.0081\n",
      "Epoch 175/300\n",
      "468/468 [==============================] - 2s 3ms/step - loss: 0.0085\n",
      "Epoch 176/300\n",
      "468/468 [==============================] - 2s 3ms/step - loss: 0.0084\n",
      "Epoch 177/300\n",
      "468/468 [==============================] - 2s 3ms/step - loss: 0.0083\n",
      "Epoch 178/300\n",
      "468/468 [==============================] - 2s 3ms/step - loss: 0.0082\n",
      "Epoch 179/300\n",
      "468/468 [==============================] - 2s 3ms/step - loss: 0.0080\n",
      "Epoch 180/300\n",
      "468/468 [==============================] - 2s 4ms/step - loss: 0.0077\n",
      "Epoch 181/300\n",
      "468/468 [==============================] - 2s 3ms/step - loss: 0.0076\n",
      "Epoch 182/300\n",
      "468/468 [==============================] - 2s 3ms/step - loss: 0.0075\n",
      "Epoch 183/300\n",
      "468/468 [==============================] - 2s 3ms/step - loss: 0.0077\n",
      "Epoch 184/300\n",
      "468/468 [==============================] - 2s 3ms/step - loss: 0.0073\n",
      "Epoch 185/300\n",
      "468/468 [==============================] - 2s 3ms/step - loss: 0.0073\n",
      "Epoch 186/300\n",
      "468/468 [==============================] - 2s 4ms/step - loss: 0.0072\n",
      "Epoch 187/300\n",
      "468/468 [==============================] - 2s 4ms/step - loss: 0.0077\n",
      "Epoch 188/300\n",
      "468/468 [==============================] - 2s 4ms/step - loss: 0.0081\n",
      "Epoch 189/300\n",
      "468/468 [==============================] - 2s 4ms/step - loss: 0.0073\n",
      "Epoch 190/300\n",
      "468/468 [==============================] - 2s 4ms/step - loss: 0.0072\n",
      "Epoch 191/300\n",
      "468/468 [==============================] - 2s 3ms/step - loss: 0.0075\n",
      "Epoch 192/300\n",
      "468/468 [==============================] - 2s 3ms/step - loss: 0.0072\n",
      "Epoch 193/300\n",
      "468/468 [==============================] - 2s 3ms/step - loss: 0.0077\n",
      "Epoch 194/300\n",
      "468/468 [==============================] - 2s 3ms/step - loss: 0.0071\n",
      "Epoch 195/300\n",
      "468/468 [==============================] - 2s 3ms/step - loss: 0.0074\n",
      "Epoch 196/300\n",
      "468/468 [==============================] - 2s 3ms/step - loss: 0.0069\n",
      "Epoch 197/300\n",
      "468/468 [==============================] - 2s 3ms/step - loss: 0.0074\n",
      "Epoch 198/300\n",
      "468/468 [==============================] - 2s 4ms/step - loss: 0.0069\n",
      "Epoch 199/300\n",
      "468/468 [==============================] - 2s 4ms/step - loss: 0.0070\n",
      "Epoch 200/300\n",
      "468/468 [==============================] - 2s 4ms/step - loss: 0.0067\n",
      "Epoch 201/300\n",
      "468/468 [==============================] - 2s 4ms/step - loss: 0.0071\n",
      "Epoch 202/300\n",
      "468/468 [==============================] - 2s 4ms/step - loss: 0.0071\n",
      "Epoch 203/300\n",
      "468/468 [==============================] - 2s 4ms/step - loss: 0.0072\n",
      "Epoch 204/300\n",
      "468/468 [==============================] - 5s 12ms/step - loss: 0.0071\n",
      "Epoch 205/300\n",
      "468/468 [==============================] - 2s 4ms/step - loss: 0.0066\n",
      "Epoch 206/300\n",
      "468/468 [==============================] - 2s 4ms/step - loss: 0.0065\n",
      "Epoch 207/300\n",
      "468/468 [==============================] - 2s 4ms/step - loss: 0.0070\n",
      "Epoch 208/300\n",
      "468/468 [==============================] - 2s 4ms/step - loss: 0.0074\n",
      "Epoch 209/300\n",
      "468/468 [==============================] - 2s 3ms/step - loss: 0.0065\n",
      "Epoch 210/300\n",
      "468/468 [==============================] - 2s 5ms/step - loss: 0.0063\n",
      "Epoch 211/300\n",
      "468/468 [==============================] - 2s 4ms/step - loss: 0.0068\n",
      "Epoch 212/300\n",
      "468/468 [==============================] - 2s 4ms/step - loss: 0.0067\n",
      "Epoch 213/300\n",
      "468/468 [==============================] - 2s 4ms/step - loss: 0.0059\n",
      "Epoch 214/300\n",
      "468/468 [==============================] - 2s 4ms/step - loss: 0.0067\n",
      "Epoch 215/300\n",
      "468/468 [==============================] - 2s 3ms/step - loss: 0.0059\n",
      "Epoch 216/300\n",
      "468/468 [==============================] - 2s 3ms/step - loss: 0.0059\n",
      "Epoch 217/300\n",
      "468/468 [==============================] - 2s 3ms/step - loss: 0.0060\n",
      "Epoch 218/300\n",
      "468/468 [==============================] - 2s 4ms/step - loss: 0.0058\n",
      "Epoch 219/300\n",
      "468/468 [==============================] - 2s 5ms/step - loss: 0.0058\n",
      "Epoch 220/300\n",
      "468/468 [==============================] - 2s 5ms/step - loss: 0.0064\n",
      "Epoch 221/300\n",
      "468/468 [==============================] - 2s 5ms/step - loss: 0.0060\n",
      "Epoch 222/300\n",
      "468/468 [==============================] - 3s 6ms/step - loss: 0.0055\n",
      "Epoch 223/300\n",
      "468/468 [==============================] - 2s 5ms/step - loss: 0.0053\n",
      "Epoch 224/300\n",
      "468/468 [==============================] - 2s 4ms/step - loss: 0.0056\n",
      "Epoch 225/300\n",
      "468/468 [==============================] - 2s 4ms/step - loss: 0.0056\n",
      "Epoch 226/300\n",
      "468/468 [==============================] - 2s 4ms/step - loss: 0.0052\n",
      "Epoch 227/300\n",
      "468/468 [==============================] - 2s 4ms/step - loss: 0.0049\n",
      "Epoch 228/300\n",
      "468/468 [==============================] - 2s 4ms/step - loss: 0.0054\n",
      "Epoch 229/300\n",
      "468/468 [==============================] - 2s 4ms/step - loss: 0.0055\n",
      "Epoch 230/300\n",
      "468/468 [==============================] - 2s 3ms/step - loss: 0.0053\n",
      "Epoch 231/300\n",
      "468/468 [==============================] - 2s 3ms/step - loss: 0.0054\n",
      "Epoch 232/300\n",
      "468/468 [==============================] - 2s 3ms/step - loss: 0.0052\n",
      "Epoch 233/300\n",
      "468/468 [==============================] - 2s 3ms/step - loss: 0.0052\n",
      "Epoch 234/300\n",
      "468/468 [==============================] - 2s 4ms/step - loss: 0.0052\n",
      "Epoch 235/300\n",
      "468/468 [==============================] - 2s 4ms/step - loss: 0.0055\n",
      "Epoch 236/300\n",
      "468/468 [==============================] - 2s 3ms/step - loss: 0.0049\n",
      "Epoch 237/300\n",
      "468/468 [==============================] - 2s 4ms/step - loss: 0.0052\n",
      "Epoch 238/300\n",
      "468/468 [==============================] - 2s 4ms/step - loss: 0.0051\n",
      "Epoch 239/300\n",
      "468/468 [==============================] - 2s 3ms/step - loss: 0.0052\n",
      "Epoch 240/300\n",
      "468/468 [==============================] - 2s 4ms/step - loss: 0.0050\n",
      "Epoch 241/300\n",
      "468/468 [==============================] - 2s 3ms/step - loss: 0.0042\n",
      "Epoch 242/300\n",
      "468/468 [==============================] - 2s 3ms/step - loss: 0.0051\n",
      "Epoch 243/300\n",
      "468/468 [==============================] - 2s 3ms/step - loss: 0.0047\n",
      "Epoch 244/300\n",
      "468/468 [==============================] - 2s 4ms/step - loss: 0.0044\n",
      "Epoch 245/300\n",
      "468/468 [==============================] - 2s 3ms/step - loss: 0.0043\n",
      "Epoch 246/300\n",
      "468/468 [==============================] - 2s 3ms/step - loss: 0.0051\n",
      "Epoch 247/300\n",
      "468/468 [==============================] - 2s 3ms/step - loss: 0.0045\n",
      "Epoch 248/300\n",
      "468/468 [==============================] - 2s 3ms/step - loss: 0.0048\n",
      "Epoch 249/300\n",
      "468/468 [==============================] - 2s 3ms/step - loss: 0.0047\n",
      "Epoch 250/300\n",
      "468/468 [==============================] - 2s 3ms/step - loss: 0.0041\n",
      "Epoch 251/300\n",
      "468/468 [==============================] - 2s 4ms/step - loss: 0.0050\n",
      "Epoch 252/300\n",
      "468/468 [==============================] - 2s 4ms/step - loss: 0.0041\n",
      "Epoch 253/300\n",
      "468/468 [==============================] - 2s 4ms/step - loss: 0.0043\n",
      "Epoch 254/300\n",
      "468/468 [==============================] - 2s 3ms/step - loss: 0.0042\n",
      "Epoch 255/300\n",
      "468/468 [==============================] - 2s 3ms/step - loss: 0.0047\n",
      "Epoch 256/300\n",
      "468/468 [==============================] - 2s 4ms/step - loss: 0.0040\n",
      "Epoch 257/300\n",
      "468/468 [==============================] - 1s 3ms/step - loss: 0.0041\n",
      "Epoch 258/300\n",
      "468/468 [==============================] - 1s 2ms/step - loss: 0.0033\n",
      "Epoch 259/300\n",
      "468/468 [==============================] - 1s 3ms/step - loss: 0.0039\n",
      "Epoch 260/300\n",
      "468/468 [==============================] - 1s 2ms/step - loss: 0.0038\n",
      "Epoch 261/300\n",
      "468/468 [==============================] - 1s 2ms/step - loss: 0.0040\n",
      "Epoch 262/300\n",
      "468/468 [==============================] - 1s 2ms/step - loss: 0.0037\n",
      "Epoch 263/300\n",
      "468/468 [==============================] - 1s 2ms/step - loss: 0.0039\n",
      "Epoch 264/300\n",
      "468/468 [==============================] - 1s 2ms/step - loss: 0.0035\n",
      "Epoch 265/300\n",
      "468/468 [==============================] - 1s 2ms/step - loss: 0.0031\n",
      "Epoch 266/300\n",
      "468/468 [==============================] - 1s 2ms/step - loss: 0.0041\n",
      "Epoch 267/300\n",
      "468/468 [==============================] - 1s 2ms/step - loss: 0.0033\n",
      "Epoch 268/300\n",
      "468/468 [==============================] - 1s 2ms/step - loss: 0.0037\n",
      "Epoch 269/300\n",
      "468/468 [==============================] - 1s 2ms/step - loss: 0.0039\n",
      "Epoch 270/300\n",
      "468/468 [==============================] - 1s 2ms/step - loss: 0.0034\n",
      "Epoch 271/300\n",
      "468/468 [==============================] - 1s 2ms/step - loss: 0.0034\n",
      "Epoch 272/300\n",
      "468/468 [==============================] - 1s 2ms/step - loss: 0.0033\n",
      "Epoch 273/300\n",
      "468/468 [==============================] - 1s 2ms/step - loss: 0.0035\n",
      "Epoch 274/300\n",
      "468/468 [==============================] - 1s 2ms/step - loss: 0.0036\n",
      "Epoch 275/300\n",
      "468/468 [==============================] - 1s 2ms/step - loss: 0.0033\n",
      "Epoch 276/300\n",
      "468/468 [==============================] - 1s 2ms/step - loss: 0.0033\n",
      "Epoch 277/300\n",
      "468/468 [==============================] - 1s 2ms/step - loss: 0.0030\n",
      "Epoch 278/300\n",
      "468/468 [==============================] - 1s 2ms/step - loss: 0.0031\n",
      "Epoch 279/300\n",
      "468/468 [==============================] - 1s 2ms/step - loss: 0.0031\n",
      "Epoch 280/300\n",
      "468/468 [==============================] - 1s 2ms/step - loss: 0.0031\n",
      "Epoch 281/300\n",
      "468/468 [==============================] - 1s 2ms/step - loss: 0.0032\n",
      "Epoch 282/300\n",
      "468/468 [==============================] - 1s 2ms/step - loss: 0.0029\n",
      "Epoch 283/300\n",
      "468/468 [==============================] - 1s 2ms/step - loss: 0.0026\n",
      "Epoch 284/300\n",
      "468/468 [==============================] - 1s 2ms/step - loss: 0.0029\n",
      "Epoch 285/300\n",
      "468/468 [==============================] - 1s 2ms/step - loss: 0.0031\n",
      "Epoch 286/300\n",
      "468/468 [==============================] - 1s 2ms/step - loss: 0.0032\n",
      "Epoch 287/300\n",
      "468/468 [==============================] - 1s 2ms/step - loss: 0.0033\n",
      "Epoch 288/300\n",
      "468/468 [==============================] - 1s 2ms/step - loss: 0.0027\n",
      "Epoch 289/300\n",
      "468/468 [==============================] - 1s 2ms/step - loss: 0.0025\n",
      "Epoch 290/300\n",
      "468/468 [==============================] - 1s 2ms/step - loss: 0.0028\n",
      "Epoch 291/300\n",
      "468/468 [==============================] - 1s 2ms/step - loss: 0.0033\n",
      "Epoch 292/300\n",
      "468/468 [==============================] - 1s 2ms/step - loss: 0.0027\n",
      "Epoch 293/300\n",
      "468/468 [==============================] - 1s 2ms/step - loss: 0.0027\n",
      "Epoch 294/300\n",
      "468/468 [==============================] - 1s 2ms/step - loss: 0.0029\n",
      "Epoch 295/300\n",
      "468/468 [==============================] - 1s 3ms/step - loss: 0.0027\n",
      "Epoch 296/300\n",
      "468/468 [==============================] - 1s 2ms/step - loss: 0.0029\n",
      "Epoch 297/300\n",
      "468/468 [==============================] - 1s 2ms/step - loss: 0.0031\n",
      "Epoch 298/300\n",
      "468/468 [==============================] - 1s 2ms/step - loss: 0.0024\n",
      "Epoch 299/300\n",
      "468/468 [==============================] - 1s 2ms/step - loss: 0.0026\n",
      "Epoch 300/300\n",
      "468/468 [==============================] - 1s 2ms/step - loss: 0.0027\n"
     ]
    }
   ],
   "source": [
    "# set seed to ensure determinism and reproduceability (always retest from here)\n",
    "os.environ['TF_DETERMINISTIC_OPS'] = '1'\n",
    "tf.keras.utils.set_random_seed(1)\n",
    "tf.config.experimental.enable_op_determinism()\n",
    "\n",
    "# print(series_monthly_mean_temp)\n",
    "df_monthly_mean_temp = series_monthly_mean_temp.to_frame()  # Convert Series to DataFrame\n",
    "# print(df_monthly_mean_temp)\n",
    "scaler = MinMaxScaler()\n",
    "scaler.fit(df_monthly_mean_temp)\n",
    "df_normalised_monthly_mean_temp = scaler.transform(df_monthly_mean_temp)\n",
    "print(df_normalised_monthly_mean_temp.shape)\n",
    "\n",
    "# Create a new DataFrame with the normalized values\n",
    "df_normalised_monthly_mean_temp = pd.DataFrame(df_normalised_monthly_mean_temp, columns=['normalised'], index=df_monthly_mean_temp.index)\n",
    "# print(df_normalised)\n",
    "mean_normalised_monthly_mean_temp = df_normalised_monthly_mean_temp['normalised'].mean()\n",
    "\n",
    "# Plot the normalized data\n",
    "fig_normalised_monthly_mean_temp = px.line(df_normalised_monthly_mean_temp, labels={df_normalised_monthly_mean_temp.index.name: 'Datetime', 'value': 'Normalised'}, title='Normalised Mean Temperature')\n",
    "fig_normalised_monthly_mean_temp.update_xaxes(dtick='M12', tickangle=45)\n",
    "fig_normalised_monthly_mean_temp.update_yaxes(dtick=0.2, tickangle=45)\n",
    "fig_normalised_monthly_mean_temp.update_traces(hovertemplate='Datetime: %{x}<br>Normalised Value: %{y}')\n",
    "\n",
    "# add the mean line\n",
    "fig_normalised_monthly_mean_temp.add_shape(\n",
    "    type=\"line\",\n",
    "    x0=df_normalised_monthly_mean_temp.index[0],\n",
    "    y0=mean_normalised_monthly_mean_temp,\n",
    "    x1=df_normalised_monthly_mean_temp.index[-1],\n",
    "    y1=mean_normalised_monthly_mean_temp,\n",
    "    line=dict(color=\"red\", dash=\"dot\"),\n",
    ")\n",
    "# fig_normalised_monthly_mean_temp.show()\n",
    "\n",
    "# split to test 1 year of data\n",
    "train_end = datetime(2022, 1, 1) \n",
    "test_end = datetime(2023, 1, 1)\n",
    "train_data = df_monthly_mean_temp[:train_end]\n",
    "test_data = df_monthly_mean_temp[train_end + timedelta(days=1):test_end]\n",
    "train_data_norm = df_normalised_monthly_mean_temp[:train_end].values\n",
    "test_data_norm = df_normalised_monthly_mean_temp[train_end + timedelta(days=1):test_end].values\n",
    "\n",
    "# print(train_data)\n",
    "# print(test_data)\n",
    "# print(train_data_norm.shape)\n",
    "# print(test_data_norm.shape)\n",
    "\n",
    "# define generator\n",
    "n_input = 12\n",
    "n_features = 1\n",
    "generator = TimeseriesGenerator(train_data_norm, train_data_norm, length=n_input, batch_size=1)\n",
    "\n",
    "# define model\n",
    "model = Sequential()\n",
    "model.add(LSTM(100, activation='tanh', input_shape=(n_input, n_features))) # here i used tanh instead of relu to take advantage of cuDNN to speed up training\n",
    "model.add(Dropout(0.5)) \n",
    "model.add(Dense(1))\n",
    "# optimizer=tf.keras.optimizers.Adam(learning_rate=0.001)\n",
    "model.compile(optimizer=tf.keras.optimizers.Adam(learning_rate=0.001), loss='mse')\n",
    "model.summary()\n",
    "\n",
    "# fit model and save history\n",
    "history = model.fit(generator,epochs=300)"
   ]
  },
  {
   "cell_type": "code",
   "execution_count": 106,
   "metadata": {
    "editable": true,
    "slideshow": {
     "slide_type": ""
    },
    "tags": []
   },
   "outputs": [
    {
     "name": "stdout",
     "output_type": "stream",
     "text": [
      "Minimum training loss: 0.002400761004537344\n",
      "Epoch with minimum training loss: 298\n"
     ]
    },
    {
     "data": {
      "text/html": [
       "<iframe\n",
       "    scrolling=\"no\"\n",
       "    width=\"100%\"\n",
       "    height=\"545px\"\n",
       "    src=\"iframe_figures/figure_106.html\"\n",
       "    frameborder=\"0\"\n",
       "    allowfullscreen\n",
       "></iframe>\n"
      ]
     },
     "metadata": {},
     "output_type": "display_data"
    }
   ],
   "source": [
    "# Get loss history\n",
    "loss = history.history['loss']\n",
    "\n",
    "# print(f\"training loss: {loss}\")\n",
    "\n",
    "# Find the epoch with the minimum loss \n",
    "min_loss_epoch = np.argmin(loss) + 1\n",
    "min_loss = loss[min_loss_epoch - 1]\n",
    "\n",
    "print(f\"Minimum training loss: {min_loss}\")\n",
    "print(f\"Epoch with minimum training loss: {min_loss_epoch}\")\n",
    "\n",
    "# Create DataFrame\n",
    "epochs = range(1, len(loss) + 1)\n",
    "loss_df = pd.DataFrame({'epoch': epochs, 'training_loss': loss})\n",
    "\n",
    "# Plot loss\n",
    "fig_loss = px.line(loss_df, x='epoch', y=['training_loss'], labels={'value': 'Loss', 'epoch': 'Epoch'}, title='Training Loss')\n",
    "fig_loss.update_xaxes(tickangle=45)\n",
    "fig_loss.update_yaxes(tickangle=45)\n",
    "fig_loss.update_traces(hovertemplate='Epoch: %{x}<br>Loss: %{y}')\n",
    "fig_loss.show()"
   ]
  },
  {
   "cell_type": "code",
   "execution_count": 107,
   "metadata": {},
   "outputs": [
    {
     "name": "stdout",
     "output_type": "stream",
     "text": [
      "1/1 [==============================] - 0s 208ms/step\n",
      "1/1 [==============================] - 0s 13ms/step\n",
      "1/1 [==============================] - 0s 13ms/step\n",
      "1/1 [==============================] - 0s 15ms/step\n",
      "1/1 [==============================] - 0s 14ms/step\n",
      "1/1 [==============================] - 0s 17ms/step\n",
      "1/1 [==============================] - 0s 14ms/step\n",
      "1/1 [==============================] - 0s 17ms/step\n",
      "1/1 [==============================] - 0s 14ms/step\n",
      "1/1 [==============================] - 0s 13ms/step\n",
      "1/1 [==============================] - 0s 13ms/step\n",
      "1/1 [==============================] - 0s 13ms/step\n"
     ]
    },
    {
     "data": {
      "text/html": [
       "<iframe\n",
       "    scrolling=\"no\"\n",
       "    width=\"100%\"\n",
       "    height=\"545px\"\n",
       "    src=\"iframe_figures/figure_107.html\"\n",
       "    frameborder=\"0\"\n",
       "    allowfullscreen\n",
       "></iframe>\n"
      ]
     },
     "metadata": {},
     "output_type": "display_data"
    }
   ],
   "source": [
    "predictions_norm = []\n",
    "\n",
    "first_eval_batch = train_data_norm[-n_input:]\n",
    "current_batch = first_eval_batch.reshape((1, n_input, n_features))\n",
    "\n",
    "for i in range(len(test_data)):\n",
    "    \n",
    "    # get the prediction value for the first batch\n",
    "    current_pred = model.predict(current_batch)[0]\n",
    "    \n",
    "    # append the prediction into the array\n",
    "    predictions_norm.append(current_pred) \n",
    "    \n",
    "    # use the prediction to update the batch and remove the first value\n",
    "    current_batch = np.append(current_batch[:,1:,:],[[current_pred]],axis=1)\n",
    "\n",
    "predictions = scaler.inverse_transform(predictions_norm)\n",
    "\n",
    "residuals = test_data - predictions\n",
    "\n",
    "# print(type(residuals))\n",
    "# print(type(residuals))\n",
    "\n",
    "# Plot residuals\n",
    "fig_resid = px.line(residuals, labels={'datetime': 'Datetime', 'value': 'Error'}, title='Residuals from LSTM Model')\n",
    "fig_resid.update_xaxes(dtick='M1', tickangle=45)\n",
    "fig_resid.update_yaxes(dtick=0.5, tickangle=45)\n",
    "fig_resid.update_traces(name='error', hovertemplate='Datetime: %{x}<br>Error: %{y}')\n",
    "\n",
    "# add the mean line\n",
    "mean_error = np.mean(residuals, axis=0)\n",
    "# print(mean_error)\n",
    "# print(type(mean_error))\n",
    "fig_resid.add_shape(\n",
    "    type=\"line\",\n",
    "    x0=residuals.index[0],\n",
    "    y0=mean_error.values,\n",
    "    x1=residuals.index[-1],\n",
    "    y1=mean_error.values,\n",
    "    line=dict(color=\"red\", dash=\"dot\"),\n",
    ")\n",
    "fig_resid.show()"
   ]
  },
  {
   "cell_type": "code",
   "execution_count": 108,
   "metadata": {},
   "outputs": [
    {
     "data": {
      "text/html": [
       "<iframe\n",
       "    scrolling=\"no\"\n",
       "    width=\"100%\"\n",
       "    height=\"545px\"\n",
       "    src=\"iframe_figures/figure_108.html\"\n",
       "    frameborder=\"0\"\n",
       "    allowfullscreen\n",
       "></iframe>\n"
      ]
     },
     "metadata": {},
     "output_type": "display_data"
    },
    {
     "name": "stdout",
     "output_type": "stream",
     "text": [
      "Mean Absolute Percent Error: 0.0128\n",
      "Root Mean Squared Error: 0.44115552418544135\n"
     ]
    }
   ],
   "source": [
    "# print(test_data_no_norm.index)\n",
    "\n",
    "plot_data = pd.DataFrame({'datetime': test_data.index, 'test_data': test_data.values.flatten(), 'predictions': predictions.flatten()})\n",
    "# print(plot_data)\n",
    "fig_pred_test = px.line(plot_data, x='datetime', y=['test_data', 'predictions'], labels={'datetime': 'Datetime', 'value': 'Mean Temperature (°C)'}, title='Test Data and Predictions')\n",
    "fig_pred_test.update_xaxes(dtick='M1', tickangle=45)\n",
    "fig_pred_test.update_yaxes(dtick=0.5, tickangle=45)\n",
    "fig_pred_test.update_traces(hovertemplate='Datetime: %{x}<br>Mean Temperature: %{y}°C')\n",
    "fig_pred_test.show()\n",
    "\n",
    "print(f\"Mean Absolute Percent Error: {round(np.mean(abs(residuals/test_data), axis=0).item(), 4)}\")\n",
    "print(f\"Root Mean Squared Error: {np.sqrt(np.mean(residuals**2, axis=0)).item()}\")"
   ]
  },
  {
   "cell_type": "markdown",
   "metadata": {
    "editable": true,
    "slideshow": {
     "slide_type": ""
    },
    "tags": []
   },
   "source": [
    "##### lr=0.001</br>No Dropout</br>LSTM(100 epochs):\n",
    "Mean Absolute Percent Error: 0.0145\n",
    "Root Mean Squared Error: 0.463736843202713\n",
    "\n",
    "##### LSTM(200 epochs):\n",
    "Mean Absolute Percent Error: 0.0125\n",
    "Root Mean Squared Error: 0.4086067127565924\n",
    "\n",
    "##### LSTM(300 epochs):\n",
    "Mean Absolute Percent Error: 0.0161\n",
    "Root Mean Squared Error: 0.49609234464576174\n",
    "\n",
    "##### LSTM(400 epochs):\n",
    "Mean Absolute Percent Error: 0.0215\n",
    "Root Mean Squared Error: 0.7295606305187063\n",
    "\n",
    "##### LSTM(500 epochs):\n",
    "Mean Absolute Percent Error: 0.0186\n",
    "Root Mean Squared Error: 0.6123747241425901\n",
    "\n",
    "##### lr=0.001</br>Dropout=0.2</br>LSTM(100 epochs):\n",
    "Mean Absolute Percent Error: 0.0109\n",
    "Root Mean Squared Error: 0.38060867079652533\n",
    "\n",
    "##### LSTM(200 epochs):\n",
    "Mean Absolute Percent Error: 0.0232\n",
    "Root Mean Squared Error: 0.8178379230143739\n",
    "\n",
    "##### LSTM(300 epochs):\n",
    "Mean Absolute Percent Error: 0.021\n",
    "Root Mean Squared Error: 0.7211043996734204\n",
    "\n",
    "##### LSTM(400 epochs):\n",
    "Mean Absolute Percent Error: 0.0253\n",
    "Root Mean Squared Error: 0.8241299234489794\n",
    "\n",
    "##### LSTM(500 epochs):\n",
    "Mean Absolute Percent Error: 0.0241\n",
    "Root Mean Squared Error: 0.7807227061381148\n",
    "\n",
    "##### lr=0.001</br>Dropout=0.5</br>LSTM(100 epochs):\n",
    "Mean Absolute Percent Error: 0.0093\n",
    "Root Mean Squared Error: 0.35471921266149\n",
    "\n",
    "##### LSTM(200 epochs):\n",
    "Mean Absolute Percent Error: 0.019\n",
    "Root Mean Squared Error: 0.6217788733394394\n",
    "\n",
    "##### LSTM(300 epochs):\n",
    "Mean Absolute Percent Error: 0.0128\n",
    "Root Mean Squared Error: 0.44115552418544135\n",
    "\n",
    "##### LSTM(400 epochs):\n",
    "Mean Absolute Percent Error: 0.0199\n",
    "Root Mean Squared Error: 0.6535082465484656\n",
    "\n",
    "##### LSTM(500 epochs):\n",
    "Mean Absolute Percent Error: 0.0167\n",
    "Root Mean Squared Error: 0.5266831014363483\n",
    "\n",
    "##### lr=0.001</br>Dropout=0.8</br>LSTM(100 epochs):\n",
    "Mean Absolute Percent Error: 0.0116\n",
    "Root Mean Squared Error: 0.4013852371897046\n",
    "\n",
    "##### LSTM(200 epochs):\n",
    "Mean Absolute Percent Error: 0.0131\n",
    "Root Mean Squared Error: 0.4403628214828945\n",
    "\n",
    "##### LSTM(300 epochs):\n",
    "Mean Absolute Percent Error: 0.0176\n",
    "Root Mean Squared Error: 0.5717841047326412\n",
    "\n",
    "##### LSTM(400 epochs):\n",
    "Mean Absolute Percent Error: 0.0229\n",
    "Root Mean Squared Error: 0.72180557066981\n",
    "\n",
    "##### LSTM(500 epochs):\n",
    "Mean Absolute Percent Error: 0.0226\n",
    "Root Mean Squared Error: 0.733328831209713\n",
    "\n",
    "##### lr=0.01</br>No Dropout</br>LSTM(100 epochs):\n",
    "Mean Absolute Percent Error: 0.0146\n",
    "Root Mean Squared Error: 0.5309802458123353\n",
    "\n",
    "##### LSTM(200 epochs, still converging too slowly):\n",
    "Mean Absolute Percent Error: 0.0297\n",
    "Root Mean Squared Error: 1.010809026151784\n",
    "\n",
    "##### lr=0.02</br>No Dropout</br>LSTM(100 epochs):\n",
    "Mean Absolute Percent Error: 0.0216\n",
    "Root Mean Squared Error: 0.6944600408737768\n",
    "\n",
    "##### LSTM(200 epochs, converging too fast):\n",
    "Mean Absolute Percent Error: 0.0163\n",
    "Root Mean Squared Error: 0.6073242624178974\n",
    "\n",
    "##### lr=0.02</br>Dropout=0.2</br>LSTM(100 epochs):\n",
    "Mean Absolute Percent Error: 0.0215\n",
    "Root Mean Squared Error: 0.6796303223036045\n",
    "\n",
    "##### LSTM(200 epochs):\n",
    "Mean Absolute Percent Error: 0.016\n",
    "Root Mean Squared Error: 0.6058329055575409\n",
    "\n",
    "##### lr=0.001</br>Dropout=0.5</br>Timestep=24</br>LSTM(100 epochs):\n",
    "Mean Absolute Percent Error: 0.0143\n",
    "Root Mean Squared Error: 0.45955529939231915\n",
    "\n",
    "##### LSTM(200 epochs):\n",
    "Mean Absolute Percent Error: 0.0169\n",
    "Root Mean Squared Error: 0.5664092616646981\n",
    "\n",
    "##### LSTM(300 epochs):\n",
    "Mean Absolute Percent Error: 0.018\n",
    "Root Mean Squared Error: 0.6234701666336724\n",
    "\n",
    "##### LSTM(400 epochs):\n",
    "Mean Absolute Percent Error: 0.0177\n",
    "Root Mean Squared Error: 0.6411966596634251\n",
    "\n",
    "##### LSTM(500 epochs):\n",
    "Mean Absolute Percent Error: 0.0212\n",
    "Root Mean Squared Error: 0.7293233216596274"
   ]
  },
  {
   "cell_type": "markdown",
   "metadata": {},
   "source": [
    "##### After much tinkering, I have found out that dropout=0.5 was better than dropout=0.2, turns out dropout can improve predictions. However, I could not find the right parameters such that it would result in near perfect predictions. Hence, after much analysis, I have decided to go with the standard **lr=0.001, dropout=0.5, timestep=12, 300 epochs**. Although at 100 epochs, it would give me the lowest RMSE I have ever acheived (0.354719), the shape had a gentle trend and did not follow the shape of the test data very closely (much spikier), thus I deduced it was underfitting too much. This coincided with the fact that the training loss was still decreasing at a significant rate at epoch 100. Thus I decided to use epoch 300 instead. Despite its RMSE being higher, its shape followed closer to that of the test data, with the exception of Jun 2022, where it significantly underpredicted the temperature. For some reason, looking at the data, there is always that dip in temperature during June. According to sources, this could be due to the Southwest Monsoon. However, our model failed to learn about this.  "
   ]
  },
  {
   "cell_type": "markdown",
   "metadata": {},
   "source": [
    "##### As to whether to use LSTM or the ARIMA series, I have decide to go with the LSTM model (the one stated above) as its prediction results are more or less comparable with that of the ARIMA series. The ARIMA series also has its downsides: I realised that although its predictions follow the shape of the test data, they are somewhat lagging behind/after, with alternating over and underpredictions. Additionally, LSTM has an advantage over ARIMA wherby it can predict over longer ranges much quicker. With the rolling forecast origin, ARIMA models take a very long time to predict data in the long term e.g. 5, 10 years."
   ]
  },
  {
   "cell_type": "markdown",
   "metadata": {
    "editable": true,
    "slideshow": {
     "slide_type": ""
    },
    "tags": []
   },
   "source": [
    "### Model chosen: LSTM (activation=tanh, loss metric=mse) train on entire data, lr=0.001, dropout=0.5, timestep=12, 300 epochs."
   ]
  }
 ],
 "metadata": {
  "@webio": {
   "lastCommId": null,
   "lastKernelId": null
  },
  "kernelspec": {
   "display_name": "Python 3 (ipykernel)",
   "language": "python",
   "name": "python3"
  },
  "language_info": {
   "codemirror_mode": {
    "name": "ipython",
    "version": 3
   },
   "file_extension": ".py",
   "mimetype": "text/x-python",
   "name": "python",
   "nbconvert_exporter": "python",
   "pygments_lexer": "ipython3",
   "version": "3.9.16"
  },
  "toc-autonumbering": false,
  "toc-showmarkdowntxt": false
 },
 "nbformat": 4,
 "nbformat_minor": 4
}
