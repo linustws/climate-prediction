{
 "cells": [
  {
   "cell_type": "code",
   "execution_count": 1,
   "metadata": {
    "id": "dzeHYa5GCxN7"
   },
   "outputs": [],
   "source": [
    "# MIT License\n",
    "#\n",
    "#@title Copyright (c) 2021 CCAI Community Authors { display-mode: \"form\" }\n",
    "#\n",
    "# Permission is hereby granted, free of charge, to any person obtaining a\n",
    "# copy of this software and associated documentation files (the \"Software\"),\n",
    "# to deal in the Software without restriction, including without limitation\n",
    "# the rights to use, copy, modify, merge, publish, distribute, sublicense,\n",
    "# and/or sell copies of the Software, and to permit persons to whom the\n",
    "# Software is furnished to do so, subject to the following conditions:\n",
    "#\n",
    "# The above copyright notice and this permission notice shall be included in\n",
    "# all copies or substantial portions of the Software.\n",
    "#\n",
    "# THE SOFTWARE IS PROVIDED \"AS IS\", WITHOUT WARRANTY OF ANY KIND, EXPRESS OR\n",
    "# IMPLIED, INCLUDING BUT NOT LIMITED TO THE WARRANTIES OF MERCHANTABILITY,\n",
    "# FITNESS FOR A PARTICULAR PURPOSE AND NONINFRINGEMENT. IN NO EVENT SHALL\n",
    "# THE AUTHORS OR COPYRIGHT HOLDERS BE LIABLE FOR ANY CLAIM, DAMAGES OR OTHER\n",
    "# LIABILITY, WHETHER IN AN ACTION OF CONTRACT, TORT OR OTHERWISE, ARISING\n",
    "# FROM, OUT OF OR IN CONNECTION WITH THE SOFTWARE OR THE USE OR OTHER\n",
    "# DEALINGS IN THE SOFTWARE."
   ]
  },
  {
   "cell_type": "markdown",
   "metadata": {
    "id": "13i7KQ9t-CV8"
   },
   "source": [
    "#ClimateLearn: Machine Learning for  Predicting Weather and Climate Extremes\n",
    "\n",
    "\n",
    "Author(s):\n",
    "*   Hritik Bansal, University of California Los Angeles, hbansal@g.ucla.edu\n",
    "*   Shashank Goel, University of California Los Angeles, shashankgoel@g.ucla.edu\n",
    "*   Tung Nguyen,   University of California Los Angeles, tungnd@g.ucla.edu\n",
    "*   Aditya Grover, University of California Los Angeles, adityag@cs.ucla.edu"
   ]
  },
  {
   "cell_type": "markdown",
   "metadata": {
    "id": "yNv0ANr5WcD_"
   },
   "source": [
    "# Table of Contents\n",
    "\n",
    "*   [Target Audience](#target-audience)\n",
    "*   [Overview](#overview)\n",
    "*   [Contributions](#contributions)\n",
    "*   [Software Requirements](software-requirements)\n",
    "*   [Data Source](data-source)\n",
    "*   [Temporal Forecasting](temporal-forecasting)\n",
    "*   [Spatial Downscaling](spatial-downscaling)"
   ]
  },
  {
   "cell_type": "markdown",
   "metadata": {
    "id": "o5sbM_JPpdMR"
   },
   "source": [
    "<a name=\"target-audience\"></a>\n",
    "# Target Audience\n",
    "\n",
    "\n",
    "*   Climate scientists seeking to explore ML tools, technologies, and resources to tackle a domain-specific problem in climate change. \n",
    "*   Data scientists with prior background in deep learning looking for concrete examples on how to model climate extremes using AI."
   ]
  },
  {
   "cell_type": "markdown",
   "metadata": {
    "id": "QH81wjfsJsv1"
   },
   "source": [
    "<a name=\"overview\"></a>\n",
    "# Overview\n",
    "\n",
    "Climate change has led to a rapid increase in the occurrence of extreme weather events globally, including floods, droughts, and wildfires. In the longer term, some regions will experience aridification while others will risk sinking due to rising sea levels. Typically, such predictions are done via weather and climate models that simulate the physical interactions between the atmospheric, oceanic, and land surface processes that operate at different scales. Due to the inherent complexity, these climate models can be inaccurate or computationally expensive to run, especially for detecting climate extremes at high spatiotemporal resolutions. In this tutorial, we aim to introduce the participants to machine learning approaches for addressing two fundamental challenges:\n",
    "\n",
    "(1) **Temporal Forecasting**: The goal is to predict climate variables into the future. \\\n",
    "(2) **Spatial Downscaling**: The goal is to learn a mapping that transforms low-resolution outputs of climate models into high-resolution regional forecasts. \n",
    "\n",
    "We illustrate the two key challenges in predicting temperature, a key indicator of global warming levels around the world, in the figure below. Given a temperature grid at a particular resolution **R** at a time stamp **T**, temporal forecasting focuses on predicting the temperature at a future time stamp **T+H** where **H** is the prediction horizon whereas the climate downscaling focuses on predicting the temperature at the same timestep T but at a higher resolution **(R' > R)**. "
   ]
  },
  {
   "cell_type": "markdown",
   "metadata": {
    "id": "O-YYAVH-V6ds"
   },
   "source": [
    "<a name=\"contributions\"></a>\n",
    "# Contributions\n",
    "\n",
    "Through introductory presentations and colab notebooks, we aim to expose the participants to: \n",
    "\n",
    "(a) **APIs** for accessing and navigating popular repositories that host global climate data, such as the Copernicus data store. \\\n",
    "(b) Identifying **relevant datasets** and providing functionality to preprocess them. \\\n",
    "(c) **Algorithms** for training machine learning models. \\\n",
    "(d) **Metrics** for evaluating model performance. \\\n",
    "(e) **Visualization** tools for both the dataset and predicted outputs. "
   ]
  },
  {
   "cell_type": "markdown",
   "metadata": {
    "id": "rSRCNgYzUwaf"
   },
   "source": [
    "<a name=\"software-requirements\"></a>\n",
    "# Software Requirements\n",
    "This notebook requires the following libraries:\n",
    "*   climate_learn (pip)\n",
    "\n",
    "`climate_learn` contains the source files used for modeling climate extremes.\n",
    "\n",
    "The package is written using `PyTorch` machine learning library."
   ]
  },
  {
   "cell_type": "code",
   "execution_count": 4,
   "metadata": {
    "id": "rPmHl-TV8XMc",
    "pycharm": {
     "is_executing": true
    }
   },
   "outputs": [],
   "source": [
    "%%capture\n",
    "!pip install git+https://github.com/tung-nd/climate_learn.git"
   ]
  },
  {
   "cell_type": "code",
   "execution_count": 5,
   "metadata": {
    "id": "EiLZdsHB3L79",
    "pycharm": {
     "is_executing": true
    }
   },
   "outputs": [
    {
     "ename": "ModuleNotFoundError",
     "evalue": "No module named 'google.colab'",
     "output_type": "error",
     "traceback": [
      "\u001b[0;31m---------------------------------------------------------------------------\u001b[0m",
      "\u001b[0;31mModuleNotFoundError\u001b[0m                       Traceback (most recent call last)",
      "Cell \u001b[0;32mIn[5], line 1\u001b[0m\n\u001b[0;32m----> 1\u001b[0m \u001b[38;5;28;01mfrom\u001b[39;00m \u001b[38;5;21;01mgoogle\u001b[39;00m\u001b[38;5;21;01m.\u001b[39;00m\u001b[38;5;21;01mcolab\u001b[39;00m \u001b[38;5;28;01mimport\u001b[39;00m drive\n\u001b[1;32m      2\u001b[0m drive\u001b[38;5;241m.\u001b[39mmount(\u001b[38;5;124m'\u001b[39m\u001b[38;5;124m/content/drive\u001b[39m\u001b[38;5;124m'\u001b[39m)\n\u001b[1;32m      3\u001b[0m get_ipython()\u001b[38;5;241m.\u001b[39msystem(\u001b[38;5;124m'\u001b[39m\u001b[38;5;124mpwd\u001b[39m\u001b[38;5;124m'\u001b[39m)\n",
      "\u001b[0;31mModuleNotFoundError\u001b[0m: No module named 'google.colab'"
     ]
    }
   ],
   "source": [
    "from google.colab import drive\n",
    "drive.mount('/content/drive')\n",
    "!pwd\n",
    "\n"
   ]
  },
  {
   "cell_type": "markdown",
   "metadata": {
    "id": "rnC-ra6sayXj"
   },
   "source": [
    "<a name=\"data-source\"></a>\n",
    "# Data Source\n",
    "\n",
    "[1] provides a comprehensive list of typical datasets and benchmarks for weather prediction. \n",
    "\n",
    "Among the list of popular datasets, we focus this tutorial on the **ERA5** dataset that provides an hourly estimate of a large number of atmospheric, land and oceanic climate variables. \n",
    "\n",
    "<br>\n",
    "<center><img src=\"https://cds.climate.copernicus.eu/sites/default/files/cdsapp/copernicus-logo.png\" width=300></center>\n",
    "<br>\n",
    "\n",
    "ERA5 consists of the climate variable data from 1959 to present. The ERA5 dataset is freely-accessible to the community on the Climate Data Store [(CDS)](https://cds.climate.copernicus.eu/#!/search?text=ERA5&type=dataset) hosted by the European Union's Earth observation programme, [Copernicus](https://www.copernicus.eu/en/about-copernicus).  The users can visit [https://cds.climate.copernicus.eu/api-how-to](https://cds.climate.copernicus.eu/api-how-to#install-the-cds-api-key) to install the CDS API key required to access their data. \n",
    "\n",
    "\n",
    "\n",
    "\n",
    "The authors from [2] (WeatherBench dataset) downloaded the ERA5 data from CDS API for a subset of climate variable and preprocessed it at multiple resolutions. The data is freely accessible to anyone at [https://dataserv.ub.tum.de/index.php/s/m1524895?path=%2F](https://dataserv.ub.tum.de/index.php/s/m1524895?path=%2F).\n",
    "\n",
    "<br>\n",
    "<center><img src=\"https://github.com/ai4environment/WeatherBench/raw/master/figures/logo_text_left.png?raw=true\" width=500></center>\n",
    "<br>\n",
    "\n",
    "_Our package provides the users with a way to download data from ERA5 as well as WeatherBench depending upon their application._\n",
    "\n",
    "\n",
    "\n",
    "<br/><br/>\n",
    "\n",
    "**References:**\n",
    "\n",
    "[1] Ren X, Li X, Ren K, Song J, Xu Z, Deng K, Wang X. Deep learning-based weather prediction: a survey. Big Data Research. 2021 Feb 15;23:100178 [(Paper)](https://www.sciencedirect.com/science/article/pii/S2214579620300460). \\\n",
    "[2] Rasp S, Dueben PD, Scher S, Weyn JA, Mouatadid S, Thuerey N. WeatherBench: a benchmark data set for data‐driven weather forecasting. Journal of Advances in Modeling Earth Systems. 2020 Nov;12(11):e2020MS002203 [(Paper)](https://arxiv.org/abs/2002.00469)."
   ]
  },
  {
   "cell_type": "markdown",
   "metadata": {
    "id": "99jkSa_KmrDH"
   },
   "source": [
    "<a name=\"temporal-forecasting\"></a>\n",
    "# Temporal Forecasting\n",
    "\n",
    "\n",
    "A precise and reliable weather forecasting is of great importance in various aspect of society including precipitation forecasts are essential for agricultural needs, wind speed and solar power forecasts for energy generation.\n",
    "\n",
    "<br>\n",
    "<center><img src=\"https://drive.google.com/uc?export=view&id=1_tsaaogqzkYVV0jdawnO9GCJTToW_FCi\" height=300></center>\n",
    "\n",
    "The forecasting task can be categorized into (a) **nowcasting** (timescale of a few hours), (b) weather-scale prediction (typically 1day - 1week), (c) **seasonal** prediction (typically months) and (d) **multi-year or decadal** (timescale of multiple years).\n",
    "\n",
    "In this tutorial, we shall focus on the **medium-range** weather-scale  prediction of the climate variables i.e., typically 3-5 days in the future. This colab notebook demonstrates the temporal forecasting of the *Temperature* variable at *2m* height above the earth's surface. This variable serves as a good indicator of future temperatures on the Earth's surface for the forecasters. \n",
    "\n",
    "We shall further use the 2m temperature data at 5.625 degree resolution that divides the Earth's surface into a latitude x longitude grid of 32 x 64.\n",
    "\n",
    "<br/><br/>\n",
    "\n",
    "\n",
    "\n",
    "**References:**\n",
    "1. Rasp S, Dueben PD, Scher S, Weyn JA, Mouatadid S, Thuerey N. WeatherBench: a benchmark data set for data‐driven weather forecasting. Journal of Advances in Modeling Earth Systems. 2020 Nov;12(11):e2020MS002203 [(Paper)](https://arxiv.org/abs/2002.00469).\n",
    "2. Civitarese DS, Szwarcman D, Zadrozny B, Watson C. Extreme Precipitation Seasonal Forecast Using a Transformer Neural Network. arXiv preprint arXiv:2107.06846. 2021 Jul 14. [(Paper)](https://arxiv.org/abs/2107.06846)\n",
    "3. Sønderby CK, Espeholt L, Heek J, Dehghani M, Oliver A, Salimans T, Agrawal S, Hickey J, Kalchbrenner N. Metnet: A neural weather model for precipitation forecasting. arXiv preprint arXiv:2003.12140. 2020 Mar 24. [(Paper)](https://arxiv.org/pdf/2003.12140.pdf)\n"
   ]
  },
  {
   "cell_type": "code",
   "execution_count": null,
   "metadata": {
    "id": "mTzr2Liw-SEv",
    "pycharm": {
     "is_executing": true
    }
   },
   "outputs": [],
   "source": [
    "from climate_learn.data import download"
   ]
  },
  {
   "cell_type": "code",
   "execution_count": null,
   "metadata": {
    "id": "f3oQ0-pIZIgx",
    "pycharm": {
     "is_executing": true
    }
   },
   "outputs": [],
   "source": [
    "# Download data from copernicus (~15-20 mins)\n",
    "# Generate API KEY: https://cds.climate.copernicus.eu/api-how-to\n",
    "# api_key = \"154140:40d3d2e0-ed2c-4f60-8bc8-d15789841be0\" # Change to your_api_key\n",
    "# download(source = \"copernicus\", variable = \"2m_temperature\", dataset = \"era5\", year = 1979, api_key = api_key)"
   ]
  },
  {
   "cell_type": "code",
   "execution_count": null,
   "metadata": {
    "colab": {
     "base_uri": "https://localhost:8080/"
    },
    "id": "QmQG73ZpQNHP",
    "outputId": "091c1f92-07e9-49da-ca70-71bbaeac6d48",
    "pycharm": {
     "is_executing": true
    }
   },
   "outputs": [],
   "source": [
    "# Download data from weatherbench (~2-3 minutes)\n",
    "download(root = \"/content/drive/MyDrive/Climate/.climate_tutorial\", source = \"weatherbench\", variable = \"2m_temperature\", dataset = \"era5\", resolution = \"5.625\")"
   ]
  },
  {
   "cell_type": "markdown",
   "metadata": {
    "id": "Zb1e8ndtXiV-"
   },
   "source": [
    "ERA5 dataset directory structure from the Weatherbench source.\n",
    "\n",
    "```\n",
    "|-- 5.625deg\n",
    "|   |-- 2m_temperature\n",
    "|       |-- 2m_temperature_1979_5.625deg.nc\n",
    "|       |-- 2m_temperature_1980_5.625deg.nc\n",
    "|       |-- ...\n",
    "|       |-- 2m_temperature_2018_5.625deg.nc\n",
    "```"
   ]
  },
  {
   "cell_type": "markdown",
   "metadata": {
    "id": "bSt6h_Q-oqjK"
   },
   "source": [
    "## Data Preprocessing\n"
   ]
  },
  {
   "cell_type": "markdown",
   "metadata": {
    "id": "O8OF_Oj60a2g"
   },
   "source": [
    "The data is stored in the [NetCDF](https://en.wikipedia.org/wiki/NetCDF) files with _.nc_ extension. One of the distinct features of this format is the **named** specification to the coordinates and the data variables. \n",
    "\n",
    "As shown below, we first merge all the yearly NetCDF files, and display the structure of the format. xarray library is used to read the NetCDF files. It allows the users to manipulate data based on more informative labels instead of integer location. \n",
    "\n"
   ]
  },
  {
   "cell_type": "code",
   "execution_count": null,
   "metadata": {
    "colab": {
     "base_uri": "https://localhost:8080/",
     "height": 332
    },
    "id": "97hHL2Z7-Z86",
    "outputId": "302259e3-6ca0-4c2f-f802-a0119f46c3b2",
    "pycharm": {
     "is_executing": true
    }
   },
   "outputs": [],
   "source": [
    "from climate_learn.utils.data import load_dataset, view\n",
    "\n",
    "dataset = load_dataset(\"/content/drive/MyDrive/Climate/.climate_tutorial/data/weatherbench/era5/5.625/2m_temperature\")\n",
    "view(dataset)"
   ]
  },
  {
   "cell_type": "markdown",
   "metadata": {
    "id": "3XM3rITW9Y3-"
   },
   "source": [
    "## Data Conversion\n",
    "We further convert the *NetCDF* files to *PyTorch* Dataloaders.\n",
    "\n",
    "**Pros**: We can use the dataloaders for training and evaluating neural networks.\\\n",
    "**Cons**: We loose useful meta information (such as 'time', 'location') during conversion as dataloaders only allow for integer location based treatment. \n",
    "\n",
    "We store the useful information about\n",
    " the data ('lat', 'long') of the regions as _data members_ of our dataloaders.\n",
    "\n",
    "\n",
    "\n"
   ]
  },
  {
   "cell_type": "markdown",
   "metadata": {
    "id": "PIymAwxkd9O-"
   },
   "source": [
    "### Example\n",
    "\n",
    "- In the given example, we train our model from the data from 1979 (start train year) -2015, validate it from the data from 2015 (start validation year) - 2016, and test it on data from 2017 (start test year) - 2018 (end test year).\n",
    "- We split the data this way as it allows us to test the temporal generalization of our models. Additionally, it replicates more practical setting where the model that is trained on the historical data is used for forecasting in the future.\n",
    "- pred_range = Days(3) indicates that we are going to predict 3 days in the future.\n",
    "- subsample = Hours(6) indicates that we shall use the data at every 6 hours from 24 hours of the data from a single day i.e., rather than using data at 12am, 1am, 2am...11pm from a single day, we shall use the data at 12am, 6am, 12pm, 6pm. As climate variables are highly correlated within a window of a few hours, subsampling helps in removing those redundancies during training.\n"
   ]
  },
  {
   "cell_type": "code",
   "execution_count": null,
   "metadata": {
    "colab": {
     "base_uri": "https://localhost:8080/",
     "height": 167,
     "referenced_widgets": [
      "50a5a7cfd06c4028b10cff7e1ef1c931",
      "f052d66a04f6409cb466b5d48a2b2b26",
      "7fa33ddae6894cd3be1bad4b1739e5c7",
      "92a625d6928147bcb1cfdaf52fe2363d",
      "e30aa056ea1049debe4742db2b2df222",
      "9e8a9cb9f31a42beaf02c7ba5b4f34ed",
      "0fdc7a7efe234a8286b899308943de64",
      "611e8d47189847318e7e1d7796f48db3",
      "c8914ce3a0004f63a888ba444f8af318",
      "abf99e8a44494cd187391ca4a07a026e",
      "c20eaa791e264024aff4feb2f42d0d07",
      "dba0b41334454f3f870e87699bd154e0",
      "8438fdefe7bf490e862723975371d61c",
      "03303b9c1b8548b3a04909a826f80002",
      "6b556a795d984987aea598764f2d2797",
      "aeaaa5b9f5284554aa8448948ff9c7c1",
      "a08703cd7dfa45ad94314f548c70ae64",
      "1b2dc1db6dc94fb0b056191767046db2",
      "1fc4c15488ef4c0e8570aad266cc3c21",
      "6b0f9dd6014d4a63adb5d85d93c6b2af",
      "5820a025a44f417a8cab72ba243a55d2",
      "6e6e668844014da4be5713c15f0a6869",
      "8c8cae84332b4fa1bbd622034000f3a0",
      "c221fefd297343abb74b0a08c6438df4",
      "da3a8137278d499d95472cad77a09dcf",
      "88a76bb1d2bb42b1b288567de3f58c0f",
      "64b28cb4b7a64e9fa7b3b8f10aa34f99",
      "f850a272fd554fe68c72f98b131dcb14",
      "86e82a8918554b81bfe9e1bdd7c6a6bf",
      "73598cd518384df096e46704d3369362",
      "d34bc900130149898b7915806fd3a3b3",
      "59c178782d894a5aaa8d089069ef655d",
      "c57a757b5f5844918085abe4cbae30f2"
     ]
    },
    "id": "EK2UD49hQ3om",
    "outputId": "6a678f27-9fdd-4cb9-e596-a38066fa8c52",
    "pycharm": {
     "is_executing": true
    }
   },
   "outputs": [],
   "source": [
    "from climate_learn.utils.datetime import Year, Days, Hours\n",
    "from climate_learn.data import DataModule\n",
    "\n",
    "data_module = DataModule(\n",
    "    dataset = \"ERA5\",\n",
    "    task = \"forecasting\",\n",
    "    root_dir = \"/content/drive/MyDrive/Climate/.climate_tutorial/data/weatherbench/era5/5.625/\",\n",
    "    in_vars = [\"2m_temperature\"],\n",
    "    out_vars = [\"2m_temperature\"],\n",
    "    train_start_year = Year(1979),\n",
    "    val_start_year = Year(2015),\n",
    "    test_start_year = Year(2017),\n",
    "    end_year = Year(2018),\n",
    "    pred_range = Days(3),\n",
    "    subsample = Hours(6),\n",
    "    batch_size = 128,\n",
    "    num_workers = 1\n",
    ")"
   ]
  },
  {
   "cell_type": "markdown",
   "metadata": {
    "id": "1co6tQpiAoYO"
   },
   "source": [
    "## Neural Networks Architectures\n",
    "\n",
    "We consider three deep neural network architectures for in this tutorial.\n",
    "\n",
    "1. Convolutional Neural Networks (CNN)\n",
    "<center><img src=\"https://viso.ai/wp-content/uploads/2021/03/cnn-convolutional-neural-networks-1060x362.jpg\" width=400></center>\n",
    "\n",
    "CNN is a widely used neural network architecture for visual recognition. A CNN is a constrainted version of a regular neural network that takes advantage of the prior knowledge that the input is an image. The architecture can be flexibly adapted to various image resolutions. \n",
    "\n",
    "For our use case, the latitude-longitude gridded data is treated as an image composed of climate variables in its channel instead of the Red-Green-Blue (RGB) information.\n",
    "\n",
    "Resource(s): https://cs231n.github.io/convolutional-networks/ \n",
    "\n",
    "Among the long list of CNN variants availablely, we provide support for its popular variants. \n",
    "\n",
    "\n",
    "Variants of CNN architecture: \\\n",
    "\n",
    "a. **ResNet**\n",
    "\n",
    "<center><img src=\"https://miro.medium.com/max/875/1*WpX_8eCeTsEcCs8vdXtUCw.png\" width=400></center>\n",
    "\n",
    "ResNets have been used to achieve SOTA weather forecasting using neural networks for temperature and geopotential in [1]. \n",
    "\n",
    "Paper: [Deep Residual Learning for Image Recognition](https://arxiv.org/abs/1512.03385)\n",
    "\n",
    "b. **U-Net**\n",
    "\n",
    "<center><img src=\"https://miro.medium.com/max/875/1*f7YOaE4TWubwaFF7Z1fzNw.png\" width=400></center>\n",
    "\n",
    "The basic building blocks of the U-Net architecture involve downsampling as well as upsampling convolutions. The downsampling blocks project the input from higher dimension to a lower dimension, and upsampling blocks project the low dimension latent space to the higher dimension input space. After gaining popularity in the Biomedical domain, our package allows the users to benchmark U-Net in the Climate modeling space too.\n",
    "\n",
    "\n",
    "Paper: [U-Net: Convolutional Networks for Biomedical Image Segmentation\n",
    "](https://arxiv.org/abs/1505.04597) \n",
    "\n",
    "\n",
    "\n",
    "2. Vision Transformers\n",
    "\n",
    "Vision transformers are the latest contemporary to CNN variants for visual recognition. We relegate the audience to the related paper for its architectural details.\n",
    "\n",
    "<center><img src=\"https://viso.ai/wp-content/uploads/2021/09/vision-transformer-vit.png\" width=400></center>\n",
    "\n",
    "Vision Transformers have gained immense popularity in the Vision community, and its usefulness to learn representations of climate variables is still under-explored. [2] used Transformers for short-range temperature forecasting.\n",
    "We believe that our ViT implementation shall allow the users to benchmark ViT on climate modeling tasks.\n",
    "\n",
    "Paper: <a href=\"https://arxiv.org/abs/2010.11929\">An Image is Worth 16x16 Words: Transformers for Image Recognition at Scale</a>\n",
    "\n",
    "<br/><br/>\n",
    "\n",
    "\n",
    "**References**:\n",
    "\n",
    "[1] Rasp S, Thuerey N. Data‐driven medium‐range weather prediction with a resnet pretrained on climate simulations: A new model for weatherbench. Journal of Advances in Modeling Earth Systems. 2021 Feb;13(2):e2020MS002405.\\\n",
    "[2] Bilgin O, Mąka P, Vergutz T, Mehrkanoon S. TENT: Tensorized encoder transformer for temperature forecasting. arXiv preprint arXiv:2106.14742. 2021 Jun 28.\n",
    "\n",
    "\n",
    "\n",
    "<br/><br/>\n",
    "\n",
    "In this tutorial, we shall demonstrate the training of a resnet from scratch. It is important to note that the choice of model architecture and hyperparameters are for demonstration purposes only. "
   ]
  },
  {
   "cell_type": "markdown",
   "metadata": {
    "id": "yWXsiZ5freTG"
   },
   "source": [
    "## Model initialization \n",
    "\n",
    "The hyperparameters and ResNet architecture chosen allow for a model that forecasts with 85.7% test accuracy, while still training within a reasonable amount of time for the sake of the tutorial (by nature of being a smaller model). We leave it to the user to perform a more exhaustive search of hyperparameter values for training models that perform better."
   ]
  },
  {
   "cell_type": "code",
   "execution_count": null,
   "metadata": {
    "id": "paTI33tP5R4H",
    "pycharm": {
     "is_executing": true
    }
   },
   "outputs": [],
   "source": [
    "from climate_learn.models import load_model\n",
    "\n",
    "# model_kwargs = {\n",
    "#     \"img_size\": [32, 64],\n",
    "#     \"patch_size\": 2,\n",
    "#     \"drop_path\": 0.1,\n",
    "#     \"drop_rate\": 0.1,\n",
    "#     \"learn_pos_emb\": True,\n",
    "#     \"in_vars\": data_module.hparams.in_vars,\n",
    "#     \"out_vars\": data_module.hparams.out_vars,\n",
    "#     \"embed_dim\": 128,\n",
    "#     \"depth\": 8,\n",
    "#     \"decoder_depth\": 0,\n",
    "#     \"num_heads\": 4,\n",
    "#     \"mlp_ratio\": 4,\n",
    "# }\n",
    "\n",
    "model_kwargs = {\n",
    "    \"in_channels\": len(data_module.hparams.in_vars),\n",
    "    \"out_channels\": len(data_module.hparams.out_vars),\n",
    "    \"n_blocks\": 4\n",
    "}\n",
    "\n",
    "optim_kwargs = {\n",
    "    \"lr\": 1e-4,\n",
    "    \"weight_decay\": 1e-5,\n",
    "    \"warmup_epochs\": 1,\n",
    "    \"max_epochs\": 5,\n",
    "}\n",
    "\n",
    "# model_module = load_model(name = \"vit\", task = \"forecasting\", model_kwargs = model_kwargs, optim_kwargs = optim_kwargs)\n",
    "model_module = load_model(name = \"resnet\", task = \"forecasting\", model_kwargs = model_kwargs, optim_kwargs = optim_kwargs)\n",
    "# model_module = load_model(name = \"unet\", task = \"forecasting\", model_kwargs = model_kwargs, optim_kwargs = optim_kwargs)"
   ]
  },
  {
   "cell_type": "code",
   "execution_count": null,
   "metadata": {
    "id": "BalFce--51Rh",
    "pycharm": {
     "is_executing": true
    }
   },
   "outputs": [],
   "source": [
    "from climate_learn.models import set_climatology\n",
    "set_climatology(model_module, data_module)"
   ]
  },
  {
   "cell_type": "markdown",
   "metadata": {
    "id": "MLxhgSOctxo4"
   },
   "source": [
    "## Training\n",
    "\n",
    "\n",
    "The training objective ensures that the machine learning model makes accurate forecasts over the gridded data. We employ latitude weighted RMSE given by:\n",
    "\n",
    "<br>\n",
    "$RMSE = \\frac{1}{N_{forecasts}}\\sum_{i}^{N_{forecasts}}\\sqrt{\\frac{1}{N_{lat}N_{lon}}\\sum_{j}^{N_{lat}}\\sum_{k}^{N_{lon}}L(j)(f_{i,j,k}-t_{i,j,k})^{2}} \\tag{1}$ \n",
    "<br>\n",
    "\n",
    "where $f$ is the model forecast and $t$ is the ERA5 truth. $L(j)$ is the latitude weighing factor at the $j^{th}$ latitude index:\n",
    "\n",
    "<br>\n",
    "$L(j) = \\frac{cos(lat(j))}{\\frac{1}{N_{lat}}\\sum_{j}^{N_{lat}}cos(lat(j))} \\tag{2}$\n",
    "<br>\n",
    "\n",
    "(Optional) If you want to monitor training and validation curves of the model using [Weights and Biases](https://docs.wandb.ai/), uncomment the lines in the following code block and login to your Wandb account (only once)."
   ]
  },
  {
   "cell_type": "code",
   "execution_count": null,
   "metadata": {
    "colab": {
     "base_uri": "https://localhost:8080/"
    },
    "id": "oqh0TzP4TebP",
    "outputId": "a10dede6-0a99-4621-b865-1d5ceea2a8dc",
    "pycharm": {
     "is_executing": true
    }
   },
   "outputs": [],
   "source": [
    "from climate_learn.training import Trainer, WandbLogger\n",
    "\n",
    "trainer = Trainer(\n",
    "    seed = 0,\n",
    "    accelerator = \"gpu\",\n",
    "    precision = 16,\n",
    "    max_epochs = 5,\n",
    "    # logger = WandbLogger(project = \"climate_tutorial\", name = \"forecast-vit\")\n",
    ")"
   ]
  },
  {
   "cell_type": "code",
   "execution_count": null,
   "metadata": {
    "colab": {
     "base_uri": "https://localhost:8080/",
     "height": 1000,
     "referenced_widgets": [
      "8491c441c5a3488aa1a29a6ba638efe7",
      "b99587dd83234cedb99830e3b6e0b511"
     ]
    },
    "id": "BwZ49aNGhhUt",
    "outputId": "68a49987-dca4-4541-ec65-ce6670cafdba",
    "pycharm": {
     "is_executing": true
    }
   },
   "outputs": [],
   "source": [
    "trainer.fit(model_module, data_module)"
   ]
  },
  {
   "cell_type": "markdown",
   "metadata": {
    "id": "fCR5yoIAUBTa"
   },
   "source": [
    "## Evaluation \n"
   ]
  },
  {
   "cell_type": "markdown",
   "metadata": {
    "id": "nlnsuXsbwvPo"
   },
   "source": [
    "Once our prediction model is trained, we want to be able to evaluate it against the ground truth labels for data samples in the test set. \n",
    "\n",
    "In addition to the Latitude weighted RMSE (Eq. 1), we shall look at the Anomaly Correlation Coefficient (ACC) which is defined as:\n",
    "\n",
    "<br>\n",
    "$ACC = \\frac{\\sum_{i,j,k}L(j)f'_{i,j,k}t'_{i,j,k}}{\\sqrt{\\sum_{i,j,k}L(j)f'^{2}_{i,j,k}L(j)t'^{2}_{i,j,k}}} \\tag{3}$\n",
    "<br>\n",
    "\n",
    "where $'$ denotes the difference to the climatology. We define climatology as:\n",
    "\n",
    "<br>\n",
    "$climatology_{j,k} = \\frac{1}{N_{time}}\\sum{t_{j,k}}\\tag{4}$\n",
    "<br>\n",
    "\n",
    "For the RMSE metric, we compare the deep learning model with a climatological forecast."
   ]
  },
  {
   "cell_type": "code",
   "execution_count": null,
   "metadata": {
    "colab": {
     "base_uri": "https://localhost:8080/",
     "height": 149,
     "referenced_widgets": [
      "e587e705b83e439389b984fc89312232",
      "745ff522ee1a44cf88af1f4999c1a12e"
     ]
    },
    "id": "HvdXm85fa9KD",
    "outputId": "86303ab6-a961-4257-ae25-6eac8d981550",
    "pycharm": {
     "is_executing": true
    }
   },
   "outputs": [],
   "source": [
    "trainer.test(model_module, data_module)"
   ]
  },
  {
   "cell_type": "markdown",
   "metadata": {
    "id": "sWigLES4s22j"
   },
   "source": [
    "The model's prediction has a strong correlation with the ground truth, which is indicated by a high ACC value. Compared to a climatological forecast, the deep learning model achieves a much smaller RMSE error."
   ]
  },
  {
   "cell_type": "markdown",
   "metadata": {
    "id": "tcPCvx8AbPFZ"
   },
   "source": [
    "## Visualization "
   ]
  },
  {
   "cell_type": "markdown",
   "metadata": {
    "id": "SRQLNyO_yPhn"
   },
   "source": [
    "We visualize the **bias**, given by the difference in the predicted and the ground truth values, to better analyze our learned model.\n",
    "\n",
    "Visualization is done on the test set. We can either specify exact time for the initial condition, or randomly sample from the test set."
   ]
  },
  {
   "cell_type": "code",
   "execution_count": null,
   "metadata": {
    "colab": {
     "base_uri": "https://localhost:8080/",
     "height": 444
    },
    "id": "G-AM0-CPbTNl",
    "outputId": "afb60db9-1c45-489d-9bcc-08b4fdda2bdb",
    "pycharm": {
     "is_executing": true
    }
   },
   "outputs": [],
   "source": [
    "# from climate_tutorial.utils import visualize\n",
    "\n",
    "import os\n",
    "import random\n",
    "import numpy as np\n",
    "import matplotlib.pyplot as plt\n",
    "from datetime import datetime\n",
    "\n",
    "def visualize(model_module, data_module, split = \"test\", samples = 2, save_dir = None):\n",
    "    if save_dir is not None:\n",
    "        os.makedirs(save_dir, exist_ok = True)\n",
    "\n",
    "    # dataset.setup()\n",
    "    dataset = eval(f\"data_module.{split}_dataset\")\n",
    "\n",
    "    if(type(samples) == int):\n",
    "        idxs = random.sample(range(0, len(dataset)), samples)\n",
    "    elif(type(samples) == list):\n",
    "        idxs = [np.searchsorted(dataset.time, np.datetime64(datetime.strptime(dt, \"%Y-%m-%d:%H\"))) for dt in samples]\n",
    "    else:\n",
    "        raise Exception(\"Invalid type for samples; Allowed int or list[datetime.datetime or np.datetime64]\")\n",
    "\n",
    "    fig, axes = plt.subplots(len(idxs), 4, figsize=(30, 3 * len(idxs)), squeeze = False)\n",
    "\n",
    "    for index, idx in enumerate(idxs):\n",
    "        x, y, _, _ = dataset[idx] # 1, 1, 32, 64\n",
    "        pred = model_module.forward(x.unsqueeze(0)) # 1, 1, 32, 64\n",
    "\n",
    "        inv_normalize = model_module.denormalization\n",
    "        init_condition, gt = inv_normalize(x), inv_normalize(y)\n",
    "        pred = inv_normalize(pred)\n",
    "        bias = pred - gt\n",
    "\n",
    "        for i, tensor in enumerate([init_condition, gt, pred, bias]):\n",
    "            ax = axes[index][i]\n",
    "            im = ax.imshow(tensor.detach().squeeze().cpu().numpy())\n",
    "            im.set_cmap(cmap=plt.cm.RdBu)\n",
    "            fig.colorbar(im, ax=ax)\n",
    "\n",
    "        if(data_module.hparams.task == \"forecasting\"):\n",
    "            axes[index][0].set_title(\"Initial condition [Kelvin]\")\n",
    "            axes[index][1].set_title(\"Ground truth [Kelvin]\")\n",
    "            axes[index][2].set_title(\"Prediction [Kelvin]\")\n",
    "            axes[index][3].set_title(\"Bias [Kelvin]\")\n",
    "        elif(data_module.hparams.task == \"downscaling\"):\n",
    "            axes[index][0].set_title(\"Low resolution data [Kelvin]\")\n",
    "            axes[index][1].set_title(\"High resolution data [Kelvin]\")\n",
    "            axes[index][2].set_title(\"Downscaled [Kelvin]\")\n",
    "            axes[index][3].set_title(\"Bias [Kelvin]\")\n",
    "        else:\n",
    "            raise NotImplementedError\n",
    "\n",
    "    fig.tight_layout()\n",
    "    \n",
    "    if save_dir is not None:\n",
    "        plt.savefig(os.path.join(save_dir, 'visualize.png'))\n",
    "    else:\n",
    "        plt.show()\n",
    "\n",
    "# if samples = 2, we randomly pick 2 initial conditions in the test set\n",
    "visualize(model_module, data_module, samples = [\"2017-06-01:12\", \"2017-08-01:18\"])"
   ]
  },
  {
   "cell_type": "markdown",
   "metadata": {
    "id": "Vy3WrJEOsEXZ"
   },
   "source": [
    "The visualization shows that the model makes reasonably accurate predictions in most parts of the globe, and the prediction well correlates with the ground truth. The model seems to make large errors near the two poles, where the temperature is more unpredictable. We can improve the accuracy of the model by either including more input variables, using a more expressive model, or training for longer. For the sake of this tutorial, we use a small model and only train for a short time."
   ]
  },
  {
   "cell_type": "markdown",
   "metadata": {
    "id": "C6HYhl551E8_"
   },
   "source": [
    "In addition to visualizing the bias the model makes for each individual data point, we can also visualize the mean bias across the entire test set."
   ]
  },
  {
   "cell_type": "code",
   "execution_count": null,
   "metadata": {
    "colab": {
     "base_uri": "https://localhost:8080/",
     "height": 315
    },
    "id": "H7Qjfu-H1VEd",
    "outputId": "16425b5f-224a-40a6-c607-fff38c8a3896",
    "pycharm": {
     "is_executing": true
    }
   },
   "outputs": [],
   "source": [
    "import torch\n",
    "from tqdm import tqdm\n",
    "\n",
    "def visualize_mean_bias(model_module, data_module, save_dir = None):\n",
    "    if save_dir is not None:\n",
    "        os.makedirs(save_dir, exist_ok = True)\n",
    "\n",
    "    loader = data_module.test_dataloader()\n",
    "\n",
    "    all_mean_bias = []\n",
    "    for batch in tqdm(loader):\n",
    "      x, y, _, _ = batch # B, 1, 32, 64\n",
    "      x = x.to(model_module.device)\n",
    "      y = y.to(model_module.device)\n",
    "      pred = model_module.forward(x) # B, 1, 32, 64\n",
    "\n",
    "      inv_normalize = model_module.denormalization\n",
    "      init_condition, gt = inv_normalize(x), inv_normalize(y)\n",
    "      pred = inv_normalize(pred)\n",
    "      bias = pred - gt # B, 1, 32, 64\n",
    "      mean_bias = bias.mean(dim=0)\n",
    "      all_mean_bias.append(mean_bias)\n",
    "    \n",
    "    all_mean_bias = torch.stack(all_mean_bias, dim=0)\n",
    "    mean_bias = torch.mean(all_mean_bias, dim=0)\n",
    "\n",
    "    fig, axes = plt.subplots(1, 1, figsize=(12, 4), squeeze = False)\n",
    "    ax = axes[0,0]\n",
    "\n",
    "    im = ax.imshow(mean_bias.detach().squeeze().cpu().numpy())\n",
    "    im.set_cmap(cmap=plt.cm.RdBu)\n",
    "    fig.colorbar(im, ax=ax)\n",
    "    ax.set_title(\"Mean bias [Kelvin]\")\n",
    "\n",
    "    fig.tight_layout()\n",
    "    \n",
    "    if save_dir is not None:\n",
    "        plt.savefig(os.path.join(save_dir, 'visualize_mean_bias.png'))\n",
    "    else:\n",
    "        plt.show()\n",
    "  \n",
    "visualize_mean_bias(model_module.cuda(), data_module)"
   ]
  },
  {
   "cell_type": "code",
   "execution_count": null,
   "metadata": {
    "id": "WfE1dfBAJ0X-",
    "pycharm": {
     "is_executing": true
    }
   },
   "outputs": [],
   "source": [
    "# # from climate_tutorial.utils import visualize\n",
    "\n",
    "# import os\n",
    "# import random\n",
    "# import numpy as np\n",
    "# from datetime import datetime\n",
    "# from plotly.express import imshow\n",
    "# from plotly.subplots import make_subplots\n",
    "# import plotly.graph_objects as go\n",
    "\n",
    "# # more use cases for visualize, make a more intuitive api\n",
    "# # which split of the data? train/val/test? currently test with a random data point\n",
    "# # timestamp that we are visualizing?\n",
    "# # only timestamp works -- can infer the split, we don't have the timestamp info for now -> include it in the dataloader\n",
    "# # number: 5 data points\n",
    "\n",
    "# # add lat long information \n",
    "# # plotly to zoom in\n",
    "\n",
    "# samples = [\"2017-01-01:12\", \"2017-02-01:18\"]\n",
    "# def visualize(model_module, data_module, split = \"test\", samples = samples):\n",
    "#     # dataset.setup()\n",
    "#     dataset = eval(f\"data_module.{split}_dataset\")\n",
    "\n",
    "#     if(type(samples) == int):\n",
    "#         idxs = random.sample(range(0, len(dataset)), samples)\n",
    "#     elif(type(samples) == list):\n",
    "#         idxs = [np.searchsorted(dataset.time, np.datetime64(datetime.strptime(dt, \"%Y-%m-%d:%H\"))) for dt in samples]\n",
    "#     else:\n",
    "#         raise Exception(\"Invalid type for samples; Allowed int or list[datetime.datetime or np.datetime64]\")\n",
    "\n",
    "#     # print(dataset.time[idxs[0]])\n",
    "#     # row_titles = [datetime.strftime(None, \"%Y-%m-%d:%H\") for idx in idxs]\n",
    "\n",
    "#     if(data_module.hparams.task == \"forecasting\"):\n",
    "#         col_titles = [\"Initial condition\", \"Ground truth\", \"Prediction\", \"Bias\"]\n",
    "#     elif(data_module.hparams.task == \"downscaling\"):\n",
    "#         col_titles = [\"Low resolution data\", \"High resolution data\", \"Downscaled\", \"Bias\"]\n",
    "#     else:\n",
    "#         raise NotImplementedError\n",
    "\n",
    "#     fig = make_subplots(len(idxs), 4, subplot_titles = col_titles * len(idxs))\n",
    "#     for i, idx in enumerate(idxs):\n",
    "#         x, y, _, _ = dataset[idx] # 1, 1, 32, 64\n",
    "#         pred = model_module.forward(x.unsqueeze(0)) # 1, 1, 32, 64\n",
    "\n",
    "#         inv_normalize = model_module.denormalization\n",
    "#         init_condition, gt = inv_normalize(x), inv_normalize(y)\n",
    "#         pred = inv_normalize(pred)\n",
    "#         bias = pred - gt\n",
    "\n",
    "#         for j, tensor in enumerate([init_condition, gt, pred, bias]):\n",
    "#             fig.add_trace(imshow(tensor.detach().squeeze().cpu().numpy(), color_continuous_scale = \"rdbu\", x = dataset.inp_lon if i == 0 else dataset.out_lon, y = dataset.inp_lat if i == 0 else dataset.out_lat).data[0], row = i + 1, col = j + 1)\n",
    "#             # fig.colorbar(im, ax=ax)\n",
    "\n",
    "#     # fig.tight_layout()\n",
    "#     fig.show()\n",
    "\n",
    "# visualize(model_module, data_module)"
   ]
  },
  {
   "cell_type": "markdown",
   "metadata": {
    "id": "srfsF01OLV-C"
   },
   "source": [
    "<a name=\"spatial-downscaling\"></a>\n",
    "# Spatial Downscaling\n",
    "\n",
    "\n",
    "General Circulation Models (GCMs) provide us with the future projections of climate scenarios. These raw estimates have to be downscaled at the desired resolution for actionable guidance.\n",
    "\n",
    "<br>\n",
    "<center><img src=\"https://drive.google.com/uc?export=view&id=11i2CIRxlVRqOHIgZRABwF05Qf5KeqVwc\" height=300></center>\n",
    "\n",
    "In practice, statistical spatial downscaling can be used to make predictions about a climate variable (a) over the latitude-longitude grid of **higher** resolution than the input grid and (b) on specific sites at the target locations. For example, we can predict the temperature at a specific station in Germany based on the gridded temperature data over the whole country.\n",
    "\n",
    "Major class of statistical downscaling models include Perfect Prognosis (PP) [1] that aims at learning a transfer function $$\\hat{y} = f(x, Z)$$ where $y$ is the true value at location $x$ and $Z$ are the set of model predictors for the climate model. The various PP models differ in their realization of the transfer function $f$. Related works in [2] provides deeper details into the previous works. In [2,3], the authors use CNNs as the transfer function, broadly due to its inherent inductive bias towards handling Vision data. The ability of Deep CNNs to perform super-resolution is a well-explored field of study [4].\n",
    "\n",
    "<br/><br/>\n",
    "\n",
    "**References:**\n",
    "1. Maraun D, Wetterhall F, Ireson AM, Chandler RE, Kendon EJ, Widmann M, Brienen S, Rust HW, Sauter T, Themeßl M, Venema VK. Precipitation downscaling under climate change: Recent developments to bridge the gap between dynamical models and the end user. Reviews of geophysics. 2010 Sep;48(3).\n",
    "2. Vaughan A, Tebbutt W, Hosking JS, Turner RE. Convolutional conditional neural processes for local climate downscaling. arXiv preprint arXiv:2101.07950. 2021 Jan 20.\n",
    "3. Baño-Medina J, Manzanas R, Gutiérrez JM. Configuration and intercomparison of deep learning neural models for statistical downscaling. Geoscientific Model Development. 2020 Apr 28;13(4):2109-24.\n",
    "4. Yamanaka J, Kuwashima S, Kurita T. Fast and accurate image super resolution by deep CNN with skip connection and network in network. InInternational Conference on Neural Information Processing 2017 Nov 14 (pp. 217-225). Springer, Cham."
   ]
  },
  {
   "cell_type": "markdown",
   "metadata": {
    "id": "rwdjVOCoJP9t"
   },
   "source": [
    "- In this tutorial, we shall focus on mapping the coarse resolution data for a variable to a finer resolution at a given time stamp. Specifically, we shall continue with focusing on the _Temperature at 2m_ climate variable using a ResNet model."
   ]
  },
  {
   "cell_type": "markdown",
   "metadata": {
    "id": "0zAegEGoV9zy"
   },
   "source": [
    "## Data Download\n",
    "\n",
    "To perfrom climate downscaling, we need to have data for the temperature at 2m at different resolutions. In addition to the 5.625deg dataset we downloaded above, here we download the 2.8125deg dataset, which divides the Earth's surface into a latitude x longitude grid of 64 x 128."
   ]
  },
  {
   "cell_type": "code",
   "execution_count": null,
   "metadata": {
    "colab": {
     "base_uri": "https://localhost:8080/"
    },
    "id": "u3tRve6-h0sI",
    "outputId": "d1826693-37c2-4293-f093-eaa398bee966",
    "pycharm": {
     "is_executing": true
    }
   },
   "outputs": [],
   "source": [
    "from climate_learn.data import download\n",
    "\n",
    "# Download data from weatherbench (~2-3 minutes)\n",
    "# download(root = \"/content/drive/MyDrive/Climate/.climate_tutorial\", source = \"weatherbench\", variable = \"2m_temperature\", dataset = \"era5\", resolution = \"5.625\")\n",
    "# Download data from weatherbench (~4-6 minutes)\n",
    "download(root = \"/content/drive/MyDrive/Climate/.climate_tutorial\", source = \"weatherbench\", variable = \"2m_temperature\", dataset = \"era5\", resolution = \"2.8125\")"
   ]
  },
  {
   "cell_type": "markdown",
   "metadata": {
    "id": "YsR8lhdjXejR"
   },
   "source": [
    "## Data Conversion"
   ]
  },
  {
   "cell_type": "code",
   "execution_count": null,
   "metadata": {
    "colab": {
     "base_uri": "https://localhost:8080/",
     "height": 99,
     "referenced_widgets": [
      "0c606c78642e409eaa8fbbfd61e40cb8",
      "296b1ee324ed4e74a57c5439751d51ad",
      "93b1dd869c564c75964e78df5cee8e30",
      "aa6608e44fa44e518f3b10be10730bbf",
      "5980eef837684465b893fa02a96c3d72",
      "0a774eb505de4f028e35ccb793c7eb10",
      "860c63df18a44246acab1a5d173f29b1",
      "78f0746a211842538b826f8ac027f602",
      "fce79f603cfd4c809788b6dc1c677e85",
      "adb8287e497b41819e92cee4aa94881e",
      "dd08b8b768bf46ec87902f2502d195f8",
      "bd729e5f9eba4121b3e14e9112128463",
      "047fb6f7e92a42ce8555bed88f61039b",
      "189785d86fdd45b9be5d99b703666667",
      "fee0eb7f0aa24a8990d8ebb32a13886d",
      "3c04dc5a23bb41bda7e3141174478d18",
      "c1e2f5098c754170b04607c2b2160ed4",
      "48d8c84aad4245a795806eeb8d0f41f7",
      "c116da5970b24b2aab01a34b40bbe435",
      "32e28adfdae347a3889baa2750af8f8f",
      "a0ebac03ea924fdb9dcea3adf19e2f8c",
      "eba08fcafd6b45ec802bccf2e0aa4fb7"
     ]
    },
    "id": "7T9N7cL4oFKm",
    "outputId": "24535aae-4b08-44b8-df7d-61ad6612f756",
    "pycharm": {
     "is_executing": true
    }
   },
   "outputs": [],
   "source": [
    "from climate_learn.utils.datetime import Year, Days, Hours\n",
    "from climate_learn.data import DataModule\n",
    "\n",
    "data_module = DataModule(\n",
    "    dataset = \"ERA5\",\n",
    "    task = \"downscaling\",\n",
    "    root_dir = \"/content/drive/MyDrive/Climate/.climate_tutorial/data/weatherbench/era5/5.625\",\n",
    "    root_highres_dir = \"/content/drive/MyDrive/Climate/.climate_tutorial/data/weatherbench/era5/2.8125\",\n",
    "    in_vars = [\"2m_temperature\"],\n",
    "    out_vars = [\"2m_temperature\"],\n",
    "    train_start_year = Year(1979),\n",
    "    val_start_year = Year(2015),\n",
    "    test_start_year = Year(2017),\n",
    "    end_year = Year(2018),\n",
    "    subsample = Hours(6),\n",
    "    batch_size = 128,\n",
    "    num_workers = 1\n",
    ")"
   ]
  },
  {
   "cell_type": "markdown",
   "metadata": {
    "id": "Sunkptw4g_Rc"
   },
   "source": [
    "## Model initialization"
   ]
  },
  {
   "cell_type": "code",
   "execution_count": null,
   "metadata": {
    "id": "lqxpa1znpX5n",
    "pycharm": {
     "is_executing": true
    }
   },
   "outputs": [],
   "source": [
    "from climate_learn.models import load_model\n",
    "\n",
    "# model_kwargs = {\n",
    "#     \"img_size\": [32, 64],\n",
    "#     \"patch_size\": 4,\n",
    "#     \"drop_path\": 0.1,\n",
    "#     \"drop_rate\": 0.1,\n",
    "#     \"learn_pos_emb\": True,\n",
    "#     \"in_vars\": data_module.hparams.in_vars,\n",
    "#     \"out_vars\": data_module.hparams.out_vars,\n",
    "#     \"upsampling\": data_module.train_dataset.downscale_ratio,\n",
    "#     \"embed_dim\": 128,\n",
    "#     \"depth\": 8,\n",
    "#     \"decoder_depth\": 0,\n",
    "#     \"num_heads\": 4,\n",
    "#     \"mlp_ratio\": 4,\n",
    "# }\n",
    "\n",
    "model_kwargs = {\n",
    "    \"in_channels\": len(data_module.hparams.in_vars),\n",
    "    \"out_channels\": len(data_module.hparams.out_vars),\n",
    "    \"upsampling\": data_module.train_dataset.downscale_ratio,\n",
    "    \"n_blocks\": 4,\n",
    "}\n",
    "\n",
    "optim_kwargs = {\n",
    "    \"optimizer\": \"adamw\",\n",
    "    \"lr\": 1e-4,\n",
    "    \"weight_decay\": 1e-5,\n",
    "    \"warmup_epochs\": 1,\n",
    "    \"max_epochs\": 5,\n",
    "}\n",
    "\n",
    "# model_module = load_model(name = \"vit\", task = \"downscaling\", model_kwargs = model_kwargs, optim_kwargs = optim_kwargs)\n",
    "model_module = load_model(name = \"resnet\", task = \"downscaling\", model_kwargs = model_kwargs, optim_kwargs = optim_kwargs)\n",
    "# model_module = load_model(name = \"unet\", task = \"downscaling\", model_kwargs = model_kwargs, optim_kwargs = optim_kwargs)"
   ]
  },
  {
   "cell_type": "code",
   "execution_count": null,
   "metadata": {
    "id": "CHytyooUpc9-",
    "pycharm": {
     "is_executing": true
    }
   },
   "outputs": [],
   "source": [
    "# latitude long info, \n",
    "from climate_learn.models import set_climatology\n",
    "set_climatology(model_module, data_module)"
   ]
  },
  {
   "cell_type": "markdown",
   "metadata": {
    "id": "e1XU1EIvXhvb"
   },
   "source": [
    "## Training"
   ]
  },
  {
   "cell_type": "code",
   "execution_count": null,
   "metadata": {
    "id": "ioW1bg4QpZ30",
    "pycharm": {
     "is_executing": true
    }
   },
   "outputs": [],
   "source": [
    "from climate_learn.training import Trainer, WandbLogger\n",
    "\n",
    "trainer = Trainer(\n",
    "    seed = 0,\n",
    "    accelerator = \"gpu\",\n",
    "    precision = 16,\n",
    "    max_epochs = 5,\n",
    "    # logger = WandbLogger(project = \"climate_tutorial\", name = \"downscale-vit\")\n",
    ")"
   ]
  },
  {
   "cell_type": "code",
   "execution_count": null,
   "metadata": {
    "id": "a6K0-H3ppiRY",
    "pycharm": {
     "is_executing": true
    }
   },
   "outputs": [],
   "source": [
    "trainer.fit(model_module, data_module)"
   ]
  },
  {
   "cell_type": "markdown",
   "metadata": {
    "id": "k7JdGELMXpIw"
   },
   "source": [
    "## Evaluation"
   ]
  },
  {
   "cell_type": "code",
   "execution_count": null,
   "metadata": {
    "id": "kELMwe8lpm1e",
    "pycharm": {
     "is_executing": true
    }
   },
   "outputs": [],
   "source": [
    "trainer.test(model_module, data_module)"
   ]
  },
  {
   "cell_type": "markdown",
   "metadata": {
    "id": "-DQou7zmXq7u"
   },
   "source": [
    "## Visualization "
   ]
  },
  {
   "cell_type": "code",
   "execution_count": null,
   "metadata": {
    "id": "SL2v8Nn973sL",
    "pycharm": {
     "is_executing": true
    }
   },
   "outputs": [],
   "source": [
    "# from climate_tutorial.utils import visualize\n",
    "# visualize(model_module, data_module)\n",
    "visualize(model_module, data_module, samples = [\"2017-06-01:12\", \"2017-08-01:18\"])"
   ]
  },
  {
   "cell_type": "markdown",
   "metadata": {
    "id": "W2wWs9DDxb1I"
   },
   "source": [
    "## Potential Applications of the Tutorial\n",
    "\n",
    "\n",
    "1. Our package with this tutorial makes it easy for the practitioners to focus on the machine learning model design and evaluate their models against standard benchmarks such as Weatherbench ([Leaderboard](https://github.com/pangeo-data/WeatherBench)) using our evaluation support. \n",
    "2. The climate experts can load and train their customized machine learning models with various hyperparameters. For instance, they can study the effect of varying the capacity of machine learning models on its predictions.\n",
    "3. To best of our knowledge, this is the only package that provides support for temporal forecasting and spatial downscaling under the hood. It helps the forecasting community to benefit from the improvements in modeling downscaling and vice-versa."
   ]
  },
  {
   "cell_type": "markdown",
   "metadata": {
    "id": "x9VLYXAkxfAH"
   },
   "source": [
    "## Limitations\n",
    "\n",
    "\n",
    "1. Due to the noise involved in capturing climate variables, climate modeling is particularly a challenging task. Different datasets such as ERA5, CMIP6 may contain different values for a particular climate variable. \n",
    "2. This tutorial does not cover the aspect of uncertainity in the model predictions. We shall add more capabilities to our models in the package for climate modelers to quantify the error in the predicted output.\n",
    "3. There is a massive amount of climate data available (~10 TBs), our tutorial does not cover aspects of how to deal with the data at that scale which might be important for capturing more sophisticated climate phenomenon."
   ]
  }
 ],
 "metadata": {
  "accelerator": "GPU",
  "colab": {
   "provenance": [
    {
     "file_id": "1EHYJr6hRPi54btuHWq4cj7E3eaLR0KLI",
     "timestamp": 1670617478700
    },
    {
     "file_id": "1GBFjcG7CjoXAhOyUKKF-oku-oB2QVkLH",
     "timestamp": 1670401082621
    }
   ]
  },
  "gpuClass": "standard",
  "kernelspec": {
   "display_name": "Python 3 (ipykernel)",
   "language": "python",
   "name": "python3"
  },
  "language_info": {
   "codemirror_mode": {
    "name": "ipython",
    "version": 3
   },
   "file_extension": ".py",
   "mimetype": "text/x-python",
   "name": "python",
   "nbconvert_exporter": "python",
   "pygments_lexer": "ipython3",
   "version": "3.9.12"
  },
  "widgets": {
   "application/vnd.jupyter.widget-state+json": {
    "03303b9c1b8548b3a04909a826f80002": {
     "model_module": "@jupyter-widgets/controls",
     "model_module_version": "1.5.0",
     "model_name": "FloatProgressModel",
     "state": {
      "_dom_classes": [],
      "_model_module": "@jupyter-widgets/controls",
      "_model_module_version": "1.5.0",
      "_model_name": "FloatProgressModel",
      "_view_count": null,
      "_view_module": "@jupyter-widgets/controls",
      "_view_module_version": "1.5.0",
      "_view_name": "ProgressView",
      "bar_style": "success",
      "description": "",
      "description_tooltip": null,
      "layout": "IPY_MODEL_1fc4c15488ef4c0e8570aad266cc3c21",
      "max": 2,
      "min": 0,
      "orientation": "horizontal",
      "style": "IPY_MODEL_6b0f9dd6014d4a63adb5d85d93c6b2af",
      "value": 2
     }
    },
    "047fb6f7e92a42ce8555bed88f61039b": {
     "model_module": "@jupyter-widgets/controls",
     "model_module_version": "1.5.0",
     "model_name": "HTMLModel",
     "state": {
      "_dom_classes": [],
      "_model_module": "@jupyter-widgets/controls",
      "_model_module_version": "1.5.0",
      "_model_name": "HTMLModel",
      "_view_count": null,
      "_view_module": "@jupyter-widgets/controls",
      "_view_module_version": "1.5.0",
      "_view_name": "HTMLView",
      "description": "",
      "description_tooltip": null,
      "layout": "IPY_MODEL_c1e2f5098c754170b04607c2b2160ed4",
      "placeholder": "​",
      "style": "IPY_MODEL_48d8c84aad4245a795806eeb8d0f41f7",
      "value": " 19%"
     }
    },
    "0a774eb505de4f028e35ccb793c7eb10": {
     "model_module": "@jupyter-widgets/base",
     "model_module_version": "1.2.0",
     "model_name": "LayoutModel",
     "state": {
      "_model_module": "@jupyter-widgets/base",
      "_model_module_version": "1.2.0",
      "_model_name": "LayoutModel",
      "_view_count": null,
      "_view_module": "@jupyter-widgets/base",
      "_view_module_version": "1.2.0",
      "_view_name": "LayoutView",
      "align_content": null,
      "align_items": null,
      "align_self": null,
      "border": null,
      "bottom": null,
      "display": null,
      "flex": null,
      "flex_flow": null,
      "grid_area": null,
      "grid_auto_columns": null,
      "grid_auto_flow": null,
      "grid_auto_rows": null,
      "grid_column": null,
      "grid_gap": null,
      "grid_row": null,
      "grid_template_areas": null,
      "grid_template_columns": null,
      "grid_template_rows": null,
      "height": null,
      "justify_content": null,
      "justify_items": null,
      "left": null,
      "margin": null,
      "max_height": null,
      "max_width": null,
      "min_height": null,
      "min_width": null,
      "object_fit": null,
      "object_position": null,
      "order": null,
      "overflow": null,
      "overflow_x": null,
      "overflow_y": null,
      "padding": null,
      "right": null,
      "top": null,
      "visibility": null,
      "width": null
     }
    },
    "0c606c78642e409eaa8fbbfd61e40cb8": {
     "model_module": "@jupyter-widgets/controls",
     "model_module_version": "1.5.0",
     "model_name": "HBoxModel",
     "state": {
      "_dom_classes": [],
      "_model_module": "@jupyter-widgets/controls",
      "_model_module_version": "1.5.0",
      "_model_name": "HBoxModel",
      "_view_count": null,
      "_view_module": "@jupyter-widgets/controls",
      "_view_module_version": "1.5.0",
      "_view_name": "HBoxView",
      "box_style": "",
      "children": [
       "IPY_MODEL_296b1ee324ed4e74a57c5439751d51ad",
       "IPY_MODEL_93b1dd869c564c75964e78df5cee8e30",
       "IPY_MODEL_aa6608e44fa44e518f3b10be10730bbf"
      ],
      "layout": "IPY_MODEL_5980eef837684465b893fa02a96c3d72"
     }
    },
    "0fdc7a7efe234a8286b899308943de64": {
     "model_module": "@jupyter-widgets/controls",
     "model_module_version": "1.5.0",
     "model_name": "DescriptionStyleModel",
     "state": {
      "_model_module": "@jupyter-widgets/controls",
      "_model_module_version": "1.5.0",
      "_model_name": "DescriptionStyleModel",
      "_view_count": null,
      "_view_module": "@jupyter-widgets/base",
      "_view_module_version": "1.2.0",
      "_view_name": "StyleView",
      "description_width": ""
     }
    },
    "189785d86fdd45b9be5d99b703666667": {
     "model_module": "@jupyter-widgets/controls",
     "model_module_version": "1.5.0",
     "model_name": "FloatProgressModel",
     "state": {
      "_dom_classes": [],
      "_model_module": "@jupyter-widgets/controls",
      "_model_module_version": "1.5.0",
      "_model_name": "FloatProgressModel",
      "_view_count": null,
      "_view_module": "@jupyter-widgets/controls",
      "_view_module_version": "1.5.0",
      "_view_name": "ProgressView",
      "bar_style": "",
      "description": "",
      "description_tooltip": null,
      "layout": "IPY_MODEL_c116da5970b24b2aab01a34b40bbe435",
      "max": 36,
      "min": 0,
      "orientation": "horizontal",
      "style": "IPY_MODEL_32e28adfdae347a3889baa2750af8f8f",
      "value": 7
     }
    },
    "1b2dc1db6dc94fb0b056191767046db2": {
     "model_module": "@jupyter-widgets/controls",
     "model_module_version": "1.5.0",
     "model_name": "DescriptionStyleModel",
     "state": {
      "_model_module": "@jupyter-widgets/controls",
      "_model_module_version": "1.5.0",
      "_model_name": "DescriptionStyleModel",
      "_view_count": null,
      "_view_module": "@jupyter-widgets/base",
      "_view_module_version": "1.2.0",
      "_view_name": "StyleView",
      "description_width": ""
     }
    },
    "1fc4c15488ef4c0e8570aad266cc3c21": {
     "model_module": "@jupyter-widgets/base",
     "model_module_version": "1.2.0",
     "model_name": "LayoutModel",
     "state": {
      "_model_module": "@jupyter-widgets/base",
      "_model_module_version": "1.2.0",
      "_model_name": "LayoutModel",
      "_view_count": null,
      "_view_module": "@jupyter-widgets/base",
      "_view_module_version": "1.2.0",
      "_view_name": "LayoutView",
      "align_content": null,
      "align_items": null,
      "align_self": null,
      "border": null,
      "bottom": null,
      "display": null,
      "flex": null,
      "flex_flow": null,
      "grid_area": null,
      "grid_auto_columns": null,
      "grid_auto_flow": null,
      "grid_auto_rows": null,
      "grid_column": null,
      "grid_gap": null,
      "grid_row": null,
      "grid_template_areas": null,
      "grid_template_columns": null,
      "grid_template_rows": null,
      "height": null,
      "justify_content": null,
      "justify_items": null,
      "left": null,
      "margin": null,
      "max_height": null,
      "max_width": null,
      "min_height": null,
      "min_width": null,
      "object_fit": null,
      "object_position": null,
      "order": null,
      "overflow": null,
      "overflow_x": null,
      "overflow_y": null,
      "padding": null,
      "right": null,
      "top": null,
      "visibility": null,
      "width": null
     }
    },
    "296b1ee324ed4e74a57c5439751d51ad": {
     "model_module": "@jupyter-widgets/controls",
     "model_module_version": "1.5.0",
     "model_name": "HTMLModel",
     "state": {
      "_dom_classes": [],
      "_model_module": "@jupyter-widgets/controls",
      "_model_module_version": "1.5.0",
      "_model_name": "HTMLModel",
      "_view_count": null,
      "_view_module": "@jupyter-widgets/controls",
      "_view_module_version": "1.5.0",
      "_view_name": "HTMLView",
      "description": "",
      "description_tooltip": null,
      "layout": "IPY_MODEL_0a774eb505de4f028e35ccb793c7eb10",
      "placeholder": "​",
      "style": "IPY_MODEL_860c63df18a44246acab1a5d173f29b1",
      "value": "100%"
     }
    },
    "32e28adfdae347a3889baa2750af8f8f": {
     "model_module": "@jupyter-widgets/controls",
     "model_module_version": "1.5.0",
     "model_name": "ProgressStyleModel",
     "state": {
      "_model_module": "@jupyter-widgets/controls",
      "_model_module_version": "1.5.0",
      "_model_name": "ProgressStyleModel",
      "_view_count": null,
      "_view_module": "@jupyter-widgets/base",
      "_view_module_version": "1.2.0",
      "_view_name": "StyleView",
      "bar_color": null,
      "description_width": ""
     }
    },
    "3c04dc5a23bb41bda7e3141174478d18": {
     "model_module": "@jupyter-widgets/base",
     "model_module_version": "1.2.0",
     "model_name": "LayoutModel",
     "state": {
      "_model_module": "@jupyter-widgets/base",
      "_model_module_version": "1.2.0",
      "_model_name": "LayoutModel",
      "_view_count": null,
      "_view_module": "@jupyter-widgets/base",
      "_view_module_version": "1.2.0",
      "_view_name": "LayoutView",
      "align_content": null,
      "align_items": null,
      "align_self": null,
      "border": null,
      "bottom": null,
      "display": null,
      "flex": null,
      "flex_flow": null,
      "grid_area": null,
      "grid_auto_columns": null,
      "grid_auto_flow": null,
      "grid_auto_rows": null,
      "grid_column": null,
      "grid_gap": null,
      "grid_row": null,
      "grid_template_areas": null,
      "grid_template_columns": null,
      "grid_template_rows": null,
      "height": null,
      "justify_content": null,
      "justify_items": null,
      "left": null,
      "margin": null,
      "max_height": null,
      "max_width": null,
      "min_height": null,
      "min_width": null,
      "object_fit": null,
      "object_position": null,
      "order": null,
      "overflow": null,
      "overflow_x": null,
      "overflow_y": null,
      "padding": null,
      "right": null,
      "top": null,
      "visibility": null,
      "width": null
     }
    },
    "48d8c84aad4245a795806eeb8d0f41f7": {
     "model_module": "@jupyter-widgets/controls",
     "model_module_version": "1.5.0",
     "model_name": "DescriptionStyleModel",
     "state": {
      "_model_module": "@jupyter-widgets/controls",
      "_model_module_version": "1.5.0",
      "_model_name": "DescriptionStyleModel",
      "_view_count": null,
      "_view_module": "@jupyter-widgets/base",
      "_view_module_version": "1.2.0",
      "_view_name": "StyleView",
      "description_width": ""
     }
    },
    "50a5a7cfd06c4028b10cff7e1ef1c931": {
     "model_module": "@jupyter-widgets/controls",
     "model_module_version": "1.5.0",
     "model_name": "HBoxModel",
     "state": {
      "_dom_classes": [],
      "_model_module": "@jupyter-widgets/controls",
      "_model_module_version": "1.5.0",
      "_model_name": "HBoxModel",
      "_view_count": null,
      "_view_module": "@jupyter-widgets/controls",
      "_view_module_version": "1.5.0",
      "_view_name": "HBoxView",
      "box_style": "",
      "children": [
       "IPY_MODEL_f052d66a04f6409cb466b5d48a2b2b26",
       "IPY_MODEL_7fa33ddae6894cd3be1bad4b1739e5c7",
       "IPY_MODEL_92a625d6928147bcb1cfdaf52fe2363d"
      ],
      "layout": "IPY_MODEL_e30aa056ea1049debe4742db2b2df222"
     }
    },
    "5820a025a44f417a8cab72ba243a55d2": {
     "model_module": "@jupyter-widgets/base",
     "model_module_version": "1.2.0",
     "model_name": "LayoutModel",
     "state": {
      "_model_module": "@jupyter-widgets/base",
      "_model_module_version": "1.2.0",
      "_model_name": "LayoutModel",
      "_view_count": null,
      "_view_module": "@jupyter-widgets/base",
      "_view_module_version": "1.2.0",
      "_view_name": "LayoutView",
      "align_content": null,
      "align_items": null,
      "align_self": null,
      "border": null,
      "bottom": null,
      "display": null,
      "flex": null,
      "flex_flow": null,
      "grid_area": null,
      "grid_auto_columns": null,
      "grid_auto_flow": null,
      "grid_auto_rows": null,
      "grid_column": null,
      "grid_gap": null,
      "grid_row": null,
      "grid_template_areas": null,
      "grid_template_columns": null,
      "grid_template_rows": null,
      "height": null,
      "justify_content": null,
      "justify_items": null,
      "left": null,
      "margin": null,
      "max_height": null,
      "max_width": null,
      "min_height": null,
      "min_width": null,
      "object_fit": null,
      "object_position": null,
      "order": null,
      "overflow": null,
      "overflow_x": null,
      "overflow_y": null,
      "padding": null,
      "right": null,
      "top": null,
      "visibility": null,
      "width": null
     }
    },
    "5980eef837684465b893fa02a96c3d72": {
     "model_module": "@jupyter-widgets/base",
     "model_module_version": "1.2.0",
     "model_name": "LayoutModel",
     "state": {
      "_model_module": "@jupyter-widgets/base",
      "_model_module_version": "1.2.0",
      "_model_name": "LayoutModel",
      "_view_count": null,
      "_view_module": "@jupyter-widgets/base",
      "_view_module_version": "1.2.0",
      "_view_name": "LayoutView",
      "align_content": null,
      "align_items": null,
      "align_self": null,
      "border": null,
      "bottom": null,
      "display": null,
      "flex": null,
      "flex_flow": null,
      "grid_area": null,
      "grid_auto_columns": null,
      "grid_auto_flow": null,
      "grid_auto_rows": null,
      "grid_column": null,
      "grid_gap": null,
      "grid_row": null,
      "grid_template_areas": null,
      "grid_template_columns": null,
      "grid_template_rows": null,
      "height": null,
      "justify_content": null,
      "justify_items": null,
      "left": null,
      "margin": null,
      "max_height": null,
      "max_width": null,
      "min_height": null,
      "min_width": null,
      "object_fit": null,
      "object_position": null,
      "order": null,
      "overflow": null,
      "overflow_x": null,
      "overflow_y": null,
      "padding": null,
      "right": null,
      "top": null,
      "visibility": null,
      "width": null
     }
    },
    "59c178782d894a5aaa8d089069ef655d": {
     "model_module": "@jupyter-widgets/base",
     "model_module_version": "1.2.0",
     "model_name": "LayoutModel",
     "state": {
      "_model_module": "@jupyter-widgets/base",
      "_model_module_version": "1.2.0",
      "_model_name": "LayoutModel",
      "_view_count": null,
      "_view_module": "@jupyter-widgets/base",
      "_view_module_version": "1.2.0",
      "_view_name": "LayoutView",
      "align_content": null,
      "align_items": null,
      "align_self": null,
      "border": null,
      "bottom": null,
      "display": null,
      "flex": null,
      "flex_flow": null,
      "grid_area": null,
      "grid_auto_columns": null,
      "grid_auto_flow": null,
      "grid_auto_rows": null,
      "grid_column": null,
      "grid_gap": null,
      "grid_row": null,
      "grid_template_areas": null,
      "grid_template_columns": null,
      "grid_template_rows": null,
      "height": null,
      "justify_content": null,
      "justify_items": null,
      "left": null,
      "margin": null,
      "max_height": null,
      "max_width": null,
      "min_height": null,
      "min_width": null,
      "object_fit": null,
      "object_position": null,
      "order": null,
      "overflow": null,
      "overflow_x": null,
      "overflow_y": null,
      "padding": null,
      "right": null,
      "top": null,
      "visibility": null,
      "width": null
     }
    },
    "611e8d47189847318e7e1d7796f48db3": {
     "model_module": "@jupyter-widgets/base",
     "model_module_version": "1.2.0",
     "model_name": "LayoutModel",
     "state": {
      "_model_module": "@jupyter-widgets/base",
      "_model_module_version": "1.2.0",
      "_model_name": "LayoutModel",
      "_view_count": null,
      "_view_module": "@jupyter-widgets/base",
      "_view_module_version": "1.2.0",
      "_view_name": "LayoutView",
      "align_content": null,
      "align_items": null,
      "align_self": null,
      "border": null,
      "bottom": null,
      "display": null,
      "flex": null,
      "flex_flow": null,
      "grid_area": null,
      "grid_auto_columns": null,
      "grid_auto_flow": null,
      "grid_auto_rows": null,
      "grid_column": null,
      "grid_gap": null,
      "grid_row": null,
      "grid_template_areas": null,
      "grid_template_columns": null,
      "grid_template_rows": null,
      "height": null,
      "justify_content": null,
      "justify_items": null,
      "left": null,
      "margin": null,
      "max_height": null,
      "max_width": null,
      "min_height": null,
      "min_width": null,
      "object_fit": null,
      "object_position": null,
      "order": null,
      "overflow": null,
      "overflow_x": null,
      "overflow_y": null,
      "padding": null,
      "right": null,
      "top": null,
      "visibility": null,
      "width": null
     }
    },
    "64b28cb4b7a64e9fa7b3b8f10aa34f99": {
     "model_module": "@jupyter-widgets/base",
     "model_module_version": "1.2.0",
     "model_name": "LayoutModel",
     "state": {
      "_model_module": "@jupyter-widgets/base",
      "_model_module_version": "1.2.0",
      "_model_name": "LayoutModel",
      "_view_count": null,
      "_view_module": "@jupyter-widgets/base",
      "_view_module_version": "1.2.0",
      "_view_name": "LayoutView",
      "align_content": null,
      "align_items": null,
      "align_self": null,
      "border": null,
      "bottom": null,
      "display": null,
      "flex": null,
      "flex_flow": null,
      "grid_area": null,
      "grid_auto_columns": null,
      "grid_auto_flow": null,
      "grid_auto_rows": null,
      "grid_column": null,
      "grid_gap": null,
      "grid_row": null,
      "grid_template_areas": null,
      "grid_template_columns": null,
      "grid_template_rows": null,
      "height": null,
      "justify_content": null,
      "justify_items": null,
      "left": null,
      "margin": null,
      "max_height": null,
      "max_width": null,
      "min_height": null,
      "min_width": null,
      "object_fit": null,
      "object_position": null,
      "order": null,
      "overflow": null,
      "overflow_x": null,
      "overflow_y": null,
      "padding": null,
      "right": null,
      "top": null,
      "visibility": null,
      "width": null
     }
    },
    "6b0f9dd6014d4a63adb5d85d93c6b2af": {
     "model_module": "@jupyter-widgets/controls",
     "model_module_version": "1.5.0",
     "model_name": "ProgressStyleModel",
     "state": {
      "_model_module": "@jupyter-widgets/controls",
      "_model_module_version": "1.5.0",
      "_model_name": "ProgressStyleModel",
      "_view_count": null,
      "_view_module": "@jupyter-widgets/base",
      "_view_module_version": "1.2.0",
      "_view_name": "StyleView",
      "bar_color": null,
      "description_width": ""
     }
    },
    "6b556a795d984987aea598764f2d2797": {
     "model_module": "@jupyter-widgets/controls",
     "model_module_version": "1.5.0",
     "model_name": "HTMLModel",
     "state": {
      "_dom_classes": [],
      "_model_module": "@jupyter-widgets/controls",
      "_model_module_version": "1.5.0",
      "_model_name": "HTMLModel",
      "_view_count": null,
      "_view_module": "@jupyter-widgets/controls",
      "_view_module_version": "1.5.0",
      "_view_name": "HTMLView",
      "description": "",
      "description_tooltip": null,
      "layout": "IPY_MODEL_5820a025a44f417a8cab72ba243a55d2",
      "placeholder": "​",
      "style": "IPY_MODEL_6e6e668844014da4be5713c15f0a6869",
      "value": " 2/2 [00:00&lt;00:00, 23.91it/s]"
     }
    },
    "6e6e668844014da4be5713c15f0a6869": {
     "model_module": "@jupyter-widgets/controls",
     "model_module_version": "1.5.0",
     "model_name": "DescriptionStyleModel",
     "state": {
      "_model_module": "@jupyter-widgets/controls",
      "_model_module_version": "1.5.0",
      "_model_name": "DescriptionStyleModel",
      "_view_count": null,
      "_view_module": "@jupyter-widgets/base",
      "_view_module_version": "1.2.0",
      "_view_name": "StyleView",
      "description_width": ""
     }
    },
    "73598cd518384df096e46704d3369362": {
     "model_module": "@jupyter-widgets/base",
     "model_module_version": "1.2.0",
     "model_name": "LayoutModel",
     "state": {
      "_model_module": "@jupyter-widgets/base",
      "_model_module_version": "1.2.0",
      "_model_name": "LayoutModel",
      "_view_count": null,
      "_view_module": "@jupyter-widgets/base",
      "_view_module_version": "1.2.0",
      "_view_name": "LayoutView",
      "align_content": null,
      "align_items": null,
      "align_self": null,
      "border": null,
      "bottom": null,
      "display": null,
      "flex": null,
      "flex_flow": null,
      "grid_area": null,
      "grid_auto_columns": null,
      "grid_auto_flow": null,
      "grid_auto_rows": null,
      "grid_column": null,
      "grid_gap": null,
      "grid_row": null,
      "grid_template_areas": null,
      "grid_template_columns": null,
      "grid_template_rows": null,
      "height": null,
      "justify_content": null,
      "justify_items": null,
      "left": null,
      "margin": null,
      "max_height": null,
      "max_width": null,
      "min_height": null,
      "min_width": null,
      "object_fit": null,
      "object_position": null,
      "order": null,
      "overflow": null,
      "overflow_x": null,
      "overflow_y": null,
      "padding": null,
      "right": null,
      "top": null,
      "visibility": null,
      "width": null
     }
    },
    "745ff522ee1a44cf88af1f4999c1a12e": {
     "model_module": "@jupyter-widgets/base",
     "model_module_version": "1.2.0",
     "model_name": "LayoutModel",
     "state": {
      "_model_module": "@jupyter-widgets/base",
      "_model_module_version": "1.2.0",
      "_model_name": "LayoutModel",
      "_view_count": null,
      "_view_module": "@jupyter-widgets/base",
      "_view_module_version": "1.2.0",
      "_view_name": "LayoutView",
      "align_content": null,
      "align_items": null,
      "align_self": null,
      "border": null,
      "bottom": null,
      "display": null,
      "flex": null,
      "flex_flow": null,
      "grid_area": null,
      "grid_auto_columns": null,
      "grid_auto_flow": null,
      "grid_auto_rows": null,
      "grid_column": null,
      "grid_gap": null,
      "grid_row": null,
      "grid_template_areas": null,
      "grid_template_columns": null,
      "grid_template_rows": null,
      "height": null,
      "justify_content": null,
      "justify_items": null,
      "left": null,
      "margin": null,
      "max_height": null,
      "max_width": null,
      "min_height": null,
      "min_width": null,
      "object_fit": null,
      "object_position": null,
      "order": null,
      "overflow": null,
      "overflow_x": null,
      "overflow_y": null,
      "padding": null,
      "right": null,
      "top": null,
      "visibility": null,
      "width": null
     }
    },
    "78f0746a211842538b826f8ac027f602": {
     "model_module": "@jupyter-widgets/base",
     "model_module_version": "1.2.0",
     "model_name": "LayoutModel",
     "state": {
      "_model_module": "@jupyter-widgets/base",
      "_model_module_version": "1.2.0",
      "_model_name": "LayoutModel",
      "_view_count": null,
      "_view_module": "@jupyter-widgets/base",
      "_view_module_version": "1.2.0",
      "_view_name": "LayoutView",
      "align_content": null,
      "align_items": null,
      "align_self": null,
      "border": null,
      "bottom": null,
      "display": null,
      "flex": null,
      "flex_flow": null,
      "grid_area": null,
      "grid_auto_columns": null,
      "grid_auto_flow": null,
      "grid_auto_rows": null,
      "grid_column": null,
      "grid_gap": null,
      "grid_row": null,
      "grid_template_areas": null,
      "grid_template_columns": null,
      "grid_template_rows": null,
      "height": null,
      "justify_content": null,
      "justify_items": null,
      "left": null,
      "margin": null,
      "max_height": null,
      "max_width": null,
      "min_height": null,
      "min_width": null,
      "object_fit": null,
      "object_position": null,
      "order": null,
      "overflow": null,
      "overflow_x": null,
      "overflow_y": null,
      "padding": null,
      "right": null,
      "top": null,
      "visibility": null,
      "width": null
     }
    },
    "7fa33ddae6894cd3be1bad4b1739e5c7": {
     "model_module": "@jupyter-widgets/controls",
     "model_module_version": "1.5.0",
     "model_name": "FloatProgressModel",
     "state": {
      "_dom_classes": [],
      "_model_module": "@jupyter-widgets/controls",
      "_model_module_version": "1.5.0",
      "_model_name": "FloatProgressModel",
      "_view_count": null,
      "_view_module": "@jupyter-widgets/controls",
      "_view_module_version": "1.5.0",
      "_view_name": "ProgressView",
      "bar_style": "success",
      "description": "",
      "description_tooltip": null,
      "layout": "IPY_MODEL_611e8d47189847318e7e1d7796f48db3",
      "max": 36,
      "min": 0,
      "orientation": "horizontal",
      "style": "IPY_MODEL_c8914ce3a0004f63a888ba444f8af318",
      "value": 36
     }
    },
    "8438fdefe7bf490e862723975371d61c": {
     "model_module": "@jupyter-widgets/controls",
     "model_module_version": "1.5.0",
     "model_name": "HTMLModel",
     "state": {
      "_dom_classes": [],
      "_model_module": "@jupyter-widgets/controls",
      "_model_module_version": "1.5.0",
      "_model_name": "HTMLModel",
      "_view_count": null,
      "_view_module": "@jupyter-widgets/controls",
      "_view_module_version": "1.5.0",
      "_view_name": "HTMLView",
      "description": "",
      "description_tooltip": null,
      "layout": "IPY_MODEL_a08703cd7dfa45ad94314f548c70ae64",
      "placeholder": "​",
      "style": "IPY_MODEL_1b2dc1db6dc94fb0b056191767046db2",
      "value": "100%"
     }
    },
    "8491c441c5a3488aa1a29a6ba638efe7": {
     "model_module": "@jupyter-widgets/output",
     "model_module_version": "1.0.0",
     "model_name": "OutputModel",
     "state": {
      "_dom_classes": [],
      "_model_module": "@jupyter-widgets/output",
      "_model_module_version": "1.0.0",
      "_model_name": "OutputModel",
      "_view_count": null,
      "_view_module": "@jupyter-widgets/output",
      "_view_module_version": "1.0.0",
      "_view_name": "OutputView",
      "layout": "IPY_MODEL_b99587dd83234cedb99830e3b6e0b511",
      "msg_id": "",
      "outputs": [
       {
        "data": {
         "text/html": "<pre style=\"white-space:pre;overflow-x:auto;line-height:normal;font-family:Menlo,'DejaVu Sans Mono',consolas,'Courier New',monospace\">Epoch 4/4  <span style=\"color: #6206e0; text-decoration-color: #6206e0\">━━━━━━━━━━━━━━━━━━━━━━━━━━━━━━━━</span> <span style=\"color: #c0c0c0; text-decoration-color: #c0c0c0\">2602/2602</span> <span style=\"color: #8a8a8a; text-decoration-color: #8a8a8a\">0:14:01 • 0:00:00</span> <span style=\"color: #b2b2b2; text-decoration-color: #b2b2b2\">5.81it/s</span> <span style=\"color: #c0c0c0; text-decoration-color: #c0c0c0\">loss: 0.016 train/2m_temperature: </span>\n                                                                                 <span style=\"color: #c0c0c0; text-decoration-color: #c0c0c0\">0.016 train/loss: 0.016           </span>\n</pre>\n",
         "text/plain": "Epoch 4/4  \u001b[38;2;98;6;224m━━━━━━━━━━━━━━━━━━━━━━━━━━━━━━━━\u001b[0m \u001b[37m2602/2602\u001b[0m \u001b[38;5;245m0:14:01 • 0:00:00\u001b[0m \u001b[38;5;249m5.81it/s\u001b[0m \u001b[37mloss: 0.016 train/2m_temperature: \u001b[0m\n                                                                                 \u001b[37m0.016 train/loss: 0.016           \u001b[0m\n"
        },
        "metadata": {},
        "output_type": "display_data"
       }
      ]
     }
    },
    "860c63df18a44246acab1a5d173f29b1": {
     "model_module": "@jupyter-widgets/controls",
     "model_module_version": "1.5.0",
     "model_name": "DescriptionStyleModel",
     "state": {
      "_model_module": "@jupyter-widgets/controls",
      "_model_module_version": "1.5.0",
      "_model_name": "DescriptionStyleModel",
      "_view_count": null,
      "_view_module": "@jupyter-widgets/base",
      "_view_module_version": "1.2.0",
      "_view_name": "StyleView",
      "description_width": ""
     }
    },
    "86e82a8918554b81bfe9e1bdd7c6a6bf": {
     "model_module": "@jupyter-widgets/controls",
     "model_module_version": "1.5.0",
     "model_name": "DescriptionStyleModel",
     "state": {
      "_model_module": "@jupyter-widgets/controls",
      "_model_module_version": "1.5.0",
      "_model_name": "DescriptionStyleModel",
      "_view_count": null,
      "_view_module": "@jupyter-widgets/base",
      "_view_module_version": "1.2.0",
      "_view_name": "StyleView",
      "description_width": ""
     }
    },
    "88a76bb1d2bb42b1b288567de3f58c0f": {
     "model_module": "@jupyter-widgets/controls",
     "model_module_version": "1.5.0",
     "model_name": "HTMLModel",
     "state": {
      "_dom_classes": [],
      "_model_module": "@jupyter-widgets/controls",
      "_model_module_version": "1.5.0",
      "_model_name": "HTMLModel",
      "_view_count": null,
      "_view_module": "@jupyter-widgets/controls",
      "_view_module_version": "1.5.0",
      "_view_name": "HTMLView",
      "description": "",
      "description_tooltip": null,
      "layout": "IPY_MODEL_59c178782d894a5aaa8d089069ef655d",
      "placeholder": "​",
      "style": "IPY_MODEL_c57a757b5f5844918085abe4cbae30f2",
      "value": " 2/2 [00:00&lt;00:00, 26.19it/s]"
     }
    },
    "8c8cae84332b4fa1bbd622034000f3a0": {
     "model_module": "@jupyter-widgets/controls",
     "model_module_version": "1.5.0",
     "model_name": "HBoxModel",
     "state": {
      "_dom_classes": [],
      "_model_module": "@jupyter-widgets/controls",
      "_model_module_version": "1.5.0",
      "_model_name": "HBoxModel",
      "_view_count": null,
      "_view_module": "@jupyter-widgets/controls",
      "_view_module_version": "1.5.0",
      "_view_name": "HBoxView",
      "box_style": "",
      "children": [
       "IPY_MODEL_c221fefd297343abb74b0a08c6438df4",
       "IPY_MODEL_da3a8137278d499d95472cad77a09dcf",
       "IPY_MODEL_88a76bb1d2bb42b1b288567de3f58c0f"
      ],
      "layout": "IPY_MODEL_64b28cb4b7a64e9fa7b3b8f10aa34f99"
     }
    },
    "92a625d6928147bcb1cfdaf52fe2363d": {
     "model_module": "@jupyter-widgets/controls",
     "model_module_version": "1.5.0",
     "model_name": "HTMLModel",
     "state": {
      "_dom_classes": [],
      "_model_module": "@jupyter-widgets/controls",
      "_model_module_version": "1.5.0",
      "_model_name": "HTMLModel",
      "_view_count": null,
      "_view_module": "@jupyter-widgets/controls",
      "_view_module_version": "1.5.0",
      "_view_name": "HTMLView",
      "description": "",
      "description_tooltip": null,
      "layout": "IPY_MODEL_abf99e8a44494cd187391ca4a07a026e",
      "placeholder": "​",
      "style": "IPY_MODEL_c20eaa791e264024aff4feb2f42d0d07",
      "value": " 36/36 [00:00&lt;00:00, 90.85it/s]"
     }
    },
    "93b1dd869c564c75964e78df5cee8e30": {
     "model_module": "@jupyter-widgets/controls",
     "model_module_version": "1.5.0",
     "model_name": "FloatProgressModel",
     "state": {
      "_dom_classes": [],
      "_model_module": "@jupyter-widgets/controls",
      "_model_module_version": "1.5.0",
      "_model_name": "FloatProgressModel",
      "_view_count": null,
      "_view_module": "@jupyter-widgets/controls",
      "_view_module_version": "1.5.0",
      "_view_name": "ProgressView",
      "bar_style": "success",
      "description": "",
      "description_tooltip": null,
      "layout": "IPY_MODEL_78f0746a211842538b826f8ac027f602",
      "max": 36,
      "min": 0,
      "orientation": "horizontal",
      "style": "IPY_MODEL_fce79f603cfd4c809788b6dc1c677e85",
      "value": 36
     }
    },
    "9e8a9cb9f31a42beaf02c7ba5b4f34ed": {
     "model_module": "@jupyter-widgets/base",
     "model_module_version": "1.2.0",
     "model_name": "LayoutModel",
     "state": {
      "_model_module": "@jupyter-widgets/base",
      "_model_module_version": "1.2.0",
      "_model_name": "LayoutModel",
      "_view_count": null,
      "_view_module": "@jupyter-widgets/base",
      "_view_module_version": "1.2.0",
      "_view_name": "LayoutView",
      "align_content": null,
      "align_items": null,
      "align_self": null,
      "border": null,
      "bottom": null,
      "display": null,
      "flex": null,
      "flex_flow": null,
      "grid_area": null,
      "grid_auto_columns": null,
      "grid_auto_flow": null,
      "grid_auto_rows": null,
      "grid_column": null,
      "grid_gap": null,
      "grid_row": null,
      "grid_template_areas": null,
      "grid_template_columns": null,
      "grid_template_rows": null,
      "height": null,
      "justify_content": null,
      "justify_items": null,
      "left": null,
      "margin": null,
      "max_height": null,
      "max_width": null,
      "min_height": null,
      "min_width": null,
      "object_fit": null,
      "object_position": null,
      "order": null,
      "overflow": null,
      "overflow_x": null,
      "overflow_y": null,
      "padding": null,
      "right": null,
      "top": null,
      "visibility": null,
      "width": null
     }
    },
    "a08703cd7dfa45ad94314f548c70ae64": {
     "model_module": "@jupyter-widgets/base",
     "model_module_version": "1.2.0",
     "model_name": "LayoutModel",
     "state": {
      "_model_module": "@jupyter-widgets/base",
      "_model_module_version": "1.2.0",
      "_model_name": "LayoutModel",
      "_view_count": null,
      "_view_module": "@jupyter-widgets/base",
      "_view_module_version": "1.2.0",
      "_view_name": "LayoutView",
      "align_content": null,
      "align_items": null,
      "align_self": null,
      "border": null,
      "bottom": null,
      "display": null,
      "flex": null,
      "flex_flow": null,
      "grid_area": null,
      "grid_auto_columns": null,
      "grid_auto_flow": null,
      "grid_auto_rows": null,
      "grid_column": null,
      "grid_gap": null,
      "grid_row": null,
      "grid_template_areas": null,
      "grid_template_columns": null,
      "grid_template_rows": null,
      "height": null,
      "justify_content": null,
      "justify_items": null,
      "left": null,
      "margin": null,
      "max_height": null,
      "max_width": null,
      "min_height": null,
      "min_width": null,
      "object_fit": null,
      "object_position": null,
      "order": null,
      "overflow": null,
      "overflow_x": null,
      "overflow_y": null,
      "padding": null,
      "right": null,
      "top": null,
      "visibility": null,
      "width": null
     }
    },
    "a0ebac03ea924fdb9dcea3adf19e2f8c": {
     "model_module": "@jupyter-widgets/base",
     "model_module_version": "1.2.0",
     "model_name": "LayoutModel",
     "state": {
      "_model_module": "@jupyter-widgets/base",
      "_model_module_version": "1.2.0",
      "_model_name": "LayoutModel",
      "_view_count": null,
      "_view_module": "@jupyter-widgets/base",
      "_view_module_version": "1.2.0",
      "_view_name": "LayoutView",
      "align_content": null,
      "align_items": null,
      "align_self": null,
      "border": null,
      "bottom": null,
      "display": null,
      "flex": null,
      "flex_flow": null,
      "grid_area": null,
      "grid_auto_columns": null,
      "grid_auto_flow": null,
      "grid_auto_rows": null,
      "grid_column": null,
      "grid_gap": null,
      "grid_row": null,
      "grid_template_areas": null,
      "grid_template_columns": null,
      "grid_template_rows": null,
      "height": null,
      "justify_content": null,
      "justify_items": null,
      "left": null,
      "margin": null,
      "max_height": null,
      "max_width": null,
      "min_height": null,
      "min_width": null,
      "object_fit": null,
      "object_position": null,
      "order": null,
      "overflow": null,
      "overflow_x": null,
      "overflow_y": null,
      "padding": null,
      "right": null,
      "top": null,
      "visibility": null,
      "width": null
     }
    },
    "aa6608e44fa44e518f3b10be10730bbf": {
     "model_module": "@jupyter-widgets/controls",
     "model_module_version": "1.5.0",
     "model_name": "HTMLModel",
     "state": {
      "_dom_classes": [],
      "_model_module": "@jupyter-widgets/controls",
      "_model_module_version": "1.5.0",
      "_model_name": "HTMLModel",
      "_view_count": null,
      "_view_module": "@jupyter-widgets/controls",
      "_view_module_version": "1.5.0",
      "_view_name": "HTMLView",
      "description": "",
      "description_tooltip": null,
      "layout": "IPY_MODEL_adb8287e497b41819e92cee4aa94881e",
      "placeholder": "​",
      "style": "IPY_MODEL_dd08b8b768bf46ec87902f2502d195f8",
      "value": " 36/36 [00:00&lt;00:00, 68.38it/s]"
     }
    },
    "abf99e8a44494cd187391ca4a07a026e": {
     "model_module": "@jupyter-widgets/base",
     "model_module_version": "1.2.0",
     "model_name": "LayoutModel",
     "state": {
      "_model_module": "@jupyter-widgets/base",
      "_model_module_version": "1.2.0",
      "_model_name": "LayoutModel",
      "_view_count": null,
      "_view_module": "@jupyter-widgets/base",
      "_view_module_version": "1.2.0",
      "_view_name": "LayoutView",
      "align_content": null,
      "align_items": null,
      "align_self": null,
      "border": null,
      "bottom": null,
      "display": null,
      "flex": null,
      "flex_flow": null,
      "grid_area": null,
      "grid_auto_columns": null,
      "grid_auto_flow": null,
      "grid_auto_rows": null,
      "grid_column": null,
      "grid_gap": null,
      "grid_row": null,
      "grid_template_areas": null,
      "grid_template_columns": null,
      "grid_template_rows": null,
      "height": null,
      "justify_content": null,
      "justify_items": null,
      "left": null,
      "margin": null,
      "max_height": null,
      "max_width": null,
      "min_height": null,
      "min_width": null,
      "object_fit": null,
      "object_position": null,
      "order": null,
      "overflow": null,
      "overflow_x": null,
      "overflow_y": null,
      "padding": null,
      "right": null,
      "top": null,
      "visibility": null,
      "width": null
     }
    },
    "adb8287e497b41819e92cee4aa94881e": {
     "model_module": "@jupyter-widgets/base",
     "model_module_version": "1.2.0",
     "model_name": "LayoutModel",
     "state": {
      "_model_module": "@jupyter-widgets/base",
      "_model_module_version": "1.2.0",
      "_model_name": "LayoutModel",
      "_view_count": null,
      "_view_module": "@jupyter-widgets/base",
      "_view_module_version": "1.2.0",
      "_view_name": "LayoutView",
      "align_content": null,
      "align_items": null,
      "align_self": null,
      "border": null,
      "bottom": null,
      "display": null,
      "flex": null,
      "flex_flow": null,
      "grid_area": null,
      "grid_auto_columns": null,
      "grid_auto_flow": null,
      "grid_auto_rows": null,
      "grid_column": null,
      "grid_gap": null,
      "grid_row": null,
      "grid_template_areas": null,
      "grid_template_columns": null,
      "grid_template_rows": null,
      "height": null,
      "justify_content": null,
      "justify_items": null,
      "left": null,
      "margin": null,
      "max_height": null,
      "max_width": null,
      "min_height": null,
      "min_width": null,
      "object_fit": null,
      "object_position": null,
      "order": null,
      "overflow": null,
      "overflow_x": null,
      "overflow_y": null,
      "padding": null,
      "right": null,
      "top": null,
      "visibility": null,
      "width": null
     }
    },
    "aeaaa5b9f5284554aa8448948ff9c7c1": {
     "model_module": "@jupyter-widgets/base",
     "model_module_version": "1.2.0",
     "model_name": "LayoutModel",
     "state": {
      "_model_module": "@jupyter-widgets/base",
      "_model_module_version": "1.2.0",
      "_model_name": "LayoutModel",
      "_view_count": null,
      "_view_module": "@jupyter-widgets/base",
      "_view_module_version": "1.2.0",
      "_view_name": "LayoutView",
      "align_content": null,
      "align_items": null,
      "align_self": null,
      "border": null,
      "bottom": null,
      "display": null,
      "flex": null,
      "flex_flow": null,
      "grid_area": null,
      "grid_auto_columns": null,
      "grid_auto_flow": null,
      "grid_auto_rows": null,
      "grid_column": null,
      "grid_gap": null,
      "grid_row": null,
      "grid_template_areas": null,
      "grid_template_columns": null,
      "grid_template_rows": null,
      "height": null,
      "justify_content": null,
      "justify_items": null,
      "left": null,
      "margin": null,
      "max_height": null,
      "max_width": null,
      "min_height": null,
      "min_width": null,
      "object_fit": null,
      "object_position": null,
      "order": null,
      "overflow": null,
      "overflow_x": null,
      "overflow_y": null,
      "padding": null,
      "right": null,
      "top": null,
      "visibility": null,
      "width": null
     }
    },
    "b99587dd83234cedb99830e3b6e0b511": {
     "model_module": "@jupyter-widgets/base",
     "model_module_version": "1.2.0",
     "model_name": "LayoutModel",
     "state": {
      "_model_module": "@jupyter-widgets/base",
      "_model_module_version": "1.2.0",
      "_model_name": "LayoutModel",
      "_view_count": null,
      "_view_module": "@jupyter-widgets/base",
      "_view_module_version": "1.2.0",
      "_view_name": "LayoutView",
      "align_content": null,
      "align_items": null,
      "align_self": null,
      "border": null,
      "bottom": null,
      "display": null,
      "flex": null,
      "flex_flow": null,
      "grid_area": null,
      "grid_auto_columns": null,
      "grid_auto_flow": null,
      "grid_auto_rows": null,
      "grid_column": null,
      "grid_gap": null,
      "grid_row": null,
      "grid_template_areas": null,
      "grid_template_columns": null,
      "grid_template_rows": null,
      "height": null,
      "justify_content": null,
      "justify_items": null,
      "left": null,
      "margin": null,
      "max_height": null,
      "max_width": null,
      "min_height": null,
      "min_width": null,
      "object_fit": null,
      "object_position": null,
      "order": null,
      "overflow": null,
      "overflow_x": null,
      "overflow_y": null,
      "padding": null,
      "right": null,
      "top": null,
      "visibility": null,
      "width": null
     }
    },
    "bd729e5f9eba4121b3e14e9112128463": {
     "model_module": "@jupyter-widgets/controls",
     "model_module_version": "1.5.0",
     "model_name": "HBoxModel",
     "state": {
      "_dom_classes": [],
      "_model_module": "@jupyter-widgets/controls",
      "_model_module_version": "1.5.0",
      "_model_name": "HBoxModel",
      "_view_count": null,
      "_view_module": "@jupyter-widgets/controls",
      "_view_module_version": "1.5.0",
      "_view_name": "HBoxView",
      "box_style": "",
      "children": [
       "IPY_MODEL_047fb6f7e92a42ce8555bed88f61039b",
       "IPY_MODEL_189785d86fdd45b9be5d99b703666667",
       "IPY_MODEL_fee0eb7f0aa24a8990d8ebb32a13886d"
      ],
      "layout": "IPY_MODEL_3c04dc5a23bb41bda7e3141174478d18"
     }
    },
    "c116da5970b24b2aab01a34b40bbe435": {
     "model_module": "@jupyter-widgets/base",
     "model_module_version": "1.2.0",
     "model_name": "LayoutModel",
     "state": {
      "_model_module": "@jupyter-widgets/base",
      "_model_module_version": "1.2.0",
      "_model_name": "LayoutModel",
      "_view_count": null,
      "_view_module": "@jupyter-widgets/base",
      "_view_module_version": "1.2.0",
      "_view_name": "LayoutView",
      "align_content": null,
      "align_items": null,
      "align_self": null,
      "border": null,
      "bottom": null,
      "display": null,
      "flex": null,
      "flex_flow": null,
      "grid_area": null,
      "grid_auto_columns": null,
      "grid_auto_flow": null,
      "grid_auto_rows": null,
      "grid_column": null,
      "grid_gap": null,
      "grid_row": null,
      "grid_template_areas": null,
      "grid_template_columns": null,
      "grid_template_rows": null,
      "height": null,
      "justify_content": null,
      "justify_items": null,
      "left": null,
      "margin": null,
      "max_height": null,
      "max_width": null,
      "min_height": null,
      "min_width": null,
      "object_fit": null,
      "object_position": null,
      "order": null,
      "overflow": null,
      "overflow_x": null,
      "overflow_y": null,
      "padding": null,
      "right": null,
      "top": null,
      "visibility": null,
      "width": null
     }
    },
    "c1e2f5098c754170b04607c2b2160ed4": {
     "model_module": "@jupyter-widgets/base",
     "model_module_version": "1.2.0",
     "model_name": "LayoutModel",
     "state": {
      "_model_module": "@jupyter-widgets/base",
      "_model_module_version": "1.2.0",
      "_model_name": "LayoutModel",
      "_view_count": null,
      "_view_module": "@jupyter-widgets/base",
      "_view_module_version": "1.2.0",
      "_view_name": "LayoutView",
      "align_content": null,
      "align_items": null,
      "align_self": null,
      "border": null,
      "bottom": null,
      "display": null,
      "flex": null,
      "flex_flow": null,
      "grid_area": null,
      "grid_auto_columns": null,
      "grid_auto_flow": null,
      "grid_auto_rows": null,
      "grid_column": null,
      "grid_gap": null,
      "grid_row": null,
      "grid_template_areas": null,
      "grid_template_columns": null,
      "grid_template_rows": null,
      "height": null,
      "justify_content": null,
      "justify_items": null,
      "left": null,
      "margin": null,
      "max_height": null,
      "max_width": null,
      "min_height": null,
      "min_width": null,
      "object_fit": null,
      "object_position": null,
      "order": null,
      "overflow": null,
      "overflow_x": null,
      "overflow_y": null,
      "padding": null,
      "right": null,
      "top": null,
      "visibility": null,
      "width": null
     }
    },
    "c20eaa791e264024aff4feb2f42d0d07": {
     "model_module": "@jupyter-widgets/controls",
     "model_module_version": "1.5.0",
     "model_name": "DescriptionStyleModel",
     "state": {
      "_model_module": "@jupyter-widgets/controls",
      "_model_module_version": "1.5.0",
      "_model_name": "DescriptionStyleModel",
      "_view_count": null,
      "_view_module": "@jupyter-widgets/base",
      "_view_module_version": "1.2.0",
      "_view_name": "StyleView",
      "description_width": ""
     }
    },
    "c221fefd297343abb74b0a08c6438df4": {
     "model_module": "@jupyter-widgets/controls",
     "model_module_version": "1.5.0",
     "model_name": "HTMLModel",
     "state": {
      "_dom_classes": [],
      "_model_module": "@jupyter-widgets/controls",
      "_model_module_version": "1.5.0",
      "_model_name": "HTMLModel",
      "_view_count": null,
      "_view_module": "@jupyter-widgets/controls",
      "_view_module_version": "1.5.0",
      "_view_name": "HTMLView",
      "description": "",
      "description_tooltip": null,
      "layout": "IPY_MODEL_f850a272fd554fe68c72f98b131dcb14",
      "placeholder": "​",
      "style": "IPY_MODEL_86e82a8918554b81bfe9e1bdd7c6a6bf",
      "value": "100%"
     }
    },
    "c57a757b5f5844918085abe4cbae30f2": {
     "model_module": "@jupyter-widgets/controls",
     "model_module_version": "1.5.0",
     "model_name": "DescriptionStyleModel",
     "state": {
      "_model_module": "@jupyter-widgets/controls",
      "_model_module_version": "1.5.0",
      "_model_name": "DescriptionStyleModel",
      "_view_count": null,
      "_view_module": "@jupyter-widgets/base",
      "_view_module_version": "1.2.0",
      "_view_name": "StyleView",
      "description_width": ""
     }
    },
    "c8914ce3a0004f63a888ba444f8af318": {
     "model_module": "@jupyter-widgets/controls",
     "model_module_version": "1.5.0",
     "model_name": "ProgressStyleModel",
     "state": {
      "_model_module": "@jupyter-widgets/controls",
      "_model_module_version": "1.5.0",
      "_model_name": "ProgressStyleModel",
      "_view_count": null,
      "_view_module": "@jupyter-widgets/base",
      "_view_module_version": "1.2.0",
      "_view_name": "StyleView",
      "bar_color": null,
      "description_width": ""
     }
    },
    "d34bc900130149898b7915806fd3a3b3": {
     "model_module": "@jupyter-widgets/controls",
     "model_module_version": "1.5.0",
     "model_name": "ProgressStyleModel",
     "state": {
      "_model_module": "@jupyter-widgets/controls",
      "_model_module_version": "1.5.0",
      "_model_name": "ProgressStyleModel",
      "_view_count": null,
      "_view_module": "@jupyter-widgets/base",
      "_view_module_version": "1.2.0",
      "_view_name": "StyleView",
      "bar_color": null,
      "description_width": ""
     }
    },
    "da3a8137278d499d95472cad77a09dcf": {
     "model_module": "@jupyter-widgets/controls",
     "model_module_version": "1.5.0",
     "model_name": "FloatProgressModel",
     "state": {
      "_dom_classes": [],
      "_model_module": "@jupyter-widgets/controls",
      "_model_module_version": "1.5.0",
      "_model_name": "FloatProgressModel",
      "_view_count": null,
      "_view_module": "@jupyter-widgets/controls",
      "_view_module_version": "1.5.0",
      "_view_name": "ProgressView",
      "bar_style": "success",
      "description": "",
      "description_tooltip": null,
      "layout": "IPY_MODEL_73598cd518384df096e46704d3369362",
      "max": 2,
      "min": 0,
      "orientation": "horizontal",
      "style": "IPY_MODEL_d34bc900130149898b7915806fd3a3b3",
      "value": 2
     }
    },
    "dba0b41334454f3f870e87699bd154e0": {
     "model_module": "@jupyter-widgets/controls",
     "model_module_version": "1.5.0",
     "model_name": "HBoxModel",
     "state": {
      "_dom_classes": [],
      "_model_module": "@jupyter-widgets/controls",
      "_model_module_version": "1.5.0",
      "_model_name": "HBoxModel",
      "_view_count": null,
      "_view_module": "@jupyter-widgets/controls",
      "_view_module_version": "1.5.0",
      "_view_name": "HBoxView",
      "box_style": "",
      "children": [
       "IPY_MODEL_8438fdefe7bf490e862723975371d61c",
       "IPY_MODEL_03303b9c1b8548b3a04909a826f80002",
       "IPY_MODEL_6b556a795d984987aea598764f2d2797"
      ],
      "layout": "IPY_MODEL_aeaaa5b9f5284554aa8448948ff9c7c1"
     }
    },
    "dd08b8b768bf46ec87902f2502d195f8": {
     "model_module": "@jupyter-widgets/controls",
     "model_module_version": "1.5.0",
     "model_name": "DescriptionStyleModel",
     "state": {
      "_model_module": "@jupyter-widgets/controls",
      "_model_module_version": "1.5.0",
      "_model_name": "DescriptionStyleModel",
      "_view_count": null,
      "_view_module": "@jupyter-widgets/base",
      "_view_module_version": "1.2.0",
      "_view_name": "StyleView",
      "description_width": ""
     }
    },
    "e30aa056ea1049debe4742db2b2df222": {
     "model_module": "@jupyter-widgets/base",
     "model_module_version": "1.2.0",
     "model_name": "LayoutModel",
     "state": {
      "_model_module": "@jupyter-widgets/base",
      "_model_module_version": "1.2.0",
      "_model_name": "LayoutModel",
      "_view_count": null,
      "_view_module": "@jupyter-widgets/base",
      "_view_module_version": "1.2.0",
      "_view_name": "LayoutView",
      "align_content": null,
      "align_items": null,
      "align_self": null,
      "border": null,
      "bottom": null,
      "display": null,
      "flex": null,
      "flex_flow": null,
      "grid_area": null,
      "grid_auto_columns": null,
      "grid_auto_flow": null,
      "grid_auto_rows": null,
      "grid_column": null,
      "grid_gap": null,
      "grid_row": null,
      "grid_template_areas": null,
      "grid_template_columns": null,
      "grid_template_rows": null,
      "height": null,
      "justify_content": null,
      "justify_items": null,
      "left": null,
      "margin": null,
      "max_height": null,
      "max_width": null,
      "min_height": null,
      "min_width": null,
      "object_fit": null,
      "object_position": null,
      "order": null,
      "overflow": null,
      "overflow_x": null,
      "overflow_y": null,
      "padding": null,
      "right": null,
      "top": null,
      "visibility": null,
      "width": null
     }
    },
    "e587e705b83e439389b984fc89312232": {
     "model_module": "@jupyter-widgets/output",
     "model_module_version": "1.0.0",
     "model_name": "OutputModel",
     "state": {
      "_dom_classes": [],
      "_model_module": "@jupyter-widgets/output",
      "_model_module_version": "1.0.0",
      "_model_name": "OutputModel",
      "_view_count": null,
      "_view_module": "@jupyter-widgets/output",
      "_view_module_version": "1.0.0",
      "_view_name": "OutputView",
      "layout": "IPY_MODEL_745ff522ee1a44cf88af1f4999c1a12e",
      "msg_id": "",
      "outputs": [
       {
        "data": {
         "text/html": "<pre style=\"white-space:pre;overflow-x:auto;line-height:normal;font-family:Menlo,'DejaVu Sans Mono',consolas,'Courier New',monospace\"><span style=\"color: #c0c0c0; text-decoration-color: #c0c0c0\">Testing</span> <span style=\"color: #6206e0; text-decoration-color: #6206e0\">━━━━━━━━━━━━━━━━━━━━━━━━━━━━━━━━━━━━━━━━</span> <span style=\"color: #c0c0c0; text-decoration-color: #c0c0c0\">137/137</span> <span style=\"color: #8a8a8a; text-decoration-color: #8a8a8a\">0:00:17 • 0:00:00</span> <span style=\"color: #b2b2b2; text-decoration-color: #b2b2b2\">8.03it/s</span>  \n</pre>\n",
         "text/plain": "\u001b[37mTesting\u001b[0m \u001b[38;2;98;6;224m━━━━━━━━━━━━━━━━━━━━━━━━━━━━━━━━━━━━━━━━\u001b[0m \u001b[37m137/137\u001b[0m \u001b[38;5;245m0:00:17 • 0:00:00\u001b[0m \u001b[38;5;249m8.03it/s\u001b[0m  \n"
        },
        "metadata": {},
        "output_type": "display_data"
       }
      ]
     }
    },
    "eba08fcafd6b45ec802bccf2e0aa4fb7": {
     "model_module": "@jupyter-widgets/controls",
     "model_module_version": "1.5.0",
     "model_name": "DescriptionStyleModel",
     "state": {
      "_model_module": "@jupyter-widgets/controls",
      "_model_module_version": "1.5.0",
      "_model_name": "DescriptionStyleModel",
      "_view_count": null,
      "_view_module": "@jupyter-widgets/base",
      "_view_module_version": "1.2.0",
      "_view_name": "StyleView",
      "description_width": ""
     }
    },
    "f052d66a04f6409cb466b5d48a2b2b26": {
     "model_module": "@jupyter-widgets/controls",
     "model_module_version": "1.5.0",
     "model_name": "HTMLModel",
     "state": {
      "_dom_classes": [],
      "_model_module": "@jupyter-widgets/controls",
      "_model_module_version": "1.5.0",
      "_model_name": "HTMLModel",
      "_view_count": null,
      "_view_module": "@jupyter-widgets/controls",
      "_view_module_version": "1.5.0",
      "_view_name": "HTMLView",
      "description": "",
      "description_tooltip": null,
      "layout": "IPY_MODEL_9e8a9cb9f31a42beaf02c7ba5b4f34ed",
      "placeholder": "​",
      "style": "IPY_MODEL_0fdc7a7efe234a8286b899308943de64",
      "value": "100%"
     }
    },
    "f850a272fd554fe68c72f98b131dcb14": {
     "model_module": "@jupyter-widgets/base",
     "model_module_version": "1.2.0",
     "model_name": "LayoutModel",
     "state": {
      "_model_module": "@jupyter-widgets/base",
      "_model_module_version": "1.2.0",
      "_model_name": "LayoutModel",
      "_view_count": null,
      "_view_module": "@jupyter-widgets/base",
      "_view_module_version": "1.2.0",
      "_view_name": "LayoutView",
      "align_content": null,
      "align_items": null,
      "align_self": null,
      "border": null,
      "bottom": null,
      "display": null,
      "flex": null,
      "flex_flow": null,
      "grid_area": null,
      "grid_auto_columns": null,
      "grid_auto_flow": null,
      "grid_auto_rows": null,
      "grid_column": null,
      "grid_gap": null,
      "grid_row": null,
      "grid_template_areas": null,
      "grid_template_columns": null,
      "grid_template_rows": null,
      "height": null,
      "justify_content": null,
      "justify_items": null,
      "left": null,
      "margin": null,
      "max_height": null,
      "max_width": null,
      "min_height": null,
      "min_width": null,
      "object_fit": null,
      "object_position": null,
      "order": null,
      "overflow": null,
      "overflow_x": null,
      "overflow_y": null,
      "padding": null,
      "right": null,
      "top": null,
      "visibility": null,
      "width": null
     }
    },
    "fce79f603cfd4c809788b6dc1c677e85": {
     "model_module": "@jupyter-widgets/controls",
     "model_module_version": "1.5.0",
     "model_name": "ProgressStyleModel",
     "state": {
      "_model_module": "@jupyter-widgets/controls",
      "_model_module_version": "1.5.0",
      "_model_name": "ProgressStyleModel",
      "_view_count": null,
      "_view_module": "@jupyter-widgets/base",
      "_view_module_version": "1.2.0",
      "_view_name": "StyleView",
      "bar_color": null,
      "description_width": ""
     }
    },
    "fee0eb7f0aa24a8990d8ebb32a13886d": {
     "model_module": "@jupyter-widgets/controls",
     "model_module_version": "1.5.0",
     "model_name": "HTMLModel",
     "state": {
      "_dom_classes": [],
      "_model_module": "@jupyter-widgets/controls",
      "_model_module_version": "1.5.0",
      "_model_name": "HTMLModel",
      "_view_count": null,
      "_view_module": "@jupyter-widgets/controls",
      "_view_module_version": "1.5.0",
      "_view_name": "HTMLView",
      "description": "",
      "description_tooltip": null,
      "layout": "IPY_MODEL_a0ebac03ea924fdb9dcea3adf19e2f8c",
      "placeholder": "​",
      "style": "IPY_MODEL_eba08fcafd6b45ec802bccf2e0aa4fb7",
      "value": " 7/36 [00:15&lt;00:58,  2.00s/it]"
     }
    }
   }
  }
 },
 "nbformat": 4,
 "nbformat_minor": 1
}
