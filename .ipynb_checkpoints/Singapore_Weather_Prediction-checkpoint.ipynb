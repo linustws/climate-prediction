{
 "cells": [
  {
   "cell_type": "markdown",
   "metadata": {},
   "source": [
    "# Singapore Weather Prediction"
   ]
  },
  {
   "cell_type": "code",
   "execution_count": 57,
   "metadata": {},
   "outputs": [],
   "source": [
    "import pandas as pd\n",
    "import requests"
   ]
  },
  {
   "cell_type": "markdown",
   "metadata": {},
   "source": [
    "### Data Acquisition\n",
    "\n",
    "Data source: [data.gov.sg](https://data.gov.sg/) - National Environment Agency\n",
    "\n",
    "Data format: CKAN APIs \n",
    "- access to static tabular data such as time series or listings\n",
    "- alternative to the data.gov.sg web interface\n",
    "- provides both RESTful and functional interfaces, all in JSON format, making it suitable for a wide range of clients.\n",
    "\n",
    "API used: CKAN Datastore Search\n",
    "- GET URL with endpoint: https://data.gov.sg/api/action/datastore_search\n",
    "\n",
    "| Name               | Description                                                                                                                                                                                                                                                                                                                                                      |\n",
    "|:-------------------|:-----------------------------------------------------------------------------------------------------------------------------------------------------------------------------------------------------------------------------------------------------------------------------------------------------------------------------------------------------------------|\n",
    "| **resource_id \\*** | ID or alias of the resource to be searched against                                                                                                                                                                                                                                                                                                               |\n",
    "| limit              | Maximum number of rows to return (optional, default: 100)<br>_Default value_: 100                                                                                                                                                                                                                                                                                |\n",
    "| offset             | Offset this number of rows (optional)                                                                                                                                                                                                                                                                                                                            |\n",
    "| fields             | Fields to return (optional, default: all fields in original order)                                                                                                                                                                                                                                                                                               |\n",
    "| filters            | Dictionary of matching conditions, e.g., {\"key1\": \"a\", \"key2\": \"b\"} (optional)                                                                                                                                                                                                                                                                                   |\n",
    "| q                  | Full text query. If it’s a string, it’ll search on all fields on each row.<br>If it’s a dictionary as {\"key1\": \"a\", \"key2\": \"b\"}, it’ll search on each specific field (optional)                                                                                                                                                                                 |\n",
    "| sort               | Comma-separated field names with ordering, e.g.: \"fieldname1, fieldname2 desc\" (optional)                                                                                                                                                                                                                                                                        |\n",
    "| records_format     | The format for the records return value:<br>'objects' (default) list of {fieldname1: value1, ...} dicts,<br>'lists' list of [value1, value2, ...] lists,<br>'csv' string containing comma-separated values with no header,<br>'tsv' string containing tab-separated values with no header<br>_Available values_: objects, lists, csv<br>_Default value_: objects |\n"
   ]
  },
  {
   "cell_type": "code",
   "execution_count": 75,
   "metadata": {},
   "outputs": [
    {
     "name": "stdout",
     "output_type": "stream",
     "text": [
      "        mean_temp max_temperature temp_extremes_min total_rainfall   \n",
      "month                                                                \n",
      "1982-01      25.9            31.9              21.9          107.1  \\\n",
      "1982-02      27.1            34.3              22.6           27.8   \n",
      "1982-03      27.2            34.3              22.3          160.8   \n",
      "1982-04        27            33.2              22.2            157   \n",
      "1982-05        28            32.9              23.7          102.2   \n",
      "...           ...             ...               ...            ...   \n",
      "2022-12      26.8            32.7              23.1          215.4   \n",
      "2023-01      26.5            34.2              22.4          302.6   \n",
      "2023-02      26.9              32              21.7          324.4   \n",
      "2023-03      27.1            33.6              21.8          243.4   \n",
      "2023-04      28.5            34.3                23          222.8   \n",
      "\n",
      "        maximum_rainfall_in_a_day no_of_rainy_days mean_rh   \n",
      "month                                                        \n",
      "1982-01                      36.5               10    81.2  \\\n",
      "1982-02                       9.4                5    79.5   \n",
      "1982-03                      61.7               11    82.3   \n",
      "1982-04                      45.1               14    85.9   \n",
      "1982-05                        33               10    83.2   \n",
      "...                           ...              ...     ...   \n",
      "2022-12                        37               19    81.2   \n",
      "2023-01                        72               22    81.9   \n",
      "2023-02                     154.8               13    79.4   \n",
      "2023-03                      90.2               12    79.2   \n",
      "2023-04                      85.8               19    77.4   \n",
      "\n",
      "        rh_extremes_minimum mean_sunshine_hrs  \n",
      "month                                          \n",
      "1982-01                  49               5.6  \n",
      "1982-02                  49               7.6  \n",
      "1982-03                  51               5.1  \n",
      "1982-04                  54               4.7  \n",
      "1982-05                  57               5.8  \n",
      "...                     ...               ...  \n",
      "2022-12                  52               3.6  \n",
      "2023-01                  43               4.4  \n",
      "2023-02                  50               5.1  \n",
      "2023-03                  52                 6  \n",
      "2023-04                  57               5.8  \n",
      "\n",
      "[496 rows x 9 columns]\n"
     ]
    }
   ],
   "source": [
    "api_endpoint = \"https://data.gov.sg/api/action/datastore_search\"\n",
    "surface_air_temp_monthly_mean_resource_id = \"07654ce7-f97f-49c9-81c6-bd41beba4e96\"\n",
    "surface_air_temp_monthly_abs_extreme_max_resource_id = \"96e66346-68bb-4ca9-b001-58bbf39e36a7\"\n",
    "surface_air_temp_monthly_abs_extreme_min_resource_id = \"0c5b9752-2488-46cc-ae1c-42318d0f8865\"\n",
    "rainfall_monthly_total_resource_id = \"778814b8-1b96-404b-9ac9-68d6c00e637b\"\n",
    "rainfall_monthly_max_daily_total_resource_id = \"df4d391e-6950-4fc6-80cd-c9b9ef6354fe\"\n",
    "rainfall_monthly_num_rain_days_resource_id = \"8b94f596-91fd-4545-bf9e-7a426493b674\"\n",
    "relative_humidity_monthly_mean_resource_id = \"4631174f-9858-463d-8a88-f3cb21588c67\"\n",
    "relative_humidity_monthly_abs_extreme_min_resource_id = \"585c24a5-76cd-4c48-9341-9223de5adc1d\"\n",
    "sunshine_duration_monthly_mean_daily_resource_id = \"0230819f-1c83-4980-b738-56136d6dc300\"\n",
    "\n",
    "resource_ids = [surface_air_temp_monthly_mean_resource_id,\n",
    "surface_air_temp_monthly_abs_extreme_max_resource_id,\n",
    "surface_air_temp_monthly_abs_extreme_min_resource_id,\n",
    "rainfall_monthly_total_resource_id,\n",
    "rainfall_monthly_max_daily_total_resource_id,\n",
    "rainfall_monthly_num_rain_days_resource_id,\n",
    "relative_humidity_monthly_mean_resource_id,\n",
    "relative_humidity_monthly_abs_extreme_min_resource_id,\n",
    "sunshine_duration_monthly_mean_daily_resource_id]\n",
    "\n",
    "merged_df = None\n",
    "for resource_id in resource_ids:\n",
    "    url = api_endpoint + \"?resource_id=\" + resource_id + \"&limit=1000\"\n",
    "    response = requests.get(url).json()\n",
    "    data = response['result']['records']\n",
    "    df = pd.DataFrame(data).set_index('month').drop('_id', axis=1)\n",
    "    if merged_df is None:\n",
    "        merged_df = df\n",
    "        continue\n",
    "    merged_df = pd.merge(merged_df, df, on='month')\n",
    "\n",
    "print(merged_df)\n"
   ]
  },
  {
   "cell_type": "markdown",
   "metadata": {},
   "source": [
    "Data Preprocessing: Perform necessary preprocessing steps on the data. This may include handling missing values, data cleaning, converting data types, and ensuring the data is in a suitable format for modeling."
   ]
  },
  {
   "cell_type": "code",
   "execution_count": null,
   "metadata": {},
   "outputs": [],
   "source": []
  },
  {
   "cell_type": "markdown",
   "metadata": {},
   "source": [
    "Model Development: Implement the ARIMA model using a suitable library like statsmodels in Python. Train the model on the historical data for each variable separately. Make sure to choose appropriate orders for the AR, I, and MA components of the ARIMA model. You can use techniques like ACF and PACF plots, information criteria (AIC, BIC), and grid search to determine the optimal orders."
   ]
  },
  {
   "cell_type": "code",
   "execution_count": null,
   "metadata": {},
   "outputs": [],
   "source": []
  },
  {
   "cell_type": "markdown",
   "metadata": {},
   "source": [
    "Model Validation: Split your data into training and validation sets. Use the training data to fit the ARIMA model and then forecast the values for the validation period. Calculate the RMSE (Root Mean Squared Error) between the predicted values and the actual values. This will serve as a measure of the model's accuracy."
   ]
  },
  {
   "cell_type": "code",
   "execution_count": null,
   "metadata": {},
   "outputs": [],
   "source": []
  },
  {
   "cell_type": "markdown",
   "metadata": {},
   "source": [
    "Model Refinement: Iterate on the model development process by adjusting the model parameters, orders, or other settings to improve the accuracy. Consider experimenting with different variations of ARIMA models, such as SARIMA (Seasonal ARIMA) if your data exhibits seasonal patterns."
   ]
  },
  {
   "cell_type": "code",
   "execution_count": null,
   "metadata": {},
   "outputs": [],
   "source": []
  },
  {
   "cell_type": "markdown",
   "metadata": {},
   "source": [
    "Web App Development: Create a web application using the chosen frontend framework, React. Design the user interface (UI) where users can input the number of days they want to forecast and select the variables they are interested in. Use forms or input fields to gather user input.\n",
    "\n",
    "Backend Development: Implement the backend of your web app using Flask, a Python microframework. Set up the necessary routes and endpoints to handle user requests from the frontend. This includes receiving the user input, processing the request, and returning the forecasted values to the frontend.\n",
    "\n",
    "Integration with ARIMA Model: Connect the frontend and backend by incorporating the ARIMA model into the Flask backend. When the user submits a forecast request, retrieve the selected variables and the number of days from the request. Use the trained ARIMA models to generate the forecasts for the specified variables and time horizon.\n",
    "\n",
    "Displaying the Results: Once the forecasts are generated, return the results to the frontend and display them to the user. You can use visualizations, such as line charts or tables, to present the forecasted values in an intuitive and user-friendly manner.\n",
    "\n",
    "Testing and Deployment: Test your web app thoroughly to ensure it functions correctly and provides accurate forecasts. Once you are satisfied with the app's performance, deploy it to a hosting platform or server so that it can be accessed by users."
   ]
  }
 ],
 "metadata": {
  "kernelspec": {
   "display_name": "Python 3 (ipykernel)",
   "language": "python",
   "name": "python3"
  },
  "language_info": {
   "codemirror_mode": {
    "name": "ipython",
    "version": 3
   },
   "file_extension": ".py",
   "mimetype": "text/x-python",
   "name": "python",
   "nbconvert_exporter": "python",
   "pygments_lexer": "ipython3",
   "version": "3.9.6"
  }
 },
 "nbformat": 4,
 "nbformat_minor": 1
}
