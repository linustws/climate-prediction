


# setup
import matplotlib.pyplot as plt
import numpy as np
import pandas as pd
import plotly.express as px
import plotly.graph_objects as go
import plotly.io as pio
import plotly.offline as pyo
import requests
import tensorflow as tf
import os

from datetime import datetime, timedelta
from keras.layers import Dense
from keras.layers import LSTM
from keras.models import Sequential
from keras.preprocessing.sequence import TimeseriesGenerator
from pmdarima import auto_arima
from sklearn import preprocessing
from sklearn.metrics import mean_absolute_error, mean_squared_error
from sklearn.preprocessing import MinMaxScaler
from statsmodels.graphics.tsaplots import plot_acf, plot_pacf
from statsmodels.tsa.arima.model import ARIMA
from statsmodels.tsa.seasonal import seasonal_decompose
from statsmodels.tsa.stattools import adfuller
from statsmodels.tsa.statespace.sarimax import SARIMAX
from statsmodels.tsa.statespace.varmax import VARMAX
from time import time

px.defaults.template = 'plotly' # plotly, plotly_dark
pyo.init_notebook_mode(connected=True)
pio.renderers.default = "iframe" # must trust notebook for it to work, use iframe for lab





api_endpoint = "https://data.gov.sg/api/action/datastore_search"

# resource ids
surface_air_temp_monthly_mean_resource_id = "07654ce7-f97f-49c9-81c6-bd41beba4e96"
# surface_air_temp_monthly_abs_extreme_max_resource_id = "96e66346-68bb-4ca9-b001-58bbf39e36a7"
# surface_air_temp_monthly_abs_extreme_min_resource_id = "0c5b9752-2488-46cc-ae1c-42318d0f8865"
rainfall_monthly_total_resource_id = "778814b8-1b96-404b-9ac9-68d6c00e637b"
# rainfall_monthly_max_daily_total_resource_id = "df4d391e-6950-4fc6-80cd-c9b9ef6354fe"
# rainfall_monthly_num_rain_days_resource_id = "8b94f596-91fd-4545-bf9e-7a426493b674"
# relative_humidity_monthly_mean_resource_id = "4631174f-9858-463d-8a88-f3cb21588c67"
# relative_humidity_monthly_abs_extreme_min_resource_id = "585c24a5-76cd-4c48-9341-9223de5adc1d"
# sunshine_duration_monthly_mean_daily_resource_id = "0230819f-1c83-4980-b738-56136d6dc300"

resource_ids = [surface_air_temp_monthly_mean_resource_id, rainfall_monthly_total_resource_id]

# resource_ids = [surface_air_temp_monthly_mean_resource_id,
# surface_air_temp_monthly_abs_extreme_max_resource_id,
# surface_air_temp_monthly_abs_extreme_min_resource_id,
# rainfall_monthly_total_resource_id,
# rainfall_monthly_max_daily_total_resource_id,
# rainfall_monthly_num_rain_days_resource_id,
# relative_humidity_monthly_mean_resource_id,
# relative_humidity_monthly_abs_extreme_min_resource_id,
# sunshine_duration_monthly_mean_daily_resource_id]

# call APIs
merged_df = None
for resource_id in resource_ids:
    url = api_endpoint + "?resource_id=" + resource_id + "&limit=1000"
    response = requests.get(url).json()
    data = response['result']['records']
    df = pd.DataFrame(data).set_index('month').drop('_id', axis=1)
    if merged_df is None:
        print("Acquiring data...")
        merged_df = df
        continue
    merged_df = pd.merge(merged_df, df, on='month')

print(merged_df)





# rename columns
new_names = {'max_temperature': 'max_temp', 'temp_extremes_min': 'min_temp', 'maximum_rainfall_in_a_day': 'max_rainfall_daily', 'no_of_rainy_days': 'num_rainy_days', 'rh_extremes_minimum': 'min_rh', 'mean_sunshine_hrs': 'mean_sunshine_hrs_daily'}
df = merged_df.rename(columns=new_names)
df = df.rename_axis('datetime')
df.index = pd.to_datetime(df.index)
# df['year'] = df.index.year.astype('int64')
# df['month'] = df.index.month.astype('int64')
for column in df.columns:
    df[column] = pd.to_numeric(df[column], errors='raise')
# start_datetime = pd.to_datetime('2010-01-01')
# df = df[start_datetime:]
print(df)
# df.head()
# print(df.dtypes)





series_monthly_mean_temp = df['mean_temp'].resample('M').mean()  # resample to monthly mean
# print(series_monthly_mean_temp)

# line plot for mean temperature
fig_monthly_mean_temp = px.line(series_monthly_mean_temp, labels={series_monthly_mean_temp.index.name: 'Datetime', 'value': 'Mean Temperature (°C)'}, title='Monthly Mean Temperature')
fig_monthly_mean_temp.update_xaxes(dtick='M12', tickangle=45)
fig_monthly_mean_temp.update_yaxes(dtick=0.5, tickangle=45)
fig_monthly_mean_temp.update_traces(hovertemplate='Datetime: %{x}<br>Mean Temperature: %{y}°C')

# add the mean line
mean_temperature = np.mean(series_monthly_mean_temp)
fig_monthly_mean_temp.add_shape(
    type="line",
    x0=series_monthly_mean_temp.index[0],
    y0=mean_temperature,
    x1=series_monthly_mean_temp.index[-1],
    y1=mean_temperature,
    line=dict(color="red", dash="dot"),
)
fig_monthly_mean_temp.show()

# series_monthly_total_rainfall = df['total_rainfall'].resample('M').mean()  # resample to monthly mean
# # series_yearly_total_rainfall = df['total_rainfall'].resample('Y').mean()  # resample to yearly mean

# # print(monthly_total_rainfall)
# # print(series_yearly_total_rainfall)

# # line plot for total rainfall
# fig_monthly_total_rainfall = px.line(monthly_total_rainfall, labels={series_monthly_total_rainfall.index.name: 'Datetime', 'value': 'Total Rainfall (mm)'},title='Monthly Total Rainfall')
# fig_monthly_total_rainfall.update_xaxes(dtick='M12', tickangle=45)
# fig_monthly_total_rainfall.update_yaxes(dtick=100, tickangle=45)
# fig_monthly_total_rainfall.update_traces(hovertemplate='Datetime: %{x}<br>Total Rainfall: %{y}mm')

# # add the mean line
# mean_total_rainfall = np.mean(series_monthly_total_rainfall)
# fig_monthly_total_rainfall.add_shape(
#     type="line",
#     x0=series_monthly_total_rainfall.index[0],
#     y0=mean_total_rainfall,
#     x1=series_monthly_total_rainfall.index[-1],
#     y1=mean_total_rainfall,
#     line=dict(color="red", dash="dot"),
# )
# fig_monthly_total_rainfall.show()

# # Normalize mean temperature data
# normalized_mean_temp = preprocessing.scale(series_monthly_mean_temp)
# # Normalize total rainfall data
# normalized_total_rainfall = preprocessing.scale(series_monthly_total_rainfall)

# # Create a DataFrame with normalized data
# df_normalized = pd.DataFrame({'Datetime': series_monthly_mean_temp.index,
#                               'Normalized Mean Temperature': normalized_mean_temp,
#                               'Normalized Total Rainfall': normalized_total_rainfall})

# # Combine the normalized data using plotly.express
# fig_combined = px.line(df_normalized, x='Datetime', y=['Normalized Mean Temperature', 'Normalized Total Rainfall'],
#                        labels={'value': 'Normalized Value'},
#                        title='Combined Normalized Data')
# fig_combined.update_xaxes(dtick='M12', tickangle=45)
# fig_combined.update_yaxes(dtick=1, tickangle=45)
# fig_combined.update_traces(hovertemplate='Datetime: %{x}<br>Total Rainfall: %{y}mm')

# # Show the combined graph
# fig_combined.show()


series_yearly_mean_temp = df['mean_temp'].resample('Y').mean()  # resample to yearly mean
# print(series_yearly_mean_temp)

fig_yearly_mean_temp = px.line(series_yearly_mean_temp, labels={series_yearly_mean_temp.index.name: 'Datetime', 'value': 'Mean Temperature (°C)'}, title='Yearly Mean Temperature')
fig_yearly_mean_temp.update_xaxes(dtick='M12', tickangle=45)
fig_yearly_mean_temp.update_yaxes(dtick=0.5, tickangle=45)
fig_yearly_mean_temp.update_traces(hovertemplate='Datetime: %{x}<br>Mean Temperature: %{y}°C')

# add the mean line
mean_temperature = np.mean(series_yearly_mean_temp)
fig_yearly_mean_temp.add_shape(
    type="line",
    x0=series_yearly_mean_temp.index[0],
    y0=mean_temperature,
    x1=series_yearly_mean_temp.index[-1],
    y1=mean_temperature,
    line=dict(color="red", dash="dot"),
)
fig_yearly_mean_temp.show()








acf_values = plot_acf(series_monthly_mean_temp, lags=100)





pacf_values = plot_pacf(series_monthly_mean_temp, method='ywm')








def perform_adf_test(series):
    result = adfuller(series)
    adf_statistic = result[0]
    p_value = result[1]
    print(f'ADF Statistic: {adf_statistic:.4f}')
    print(f'p-value: {p_value:.4f}')

perform_adf_test(series_monthly_mean_temp)











# split 70:30 (28, 12)
train_end = datetime(2011, 1, 1) 
test_end = datetime(2023, 1, 1)

train_data = series_monthly_mean_temp[:train_end]
test_data = series_monthly_mean_temp[train_end + timedelta(days=1):test_end]

# create model
model = ARIMA(train_data, order=(12, 0, 0))

# fit model
start = time()
model_fit = model.fit()
end = time()
print(f"Model Fitting Time: {end - start}")

# summary of the model
print(model_fit.summary())





# get prediction start and end dates
pred_start_date = test_data.index[0]
pred_end_date = test_data.index[-1]

# get predictions and residuals
predictions = model_fit.predict(start=pred_start_date, end=pred_end_date)
residuals = test_data - predictions

# print(residuals)

# Plot residuals
fig_resid = px.line(residuals, labels={residuals.index.name: 'Datetime', 'value': 'Error'}, title='Residuals from AR Model')
fig_resid.update_xaxes(dtick='M12', tickangle=45)
fig_resid.update_yaxes(dtick=0.5, tickangle=45)
fig_resid.update_traces(name='error', hovertemplate='Datetime: %{x}<br>Error: %{y}')

# add the mean line
mean_error = np.mean(residuals)
fig_resid.add_shape(
    type="line",
    x0=residuals.index[0],
    y0=mean_error,
    x1=residuals.index[-1],
    y1=mean_error,
    line=dict(color="red", dash="dot"),
)
fig_resid.show()





plot_data = pd.DataFrame({'datetime': test_data.index, 'test_data': test_data.values, 'predictions': predictions})
# print(plot_data)
fig_pred_test = px.line(plot_data, x='datetime', y=['test_data', 'predictions'], labels={'datetime': 'Datetime', 'value': 'Mean Temperature (°C)'}, title='Test Data and Predictions')
fig_pred_test.update_xaxes(dtick='M12', tickangle=45)
fig_pred_test.update_yaxes(dtick=0.5, tickangle=45)
fig_pred_test.update_traces(hovertemplate='Datetime: %{x}<br>Mean Temperature: %{y}°C')
fig_pred_test.show()

print(f"Mean Absolute Percent Error: {round(np.mean(abs(residuals/test_data)), 4)}")
print(f"Root Mean Squared Error: {np.sqrt(np.mean(residuals**2))}")








# create the model
predictions_rolling = pd.Series(dtype='float64')
start = time()
for end_date in test_data.index:
    train_data = series_monthly_mean_temp[:end_date - timedelta(days=1)]
    model = ARIMA(train_data, order=(12, 0, 0))
    model_fit = model.fit()
    pred = model_fit.predict(end_date)
    predictions_rolling.loc[end_date] = pred.loc[end_date]
end = time()
print(f"Model Fitting Time: {end - start}")
residuals_rolling = test_data - predictions_rolling

# print(residuals_rolling)

# Plot residuals
fig_resid_rolling = px.line(residuals_rolling, labels={residuals_rolling.index.name: 'Datetime', 'value': 'Error'}, title='Residuals from AR Model (Rolling Window)')
fig_resid_rolling.update_xaxes(dtick='M12', tickangle=45)
fig_resid_rolling.update_yaxes(dtick=0.5, tickangle=45)
fig_resid_rolling.update_traces(name='error', hovertemplate='Datetime: %{x}<br>Error: %{y}')

# add the mean line
mean_error_rolling = np.mean(residuals_rolling)
fig_resid_rolling.add_shape(
    type="line",
    x0=residuals_rolling.index[0],
    y0=mean_error_rolling,
    x1=residuals_rolling.index[-1],
    y1=mean_error_rolling,
    line=dict(color="red", dash="dot"),
)
fig_resid_rolling.show()





plot_data_rolling = pd.DataFrame({'datetime': test_data.index, 'test_data': test_data.values, 'predictions': predictions_rolling})
# print(plot_data)
fig_pred_test_rolling = px.line(plot_data_rolling, x='datetime', y=['test_data', 'predictions'], labels={'datetime': 'Datetime', 'value': 'Mean Temperature (°C)'}, title='Test Data and Predictions (Rolling Window)')
fig_pred_test_rolling.update_xaxes(dtick='M12', tickangle=45)
fig_pred_test_rolling.update_yaxes(dtick=0.5, tickangle=45)
fig_pred_test_rolling.update_traces(hovertemplate='Datetime: %{x}<br>Mean Temperature: %{y}°C')
fig_pred_test_rolling.show()

print(f"Mean Absolute Percent Error: {round(np.mean(abs(residuals_rolling/test_data)), 4)}")
print(f"Root Mean Squared Error: {np.sqrt(np.mean(residuals_rolling**2))}")








acf_values = plot_acf(series_monthly_mean_temp)





# split 70:30 (28, 12)
train_end = datetime(2011, 1, 1) 
test_end = datetime(2023, 1, 1)

train_data = series_monthly_mean_temp[:train_end]
test_data = series_monthly_mean_temp[train_end + timedelta(days=1):test_end]

# create model
model = ARIMA(train_data, order=(0, 0, 2))

# fit model
start = time()
model_fit = model.fit()
end = time()
print(f"Model Fitting Time: {end - start}")

# summary of the model
print(model_fit.summary())





# get prediction start and end dates
pred_start_date = test_data.index[0]
pred_end_date = test_data.index[-1]

# get predictions and residuals
predictions = model_fit.predict(start=pred_start_date, end=pred_end_date)
residuals = test_data - predictions

# print(residuals)

# Plot residuals
fig_resid = px.line(residuals, labels={residuals.index.name: 'Datetime', 'value': 'Error'}, title='Residuals from MA Model')
fig_resid.update_xaxes(dtick='M12', tickangle=45)
fig_resid.update_yaxes(dtick=0.5, tickangle=45)
fig_resid.update_traces(name='error', hovertemplate='Datetime: %{x}<br>Error: %{y}')

# add the mean line
mean_error = np.mean(residuals)
fig_resid.add_shape(
    type="line",
    x0=residuals.index[0],
    y0=mean_error,
    x1=residuals.index[-1],
    y1=mean_error,
    line=dict(color="red", dash="dot"),
)
fig_resid.show()





plot_data = pd.DataFrame({'datetime': test_data.index, 'test_data': test_data.values, 'predictions': predictions})
# print(plot_data)
fig_pred_test = px.line(plot_data, x='datetime', y=['test_data', 'predictions'], labels={'datetime': 'Datetime', 'value': 'Mean Temperature (°C)'}, title='Test Data and Predictions')
fig_pred_test.update_xaxes(dtick='M12', tickangle=45)
fig_pred_test.update_yaxes(dtick=0.5, tickangle=45)
fig_pred_test.update_traces(hovertemplate='Datetime: %{x}<br>Mean Temperature: %{y}°C')
fig_pred_test.show()

print(f"Mean Absolute Percent Error: {round(np.mean(abs(residuals/test_data)), 4)}")
print(f"Root Mean Squared Error: {np.sqrt(np.mean(residuals**2))}")








fig_monthly_mean_temp.show() # for easier comparison

first_diff = series_monthly_mean_temp.diff()[1:]
print(first_diff)

# line plot for mean temperature
fig_first_diff = px.line(first_diff, labels={first_diff.index.name: 'Datetime', 'value': 'Mean Temperature (°C)'}, title='First Difference of Monthly Mean Temperature')
fig_first_diff.update_xaxes(dtick='M12', tickangle=45)
fig_first_diff.update_yaxes(dtick=0.5, tickangle=45)
fig_first_diff.update_traces(hovertemplate='Datetime: %{x}<br>Mean Temperature: %{y}°C')

# add the mean line
mean_temperature = np.mean(first_diff)
fig_first_diff.add_shape(
    type="line",
    x0=first_diff.index[0],
    y0=mean_temperature,
    x1=first_diff.index[-1],
    y1=mean_temperature,
    line=dict(color="red", dash="dot"),
)
fig_first_diff.show()





acf_values = plot_acf(first_diff)





pacf_values = plot_pacf(first_diff, method='ywm')








# split to test 1 year of data as splitting 70:30 takes very long
train_end = datetime(2022, 1, 1) 
test_end = datetime(2023, 1, 1)

train_data = first_diff[:train_end]
test_data = first_diff[train_end + timedelta(days=1):test_end]

# create model
model = ARIMA(train_data, order=(9, 0, 12))

# fit model
start = time()
model_fit = model.fit()
end = time()
print(f"Model Fitting Time: {end - start}")

# summary of the model
print(model_fit.summary())


# get prediction start and end dates
pred_start_date = test_data.index[0]
pred_end_date = test_data.index[-1]

# get predictions and residuals
predictions = model_fit.predict(start=pred_start_date, end=pred_end_date)
residuals = test_data - predictions

# print(residuals)

# Plot residuals
fig_resid = px.line(residuals, labels={residuals.index.name: 'Datetime', 'value': 'Error'}, title='Residuals from ARMA Model')
fig_resid.update_xaxes(dtick='M1', tickangle=45)
fig_resid.update_yaxes(dtick=0.5, tickangle=45)
fig_resid.update_traces(name='error', hovertemplate='Datetime: %{x}<br>Error: %{y}')

# add the mean line
mean_error = np.mean(residuals)
fig_resid.add_shape(
    type="line",
    x0=residuals.index[0],
    y0=mean_error,
    x1=residuals.index[-1],
    y1=mean_error,
    line=dict(color="red", dash="dot"),
)
fig_resid.show()


plot_data = pd.DataFrame({'datetime': test_data.index, 'test_data': test_data.values, 'predictions': predictions})
# print(plot_data)
fig_pred_test = px.line(plot_data, x='datetime', y=['test_data', 'predictions'], labels={'datetime': 'Datetime', 'value': 'First Difference of Mean Temperature (°C)'}, title='Test Data and Predictions')
fig_pred_test.update_xaxes(dtick='M1', tickangle=45)
fig_pred_test.update_yaxes(dtick=0.5, tickangle=45)
fig_pred_test.update_traces(hovertemplate='Datetime: %{x}<br>First Difference of Mean Temperature: %{y}°C')
fig_pred_test.show()

print(f"Mean Absolute Percent Error: {round(np.mean(abs(residuals/test_data)), 4)}")
print(f"Root Mean Squared Error: {np.sqrt(np.mean(residuals**2))}")











first_diff = series_monthly_mean_temp.diff()[1:]
# print(first_diff)

# line plot for mean temperature
fig_first_diff = px.line(first_diff, labels={first_diff.index.name: 'Datetime', 'value': 'Mean Temperature (°C)'}, title='First Difference of Monthly Mean Temperature')
fig_first_diff.update_xaxes(dtick='M12', tickangle=45)
fig_first_diff.update_yaxes(dtick=0.5, tickangle=45)
fig_first_diff.update_traces(hovertemplate='Datetime: %{x}<br>Mean Temperature: %{y}°C')

# add the mean line
mean_temperature = np.mean(first_diff)
fig_first_diff.add_shape(
    type="line",
    x0=first_diff.index[0],
    y0=mean_temperature,
    x1=first_diff.index[-1],
    y1=mean_temperature,
    line=dict(color="red", dash="dot"),
)
fig_first_diff.show()


acf_values = plot_acf(first_diff)


pacf_values = plot_pacf(first_diff, method='ywm')


# split to test 1 year of data as splitting 70:30 takes very long
train_end = datetime(2022, 1, 1) 
test_end = datetime(2023, 1, 1)

train_data = series_monthly_mean_temp[:train_end]
test_data = series_monthly_mean_temp[train_end + timedelta(days=1):test_end]

# create model
model = ARIMA(train_data, order=(9, 1, 12)) # (p, d, q) here we use d as 1 as we only performed 1 difference to make the series stationary.

# fit model
start = time()
model_fit = model.fit()
end = time()
print(f"Model Fitting Time: {end - start}")

# summary of the model
print(model_fit.summary())


# get prediction start and end dates
pred_start_date = test_data.index[0]
pred_end_date = test_data.index[-1]

# get predictions and residuals
predictions = model_fit.predict(start=pred_start_date, end=pred_end_date)
residuals = test_data - predictions

# print(residuals)

# Plot residuals
fig_resid = px.line(residuals, labels={residuals.index.name: 'Datetime', 'value': 'Error'}, title='Residuals from ARIMA Model')
fig_resid.update_xaxes(dtick='M1', tickangle=45)
fig_resid.update_yaxes(dtick=0.5, tickangle=45)
fig_resid.update_traces(name='error', hovertemplate='Datetime: %{x}<br>Error: %{y}')

# add the mean line
mean_error = np.mean(residuals)
fig_resid.add_shape(
    type="line",
    x0=residuals.index[0],
    y0=mean_error,
    x1=residuals.index[-1],
    y1=mean_error,
    line=dict(color="red", dash="dot"),
)
fig_resid.show()


plot_data = pd.DataFrame({'datetime': test_data.index, 'test_data': test_data.values, 'predictions': predictions})
# print(plot_data)
fig_pred_test = px.line(plot_data, x='datetime', y=['test_data', 'predictions'], labels={'datetime': 'Datetime', 'value': 'Mean Temperature (°C)'}, title='Test Data and Predictions')
fig_pred_test.update_xaxes(dtick='M1', tickangle=45)
fig_pred_test.update_yaxes(dtick=0.5, tickangle=45)
fig_pred_test.update_traces(hovertemplate='Datetime: %{x}<br>Mean Temperature: %{y}°C')
fig_pred_test.show()

print(f"Mean Absolute Percent Error: {round(np.mean(abs(residuals/test_data)), 4)}")
print(f"Root Mean Squared Error: {np.sqrt(np.mean(residuals**2))}")








# create the model
predictions_rolling = pd.Series(dtype='float64')
start = time()
for end_date in test_data.index:
    train_data = series_monthly_mean_temp[:end_date - timedelta(days=1)]
    model = ARIMA(train_data, order=(9, 1, 12)) # (p, d, q) here we use d as 1 as we are taking into account the first difference to mitigate the slight upward trend.
    model_fit = model.fit()
    pred = model_fit.predict(end_date)
    predictions_rolling.loc[end_date] = pred.loc[end_date]
end = time()
print(f"Model Fitting Time: {end - start}")
residuals_rolling = test_data - predictions_rolling

# print(residuals_rolling)

# Plot residuals
fig_resid_rolling = px.line(residuals_rolling, labels={residuals_rolling.index.name: 'Datetime', 'value': 'Error'}, title='Residuals from ARIMA Model (Rolling Window)')
fig_resid_rolling.update_xaxes(dtick='M1', tickangle=45)
fig_resid_rolling.update_yaxes(dtick=0.5, tickangle=45)
fig_resid_rolling.update_traces(name='error', hovertemplate='Datetime: %{x}<br>Error: %{y}')

# add the mean line
mean_error_rolling = np.mean(residuals_rolling)
fig_resid_rolling.add_shape(
    type="line",
    x0=residuals_rolling.index[0],
    y0=mean_error_rolling,
    x1=residuals_rolling.index[-1],
    y1=mean_error_rolling,
    line=dict(color="red", dash="dot"),
)
fig_resid_rolling.show()


plot_data_rolling = pd.DataFrame({'datetime': test_data.index, 'test_data': test_data.values, 'predictions': predictions_rolling})
# print(plot_data)
fig_pred_test_rolling = px.line(plot_data_rolling, x='datetime', y=['test_data', 'predictions'], labels={'datetime': 'Datetime', 'value': 'Mean Temperature (°C)'}, title='Test Data and Predictions (Rolling Window)')
fig_pred_test_rolling.update_xaxes(dtick='M1', tickangle=45)
fig_pred_test_rolling.update_yaxes(dtick=0.5, tickangle=45)
fig_pred_test_rolling.update_traces(hovertemplate='Datetime: %{x}<br>Mean Temperature: %{y}°C')
fig_pred_test_rolling.show()

print(f"Mean Absolute Percent Error: {round(np.mean(abs(residuals_rolling/test_data)), 4)}")
print(f"Root Mean Squared Error: {np.sqrt(np.mean(residuals_rolling**2))}")








# fig_monthly_mean_temp.show() # for easier comparison

first_diff = series_monthly_mean_temp.diff()[1:]
# print(first_diff)

# line plot for mean temperature
fig_first_diff = px.line(first_diff, labels={first_diff.index.name: 'Datetime', 'value': 'Mean Temperature (°C)'}, title='First Difference of Monthly Mean Temperature')
fig_first_diff.update_xaxes(dtick='M12', tickangle=45)
fig_first_diff.update_yaxes(dtick=0.5, tickangle=45)
fig_first_diff.update_traces(hovertemplate='Datetime: %{x}<br>Mean Temperature: %{y}°C')

# add the mean line
mean_temperature = np.mean(first_diff)
fig_first_diff.add_shape(
    type="line",
    x0=first_diff.index[0],
    y0=mean_temperature,
    x1=first_diff.index[-1],
    y1=mean_temperature,
    line=dict(color="red", dash="dot"),
)
fig_first_diff.show()





# Perform seasonal differencing
seasonal_diff = first_diff.diff(12)[12:]
# print(seasonal_diff)

# Line plot for seasonal difference of mean temperature
fig_seasonal_diff = px.line(seasonal_diff, labels={seasonal_diff.index.name: 'Datetime', 'value': 'Mean Temperature (°C)'}, title='Seasonal Difference (+ First Difference) of Monthly Mean Temperature')
fig_seasonal_diff.update_xaxes(dtick='M12', tickangle=45)
fig_seasonal_diff.update_yaxes(dtick=0.5, tickangle=45)
fig_seasonal_diff.update_traces(hovertemplate='Datetime: %{x}<br>Mean Temperature: %{y}°C')

# Add the mean line
mean_temperature = np.mean(seasonal_diff)
fig_seasonal_diff.add_shape(
    type="line",
    x0=seasonal_diff.index[0],
    y0=mean_temperature,
    x1=seasonal_diff.index[-1],
    y1=mean_temperature,
    line=dict(color="red", dash="dot"),
)
fig_seasonal_diff.show()





acf_values = plot_acf(seasonal_diff, lags=50)
plt.xticks(range(0, 51, 5))
plt.show()


pacf_values = plot_pacf(seasonal_diff, lags=50, method='ywm')
plt.xticks(range(0, 51, 5))
plt.show()





# split to test 1 year of data as splitting 70:30 takes very long
train_end = datetime(2022, 1, 1) 
test_end = datetime(2023, 1, 1)

train_data = series_monthly_mean_temp[:train_end]
test_data = series_monthly_mean_temp[train_end + timedelta(days=1):test_end]

# create model
normal_order = (1, 1, 1)
seasonal_order = (1, 1, 1, 12)
model = ARIMA(train_data, order=normal_order, seasonal_order=seasonal_order) 

# fit model
start = time()
model_fit = model.fit()
end = time()
print(f"Model Fitting Time: {end - start}")

# summary of the model
print(model_fit.summary())





# get prediction start and end dates
pred_start_date = test_data.index[0]
pred_end_date = test_data.index[-1]

# get predictions and residuals
predictions = model_fit.predict(start=pred_start_date, end=pred_end_date)
residuals = test_data - predictions

# print(residuals)

# Plot residuals
fig_resid = px.line(residuals, labels={residuals.index.name: 'Datetime', 'value': 'Error'}, title='Residuals from SARIMA Model')
fig_resid.update_xaxes(dtick='M1', tickangle=45)
fig_resid.update_yaxes(dtick=0.5, tickangle=45)
fig_resid.update_traces(name='error', hovertemplate='Datetime: %{x}<br>Error: %{y}')

# add the mean line
mean_error = np.mean(residuals)
fig_resid.add_shape(
    type="line",
    x0=residuals.index[0],
    y0=mean_error,
    x1=residuals.index[-1],
    y1=mean_error,
    line=dict(color="red", dash="dot"),
)
fig_resid.show()


plot_data = pd.DataFrame({'datetime': test_data.index, 'test_data': test_data.values, 'predictions': predictions})
# print(plot_data)
fig_pred_test = px.line(plot_data, x='datetime', y=['test_data', 'predictions'], labels={'datetime': 'Datetime', 'value': 'Mean Temperature (°C)'}, title='Test Data and Predictions')
fig_pred_test.update_xaxes(dtick='M1', tickangle=45)
fig_pred_test.update_yaxes(dtick=0.5, tickangle=45)
fig_pred_test.update_traces(hovertemplate='Datetime: %{x}<br>Mean Temperature: %{y}°C')
fig_pred_test.show()

print(f"Mean Absolute Percent Error: {round(np.mean(abs(residuals/test_data)), 4)}")
print(f"Root Mean Squared Error: {np.sqrt(np.mean(residuals**2))}")





normal_order = (1, 1, 1)
seasonal_order = (1, 1, 1, 12)

# create the model
predictions_rolling = pd.Series(dtype='float64')
start = time()
for end_date in test_data.index:
    train_data = series_monthly_mean_temp[:end_date - timedelta(days=1)]
    model = ARIMA(train_data, order=normal_order, seasonal_order=seasonal_order) 
    model_fit = model.fit()
    pred = model_fit.predict(end_date)
    predictions_rolling.loc[end_date] = pred.loc[end_date]
end = time()
print(f"Model Fitting Time: {end - start}")
residuals_rolling = test_data - predictions_rolling

# print(residuals_rolling)

# Plot residuals
fig_resid_rolling = px.line(residuals_rolling, labels={residuals_rolling.index.name: 'Datetime', 'value': 'Error'}, title='Residuals from SARIMA Model (Rolling Window)')
fig_resid_rolling.update_xaxes(dtick='M1', tickangle=45)
fig_resid_rolling.update_yaxes(dtick=0.5, tickangle=45)
fig_resid_rolling.update_traces(name='error', hovertemplate='Datetime: %{x}<br>Error: %{y}')

# add the mean line
mean_error_rolling = np.mean(residuals_rolling)
fig_resid_rolling.add_shape(
    type="line",
    x0=residuals_rolling.index[0],
    y0=mean_error_rolling,
    x1=residuals_rolling.index[-1],
    y1=mean_error_rolling,
    line=dict(color="red", dash="dot"),
)
fig_resid_rolling.show()


plot_data_rolling = pd.DataFrame({'datetime': test_data.index, 'test_data': test_data.values, 'predictions': predictions_rolling})
# print(plot_data)
fig_pred_test_rolling = px.line(plot_data_rolling, x='datetime', y=['test_data', 'predictions'], labels={'datetime': 'Datetime', 'value': 'Mean Temperature (°C)'}, title='Test Data and Predictions (Rolling Window)')
fig_pred_test_rolling.update_xaxes(dtick='M1', tickangle=45)
fig_pred_test_rolling.update_yaxes(dtick=0.5, tickangle=45)
fig_pred_test_rolling.update_traces(hovertemplate='Datetime: %{x}<br>Mean Temperature: %{y}°C')
fig_pred_test_rolling.show()

print(f"Mean Absolute Percent Error: {round(np.mean(abs(residuals_rolling/test_data)), 4)}")
print(f"Root Mean Squared Error: {np.sqrt(np.mean(residuals_rolling**2))}")








# split to test 1 year of data as splitting 70:30 takes very long
train_end = datetime(2022, 1, 1) 
test_end = datetime(2023, 1, 1)

train_data = series_monthly_mean_temp[:train_end]
test_data = series_monthly_mean_temp[train_end + timedelta(days=1):test_end]

# Find optimal ARIMA order using auto_arima
model_arima = auto_arima(series_monthly_mean_temp, d=0, max_d=3, max_p=12, max_q=12, max_order=24, parallel=True, num_cores=None, seasonal=False, information_criterion='aic', trace=True, stepwise=False)

# Get the best ARIMA order
order_arima = model_arima.order

print("Optimal ARIMA order:", order_arima)


# create model
model = ARIMA(train_data, order=order_arima)

# fit model
start = time()
model_fit = model.fit()
end = time()
print(f"Model Fitting Time: {end - start}")

# Print model summary
print(model_fit.summary())


# get prediction start and end dates
pred_start_date = test_data.index[0]
pred_end_date = test_data.index[-1]

# get predictions and residuals
predictions = model_fit.predict(start=pred_start_date, end=pred_end_date)
residuals = test_data - predictions

# print(residuals)

# Plot residuals
fig_resid = px.line(residuals, labels={residuals.index.name: 'Datetime', 'value': 'Error'}, title='Residuals from auto ARIMA Model')
fig_resid.update_xaxes(dtick='M1', tickangle=45)
fig_resid.update_yaxes(dtick=0.5, tickangle=45)
fig_resid.update_traces(name='error', hovertemplate='Datetime: %{x}<br>Error: %{y}')

# add the mean line
mean_error = np.mean(residuals)
fig_resid.add_shape(
    type="line",
    x0=residuals.index[0],
    y0=mean_error,
    x1=residuals.index[-1],
    y1=mean_error,
    line=dict(color="red", dash="dot"),
)
fig_resid.show()


plot_data = pd.DataFrame({'datetime': test_data.index, 'test_data': test_data.values, 'predictions': predictions})
# print(plot_data)
fig_pred_test = px.line(plot_data, x='datetime', y=['test_data', 'predictions'], labels={'datetime': 'Datetime', 'value': 'Mean Temperature (°C)'}, title='Test Data and Predictions')
fig_pred_test.update_xaxes(dtick='M1', tickangle=45)
fig_pred_test.update_yaxes(dtick=0.5, tickangle=45)
fig_pred_test.update_traces(hovertemplate='Datetime: %{x}<br>Mean Temperature: %{y}°C')
fig_pred_test.show()

print(f"Mean Absolute Percent Error: {round(np.mean(abs(residuals/test_data)), 4)}")
print(f"Root Mean Squared Error: {np.sqrt(np.mean(residuals**2))}")








# create the model
predictions_rolling = pd.Series(dtype='float64')
start = time()
for end_date in test_data.index:
    train_data = series_monthly_mean_temp[:end_date - timedelta(days=1)]
    model = ARIMA(train_data, order=(12, 0, 8))
    model_fit = model.fit()
    pred = model_fit.predict(end_date)
    predictions_rolling.loc[end_date] = pred.loc[end_date]
end = time()
print(f"Model Fitting Time: {end - start}")
residuals_rolling = test_data - predictions_rolling

# print(residuals_rolling)

# Plot residuals
fig_resid_rolling = px.line(residuals_rolling, labels={residuals_rolling.index.name: 'Datetime', 'value': 'Error'}, title='Residuals from auto ARIMA Model (Rolling Window)')
fig_resid_rolling.update_xaxes(dtick='M1', tickangle=45)
fig_resid_rolling.update_yaxes(dtick=0.5, tickangle=45)
fig_resid_rolling.update_traces(name='error', hovertemplate='Datetime: %{x}<br>Error: %{y}')

# add the mean line
mean_error_rolling = np.mean(residuals_rolling)
fig_resid_rolling.add_shape(
    type="line",
    x0=residuals_rolling.index[0],
    y0=mean_error_rolling,
    x1=residuals_rolling.index[-1],
    y1=mean_error_rolling,
    line=dict(color="red", dash="dot"),
)
fig_resid_rolling.show()


plot_data_rolling = pd.DataFrame({'datetime': test_data.index, 'test_data': test_data.values, 'predictions': predictions_rolling})
# print(plot_data)
fig_pred_test_rolling = px.line(plot_data_rolling, x='datetime', y=['test_data', 'predictions'], labels={'datetime': 'Datetime', 'value': 'Mean Temperature (°C)'}, title='Test Data and Predictions (Rolling Window)')
fig_pred_test_rolling.update_xaxes(dtick='M1', tickangle=45)
fig_pred_test_rolling.update_yaxes(dtick=0.5, tickangle=45)
fig_pred_test_rolling.update_traces(hovertemplate='Datetime: %{x}<br>Mean Temperature: %{y}°C')
fig_pred_test_rolling.show()

print(f"Mean Absolute Percent Error: {round(np.mean(abs(residuals_rolling/test_data)), 4)}")
print(f"Root Mean Squared Error: {np.sqrt(np.mean(residuals_rolling**2))}")








# split to test 1 year of data as splitting 70:30 takes very long
train_end = datetime(2022, 1, 1) 
test_end = datetime(2023, 1, 1)

train_data = series_monthly_mean_temp[:train_end]
test_data = series_monthly_mean_temp[train_end + timedelta(days=1):test_end]

# Find optimal SARIMA order using auto_arima
model_sarima = auto_arima(series_monthly_mean_temp, max_d=3, max_D=3, max_p=12, max_q=12, max_P=1, max_Q=1, max_order=26, parallel=True, num_cores=None, seasonal=True, m=12, information_criterion='aic', trace=True, stepwise=False)

# Get the best SARIMA order
normal_order = model_sarima.order
seasonal_order = model_sarima.seasonal_order

print("Optimal SARIMA order:", normal_order)
print("Optimal SARIMA seasonal order:", seasonal_order)


# create model (9,1,4)(1,0,1)[12]
model = ARIMA(train_data, order=normal_order, seasonal_order=seasonal_order)

# fit model
start = time()
model_fit = model.fit()
end = time()
print(f"Model Fitting Time: {end - start}")

# Print model summary
print(model_fit.summary())


# get prediction start and end dates
pred_start_date = test_data.index[0]
pred_end_date = test_data.index[-1]

# get predictions and residuals
predictions = model_fit.predict(start=pred_start_date, end=pred_end_date)
residuals = test_data - predictions

# print(residuals)

# Plot residuals
fig_resid = px.line(residuals, labels={residuals.index.name: 'Datetime', 'value': 'Error'}, title='Residuals from auto SARIMA Model')
fig_resid.update_xaxes(dtick='M1', tickangle=45)
fig_resid.update_yaxes(dtick=0.5, tickangle=45)
fig_resid.update_traces(name='error', hovertemplate='Datetime: %{x}<br>Error: %{y}')

# add the mean line
mean_error = np.mean(residuals)
fig_resid.add_shape(
    type="line",
    x0=residuals.index[0],
    y0=mean_error,
    x1=residuals.index[-1],
    y1=mean_error,
    line=dict(color="red", dash="dot"),
)
fig_resid.show()


plot_data = pd.DataFrame({'datetime': test_data.index, 'test_data': test_data.values, 'predictions': predictions})
# print(plot_data)
fig_pred_test = px.line(plot_data, x='datetime', y=['test_data', 'predictions'], labels={'datetime': 'Datetime', 'value': 'Mean Temperature (°C)'}, title='Test Data and Predictions')
fig_pred_test.update_xaxes(dtick='M1', tickangle=45)
fig_pred_test.update_yaxes(dtick=0.5, tickangle=45)
fig_pred_test.update_traces(hovertemplate='Datetime: %{x}<br>Mean Temperature: %{y}°C')
fig_pred_test.show()

print(f"Mean Absolute Percent Error: {round(np.mean(abs(residuals/test_data)), 4)}")
print(f"Root Mean Squared Error: {np.sqrt(np.mean(residuals**2))}")





# create the model
predictions_rolling = pd.Series(dtype='float64')
start = time()
for end_date in test_data.index:
    train_data = series_monthly_mean_temp[:end_date - timedelta(days=1)]
    model = ARIMA(train_data, order=(11, 1, 6), seasonal_order=(0, 0, 1, 12), enforce_stationarity=False)
    model_fit = model.fit()
    pred = model_fit.predict(end_date)
    predictions_rolling.loc[end_date] = pred.loc[end_date]
end = time()
print(f"Model Fitting Time: {end - start}")
residuals_rolling = test_data - predictions_rolling

# print(residuals_rolling)

# Plot residuals
fig_resid_rolling = px.line(residuals_rolling, labels={residuals_rolling.index.name: 'Datetime', 'value': 'Error'}, title='Residuals from auto SARIMA Model (Rolling Window)')
fig_resid_rolling.update_xaxes(dtick='M1', tickangle=45)
fig_resid_rolling.update_yaxes(dtick=0.5, tickangle=45)
fig_resid_rolling.update_traces(name='error', hovertemplate='Datetime: %{x}<br>Error: %{y}')

# add the mean line
mean_error_rolling = np.mean(residuals_rolling)
fig_resid_rolling.add_shape(
    type="line",
    x0=residuals_rolling.index[0],
    y0=mean_error_rolling,
    x1=residuals_rolling.index[-1],
    y1=mean_error_rolling,
    line=dict(color="red", dash="dot"),
)
fig_resid_rolling.show()





plot_data_rolling = pd.DataFrame({'datetime': test_data.index, 'test_data': test_data.values, 'predictions': predictions_rolling})
# print(plot_data)
fig_pred_test_rolling = px.line(plot_data_rolling, x='datetime', y=['test_data', 'predictions'], labels={'datetime': 'Datetime', 'value': 'Mean Temperature (°C)'}, title='Test Data and Predictions (Rolling Window)')
fig_pred_test_rolling.update_xaxes(dtick='M1', tickangle=45)
fig_pred_test_rolling.update_yaxes(dtick=0.5, tickangle=45)
fig_pred_test_rolling.update_traces(hovertemplate='Datetime: %{x}<br>Mean Temperature: %{y}°C')
fig_pred_test_rolling.show()

print(f"Mean Absolute Percent Error: {round(np.mean(abs(residuals_rolling/test_data)), 4)}")
print(f"Root Mean Squared Error: {np.sqrt(np.mean(residuals_rolling**2))}")








fig_monthly_mean_temp.show()


# Perform seasonal decomposition (this can help analyse the individual components in greater detail)
results = seasonal_decompose(series_monthly_mean_temp)

# Plot the seasonal decomposition 
fig_decomposition = px.line(results.observed, title='Seasonal Decomposition - Observed')
fig_decomposition.update_xaxes(title='Datetime')
fig_decomposition.update_yaxes(title='Observed')
fig_decomposition.show()

fig_trend = px.line(results.trend, title='Seasonal Decomposition - Trend')
fig_trend.update_xaxes(title='Datetime')
fig_trend.update_yaxes(title='Trend')
fig_trend.show()

fig_seasonal = px.line(results.seasonal, title='Seasonal Decomposition - Seasonal')
fig_seasonal.update_xaxes(title='Datetime')
fig_seasonal.update_yaxes(title='Seasonal')
fig_seasonal.show()

fig_residual = px.line(results.resid, title='Seasonal Decomposition - Residual')
fig_residual.update_xaxes(title='Datetime')
fig_residual.update_yaxes(title='Residual')
fig_residual.show()





# set seed to ensure determinism and reproduceability (always retest from here)
os.environ['TF_DETERMINISTIC_OPS'] = '1'
tf.keras.utils.set_random_seed(1)
tf.config.experimental.enable_op_determinism()

# print(series_monthly_mean_temp)
df_monthly_mean_temp = series_monthly_mean_temp.to_frame()  # Convert Series to DataFrame
# print(df_monthly_mean_temp)
scaler = MinMaxScaler()
scaler.fit(df_monthly_mean_temp)
df_normalised_monthly_mean_temp = scaler.transform(df_monthly_mean_temp)
print(df_normalised_monthly_mean_temp.shape)

# Create a new DataFrame with the normalized values
df_normalised_monthly_mean_temp = pd.DataFrame(df_normalised_monthly_mean_temp, columns=['normalised'], index=df_monthly_mean_temp.index)
# print(df_normalised)
mean_normalised_monthly_mean_temp = df_normalised_monthly_mean_temp['normalised'].mean()

# Plot the normalized data
fig_normalised_monthly_mean_temp = px.line(df_normalised_monthly_mean_temp, labels={df_normalised_monthly_mean_temp.index.name: 'Datetime', 'value': 'Normalised'}, title='Normalised Mean Temperature')
fig_normalised_monthly_mean_temp.update_xaxes(dtick='M12', tickangle=45)
fig_normalised_monthly_mean_temp.update_yaxes(dtick=0.2, tickangle=45)
fig_normalised_monthly_mean_temp.update_traces(hovertemplate='Datetime: %{x}<br>Normalised Value: %{y}')

# add the mean line
fig_normalised_monthly_mean_temp.add_shape(
    type="line",
    x0=df_normalised_monthly_mean_temp.index[0],
    y0=mean_normalised_monthly_mean_temp,
    x1=df_normalised_monthly_mean_temp.index[-1],
    y1=mean_normalised_monthly_mean_temp,
    line=dict(color="red", dash="dot"),
)
fig_normalised_monthly_mean_temp.show()


# split train:test to 80:20
train_end = int(len(df_normalised_monthly_mean_temp) * 0.8)
train_data = df_monthly_mean_temp[:train_end]
test_data = df_monthly_mean_temp[train_end:]
train_data_norm = df_normalised_monthly_mean_temp[:train_end].values
test_data_norm = df_normalised_monthly_mean_temp[train_end:].values

# print(train_data)
# print(test_data)
# print(train_data_norm.shape)
# print(test_data_norm.shape)


# define generator
n_input = 12
n_features = 1
generator = TimeseriesGenerator(train_data_norm, train_data_norm, length=n_input, batch_size=1)

# Create the validation generator
validation_generator = TimeseriesGenerator(test_data_norm, test_data_norm, length=n_input, batch_size=1)


X,y = generator[0]
print(f'Given the Array: \n{X.flatten()}')
print(f'Predict this y: \n {y.flatten()}')
X.shape


from tensorflow.keras.layers import Dropout

# define model
model = Sequential()
model.add(LSTM(100, activation='tanh', input_shape=(n_input, n_features))) # here i used tanh instead of relu to take advantage of cuDNN to speed up training
# model.add(Dropout(0.2)) 
model.add(Dense(1))
model.compile(optimizer='adam', loss='mse')
model.summary()


# fit model and save history
history = model.fit(generator,epochs=100, validation_data=validation_generator)


# Get loss history
loss = history.history['loss']
val_loss = history.history['val_loss']

# print(f"training loss: {loss}")
# print(f"validation loss: {val_loss}")

# Find the epoch with the minimum validation loss
min_val_loss_epoch = np.argmin(val_loss) + 1
min_val_loss = val_loss[min_val_loss_epoch - 1]

print(f"Minimum validation loss: {min_val_loss}")
print(f"Epoch with minimum validation loss: {min_val_loss_epoch}")

# Create DataFrame
epochs = range(1, len(loss) + 1)
loss_df = pd.DataFrame({'epoch': epochs, 'training_loss': loss, 'validation_loss': val_loss})

# Plot loss
fig_loss = px.line(loss_df, x='epoch', y=['training_loss', 'validation_loss'], labels={'value': 'Loss', 'epoch': 'Epoch'}, title='Training and Validation Loss')
fig_loss.update_xaxes(tickangle=45)
fig_loss.update_yaxes(tickangle=45)
fig_loss.update_traces(hovertemplate='Epoch: %{x}<br>Loss: %{y}')
fig_loss.show()


last_train_batch = train_data_norm[-12:]
last_train_batch = last_train_batch.reshape((1, n_input, n_features))
model.predict(last_train_batch)



test_data_norm[0]


predictions_norm = []

first_eval_batch = train_data_norm[-n_input:]
current_batch = first_eval_batch.reshape((1, n_input, n_features))

for i in range(len(test_data)):
    
    # get the prediction value for the first batch
    current_pred = model.predict(current_batch)[0]
    
    # append the prediction into the array
    predictions_norm.append(current_pred) 
    
    # use the prediction to update the batch and remove the first value
    current_batch = np.append(current_batch[:,1:,:],[[current_pred]],axis=1)


predictions_norm


# print(type(df_normalised_monthly_mean_temp))
# print(type(test_data))
# print(test_data.shape)
# print(test_data[:5])
print(test_data.head())
predictions = scaler.inverse_transform(predictions_norm)


residuals = test_data - predictions

# print(type(residuals))
# print(type(residuals))

# Plot residuals
fig_resid = px.line(residuals, labels={'datetime': 'Datetime', 'value': 'Error'}, title='Residuals from LSTM Model')
fig_resid.update_xaxes(dtick='M12', tickangle=45)
fig_resid.update_yaxes(dtick=0.5, tickangle=45)
fig_resid.update_traces(name='error', hovertemplate='Datetime: %{x}<br>Error: %{y}')

# add the mean line
mean_error = np.mean(residuals, axis=0)
# print(mean_error)
# print(type(mean_error))
fig_resid.add_shape(
    type="line",
    x0=residuals.index[0],
    y0=mean_error.values,
    x1=residuals.index[-1],
    y1=mean_error.values,
    line=dict(color="red", dash="dot"),
)
fig_resid.show()


# print(test_data_no_norm.index)

plot_data = pd.DataFrame({'datetime': test_data.index, 'test_data': test_data.values.flatten(), 'predictions': predictions.flatten()})
# print(plot_data)
fig_pred_test = px.line(plot_data, x='datetime', y=['test_data', 'predictions'], labels={'datetime': 'Datetime', 'value': 'Mean Temperature (°C)'}, title='Test Data and Predictions')
fig_pred_test.update_xaxes(dtick='M12', tickangle=45)
fig_pred_test.update_yaxes(dtick=0.5, tickangle=45)
fig_pred_test.update_traces(hovertemplate='Datetime: %{x}<br>Mean Temperature: %{y}°C')
fig_pred_test.show()

print(f"Mean Absolute Percent Error: {round(np.mean(abs(residuals/test_data), axis=0).item(), 4)}")
print(f"Root Mean Squared Error: {np.sqrt(np.mean(residuals**2, axis=0)).item()}")








# set seed to ensure determinism and reproduceability (always retest from here)
os.environ['TF_DETERMINISTIC_OPS'] = '1'
tf.keras.utils.set_random_seed(1)
tf.config.experimental.enable_op_determinism()

# print(series_monthly_mean_temp)
df_monthly_mean_temp = series_monthly_mean_temp.to_frame()  # Convert Series to DataFrame
# print(df_monthly_mean_temp)
scaler = MinMaxScaler()
scaler.fit(df_monthly_mean_temp)
df_normalised_monthly_mean_temp = scaler.transform(df_monthly_mean_temp)
print(df_normalised_monthly_mean_temp.shape)

# Create a new DataFrame with the normalized values
df_normalised_monthly_mean_temp = pd.DataFrame(df_normalised_monthly_mean_temp, columns=['normalised'], index=df_monthly_mean_temp.index)
# print(df_normalised)
mean_normalised_monthly_mean_temp = df_normalised_monthly_mean_temp['normalised'].mean()

# Plot the normalized data
fig_normalised_monthly_mean_temp = px.line(df_normalised_monthly_mean_temp, labels={df_normalised_monthly_mean_temp.index.name: 'Datetime', 'value': 'Normalised'}, title='Normalised Mean Temperature')
fig_normalised_monthly_mean_temp.update_xaxes(dtick='M12', tickangle=45)
fig_normalised_monthly_mean_temp.update_yaxes(dtick=0.2, tickangle=45)
fig_normalised_monthly_mean_temp.update_traces(hovertemplate='Datetime: %{x}<br>Normalised Value: %{y}')

# add the mean line
fig_normalised_monthly_mean_temp.add_shape(
    type="line",
    x0=df_normalised_monthly_mean_temp.index[0],
    y0=mean_normalised_monthly_mean_temp,
    x1=df_normalised_monthly_mean_temp.index[-1],
    y1=mean_normalised_monthly_mean_temp,
    line=dict(color="red", dash="dot"),
)
# fig_normalised_monthly_mean_temp.show()

# split to test 1 year of data as splitting 70:30 takes very long
train_end = datetime(2022, 1, 1) 
test_end = datetime(2023, 1, 1)
train_data = df_monthly_mean_temp[:train_end]
test_data = df_monthly_mean_temp[train_end + timedelta(days=1):test_end]
train_data_norm = df_normalised_monthly_mean_temp[:train_end].values
test_data_norm = df_normalised_monthly_mean_temp[train_end + timedelta(days=1):test_end].values

# print(train_data)
# print(test_data)
# print(train_data_norm.shape)
# print(test_data_norm.shape)

# define generator
n_input = 12
n_features = 1
generator = TimeseriesGenerator(train_data_norm, train_data_norm, length=n_input, batch_size=1)

# define model
model = Sequential()
model.add(LSTM(100, activation='tanh', input_shape=(n_input, n_features))) # here i used tanh instead of relu to take advantage of cuDNN to speed up training
# model.add(Dropout(0.2)) 
model.add(Dense(1))
model.compile(optimizer='adam', loss='mse')
model.summary()

# fit model and save history
history = model.fit(generator,epochs=250)


# Get loss history
loss = history.history['loss']

# print(f"training loss: {loss}")

# Find the epoch with the minimum loss 
min_loss_epoch = np.argmin(loss) + 1
min_loss = loss[min_loss_epoch - 1]

print(f"Minimum training loss: {min_loss}")
print(f"Epoch with minimum training loss: {min_loss_epoch}")

# Create DataFrame
epochs = range(1, len(loss) + 1)
loss_df = pd.DataFrame({'epoch': epochs, 'training_loss': loss})

# Plot loss
fig_loss = px.line(loss_df, x='epoch', y=['training_loss'], labels={'value': 'Loss', 'epoch': 'Epoch'}, title='Training Loss')
fig_loss.update_xaxes(tickangle=45)
fig_loss.update_yaxes(tickangle=45)
fig_loss.update_traces(hovertemplate='Epoch: %{x}<br>Loss: %{y}')
fig_loss.show()


predictions_norm = []

first_eval_batch = train_data_norm[-n_input:]
current_batch = first_eval_batch.reshape((1, n_input, n_features))

for i in range(len(test_data)):
    
    # get the prediction value for the first batch
    current_pred = model.predict(current_batch)[0]
    
    # append the prediction into the array
    predictions_norm.append(current_pred) 
    
    # use the prediction to update the batch and remove the first value
    current_batch = np.append(current_batch[:,1:,:],[[current_pred]],axis=1)

predictions = scaler.inverse_transform(predictions_norm)

residuals = test_data - predictions

# print(type(residuals))
# print(type(residuals))

# Plot residuals
fig_resid = px.line(residuals, labels={'datetime': 'Datetime', 'value': 'Error'}, title='Residuals from LSTM Model')
fig_resid.update_xaxes(dtick='M1', tickangle=45)
fig_resid.update_yaxes(dtick=0.5, tickangle=45)
fig_resid.update_traces(name='error', hovertemplate='Datetime: %{x}<br>Error: %{y}')

# add the mean line
mean_error = np.mean(residuals, axis=0)
# print(mean_error)
# print(type(mean_error))
fig_resid.add_shape(
    type="line",
    x0=residuals.index[0],
    y0=mean_error.values,
    x1=residuals.index[-1],
    y1=mean_error.values,
    line=dict(color="red", dash="dot"),
)
fig_resid.show()


# print(test_data_no_norm.index)

plot_data = pd.DataFrame({'datetime': test_data.index, 'test_data': test_data.values.flatten(), 'predictions': predictions.flatten()})
# print(plot_data)
fig_pred_test = px.line(plot_data, x='datetime', y=['test_data', 'predictions'], labels={'datetime': 'Datetime', 'value': 'Mean Temperature (°C)'}, title='Test Data and Predictions')
fig_pred_test.update_xaxes(dtick='M1', tickangle=45)
fig_pred_test.update_yaxes(dtick=0.5, tickangle=45)
fig_pred_test.update_traces(hovertemplate='Datetime: %{x}<br>Mean Temperature: %{y}°C')
fig_pred_test.show()

print(f"Mean Absolute Percent Error: {round(np.mean(abs(residuals/test_data), axis=0).item(), 4)}")
print(f"Root Mean Squared Error: {np.sqrt(np.mean(residuals**2, axis=0)).item()}")









